{
 "cells": [
  {
   "cell_type": "code",
   "execution_count": 8,
   "metadata": {},
   "outputs": [],
   "source": [
    "import matplotlib.pyplot as plt\n",
    "import pandas as pd\n",
    "import numpy as np\n",
    "import qgrid\n",
    "\n",
    "\n",
    "import glob, os, sys\n",
    "import numpy as np\n",
    "from scipy.stats import zscore, spearmanr, mannwhitneyu, pearsonr\n",
    "import time\n",
    "import imp\n",
    "import steinmetz_loader\n",
    "from scipy.sparse import csr_matrix\n",
    "\n",
    "%matplotlib inline\n",
    "\n",
    "#@title import matplotlib and set defaults\n",
    "from matplotlib import rcParams \n",
    "from matplotlib import pyplot as plt\n",
    "rcParams['figure.figsize'] = [20, 4]\n",
    "rcParams['font.size'] =15\n",
    "rcParams['axes.spines.top'] = False\n",
    "rcParams['axes.spines.right'] = False\n",
    "rcParams['figure.autolayout'] = True"
   ]
  },
  {
   "cell_type": "code",
   "execution_count": 9,
   "metadata": {},
   "outputs": [],
   "source": [
    "#@title groupings of brain regions\n",
    "regions = [\"vis ctx\", \"thal\", \"hipp\", \"other ctx\", \"midbrain\",  \"basal ganglia\", \"subplate\"]\n",
    "brain_groups = [[\"VISa\", \"VISam\", \"VISl\", \"VISp\", \"VISpm\", \"VISrl\"], # visual cortex\n",
    "                [\"CL\", \"LD\", \"LGd\", \"LH\", \"LP\", \"MD\", \"MG\", \"PO\", \"POL\", \"PT\", \"RT\", \"SPF\", \"TH\", \"VAL\", \"VPL\", \"VPM\"], # thalamus\n",
    "                [\"CA\", \"CA1\", \"CA2\", \"CA3\", \"DG\", \"SUB\", \"POST\"], # hippocampal\n",
    "                [\"ACA\", \"AUD\", \"COA\", \"DP\", \"ILA\", \"MOp\", \"MOs\", \"OLF\", \"ORB\", \"ORBm\", \"PIR\", \"PL\", \"SSp\", \"SSs\", \"RSP\",\" TT\"], # non-visual cortex\n",
    "                [\"APN\", \"IC\", \"MB\", \"MRN\", \"NB\", \"PAG\", \"RN\", \"SCs\", \"SCm\", \"SCig\", \"SCsg\", \"ZI\"], # midbrain\n",
    "                [\"ACB\", \"CP\", \"GPe\", \"LS\", \"LSc\", \"LSr\", \"MS\", \"OT\", \"SNr\", \"SI\"], # basal ganglia \n",
    "                [\"BLA\", \"BMA\", \"EP\", \"EPd\", \"MEA\"] # cortical subplate\n",
    "               ]"
   ]
  },
  {
   "cell_type": "code",
   "execution_count": 11,
   "metadata": {},
   "outputs": [],
   "source": [
    "import glob, os, sys\n",
    "import numpy as np\n",
    "from scipy.stats import zscore, spearmanr, mannwhitneyu, pearsonr\n",
    "import time\n",
    "import imp\n",
    "import steinmetz_loader\n",
    "from scipy.sparse import csr_matrix\n",
    "\n",
    "imp.reload(steinmetz_loader)\n",
    "\n",
    "#dataroot = 'G:/steinmetz-data/Spikes'\n",
    "dataroot = \"Z:/3 Projekte/Neuromatch Summer School/Projekt/steinmetz_dataset\"\n",
    "\n",
    "fdir = glob.glob(os.path.join(dataroot, \"*\", \"\"))\n",
    "\n",
    "dt = 1/100\n",
    "dT = 2.5\n",
    "T0 = .5\n",
    "\n",
    "dat = []\n",
    "\n",
    "for idir in range(1):\n",
    "    # good cells and brain regions\n",
    "    good_cells, brain_region, br, phy_label = steinmetz_loader.get_good_cells(fdir[idir])\n",
    "    \n",
    "    # event types\n",
    "    response, vis_right, vis_left, feedback_type = steinmetz_loader.get_event_types(fdir[idir])\n",
    "    \n",
    "    # event timing\n",
    "    response_times, visual_times, rsp, gocue, feedback_time = steinmetz_loader.get_event_times(fdir[idir])    \n",
    "\n",
    "    # get passive trials\n",
    "    vis_times_p, vis_right_p, vis_left_p = steinmetz_loader.get_passive(fdir[idir])\n",
    "    visual_times = np.vstack((visual_times, vis_times_p))\n",
    "    vis_right = np.hstack((vis_right, vis_right_p))\n",
    "    vis_left  = np.hstack((vis_left, vis_left_p))\n",
    "    \n",
    "    # wheel traces\n",
    "    stimes, sclust    = steinmetz_loader.get_spikes(fdir[idir])\n",
    "    \n",
    "    # only care about spikes during trials\n",
    "    wheel, wheel_times = steinmetz_loader.get_wheel(fdir[idir])\n",
    "    \n",
    "    # load the pupil\n",
    "    pup, xy, pup_times = steinmetz_loader.get_pup(fdir[idir])\n",
    "\n",
    "    # load the LFP\n",
    "    #L, ba_lfp = steinmetz_loader.get_LFP(fdir[idir], br, visual_times-T0, dT, dt, T0)\n",
    "    \n",
    "    # trials loader\n",
    "    S  = steinmetz_loader.psth(stimes, sclust,   visual_times-T0, dT, dt)\n",
    "    \n",
    "    # wheel trials\n",
    "    W = steinmetz_loader.wpsth(wheel, wheel_times,   visual_times-T0, dT, dt)\n",
    "    \n",
    "    # pupil loader\n",
    "    P = steinmetz_loader.ppsth(pup, pup_times,   visual_times-T0, dT, dt)\n",
    "    \n",
    "    # add spike waveform information\n",
    "    twav, w, u = steinmetz_loader.get_waves(fdir[idir])\n",
    "    \n",
    "    \n",
    "    good_cells = good_cells * (np.mean(S, axis=(1,2))>0)\n",
    "    S  = S[good_cells].astype('int8') \n",
    "   \n",
    "    \n",
    "\n",
    "    dat.append({})\n",
    "    #ntrials = len(dat[idir]['response'])\n",
    "    ntrials = len(response)\n",
    "    \n",
    "    dat[idir]['brain_area'] = brain_region[good_cells]\n",
    "    dat[idir]['spks'] = S[:, :ntrials, :]\n",
    "    dat[idir]['wheel'] = W[np.newaxis, :ntrials, :]\n",
    "    dat[idir]['pupil'] = P[:, :ntrials, :]\n",
    "    dat[idir]['response'] = response\n",
    "    dat[idir]['contrast_right'] = vis_right[:ntrials]\n",
    "    dat[idir]['contrast_left'] = vis_left[:ntrials]\n",
    "    dat[idir]['response_time'] = rsp\n",
    "    dat[idir]['feedback_time'] = feedback_time\n",
    "    dat[idir]['feedback_type'] = feedback_type  \n",
    "    dat[idir]['gocue'] = gocue\n",
    "    dat[idir]['mouse_name'] = fdir[idir].split('\\\\')[1].split('_')[0]\n",
    "    dat[idir]['date_exp'] = fdir[idir].split('\\\\')[1].split('_')[1]\n",
    "    dat[idir]['trough_to_peak'] = twav[good_cells].flatten()\n",
    "    dat[idir]['waveform_w'] = w[good_cells].astype('float32')\n",
    "    dat[idir]['waveform_u'] = u[good_cells].astype('float32')\n",
    "    dat[idir]['bin_size'] = dt\n",
    "    dat[idir]['stim_onset'] = T0\n",
    "\n",
    "    #S  = np.reshape(S[good_cells], (np.sum(good_cells), -1))\n",
    "    #sall.append(csr_matrix(S))\n",
    "    \n",
    "    dat[idir]['spks_passive'] = S[:, ntrials:, :]\n",
    "    dat[idir]['wheel_passive'] = W[np.newaxis, ntrials:, :]\n",
    "    dat[idir]['pupil_passive'] = P[:, ntrials:, :]\n",
    "    #dat[idir]['lfp_passive'] = L[:, ntrials:, :]\n",
    "    dat[idir]['contrast_right_passive'] = vis_right[ntrials:]\n",
    "    dat[idir]['contrast_left_passive'] = vis_left[ntrials:]\n",
    "        \n",
    "    # add LFP\n",
    "    #L, ba_lfp = steinmetz_loader.get_LFP(fdir[idir], br, visual_times-T0, dT, dt, T0)\n",
    "    #dat[idir]['lfp'] = L[:, :ntrials, :]\n",
    "    #dat[idir]['lfp_passive'] = L[:, ntrials:, :]\n",
    "    #dat[idir]['brain_area_lfp'] = ba_lfp\n",
    "  \n",
    "    \n",
    "    "
   ]
  },
  {
   "cell_type": "code",
   "execution_count": 14,
   "metadata": {},
   "outputs": [
    {
     "data": {
      "text/plain": [
       "dict_keys(['brain_area', 'spks', 'wheel', 'pupil', 'response', 'contrast_right', 'contrast_left', 'response_time', 'feedback_time', 'feedback_type', 'gocue', 'mouse_name', 'date_exp', 'trough_to_peak', 'waveform_w', 'waveform_u', 'bin_size', 'stim_onset', 'spks_passive', 'wheel_passive', 'pupil_passive', 'contrast_right_passive', 'contrast_left_passive'])"
      ]
     },
     "execution_count": 14,
     "metadata": {},
     "output_type": "execute_result"
    }
   ],
   "source": [
    "dat[0].keys()"
   ]
  },
  {
   "cell_type": "code",
   "execution_count": 18,
   "metadata": {},
   "outputs": [
    {
     "data": {
      "text/plain": [
       "(214, 250)"
      ]
     },
     "execution_count": 18,
     "metadata": {},
     "output_type": "execute_result"
    }
   ],
   "source": [
    "dat[0]['wheel'][0,:,:].shape"
   ]
  },
  {
   "cell_type": "code",
   "execution_count": 19,
   "metadata": {},
   "outputs": [
    {
     "data": {
      "text/plain": [
       "(150, 250)"
      ]
     },
     "execution_count": 19,
     "metadata": {},
     "output_type": "execute_result"
    }
   ],
   "source": [
    "dat[0]['wheel_passive'][0,:,:].shape"
   ]
  },
  {
   "cell_type": "code",
   "execution_count": 20,
   "metadata": {},
   "outputs": [
    {
     "data": {
      "text/plain": [
       "(150,)"
      ]
     },
     "execution_count": 20,
     "metadata": {},
     "output_type": "execute_result"
    }
   ],
   "source": [
    "dat[0]['contrast_left_passive'].shape"
   ]
  },
  {
   "cell_type": "code",
   "execution_count": 17,
   "metadata": {},
   "outputs": [
    {
     "data": {
      "application/vnd.jupyter.widget-view+json": {
       "model_id": "7361cf296d5040718ac4cc74ec9edc10",
       "version_major": 2,
       "version_minor": 0
      },
      "text/plain": [
       "QgridWidget(grid_options={'fullWidthRows': True, 'syncColumnCellResize': True, 'forceFitColumns': True, 'defau…"
      ]
     },
     "metadata": {},
     "output_type": "display_data"
    }
   ],
   "source": [
    "qgrid.show_grid(pd.DataFrame(dat[0]['wheel'][0,:,:]))"
   ]
  },
  {
   "cell_type": "code",
   "execution_count": 52,
   "metadata": {
    "tags": []
   },
   "outputs": [
    {
     "name": "stdout",
     "output_type": "stream",
     "text": [
      "key:brain_area, dtypes:<U4, shape:(734,)\n",
      "key:spks, dtypes:int8, shape:(734, 214, 250)\n",
      "key:wheel, dtypes:float64, shape:(1, 214, 250)\n",
      "key:pupil, dtypes:float64, shape:(1, 214, 250)\n",
      "key:response, dtypes:float64, shape:(214,)\n",
      "key:contrast_right, dtypes:float64, shape:(214,)\n",
      "key:contrast_left, dtypes:float64, shape:(214,)\n",
      "key:response_time, dtypes:float64, shape:(214, 1)\n",
      "key:feedback_time, dtypes:float64, shape:(214, 1)\n",
      "key:feedback_type, dtypes:float64, shape:(214,)\n",
      "key:gocue, dtypes:float64, shape:(214, 1)\n",
      "key:trough_to_peak, dtypes:float64, shape:(734,)\n",
      "key:waveform_w, dtypes:float32, shape:(734, 82, 3)\n",
      "key:waveform_u, dtypes:float32, shape:(734, 3, 384)\n",
      "key:spks_passive, dtypes:int8, shape:(734, 150, 250)\n",
      "key:wheel_passive, dtypes:float64, shape:(1, 150, 250)\n",
      "key:pupil_passive, dtypes:float64, shape:(1, 150, 250)\n",
      "key:contrast_right_passive, dtypes:float64, shape:(150,)\n",
      "key:contrast_left_passive, dtypes:float64, shape:(150,)\n"
     ]
    }
   ],
   "source": [
    "for key, value in dat[0].items():\n",
    "    if isinstance(value, np.ndarray):\n",
    "        print(f\"key:{key}, dtypes:{value.dtype}, shape:{value.shape}\")\n",
    "    #else:\n",
    "    #    print(key, type(value))"
   ]
  },
  {
   "cell_type": "code",
   "execution_count": 88,
   "metadata": {},
   "outputs": [],
   "source": [
    "np.savez_compressed('G:/steinmetz-data/steinmetz_part0.npz', dat = dat[:13])\n",
    "np.savez_compressed('G:/steinmetz-data/steinmetz_part1.npz', dat = dat[13:26])\n",
    "np.savez_compressed('G:/steinmetz-data/steinmetz_part2.npz', dat = dat[26:])"
   ]
  }
 ],
 "metadata": {
  "kernelspec": {
   "display_name": "Python 3",
   "language": "python",
   "name": "python3"
  },
  "language_info": {
   "codemirror_mode": {
    "name": "ipython",
    "version": 3
   },
   "file_extension": ".py",
   "mimetype": "text/x-python",
   "name": "python",
   "nbconvert_exporter": "python",
   "pygments_lexer": "ipython3",
   "version": "3.7.7"
  },
  "toc": {
   "base_numbering": 1,
   "nav_menu": {},
   "number_sections": true,
   "sideBar": true,
   "skip_h1_title": false,
   "title_cell": "Table of Contents",
   "title_sidebar": "Contents",
   "toc_cell": false,
   "toc_position": {},
   "toc_section_display": true,
   "toc_window_display": false
  },
  "varInspector": {
   "cols": {
    "lenName": 16,
    "lenType": 16,
    "lenVar": 40
   },
   "kernels_config": {
    "python": {
     "delete_cmd_postfix": "",
     "delete_cmd_prefix": "del ",
     "library": "var_list.py",
     "varRefreshCmd": "print(var_dic_list())"
    },
    "r": {
     "delete_cmd_postfix": ") ",
     "delete_cmd_prefix": "rm(",
     "library": "var_list.r",
     "varRefreshCmd": "cat(var_dic_list()) "
    }
   },
   "types_to_exclude": [
    "module",
    "function",
    "builtin_function_or_method",
    "instance",
    "_Feature"
   ],
   "window_display": false
  }
 },
 "nbformat": 4,
 "nbformat_minor": 2
}