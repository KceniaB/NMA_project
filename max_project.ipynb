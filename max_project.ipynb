{
 "cells": [
  {
   "cell_type": "code",
   "execution_count": 1,
   "metadata": {
    "colab": {
     "base_uri": "https://localhost:8080/",
     "height": 35
    },
    "colab_type": "code",
    "executionInfo": {
     "elapsed": 1269,
     "status": "ok",
     "timestamp": 1595266937803,
     "user": {
      "displayName": "Max Hoheiser",
      "photoUrl": "https://lh3.googleusercontent.com/a-/AOh14GgcOj0xb1EjxBJ1OyxAUJAdknWQprdHmaELrwjcpo8=s64",
      "userId": "14108002061243669705"
     },
     "user_tz": -120
    },
    "id": "JA0mhl-7Lu_s",
    "outputId": "39b3cb5a-35dc-48e2-822b-89978d2df42a"
   },
   "outputs": [],
   "source": [
    "import numpy as np\n",
    "import matplotlib.pyplot as plt\n",
    "import os\n",
    "import pandas as pd\n",
    "import matplotlib.pyplot as plt\n",
    "\n",
    "from nma_class import NMA_project\n",
    "\n",
    "%matplotlib inline"
   ]
  },
  {
   "cell_type": "code",
   "execution_count": null,
   "metadata": {},
   "outputs": [],
   "source": [
    "# only if you are on google coalb not if you are on jupyter notebook\n",
    "from google.colab import drive\n",
    "drive.mount('/content/gdrive')"
   ]
  },
  {
   "cell_type": "code",
   "execution_count": 3,
   "metadata": {},
   "outputs": [],
   "source": [
    "# only if you are on jupyter notebook not if on colab\n",
    "import qgrid"
   ]
  },
  {
   "cell_type": "code",
   "execution_count": 4,
   "metadata": {
    "colab": {
     "base_uri": "https://localhost:8080/",
     "height": 35
    },
    "colab_type": "code",
    "executionInfo": {
     "elapsed": 1487,
     "status": "ok",
     "timestamp": 1595266942323,
     "user": {
      "displayName": "Max Hoheiser",
      "photoUrl": "https://lh3.googleusercontent.com/a-/AOh14GgcOj0xb1EjxBJ1OyxAUJAdknWQprdHmaELrwjcpo8=s64",
      "userId": "14108002061243669705"
     },
     "user_tz": -120
    },
    "id": "Nw8xyyd5UaC5",
    "outputId": "ca4e4160-777a-42a6-f72b-2b61f97454e3"
   },
   "outputs": [],
   "source": [
    "# example google colab load session\n",
    "#main_folder = \"/content/gdrive/My Drive/3 Projekte/Neuromatch Summer School/Projekt/steinmetz_dataset\"\n",
    "#main_folder = \"C:/Users/User/Google Drive/3 Projekte/Neuromatch Summer School/Projekt/steinmetz_dataset\"\n",
    "main_folder = \"Z:/3 Projekte/Neuromatch Summer School/Projekt/steinmetz_dataset\"\n",
    "\n",
    "# create session object\n",
    "nma_obj = NMA_project(main_folder) \n",
    "\n",
    "# default session is initialized, extract interesting dataframes in dedicated variables\n",
    "session = nma_obj.std_session\n",
    "channels_df = session['channels_df']\n",
    "spikes_df = session['spikes_df']\n",
    "clusters_df = session['clusters_df']\n"
   ]
  },
  {
   "cell_type": "code",
   "execution_count": 5,
   "metadata": {
    "scrolled": true
   },
   "outputs": [
    {
     "data": {
      "application/vnd.jupyter.widget-view+json": {
       "model_id": "3f69a68cadc1412e949ba2d446d0cc5d",
       "version_major": 2,
       "version_minor": 0
      },
      "text/plain": [
       "QgridWidget(grid_options={'fullWidthRows': True, 'syncColumnCellResize': True, 'forceFitColumns': True, 'defau…"
      ]
     },
     "metadata": {},
     "output_type": "display_data"
    }
   ],
   "source": [
    "qgrid.show_grid(channels_df)"
   ]
  },
  {
   "cell_type": "code",
   "execution_count": 7,
   "metadata": {
    "scrolled": true
   },
   "outputs": [
    {
     "data": {
      "application/vnd.jupyter.widget-view+json": {
       "model_id": "580393e4a65b45cf897a2d3118b8d73e",
       "version_major": 2,
       "version_minor": 0
      },
      "text/plain": [
       "QgridWidget(grid_options={'fullWidthRows': True, 'syncColumnCellResize': True, 'forceFitColumns': True, 'defau…"
      ]
     },
     "metadata": {},
     "output_type": "display_data"
    }
   ],
   "source": [
    "qgrid.show_grid(clusters_df)"
   ]
  },
  {
   "cell_type": "markdown",
   "metadata": {
    "colab_type": "text",
    "id": "y5OA26EeL6Tn"
   },
   "source": [
    "## Load Data\n"
   ]
  },
  {
   "cell_type": "code",
   "execution_count": null,
   "metadata": {},
   "outputs": [],
   "source": []
  },
  {
   "cell_type": "markdown",
   "metadata": {
    "colab_type": "text",
    "heading_collapsed": true,
    "id": "kCbC4PEqOHDn"
   },
   "source": [
    "### via oneibl by client"
   ]
  },
  {
   "cell_type": "code",
   "execution_count": 5,
   "metadata": {
    "colab": {
     "base_uri": "https://localhost:8080/",
     "height": 0
    },
    "colab_type": "code",
    "executionInfo": {
     "elapsed": 1140,
     "status": "error",
     "timestamp": 1595264995364,
     "user": {
      "displayName": "Max Hoheiser",
      "photoUrl": "https://lh3.googleusercontent.com/a-/AOh14GgcOj0xb1EjxBJ1OyxAUJAdknWQprdHmaELrwjcpo8=s64",
      "userId": "14108002061243669705"
     },
     "user_tz": -120
    },
    "hidden": true,
    "id": "HuGCEsr8LzE6",
    "outputId": "85ff83e6-5e0d-4e20-d02c-05e3bf833c0c"
   },
   "outputs": [
    {
     "ename": "ModuleNotFoundError",
     "evalue": "ignored",
     "output_type": "error",
     "traceback": [
      "\u001b[0;31m---------------------------------------------------------------------------\u001b[0m",
      "\u001b[0;31mModuleNotFoundError\u001b[0m                       Traceback (most recent call last)",
      "\u001b[0;32m<ipython-input-5-ea21961dabfb>\u001b[0m in \u001b[0;36m<module>\u001b[0;34m()\u001b[0m\n\u001b[1;32m      1\u001b[0m \u001b[0;34m\u001b[0m\u001b[0m\n\u001b[0;32m----> 2\u001b[0;31m \u001b[0;32mfrom\u001b[0m \u001b[0moneibl\u001b[0m\u001b[0;34m.\u001b[0m\u001b[0monelight\u001b[0m \u001b[0;32mimport\u001b[0m \u001b[0mONE\u001b[0m\u001b[0;34m\u001b[0m\u001b[0;34m\u001b[0m\u001b[0m\n\u001b[0m\u001b[1;32m      3\u001b[0m \u001b[0mone\u001b[0m \u001b[0;34m=\u001b[0m \u001b[0mONE\u001b[0m\u001b[0;34m(\u001b[0m\u001b[0;34m)\u001b[0m\u001b[0;34m\u001b[0m\u001b[0;34m\u001b[0m\u001b[0m\n\u001b[1;32m      4\u001b[0m \u001b[0mone\u001b[0m\u001b[0;34m.\u001b[0m\u001b[0mset_figshare_url\u001b[0m\u001b[0;34m(\u001b[0m\u001b[0;34m\"https://figshare.com/articles/steinmetz/9974357\"\u001b[0m\u001b[0;34m)\u001b[0m\u001b[0;34m\u001b[0m\u001b[0;34m\u001b[0m\u001b[0m\n",
      "\u001b[0;31mModuleNotFoundError\u001b[0m: No module named 'oneibl'",
      "",
      "\u001b[0;31m---------------------------------------------------------------------------\u001b[0;32m\nNOTE: If your import is failing due to a missing package, you can\nmanually install dependencies using either !pip or !apt.\n\nTo view examples of installing some common dependencies, click the\n\"Open Examples\" button below.\n\u001b[0;31m---------------------------------------------------------------------------\u001b[0m\n"
     ]
    }
   ],
   "source": [
    "\n",
    "from oneibl.onelight import ONE\n",
    "one = ONE()\n",
    "one.set_figshare_url(\"https://figshare.com/articles/steinmetz/9974357\")\n"
   ]
  },
  {
   "cell_type": "code",
   "execution_count": null,
   "metadata": {
    "colab": {},
    "colab_type": "code",
    "executionInfo": {
     "elapsed": 1495,
     "status": "aborted",
     "timestamp": 1595264736412,
     "user": {
      "displayName": "Max Hoheiser",
      "photoUrl": "https://lh3.googleusercontent.com/a-/AOh14GgcOj0xb1EjxBJ1OyxAUJAdknWQprdHmaELrwjcpo8=s64",
      "userId": "14108002061243669705"
     },
     "user_tz": -120
    },
    "hidden": true,
    "id": "dR1zceVWL_cc"
   },
   "outputs": [],
   "source": [
    "sessions = one.search(['spikes'])\n"
   ]
  },
  {
   "cell_type": "markdown",
   "metadata": {
    "colab_type": "text",
    "heading_collapsed": true,
    "id": "eJEq3YPBOQgG"
   },
   "source": [
    "### via google drive directly"
   ]
  },
  {
   "cell_type": "code",
   "execution_count": 3,
   "metadata": {
    "colab": {},
    "colab_type": "code",
    "executionInfo": {
     "elapsed": 1008,
     "status": "ok",
     "timestamp": 1595269079932,
     "user": {
      "displayName": "Max Hoheiser",
      "photoUrl": "https://lh3.googleusercontent.com/a-/AOh14GgcOj0xb1EjxBJ1OyxAUJAdknWQprdHmaELrwjcpo8=s64",
      "userId": "14108002061243669705"
     },
     "user_tz": -120
    },
    "hidden": true,
    "id": "_HA5zTtlOUs7"
   },
   "outputs": [],
   "source": [
    "def load_session(folder):\n",
    "    \"\"\"\n",
    "    load all files from given folder to dict\n",
    "    return dict with key as filenames\n",
    "    \"\"\"\n",
    "    # load session files ===========================================\n",
    "    from os import listdir\n",
    "    from os.path import isfile, join\n",
    "    files = [f for f in listdir(folder) if isfile(join(folder, f))]\n",
    "    names = ['_'.join(f.split('.')[:-1]) for f in files]\n",
    "    session = dict()\n",
    "    for (file_, name_) in zip(files, names):\n",
    "        if file_.split('.')[-1] == 'npy':\n",
    "        session[name_] = np.load(folder+'/'+file_)\n",
    "        if file_.split('.')[-1] == 'tsv':\n",
    "        session[name_] = pd.read_table(folder+'/'+file_)\n",
    "\n",
    "    # pars session info two dataframe ===============================\n",
    "    # create spike_df tataframe, with each spike time and the cluster it belongs to\n",
    "    spikes_df = pd.DataFrame( { 'cluster':session['spikes_clusters'][:,0], 'spike_times': session['spikes_times'][:,0] }, ) \n",
    "\n",
    "    # create cluster dataframe information and spikes for each cluster\n",
    "    clusters = np.unique(session['spikes_clusters'])\n",
    "    # create number of spikes, phy2 manual cluster, \n",
    "    # parse phy annotation\n",
    "    clusters_df = pd.DataFrame({'lable':session['clusters__phy_annotation'][:,0], 'probe':session['clusters_probes'][:,0], 'peak channel':session['clusters_peakChannel'][:,0]}, index=clusters )\n",
    "    # pars labels in strings 1 = good 3 = mua\n",
    "    #clusters_df['lable'] = clusters_df['lable'].apply( lambda lable: 'good' if lable==3 else ('mua' if lable==1 else 'bad') )\n",
    "\n",
    "    # create spikes colum with spiketimes\n",
    "    spk = pd.DataFrame( {'spikes':np.zeros(len(clusters), dtype=object)}, index=clusters )\n",
    "    for group, frame in spikes_df.groupby('cluster'):\n",
    "        spk['spikes'][group] = frame['spike_times'].values\n",
    "\n",
    "    #merge spike column with clusters_df\n",
    "    clusters_df = pd.merge(clusters_df, spk, how='right', left_index=True, right_index=True)\n",
    "    # set index name\n",
    "    clusters_df.index.name='cluster'\n",
    "    # number of spikes per cluster\n",
    "    clusters_df['total spikes'] = clusters_df['spikes'].apply(lambda row: len(row) )\n",
    "\n",
    "# def load_session(folder, sessions):\n",
    "#   \"\"\"\n",
    "#   load all files in each given session and add to session dict\n",
    "#   returs a dict of sessions, with each session a dict of files\n",
    "#   \"\"\"\n",
    "#   sessions_data = dict()\n",
    "#   for session in sessions:\n",
    "#     current_session = dict()\n",
    "#     sessions[session] = "
   ]
  },
  {
   "cell_type": "code",
   "execution_count": 7,
   "metadata": {
    "colab": {},
    "colab_type": "code",
    "collapsed": true,
    "executionInfo": {
     "elapsed": 1951,
     "status": "ok",
     "timestamp": 1595269085237,
     "user": {
      "displayName": "Max Hoheiser",
      "photoUrl": "https://lh3.googleusercontent.com/a-/AOh14GgcOj0xb1EjxBJ1OyxAUJAdknWQprdHmaELrwjcpo8=s64",
      "userId": "14108002061243669705"
     },
     "user_tz": -120
    },
    "hidden": true,
    "id": "YEoWrAK7R0iK"
   },
   "outputs": [
    {
     "ename": "KeyboardInterrupt",
     "evalue": "",
     "output_type": "error",
     "traceback": [
      "\u001b[1;31m---------------------------------------------------------------------------\u001b[0m",
      "\u001b[1;31mKeyboardInterrupt\u001b[0m                         Traceback (most recent call last)",
      "\u001b[1;32m<ipython-input-7-422f87af1196>\u001b[0m in \u001b[0;36m<module>\u001b[1;34m\u001b[0m\n\u001b[0;32m      8\u001b[0m \u001b[1;33m\u001b[0m\u001b[0m\n\u001b[0;32m      9\u001b[0m \u001b[1;31m# load first session\u001b[0m\u001b[1;33m\u001b[0m\u001b[1;33m\u001b[0m\u001b[1;33m\u001b[0m\u001b[0m\n\u001b[1;32m---> 10\u001b[1;33m \u001b[0msession\u001b[0m \u001b[1;33m=\u001b[0m \u001b[0mload_session\u001b[0m\u001b[1;33m(\u001b[0m\u001b[0msubfolders\u001b[0m\u001b[1;33m[\u001b[0m\u001b[1;36m0\u001b[0m\u001b[1;33m]\u001b[0m\u001b[1;33m)\u001b[0m\u001b[1;33m\u001b[0m\u001b[1;33m\u001b[0m\u001b[0m\n\u001b[0m",
      "\u001b[1;32m<ipython-input-3-436436695961>\u001b[0m in \u001b[0;36mload_session\u001b[1;34m(folder)\u001b[0m\n\u001b[0;32m     11\u001b[0m   \u001b[1;32mfor\u001b[0m \u001b[1;33m(\u001b[0m\u001b[0mfile_\u001b[0m\u001b[1;33m,\u001b[0m \u001b[0mname_\u001b[0m\u001b[1;33m)\u001b[0m \u001b[1;32min\u001b[0m \u001b[0mzip\u001b[0m\u001b[1;33m(\u001b[0m\u001b[0mfiles\u001b[0m\u001b[1;33m,\u001b[0m \u001b[0mnames\u001b[0m\u001b[1;33m)\u001b[0m\u001b[1;33m:\u001b[0m\u001b[1;33m\u001b[0m\u001b[1;33m\u001b[0m\u001b[0m\n\u001b[0;32m     12\u001b[0m     \u001b[1;32mif\u001b[0m \u001b[0mfile_\u001b[0m\u001b[1;33m.\u001b[0m\u001b[0msplit\u001b[0m\u001b[1;33m(\u001b[0m\u001b[1;34m'.'\u001b[0m\u001b[1;33m)\u001b[0m\u001b[1;33m[\u001b[0m\u001b[1;33m-\u001b[0m\u001b[1;36m1\u001b[0m\u001b[1;33m]\u001b[0m \u001b[1;33m==\u001b[0m \u001b[1;34m'npy'\u001b[0m\u001b[1;33m:\u001b[0m\u001b[1;33m\u001b[0m\u001b[1;33m\u001b[0m\u001b[0m\n\u001b[1;32m---> 13\u001b[1;33m       \u001b[0msession\u001b[0m\u001b[1;33m[\u001b[0m\u001b[0mname_\u001b[0m\u001b[1;33m]\u001b[0m \u001b[1;33m=\u001b[0m \u001b[0mnp\u001b[0m\u001b[1;33m.\u001b[0m\u001b[0mload\u001b[0m\u001b[1;33m(\u001b[0m\u001b[0mfolder\u001b[0m\u001b[1;33m+\u001b[0m\u001b[1;34m'/'\u001b[0m\u001b[1;33m+\u001b[0m\u001b[0mfile_\u001b[0m\u001b[1;33m)\u001b[0m\u001b[1;33m\u001b[0m\u001b[1;33m\u001b[0m\u001b[0m\n\u001b[0m\u001b[0;32m     14\u001b[0m     \u001b[1;32mif\u001b[0m \u001b[0mfile_\u001b[0m\u001b[1;33m.\u001b[0m\u001b[0msplit\u001b[0m\u001b[1;33m(\u001b[0m\u001b[1;34m'.'\u001b[0m\u001b[1;33m)\u001b[0m\u001b[1;33m[\u001b[0m\u001b[1;33m-\u001b[0m\u001b[1;36m1\u001b[0m\u001b[1;33m]\u001b[0m \u001b[1;33m==\u001b[0m \u001b[1;34m'tsv'\u001b[0m\u001b[1;33m:\u001b[0m\u001b[1;33m\u001b[0m\u001b[1;33m\u001b[0m\u001b[0m\n\u001b[0;32m     15\u001b[0m       \u001b[0msession\u001b[0m\u001b[1;33m[\u001b[0m\u001b[0mname_\u001b[0m\u001b[1;33m]\u001b[0m \u001b[1;33m=\u001b[0m \u001b[0mpd\u001b[0m\u001b[1;33m.\u001b[0m\u001b[0mread_table\u001b[0m\u001b[1;33m(\u001b[0m\u001b[0mfolder\u001b[0m\u001b[1;33m+\u001b[0m\u001b[1;34m'/'\u001b[0m\u001b[1;33m+\u001b[0m\u001b[0mfile_\u001b[0m\u001b[1;33m)\u001b[0m\u001b[1;33m\u001b[0m\u001b[1;33m\u001b[0m\u001b[0m\n",
      "\u001b[1;32mC:\\ProgramData\\Anaconda3\\lib\\site-packages\\numpy\\lib\\npyio.py\u001b[0m in \u001b[0;36mload\u001b[1;34m(file, mmap_mode, allow_pickle, fix_imports, encoding)\u001b[0m\n\u001b[0;32m    426\u001b[0m         \u001b[0mown_fid\u001b[0m \u001b[1;33m=\u001b[0m \u001b[1;32mFalse\u001b[0m\u001b[1;33m\u001b[0m\u001b[1;33m\u001b[0m\u001b[0m\n\u001b[0;32m    427\u001b[0m     \u001b[1;32melse\u001b[0m\u001b[1;33m:\u001b[0m\u001b[1;33m\u001b[0m\u001b[1;33m\u001b[0m\u001b[0m\n\u001b[1;32m--> 428\u001b[1;33m         \u001b[0mfid\u001b[0m \u001b[1;33m=\u001b[0m \u001b[0mopen\u001b[0m\u001b[1;33m(\u001b[0m\u001b[0mos_fspath\u001b[0m\u001b[1;33m(\u001b[0m\u001b[0mfile\u001b[0m\u001b[1;33m)\u001b[0m\u001b[1;33m,\u001b[0m \u001b[1;34m\"rb\"\u001b[0m\u001b[1;33m)\u001b[0m\u001b[1;33m\u001b[0m\u001b[1;33m\u001b[0m\u001b[0m\n\u001b[0m\u001b[0;32m    429\u001b[0m         \u001b[0mown_fid\u001b[0m \u001b[1;33m=\u001b[0m \u001b[1;32mTrue\u001b[0m\u001b[1;33m\u001b[0m\u001b[1;33m\u001b[0m\u001b[0m\n\u001b[0;32m    430\u001b[0m \u001b[1;33m\u001b[0m\u001b[0m\n",
      "\u001b[1;31mKeyboardInterrupt\u001b[0m: "
     ]
    }
   ],
   "source": [
    "# example google colab load session\n",
    "#folder = \"/content/gdrive/My Drive/3 Projekte/Neuromatch Summer School/Projekt/steinmetz_dataset\"\n",
    "#folder = \"C:/Users/User/Google Drive/3 Projekte/Neuromatch Summer School/Projekt/steinmetz_dataset\"\n",
    "folder = \"Z:/3 Projekte/Neuromatch Summer School/Projekt/steinmetz_dataset\"\n",
    "\n",
    "subfolders = [ f.path for f in os.scandir(folder) if f.is_dir() ]\n",
    "sessions = [folder.split('/')[-1] for folder in subfolders]\n",
    "\n",
    "# load first session\n",
    "session = load_session(subfolders[0])"
   ]
  },
  {
   "cell_type": "code",
   "execution_count": 10,
   "metadata": {
    "hidden": true
   },
   "outputs": [],
   "source": [
    "folder = \"Z:/3 Projekte/Neuromatch Summer School/Projekt/steinmetz_dataset/Cori_2016-12-14\"\n",
    "session = load_session(folder)"
   ]
  },
  {
   "cell_type": "code",
   "execution_count": 11,
   "metadata": {
    "colab": {
     "base_uri": "https://localhost:8080/",
     "height": 995
    },
    "colab_type": "code",
    "executionInfo": {
     "elapsed": 1018,
     "status": "ok",
     "timestamp": 1595269197591,
     "user": {
      "displayName": "Max Hoheiser",
      "photoUrl": "https://lh3.googleusercontent.com/a-/AOh14GgcOj0xb1EjxBJ1OyxAUJAdknWQprdHmaELrwjcpo8=s64",
      "userId": "14108002061243669705"
     },
     "user_tz": -120
    },
    "hidden": true,
    "id": "N405jvVdarLc",
    "outputId": "26c24f45-564b-4d2e-f89e-83e6b6ce6eb6"
   },
   "outputs": [
    {
     "name": "stdout",
     "output_type": "stream",
     "text": [
      "Cori_2016-12-14_M2_g0_t0_imec_lf_timestamps\n",
      "Cori_2016-12-14_V1_g0_t0_imec_lf_timestamps\n",
      "channels_brainLocation\n",
      "channels_probe\n",
      "channels_rawRow\n",
      "channels_site\n",
      "channels_sitePositions\n",
      "clusters__phy_annotation\n",
      "clusters_depths\n",
      "clusters_originalIDs\n",
      "clusters_peakChannel\n",
      "clusters_probes\n",
      "clusters_templateWaveformChans\n",
      "clusters_templateWaveforms\n",
      "clusters_waveformDuration\n",
      "eye_area\n",
      "eye_timestamps\n",
      "eye_xyPos\n",
      "face_motionEnergy\n",
      "face_timestamps\n",
      "lickPiezo_raw\n",
      "lickPiezo_timestamps\n",
      "licks_times\n",
      "passiveBeeps_times\n",
      "passiveValveClick_times\n",
      "passiveVisual_contrastLeft\n",
      "passiveVisual_contrastRight\n",
      "passiveVisual_times\n",
      "passiveWhiteNoise_times\n",
      "probes_description\n",
      "probes_insertion\n",
      "probes_rawFilename\n",
      "probes_sitePositions\n",
      "sparseNoise_positions\n",
      "sparseNoise_times\n",
      "spikes_amps\n",
      "spikes_clusters\n",
      "spikes_depths\n",
      "spikes_times\n",
      "spontaneous_intervals\n",
      "trials_feedbackType\n",
      "trials_feedback_times\n",
      "trials_goCue_times\n",
      "trials_included\n",
      "trials_intervals\n",
      "trials_repNum\n",
      "trials_response_choice\n",
      "trials_response_times\n",
      "trials_visualStim_contrastLeft\n",
      "trials_visualStim_contrastRight\n",
      "trials_visualStim_times\n",
      "wheel_position\n",
      "wheel_timestamps\n",
      "wheelMoves_intervals\n",
      "wheelMoves_type\n"
     ]
    }
   ],
   "source": [
    "for key in session.keys():\n",
    "  print(key)"
   ]
  },
  {
   "cell_type": "markdown",
   "metadata": {
    "heading_collapsed": true
   },
   "source": [
    "### cleanup channel infos"
   ]
  },
  {
   "cell_type": "code",
   "execution_count": 76,
   "metadata": {
    "hidden": true
   },
   "outputs": [],
   "source": [
    "# load channel brain location infos\n",
    "brain = pd.DataFrame(session['channels_brainLocation'])\n",
    "# load channel probes\n",
    "site = pd.DataFrame(session['channels_sitePositions'], columns=['channel 0', 'channel 1'])\n",
    "# merge with channles_df\n",
    "channels_df = pd.merge(brain, site, how='inner', left_index=True, right_index=True)\n",
    "# load probe, row and site\n",
    "meta = pd.DataFrame({'probe':session['channels_probe'][:,0],\n",
    "                            'raw row':session['channels_rawRow'][:,0],\n",
    "                            'channels_site':session['channels_site'][:,0] })\n",
    "# merge metha with channel_df\n",
    "channels_df = pd.merge(channels_df, meta, how='inner', left_index=True, right_index=True)"
   ]
  },
  {
   "cell_type": "code",
   "execution_count": 77,
   "metadata": {
    "hidden": true,
    "scrolled": true
   },
   "outputs": [
    {
     "data": {
      "application/vnd.jupyter.widget-view+json": {
       "model_id": "",
       "version_major": 2,
       "version_minor": 0
      },
      "text/plain": [
       "QgridWidget(grid_options={'fullWidthRows': True, 'syncColumnCellResize': True, 'forceFitColumns': True, 'defau…"
      ]
     },
     "metadata": {},
     "output_type": "display_data"
    }
   ],
   "source": [
    "qgrid.show_grid(channels_df)"
   ]
  },
  {
   "cell_type": "markdown",
   "metadata": {
    "heading_collapsed": true
   },
   "source": [
    "### cleaning up spikes"
   ]
  },
  {
   "cell_type": "code",
   "execution_count": 12,
   "metadata": {
    "hidden": true,
    "scrolled": true
   },
   "outputs": [
    {
     "data": {
      "application/vnd.jupyter.widget-view+json": {
       "model_id": "568fe066822c483f88b355186d6111df",
       "version_major": 2,
       "version_minor": 0
      },
      "text/plain": [
       "QgridWidget(grid_options={'fullWidthRows': True, 'syncColumnCellResize': True, 'forceFitColumns': True, 'defau…"
      ]
     },
     "metadata": {},
     "output_type": "display_data"
    }
   ],
   "source": [
    "# create spike_df tataframe, with each spike time and the cluster it belongs to\n",
    "spikes_df = pd.DataFrame( { 'cluster':session['spikes_clusters'][:,0], 'spike_times': session['spikes_times'][:,0] }, ) \n",
    "qgrid.show_grid(spikes_df)"
   ]
  },
  {
   "cell_type": "code",
   "execution_count": 55,
   "metadata": {
    "colab": {
     "base_uri": "https://localhost:8080/",
     "height": 141
    },
    "colab_type": "code",
    "executionInfo": {
     "elapsed": 942,
     "status": "ok",
     "timestamp": 1595269247514,
     "user": {
      "displayName": "Max Hoheiser",
      "photoUrl": "https://lh3.googleusercontent.com/a-/AOh14GgcOj0xb1EjxBJ1OyxAUJAdknWQprdHmaELrwjcpo8=s64",
      "userId": "14108002061243669705"
     },
     "user_tz": -120
    },
    "hidden": true,
    "id": "qVP2hfQSdFj_",
    "outputId": "6e2e250b-8bcd-44af-bf49-498d767e1ce4",
    "scrolled": true
   },
   "outputs": [],
   "source": [
    "# create cluster dataframe information and spikes for each cluster\n",
    "clusters = np.unique(session['spikes_clusters'])\n",
    "# create number of spikes, phy2 manual cluster, \n",
    "# parse phy annotation\n",
    "clusters_df = pd.DataFrame({'lable':session['clusters__phy_annotation'][:,0], 'probe':session['clusters_probes'][:,0], 'peak channel':session['clusters_peakChannel'][:,0]}, index=clusters )\n",
    "# pars labels in strings 1 = good 3 = mua\n",
    "#clusters_df['lable'] = clusters_df['lable'].apply( lambda lable: 'good' if lable==3 else ('mua' if lable==1 else 'bad') )\n",
    "\n",
    "\n",
    "\n",
    "# create spikes colum with spiketimes\n",
    "spk = pd.DataFrame( {'spikes':np.zeros(len(clusters), dtype=object)}, index=clusters )\n",
    "for group, frame in spikes_df.groupby('cluster'):\n",
    "    spk['spikes'][group] = frame['spike_times'].values\n",
    "\n",
    "#merge spike column with clusters_df\n",
    "clusters_df = pd.merge(clusters_df, spk, how='right', left_index=True, right_index=True)\n",
    "# set index name\n",
    "clusters_df.index.name='cluster'\n",
    "# number of spikes per cluster\n",
    "clusters_df['total spikes'] = clusters_df['spikes'].apply(lambda row: len(row) )"
   ]
  },
  {
   "cell_type": "code",
   "execution_count": 56,
   "metadata": {
    "hidden": true
   },
   "outputs": [
    {
     "data": {
      "application/vnd.jupyter.widget-view+json": {
       "model_id": "7ee843503a4145a8bdb9b14382d614a5",
       "version_major": 2,
       "version_minor": 0
      },
      "text/plain": [
       "QgridWidget(grid_options={'fullWidthRows': True, 'syncColumnCellResize': True, 'forceFitColumns': True, 'defau…"
      ]
     },
     "metadata": {},
     "output_type": "display_data"
    }
   ],
   "source": [
    "qgrid.show_grid(clusters_df)"
   ]
  },
  {
   "cell_type": "markdown",
   "metadata": {},
   "source": [
    "### cleanup trial info"
   ]
  },
  {
   "cell_type": "code",
   "execution_count": null,
   "metadata": {},
   "outputs": [],
   "source": []
  }
 ],
 "metadata": {
  "colab": {
   "authorship_tag": "ABX9TyP3Rua9vwNc6w9+RtEjpB15",
   "name": "Project.ipynb",
   "provenance": []
  },
  "kernelspec": {
   "display_name": "Python 3",
   "language": "python",
   "name": "python3"
  },
  "language_info": {
   "codemirror_mode": {
    "name": "ipython",
    "version": 3
   },
   "file_extension": ".py",
   "mimetype": "text/x-python",
   "name": "python",
   "nbconvert_exporter": "python",
   "pygments_lexer": "ipython3",
   "version": "3.7.6"
  },
  "toc": {
   "base_numbering": 1,
   "nav_menu": {},
   "number_sections": true,
   "sideBar": true,
   "skip_h1_title": false,
   "title_cell": "Table of Contents",
   "title_sidebar": "Contents",
   "toc_cell": false,
   "toc_position": {},
   "toc_section_display": true,
   "toc_window_display": false
  },
  "varInspector": {
   "cols": {
    "lenName": 16,
    "lenType": 16,
    "lenVar": 40
   },
   "kernels_config": {
    "python": {
     "delete_cmd_postfix": "",
     "delete_cmd_prefix": "del ",
     "library": "var_list.py",
     "varRefreshCmd": "print(var_dic_list())"
    },
    "r": {
     "delete_cmd_postfix": ") ",
     "delete_cmd_prefix": "rm(",
     "library": "var_list.r",
     "varRefreshCmd": "cat(var_dic_list()) "
    }
   },
   "types_to_exclude": [
    "module",
    "function",
    "builtin_function_or_method",
    "instance",
    "_Feature"
   ],
   "window_display": false
  }
 },
 "nbformat": 4,
 "nbformat_minor": 1
}
