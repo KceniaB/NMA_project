{
 "cells": [
  {
   "cell_type": "markdown",
   "metadata": {},
   "source": [
    "## this script is based on the W1D4 tutorial 2 logistic regression decoder"
   ]
  },
  {
   "cell_type": "code",
   "execution_count": 2,
   "metadata": {},
   "outputs": [],
   "source": [
    "import numpy as np\n",
    "import matplotlib.pyplot as plt\n",
    "import os\n",
    "import requests\n",
    "import hashlib\n",
    "\n",
    "from sklearn.linear_model import LogisticRegression\n",
    "from sklearn.model_selection import cross_val_score"
   ]
  },
  {
   "cell_type": "code",
   "execution_count": 3,
   "metadata": {},
   "outputs": [],
   "source": [
    "#Helper functions taken from the tutorial\n",
    "\n",
    "def plot_weights(models, sharey=True):\n",
    "    \"\"\"Draw a stem plot of weights for each model in models dict.\"\"\"\n",
    "    n = len(models)\n",
    "    f = plt.figure(figsize=(10, 2.5 * n))\n",
    "    axs = f.subplots(n, sharex=True, sharey=sharey)\n",
    "    axs = np.atleast_1d(axs)\n",
    "    for ax, (title, model) in zip(axs, models.items()):\n",
    "        ax.margins(x=.02)\n",
    "        stem = ax.stem(model.coef_.squeeze(), use_line_collection=True)\n",
    "        stem[0].set_marker(\".\")\n",
    "        stem[0].set_color(\".2\")\n",
    "        stem[1].set_linewidths(.5)\n",
    "        stem[1].set_color(\".2\")\n",
    "        stem[2].set_visible(False)\n",
    "        ax.axhline(0, color=\"C3\", lw=3)\n",
    "        ax.set(ylabel=\"Weight\", title=title)\n",
    "    ax.set(xlabel=\"Neuron (a.k.a. feature)\")\n",
    "    f.tight_layout()\n",
    "\n",
    "\n",
    "def plot_function(f, name, var, points=(-10, 10)):\n",
    "    \"\"\"Evaluate f() on linear space between points and plot.\n",
    "\n",
    "    Args:\n",
    "      f (callable): function that maps scalar -> scalar\n",
    "      name (string): Function name for axis labels\n",
    "      var (string): Variable name for axis labels.\n",
    "      points (tuple): Args for np.linspace to create eval grid.\n",
    "    \"\"\"\n",
    "    x = np.linspace(*points)\n",
    "    ax = plt.figure().subplots()\n",
    "    ax.plot(x, f(x))\n",
    "    ax.set(\n",
    "      xlabel=f'${var}$',\n",
    "      ylabel=f'${name}({var})$'\n",
    "    )\n",
    "\n",
    "def plot_model_selection(C_values, accuracies):\n",
    "    \"\"\"Plot the accuracy curve over log-spaced C values.\"\"\"\n",
    "    ax = plt.figure().subplots()\n",
    "    ax.set_xscale(\"log\")\n",
    "    ax.plot(C_values, accuracies, marker=\"o\")\n",
    "    best_C = C_values[np.argmax(accuracies)]\n",
    "    ax.set(\n",
    "      xticks=C_values,\n",
    "      xlabel=\"$C$\",\n",
    "      ylabel=\"Cross-validated accuracy\",\n",
    "      title=f\"Best C: {best_C:1g} ({np.max(accuracies):.2%})\",\n",
    "    )\n",
    "\n",
    "def plot_non_zero_coefs(C_values, non_zero_l1, n_voxels):\n",
    "    \"\"\"Plot the accuracy curve over log-spaced C values.\"\"\"\n",
    "    ax = plt.figure().subplots()\n",
    "    ax.set_xscale(\"log\")\n",
    "    ax.plot(C_values, non_zero_l1, marker=\"o\")\n",
    "    ax.set(\n",
    "    xticks=C_values,\n",
    "    xlabel=\"$C$\",\n",
    "    ylabel=\"Number of non-zero coefficients\",\n",
    "    )\n",
    "    ax.axhline(n_voxels, color=\".1\", linestyle=\":\")\n",
    "    ax.annotate(\"Total\\n# Neurons\", (C_values[0], n_voxels * .98), va=\"top\")\n",
    "\n",
    "def sigmoid(z):\n",
    "    return 1 / (1+np.exp(-z))"
   ]
  },
  {
   "cell_type": "markdown",
   "metadata": {},
   "source": [
    "# download the steinmetz dataset used in the tutorial"
   ]
  },
  {
   "cell_type": "code",
   "execution_count": 4,
   "metadata": {},
   "outputs": [],
   "source": [
    "url = \"https://osf.io/r9gh8/download\"\n",
    "fname = \"W1D4_steinmetz_data.npz\"\n",
    "expected_md5 = \"d19716354fed0981267456b80db07ea8\"\n",
    "\n",
    "if not os.path.isfile(fname):\n",
    "    try:\n",
    "        r = requests.get(url)\n",
    "    except requests.ConnectionError:\n",
    "        print(\"!!! Failed to download data !!!\")\n",
    "    else:\n",
    "        if r.status_code != requests.codes.ok:\n",
    "            print(\"!!! Failed to download data !!!\")\n",
    "        elif hashlib.md5(r.content).hexdigest() != expected_md5:\n",
    "            print(\"!!! Data download appears corrupted !!!\")\n",
    "        else:\n",
    "            with open(fname, \"wb\") as fid:\n",
    "                fid.write(r.content)\n"
   ]
  },
  {
   "cell_type": "code",
   "execution_count": 5,
   "metadata": {},
   "outputs": [],
   "source": [
    "def load_steinmetz_data(data_fname=fname):\n",
    "    with np.load(data_fname) as dobj:\n",
    "        data = dict(**dobj)\n",
    "    return data"
   ]
  },
  {
   "cell_type": "markdown",
   "metadata": {},
   "source": [
    "# Load data"
   ]
  },
  {
   "cell_type": "code",
   "execution_count": 6,
   "metadata": {},
   "outputs": [
    {
     "name": "stdout",
     "output_type": "stream",
     "text": [
      "spikes (276, 691)\n",
      "choices (276,)\n"
     ]
    }
   ],
   "source": [
    "#this is sample data provided in tutorial\n",
    "data = load_steinmetz_data()\n",
    "for key, val in data.items():\n",
    "    print(key, val.shape)"
   ]
  },
  {
   "cell_type": "code",
   "execution_count": null,
   "metadata": {},
   "outputs": [],
   "source": [
    "\n"
   ]
  },
  {
   "cell_type": "code",
   "execution_count": 18,
   "metadata": {},
   "outputs": [],
   "source": [
    "#DATA #here we need to load our own data!!\n",
    "y = data[\"choices\"] #these are the binary choices the animal made on each trial (trialnr)\n",
    "X = data[\"spikes\"] #these are the mean spike rates for each neuron (trialnr x neurons)"
   ]
  },
  {
   "cell_type": "code",
   "execution_count": 20,
   "metadata": {},
   "outputs": [
    {
     "data": {
      "text/plain": [
       "[<matplotlib.lines.Line2D at 0x1a22a442d0>]"
      ]
     },
     "execution_count": 20,
     "metadata": {},
     "output_type": "execute_result"
    },
    {
     "data": {
      "image/png": "[encoded data removed]",
      "text/plain": [
       "<Figure size 432x288 with 1 Axes>"
      ]
     },
     "metadata": {
      "needs_background": "light"
     },
     "output_type": "display_data"
    }
   ],
   "source": [
    "plt.figure\n",
    "plt.plot(X[0,:])"
   ]
  },
  {
   "cell_type": "markdown",
   "metadata": {},
   "source": [
    "# fit logistic regression models"
   ]
  },
  {
   "cell_type": "code",
   "execution_count": 21,
   "metadata": {},
   "outputs": [
    {
     "data": {
      "text/plain": [
       "LogisticRegression(C=1.0, class_weight=None, dual=False, fit_intercept=True,\n",
       "                   intercept_scaling=1, l1_ratio=None, max_iter=100,\n",
       "                   multi_class='warn', n_jobs=None, penalty='none',\n",
       "                   random_state=None, solver='newton-cg', tol=0.0001, verbose=0,\n",
       "                   warm_start=False)"
      ]
     },
     "execution_count": 21,
     "metadata": {},
     "output_type": "execute_result"
    }
   ],
   "source": [
    "# First define the model\n",
    "log_reg = LogisticRegression(penalty='none',solver='newton-cg')\n",
    "\n",
    "#Then fit it to data\n",
    "log_reg.fit(X, y)"
   ]
  },
  {
   "cell_type": "code",
   "execution_count": 22,
   "metadata": {},
   "outputs": [
    {
     "name": "stdout",
     "output_type": "stream",
     "text": [
      "Accuracy on the training data: 100.00%\n"
     ]
    }
   ],
   "source": [
    "#get accuracy of the model on the training set (should be high!)\n",
    "y_pred = log_reg.predict(X)\n",
    "train_accuracy = np.mean(y_pred == y)\n",
    "print(f\"Accuracy on the training data: {train_accuracy:.2%}\")"
   ]
  },
  {
   "cell_type": "code",
   "execution_count": 23,
   "metadata": {},
   "outputs": [
    {
     "data": {
      "image/png": "[encoded data removed]",
      "text/plain": [
       "<Figure size 576x216 with 1 Axes>"
      ]
     },
     "metadata": {
      "needs_background": "light"
     },
     "output_type": "display_data"
    }
   ],
   "source": [
    "#get accuracy of the model on a k-fold cross validated set\n",
    "\n",
    "k=8 #choose k-fold\n",
    "reg = 'l2' #choose regularization. 'none', 'l1', or 'l2'\n",
    "lam = 1 #choose lambda for regularizer\n",
    "\n",
    "#fit model\n",
    "#log_reg = LogisticRegression(penalty='none').fit(X, y)\n",
    "log_reg = LogisticRegression(penalty=reg, C=1/lam, solver='lbfgs').fit(X, y)\n",
    "\n",
    "#get cross-validated accuracies\n",
    "accuracies = cross_val_score(log_reg, X, y, cv=k)\n",
    "\n",
    "#plot the resulting accuracies\n",
    "f, ax = plt.subplots(figsize=(8, 3))\n",
    "ax.boxplot(accuracies, vert=False, widths=.7)\n",
    "ax.scatter(accuracies, np.ones_like(accuracies))\n",
    "ax.set(\n",
    "  xlabel=\"Accuracy\",\n",
    "  yticks=[],\n",
    "  title=f\"Average test accuracy: {accuracies.mean():.2%}\"\n",
    ")\n",
    "ax.spines[\"left\"].set_visible(False)"
   ]
  },
  {
   "cell_type": "code",
   "execution_count": 29,
   "metadata": {},
   "outputs": [],
   "source": [
    "def model_selection(X, y, C_values, CV_values):\n",
    "    \"\"\"Compute CV accuracy for each C value.\n",
    "\n",
    "    Args:\n",
    "    X (2D array): Data matrix\n",
    "    y (1D array): Label vector\n",
    "    C_values (1D array): Array of hyperparameter values\n",
    "\n",
    "    Returns:\n",
    "    accuracies (1D array): CV accuracy with each value of C\n",
    "\n",
    "    \"\"\"\n",
    "    accuracies_all = []\n",
    "\n",
    "    for CV in CV_values:\n",
    "\n",
    "        accuracies = []\n",
    "\n",
    "        for C in C_values:\n",
    "\n",
    "            # Initialize and fit the model\n",
    "            model = LogisticRegression(penalty='l2',C=C, solver='lbfgs',max_iter=5000)\n",
    "            model.fit(X,y)\n",
    "\n",
    "            # Get the accuracy for each test split\n",
    "            accs = cross_val_score(model,X,y,cv=int(CV))\n",
    "\n",
    "            # Store the average test accuracy for this value of C\n",
    "            accuracies.append(np.mean(accs))\n",
    "\n",
    "        accuracies_all.append(accuracies)\n",
    "\n",
    "    return accuracies_all\n",
    "\n",
    "\n",
    "\n",
    "# Use log-spaced values for C and CV\n",
    "\n",
    "C_values = np.logspace(-4, 4, 9)\n",
    "\n",
    "#CV_values = np.linspace(2,20,10)\n",
    "CV_values = np.logspace(1,7,7,base=2)\n",
    "#CV_values = np.logspace(np.arange(2,50,2)\n",
    "\n",
    "accuracies_all = model_selection(X, y, C_values, CV_values)"
   ]
  },
  {
   "cell_type": "code",
   "execution_count": 30,
   "metadata": {},
   "outputs": [
    {
     "data": {
      "text/plain": [
       "[Text(0, 0.5, 'Cross-validated accuracy'),\n",
       " [<matplotlib.axis.XTick at 0x1a229bec50>,\n",
       "  <matplotlib.axis.XTick at 0x1a22dc8c10>,\n",
       "  <matplotlib.axis.XTick at 0x1a22dc8910>,\n",
       "  <matplotlib.axis.XTick at 0x1a22ecadd0>,\n",
       "  <matplotlib.axis.XTick at 0x1a22ece350>,\n",
       "  <matplotlib.axis.XTick at 0x1a22ece8d0>,\n",
       "  <matplotlib.axis.XTick at 0x1a22ece710>,\n",
       "  <matplotlib.axis.XTick at 0x1a22ed25d0>,\n",
       "  <matplotlib.axis.XTick at 0x1a22ece1d0>],\n",
       " Text(0.5, 0, '$C$')]"
      ]
     },
     "execution_count": 30,
     "metadata": {},
     "output_type": "execute_result"
    },
    {
     "data": {
      "image/png": "[encoded data removed]",
      "text/plain": [
       "<Figure size 432x288 with 1 Axes>"
      ]
     },
     "metadata": {
      "needs_background": "light"
     },
     "output_type": "display_data"
    }
   ],
   "source": [
    "#plot results\n",
    "ax = plt.figure().subplots()\n",
    "ax.set_xscale(\"log\")\n",
    "cmap = plt.cm.get_cmap('coolwarm')\n",
    "for i,accuracies in enumerate(accuracies_all):\n",
    "    c = cmap(i/(len(accuracies_all)-1))\n",
    "    ax.plot(C_values, accuracies, marker=\"o\",color=c)\n",
    "    best_C = C_values[np.argmax(accuracies)]\n",
    "    plt.text(1,0.8-0.02*i,f\"{CV_values[i]:1g}-fold CV: Cmax={best_C:1g}\",color=c)\n",
    "ax.set(\n",
    "  xticks=C_values,\n",
    "  xlabel=\"$C$\",\n",
    "  ylabel=\"Cross-validated accuracy\",\n",
    ")\n",
    "plt.show()"
   ]
  },
  {
   "cell_type": "code",
   "execution_count": null,
   "metadata": {},
   "outputs": [],
   "source": []
  }
 ],
 "metadata": {
  "kernelspec": {
   "display_name": "Python 3",
   "language": "python",
   "name": "python3"
  },
  "language_info": {
   "codemirror_mode": {
    "name": "ipython",
    "version": 3
   },
   "file_extension": ".py",
   "mimetype": "text/x-python",
   "name": "python",
   "nbconvert_exporter": "python",
   "pygments_lexer": "ipython3",
   "version": "3.7.4"
  }
 },
 "nbformat": 4,
 "nbformat_minor": 4
}
