{
 "cells": [
  {
   "cell_type": "code",
   "execution_count": 3,
   "metadata": {
    "colab": {
     "base_uri": "https://localhost:8080/",
     "height": 35
    },
    "colab_type": "code",
    "executionInfo": {
     "elapsed": 1269,
     "status": "ok",
     "timestamp": 1595266937803,
     "user": {
      "displayName": "Max Hoheiser",
      "photoUrl": "https://lh3.googleusercontent.com/a-/AOh14GgcOj0xb1EjxBJ1OyxAUJAdknWQprdHmaELrwjcpo8=s64",
      "userId": "14108002061243669705"
     },
     "user_tz": -120
    },
    "id": "JA0mhl-7Lu_s",
    "outputId": "39b3cb5a-35dc-48e2-822b-89978d2df42a"
   },
   "outputs": [],
   "source": [
    "import numpy as np\n",
    "import matplotlib.pyplot as plt\n",
    "import os\n",
    "import pandas as pd\n",
    "import matplotlib.pyplot as plt\n",
    "\n",
    "%matplotlib inline"
   ]
  },
  {
   "cell_type": "code",
   "execution_count": null,
   "metadata": {},
   "outputs": [],
   "source": [
    "# only if you are on google coalb not if you are on jupyter notebook\n",
    "from google.colab import drive\n",
    "drive.mount('/content/gdrive')"
   ]
  },
  {
   "cell_type": "code",
   "execution_count": 4,
   "metadata": {},
   "outputs": [],
   "source": [
    "# only if you are on jupyter notebook not if on colab\n",
    "import qgrid"
   ]
  },
  {
   "cell_type": "code",
   "execution_count": 23,
   "metadata": {
    "colab": {
     "base_uri": "https://localhost:8080/",
     "height": 35
    },
    "colab_type": "code",
    "executionInfo": {
     "elapsed": 1487,
     "status": "ok",
     "timestamp": 1595266942323,
     "user": {
      "displayName": "Max Hoheiser",
      "photoUrl": "https://lh3.googleusercontent.com/a-/AOh14GgcOj0xb1EjxBJ1OyxAUJAdknWQprdHmaELrwjcpo8=s64",
      "userId": "14108002061243669705"
     },
     "user_tz": -120
    },
    "id": "Nw8xyyd5UaC5",
    "outputId": "ca4e4160-777a-42a6-f72b-2b61f97454e3"
   },
   "outputs": [
    {
     "name": "stdout",
     "output_type": "stream",
     "text": [
      "/content/gdrive/My Drive/3 Projekte/Neuromatch Summer School/Projekt\n"
     ]
    }
   ],
   "source": []
  },
  {
   "cell_type": "code",
   "execution_count": 4,
   "metadata": {
    "colab": {
     "base_uri": "https://localhost:8080/",
     "height": 53
    },
    "colab_type": "code",
    "executionInfo": {
     "elapsed": 3763,
     "status": "ok",
     "timestamp": 1595264859908,
     "user": {
      "displayName": "Max Hoheiser",
      "photoUrl": "https://lh3.googleusercontent.com/a-/AOh14GgcOj0xb1EjxBJ1OyxAUJAdknWQprdHmaELrwjcpo8=s64",
      "userId": "14108002061243669705"
     },
     "user_tz": -120
    },
    "id": "UXe_cHCfMUp9",
    "outputId": "7a92cfd5-4a52-4fa5-9582-717c1a6c4af4"
   },
   "outputs": [
    {
     "name": "stdout",
     "output_type": "stream",
     "text": [
      "\u001b[31mERROR: Could not find a version that satisfies the requirement oneibl (from versions: none)\u001b[0m\n",
      "\u001b[31mERROR: No matching distribution found for oneibl\u001b[0m\n"
     ]
    }
   ],
   "source": [
    "# install package\n",
    "!pip install oneibl"
   ]
  },
  {
   "cell_type": "markdown",
   "metadata": {
    "colab_type": "text",
    "id": "y5OA26EeL6Tn"
   },
   "source": [
    "## Load Data\n"
   ]
  },
  {
   "cell_type": "markdown",
   "metadata": {
    "colab_type": "text",
    "heading_collapsed": true,
    "id": "kCbC4PEqOHDn"
   },
   "source": [
    "### via oneibl by client"
   ]
  },
  {
   "cell_type": "code",
   "execution_count": 5,
   "metadata": {
    "colab": {
     "base_uri": "https://localhost:8080/",
     "height": 0
    },
    "colab_type": "code",
    "executionInfo": {
     "elapsed": 1140,
     "status": "error",
     "timestamp": 1595264995364,
     "user": {
      "displayName": "Max Hoheiser",
      "photoUrl": "https://lh3.googleusercontent.com/a-/AOh14GgcOj0xb1EjxBJ1OyxAUJAdknWQprdHmaELrwjcpo8=s64",
      "userId": "14108002061243669705"
     },
     "user_tz": -120
    },
    "hidden": true,
    "id": "HuGCEsr8LzE6",
    "outputId": "85ff83e6-5e0d-4e20-d02c-05e3bf833c0c"
   },
   "outputs": [
    {
     "ename": "ModuleNotFoundError",
     "evalue": "ignored",
     "output_type": "error",
     "traceback": [
      "\u001b[0;31m---------------------------------------------------------------------------\u001b[0m",
      "\u001b[0;31mModuleNotFoundError\u001b[0m                       Traceback (most recent call last)",
      "\u001b[0;32m<ipython-input-5-ea21961dabfb>\u001b[0m in \u001b[0;36m<module>\u001b[0;34m()\u001b[0m\n\u001b[1;32m      1\u001b[0m \u001b[0;34m\u001b[0m\u001b[0m\n\u001b[0;32m----> 2\u001b[0;31m \u001b[0;32mfrom\u001b[0m \u001b[0moneibl\u001b[0m\u001b[0;34m.\u001b[0m\u001b[0monelight\u001b[0m \u001b[0;32mimport\u001b[0m \u001b[0mONE\u001b[0m\u001b[0;34m\u001b[0m\u001b[0;34m\u001b[0m\u001b[0m\n\u001b[0m\u001b[1;32m      3\u001b[0m \u001b[0mone\u001b[0m \u001b[0;34m=\u001b[0m \u001b[0mONE\u001b[0m\u001b[0;34m(\u001b[0m\u001b[0;34m)\u001b[0m\u001b[0;34m\u001b[0m\u001b[0;34m\u001b[0m\u001b[0m\n\u001b[1;32m      4\u001b[0m \u001b[0mone\u001b[0m\u001b[0;34m.\u001b[0m\u001b[0mset_figshare_url\u001b[0m\u001b[0;34m(\u001b[0m\u001b[0;34m\"https://figshare.com/articles/steinmetz/9974357\"\u001b[0m\u001b[0;34m)\u001b[0m\u001b[0;34m\u001b[0m\u001b[0;34m\u001b[0m\u001b[0m\n",
      "\u001b[0;31mModuleNotFoundError\u001b[0m: No module named 'oneibl'",
      "",
      "\u001b[0;31m---------------------------------------------------------------------------\u001b[0;32m\nNOTE: If your import is failing due to a missing package, you can\nmanually install dependencies using either !pip or !apt.\n\nTo view examples of installing some common dependencies, click the\n\"Open Examples\" button below.\n\u001b[0;31m---------------------------------------------------------------------------\u001b[0m\n"
     ]
    }
   ],
   "source": [
    "\n",
    "from oneibl.onelight import ONE\n",
    "one = ONE()\n",
    "one.set_figshare_url(\"https://figshare.com/articles/steinmetz/9974357\")\n"
   ]
  },
  {
   "cell_type": "code",
   "execution_count": null,
   "metadata": {
    "colab": {},
    "colab_type": "code",
    "executionInfo": {
     "elapsed": 1495,
     "status": "aborted",
     "timestamp": 1595264736412,
     "user": {
      "displayName": "Max Hoheiser",
      "photoUrl": "https://lh3.googleusercontent.com/a-/AOh14GgcOj0xb1EjxBJ1OyxAUJAdknWQprdHmaELrwjcpo8=s64",
      "userId": "14108002061243669705"
     },
     "user_tz": -120
    },
    "hidden": true,
    "id": "dR1zceVWL_cc"
   },
   "outputs": [],
   "source": [
    "sessions = one.search(['spikes'])\n"
   ]
  },
  {
   "cell_type": "markdown",
   "metadata": {
    "colab_type": "text",
    "id": "eJEq3YPBOQgG"
   },
   "source": [
    "### via google drive directly"
   ]
  },
  {
   "cell_type": "code",
   "execution_count": 5,
   "metadata": {
    "colab": {},
    "colab_type": "code",
    "executionInfo": {
     "elapsed": 1008,
     "status": "ok",
     "timestamp": 1595269079932,
     "user": {
      "displayName": "Max Hoheiser",
      "photoUrl": "https://lh3.googleusercontent.com/a-/AOh14GgcOj0xb1EjxBJ1OyxAUJAdknWQprdHmaELrwjcpo8=s64",
      "userId": "14108002061243669705"
     },
     "user_tz": -120
    },
    "id": "_HA5zTtlOUs7"
   },
   "outputs": [],
   "source": [
    "def load_session(folder):\n",
    "  \"\"\"\n",
    "  load all files from given folder to dict\n",
    "  return dict with key as filenames\n",
    "  \"\"\"\n",
    "  from os import listdir\n",
    "  from os.path import isfile, join\n",
    "  files = [f for f in listdir(folder) if isfile(join(folder, f))]\n",
    "  names = ['_'.join(f.split('.')[:-1]) for f in files]\n",
    "  session = dict()\n",
    "  for (file_, name_) in zip(files, names):\n",
    "    if file_.split('.')[-1] == 'npy':\n",
    "      session[name_] = np.load(folder+'/'+file_)\n",
    "    if file_.split('.')[-1] == 'tsv':\n",
    "      session[name_] = pd.read_table(folder+'/'+file_)\n",
    "  return session\n",
    "\n",
    "# def load_session(folder, sessions):\n",
    "#   \"\"\"\n",
    "#   load all files in each given session and add to session dict\n",
    "#   returs a dict of sessions, with each session a dict of files\n",
    "#   \"\"\"\n",
    "#   sessions_data = dict()\n",
    "#   for session in sessions:\n",
    "#     current_session = dict()\n",
    "#     sessions[session] = "
   ]
  },
  {
   "cell_type": "code",
   "execution_count": 95,
   "metadata": {
    "colab": {},
    "colab_type": "code",
    "executionInfo": {
     "elapsed": 1951,
     "status": "ok",
     "timestamp": 1595269085237,
     "user": {
      "displayName": "Max Hoheiser",
      "photoUrl": "https://lh3.googleusercontent.com/a-/AOh14GgcOj0xb1EjxBJ1OyxAUJAdknWQprdHmaELrwjcpo8=s64",
      "userId": "14108002061243669705"
     },
     "user_tz": -120
    },
    "id": "YEoWrAK7R0iK"
   },
   "outputs": [],
   "source": [
    "# example google colab load session\n",
    "folder = \"/content/gdrive/My Drive/3 Projekte/Neuromatch Summer School/Projekt/steinmetz_dataset\"\n",
    "subfolders = [ f.path for f in os.scandir(folder) if f.is_dir() ]\n",
    "sessions = [folder.split('/')[-1] for folder in subfolders]\n",
    "\n",
    "# load first session\n",
    "session = load_session(subfolders[0])"
   ]
  },
  {
   "cell_type": "code",
   "execution_count": 8,
   "metadata": {},
   "outputs": [],
   "source": [
    "# example windows load session\n",
    "folder = \"C:/Users/User/Google Drive/3 Projekte/Neuromatch Summer School/Projekt/steinmetz_dataset\"\n",
    "subfolders = [ f.path for f in os.scandir(folder) if f.is_dir() ]\n",
    "sessions = [folder.split('/')[-1] for folder in subfolders]\n",
    "\n",
    "# load first session\n",
    "session = load_session(subfolders[0])"
   ]
  },
  {
   "cell_type": "code",
   "execution_count": 9,
   "metadata": {
    "colab": {
     "base_uri": "https://localhost:8080/",
     "height": 995
    },
    "colab_type": "code",
    "executionInfo": {
     "elapsed": 1018,
     "status": "ok",
     "timestamp": 1595269197591,
     "user": {
      "displayName": "Max Hoheiser",
      "photoUrl": "https://lh3.googleusercontent.com/a-/AOh14GgcOj0xb1EjxBJ1OyxAUJAdknWQprdHmaELrwjcpo8=s64",
      "userId": "14108002061243669705"
     },
     "user_tz": -120
    },
    "id": "N405jvVdarLc",
    "outputId": "26c24f45-564b-4d2e-f89e-83e6b6ce6eb6"
   },
   "outputs": [
    {
     "name": "stdout",
     "output_type": "stream",
     "text": [
      "channels_brainLocation\n",
      "channels_probe\n",
      "channels_rawRow\n",
      "channels_site\n",
      "channels_sitePositions\n",
      "clusters_depths\n",
      "clusters_originalIDs\n",
      "clusters_peakChannel\n",
      "clusters_probes\n",
      "clusters_templateWaveformChans\n",
      "clusters_templateWaveforms\n",
      "clusters_waveformDuration\n",
      "clusters__phy_annotation\n",
      "Cori_2016-12-14_M2_g0_t0_imec_lf_timestamps\n",
      "Cori_2016-12-14_V1_g0_t0_imec_lf_timestamps\n",
      "eye_area\n",
      "eye_timestamps\n",
      "eye_xyPos\n",
      "face_motionEnergy\n",
      "face_timestamps\n",
      "lickPiezo_raw\n",
      "lickPiezo_timestamps\n",
      "licks_times\n",
      "passiveBeeps_times\n",
      "passiveValveClick_times\n",
      "passiveVisual_contrastLeft\n",
      "passiveVisual_contrastRight\n",
      "passiveVisual_times\n",
      "passiveWhiteNoise_times\n",
      "probes_description\n",
      "probes_insertion\n",
      "probes_rawFilename\n",
      "probes_sitePositions\n",
      "sparseNoise_positions\n",
      "sparseNoise_times\n",
      "spikes_amps\n",
      "spikes_clusters\n",
      "spikes_depths\n",
      "spikes_times\n",
      "spontaneous_intervals\n",
      "trials_feedbackType\n",
      "trials_feedback_times\n",
      "trials_goCue_times\n",
      "trials_included\n",
      "trials_intervals\n",
      "trials_repNum\n",
      "trials_response_choice\n",
      "trials_response_times\n",
      "trials_visualStim_contrastLeft\n",
      "trials_visualStim_contrastRight\n",
      "trials_visualStim_times\n",
      "wheel_position\n",
      "wheel_timestamps\n",
      "wheelMoves_intervals\n",
      "wheelMoves_type\n"
     ]
    }
   ],
   "source": [
    "for key in session.keys():\n",
    "  print(key)"
   ]
  },
  {
   "cell_type": "markdown",
   "metadata": {},
   "source": [
    "### cleaning up spikes"
   ]
  },
  {
   "cell_type": "code",
   "execution_count": 26,
   "metadata": {},
   "outputs": [
    {
     "data": {
      "application/vnd.jupyter.widget-view+json": {
       "model_id": "8d9498c3501243a79f4256de87d44193",
       "version_major": 2,
       "version_minor": 0
      },
      "text/plain": [
       "QgridWidget(grid_options={'fullWidthRows': True, 'syncColumnCellResize': True, 'forceFitColumns': True, 'defau…"
      ]
     },
     "metadata": {},
     "output_type": "display_data"
    }
   ],
   "source": [
    "#spikes = pd.DataFrame()\n",
    "spikes_df = pd.DataFrame( { 'cluster':session['spikes_clusters'][:,0], 'spike_times': session['spikes_times'][:,0] }, ) \n",
    "qgrid.show_grid(spikes_df)"
   ]
  },
  {
   "cell_type": "code",
   "execution_count": 11,
   "metadata": {
    "colab": {
     "base_uri": "https://localhost:8080/",
     "height": 141
    },
    "colab_type": "code",
    "executionInfo": {
     "elapsed": 942,
     "status": "ok",
     "timestamp": 1595269247514,
     "user": {
      "displayName": "Max Hoheiser",
      "photoUrl": "https://lh3.googleusercontent.com/a-/AOh14GgcOj0xb1EjxBJ1OyxAUJAdknWQprdHmaELrwjcpo8=s64",
      "userId": "14108002061243669705"
     },
     "user_tz": -120
    },
    "id": "qVP2hfQSdFj_",
    "outputId": "6e2e250b-8bcd-44af-bf49-498d767e1ce4",
    "scrolled": true
   },
   "outputs": [
    {
     "data": {
      "application/vnd.jupyter.widget-view+json": {
       "model_id": "2c708196e77644c594f0af2146334a94",
       "version_major": 2,
       "version_minor": 0
      },
      "text/plain": [
       "QgridWidget(grid_options={'fullWidthRows': True, 'syncColumnCellResize': True, 'forceFitColumns': True, 'defau…"
      ]
     },
     "metadata": {},
     "output_type": "display_data"
    }
   ],
   "source": [
    "#clusters = spikes.spikes_df.groupby('cluster')\n",
    "spk = pd.DataFrame( {'spikes':np.zeros(test2.shape[0], dtype=object)}, index=test2.index )\n",
    "for group, frame in spikes.spikes_df.groupby('cluster'):\n",
    "    spk['spikes'][group] = frame['spike_times'].values\n",
    "spk"
   ]
  },
  {
   "cell_type": "code",
   "execution_count": 24,
   "metadata": {},
   "outputs": [],
   "source": [
    "spikes_df = pd.DataFrame( {'cluster':session['spikes_clusters'][:,0]})"
   ]
  }
 ],
 "metadata": {
  "colab": {
   "authorship_tag": "ABX9TyP3Rua9vwNc6w9+RtEjpB15",
   "name": "Project.ipynb",
   "provenance": []
  },
  "kernelspec": {
   "display_name": "Python 3",
   "language": "python",
   "name": "python3"
  },
  "language_info": {
   "codemirror_mode": {
    "name": "ipython",
    "version": 3
   },
   "file_extension": ".py",
   "mimetype": "text/x-python",
   "name": "python",
   "nbconvert_exporter": "python",
   "pygments_lexer": "ipython3",
   "version": "3.7.6"
  },
  "toc": {
   "base_numbering": 1,
   "nav_menu": {},
   "number_sections": true,
   "sideBar": true,
   "skip_h1_title": false,
   "title_cell": "Table of Contents",
   "title_sidebar": "Contents",
   "toc_cell": false,
   "toc_position": {},
   "toc_section_display": true,
   "toc_window_display": false
  },
  "varInspector": {
   "cols": {
    "lenName": 16,
    "lenType": 16,
    "lenVar": 40
   },
   "kernels_config": {
    "python": {
     "delete_cmd_postfix": "",
     "delete_cmd_prefix": "del ",
     "library": "var_list.py",
     "varRefreshCmd": "print(var_dic_list())"
    },
    "r": {
     "delete_cmd_postfix": ") ",
     "delete_cmd_prefix": "rm(",
     "library": "var_list.r",
     "varRefreshCmd": "cat(var_dic_list()) "
    }
   },
   "types_to_exclude": [
    "module",
    "function",
    "builtin_function_or_method",
    "instance",
    "_Feature"
   ],
   "window_display": false
  }
 },
 "nbformat": 4,
 "nbformat_minor": 1
}
