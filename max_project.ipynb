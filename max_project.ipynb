{
 "cells": [
  {
   "cell_type": "markdown",
   "metadata": {
    "toc": true
   },
   "source": [
    "<h1>Table of Contents<span class=\"tocSkip\"></span></h1>\n",
    "<div class=\"toc\"><ul class=\"toc-item\"><li><ul class=\"toc-item\"><li><ul class=\"toc-item\"><li><ul class=\"toc-item\"><li><span><a href=\"#libraries-and-widgets\" data-toc-modified-id=\"libraries-and-widgets-0.0.0.1\"><span class=\"toc-item-num\">0.0.0.1&nbsp;&nbsp;</span>libraries and widgets</a></span></li></ul></li></ul></li></ul></li><li><span><a href=\"#Neuromatch-Academy-Project---Steinmetz-Dataset---Mouse-Mind-Reading\" data-toc-modified-id=\"Neuromatch-Academy-Project---Steinmetz-Dataset---Mouse-Mind-Reading-1\"><span class=\"toc-item-num\">1&nbsp;&nbsp;</span>Neuromatch Academy Project - Steinmetz Dataset - Mouse Mind Reading</a></span><ul class=\"toc-item\"><li><ul class=\"toc-item\"><li><ul class=\"toc-item\"><li><span><a href=\"#explore-dictionary-for-session\" data-toc-modified-id=\"explore-dictionary-for-session-1.0.0.1\"><span class=\"toc-item-num\">1.0.0.1&nbsp;&nbsp;</span>explore dictionary for session</a></span></li></ul></li></ul></li><li><span><a href=\"#Load-Data\" data-toc-modified-id=\"Load-Data-1.1\"><span class=\"toc-item-num\">1.1&nbsp;&nbsp;</span>Load Data</a></span><ul class=\"toc-item\"><li><span><a href=\"#via-google-drive-directly\" data-toc-modified-id=\"via-google-drive-directly-1.1.1\"><span class=\"toc-item-num\">1.1.1&nbsp;&nbsp;</span>via google drive directly</a></span></li><li><span><a href=\"#cleanup-channel-infos\" data-toc-modified-id=\"cleanup-channel-infos-1.1.2\"><span class=\"toc-item-num\">1.1.2&nbsp;&nbsp;</span>cleanup channel infos</a></span></li><li><span><a href=\"#cleaning-up-spikes\" data-toc-modified-id=\"cleaning-up-spikes-1.1.3\"><span class=\"toc-item-num\">1.1.3&nbsp;&nbsp;</span>cleaning up spikes</a></span></li><li><span><a href=\"#cleanup-trial-info\" data-toc-modified-id=\"cleanup-trial-info-1.1.4\"><span class=\"toc-item-num\">1.1.4&nbsp;&nbsp;</span>cleanup trial info</a></span></li></ul></li></ul></li></ul></div>"
   ]
  },
  {
   "cell_type": "code",
   "execution_count": 1,
   "metadata": {
    "colab": {
     "base_uri": "https://localhost:8080/",
     "height": 35
    },
    "colab_type": "code",
    "executionInfo": {
     "elapsed": 1269,
     "status": "ok",
     "timestamp": 1595266937803,
     "user": {
      "displayName": "Max Hoheiser",
      "photoUrl": "https://lh3.googleusercontent.com/a-/AOh14GgcOj0xb1EjxBJ1OyxAUJAdknWQprdHmaELrwjcpo8=s64",
      "userId": "14108002061243669705"
     },
     "user_tz": -120
    },
    "id": "JA0mhl-7Lu_s",
    "outputId": "39b3cb5a-35dc-48e2-822b-89978d2df42a"
   },
   "outputs": [],
   "source": [
    "import numpy as np\n",
    "import matplotlib.pyplot as plt\n",
    "import os\n",
    "import pandas as pd\n",
    "import matplotlib.pyplot as plt\n",
    "import qgrid\n",
    "\n",
    "from nma_class import NMA_project\n",
    "\n",
    "%matplotlib inline"
   ]
  },
  {
   "cell_type": "markdown",
   "metadata": {
    "heading_collapsed": true
   },
   "source": [
    "#### libraries and widgets\n",
    "- qgrid\n",
    "- nbextentions"
   ]
  },
  {
   "cell_type": "code",
   "execution_count": 2,
   "metadata": {
    "hidden": true
   },
   "outputs": [],
   "source": [
    "# only if you are on jupyter notebook not if on colab\n",
    "import qgrid"
   ]
  },
  {
   "cell_type": "code",
   "execution_count": null,
   "metadata": {
    "hidden": true
   },
   "outputs": [],
   "source": [
    "# only if you are on google coalb not if you are on jupyter notebook\n",
    "from google.colab import drive\n",
    "drive.mount('/content/gdrive')"
   ]
  },
  {
   "cell_type": "markdown",
   "metadata": {},
   "source": [
    "# Neuromatch Academy Project - Steinmetz Dataset - Mouse Mind Reading"
   ]
  },
  {
   "cell_type": "code",
   "execution_count": 2,
   "metadata": {
    "colab": {
     "base_uri": "https://localhost:8080/",
     "height": 35
    },
    "colab_type": "code",
    "executionInfo": {
     "elapsed": 1487,
     "status": "ok",
     "timestamp": 1595266942323,
     "user": {
      "displayName": "Max Hoheiser",
      "photoUrl": "https://lh3.googleusercontent.com/a-/AOh14GgcOj0xb1EjxBJ1OyxAUJAdknWQprdHmaELrwjcpo8=s64",
      "userId": "14108002061243669705"
     },
     "user_tz": -120
    },
    "id": "Nw8xyyd5UaC5",
    "outputId": "ca4e4160-777a-42a6-f72b-2b61f97454e3"
   },
   "outputs": [
    {
     "ename": "AttributeError",
     "evalue": "'NMA_project' object has no attribute 'std_session'",
     "output_type": "error",
     "traceback": [
      "\u001b[1;31m---------------------------------------------------------------------------\u001b[0m",
      "\u001b[1;31mAttributeError\u001b[0m                            Traceback (most recent call last)",
      "\u001b[1;32m<ipython-input-2-6fb2a44329ed>\u001b[0m in \u001b[0;36m<module>\u001b[1;34m\u001b[0m\n\u001b[0;32m      9\u001b[0m \u001b[1;33m\u001b[0m\u001b[0m\n\u001b[0;32m     10\u001b[0m \u001b[1;31m# default session is initialized, extract interesting dataframes in dedicated variables\u001b[0m\u001b[1;33m\u001b[0m\u001b[1;33m\u001b[0m\u001b[1;33m\u001b[0m\u001b[0m\n\u001b[1;32m---> 11\u001b[1;33m \u001b[0msession\u001b[0m \u001b[1;33m=\u001b[0m \u001b[0mnma_obj\u001b[0m\u001b[1;33m.\u001b[0m\u001b[0mstd_session\u001b[0m\u001b[1;33m\u001b[0m\u001b[1;33m\u001b[0m\u001b[0m\n\u001b[0m\u001b[0;32m     12\u001b[0m \u001b[1;33m\u001b[0m\u001b[0m\n\u001b[0;32m     13\u001b[0m \u001b[1;31m#channels_df = session['channels_df']\u001b[0m\u001b[1;33m\u001b[0m\u001b[1;33m\u001b[0m\u001b[1;33m\u001b[0m\u001b[0m\n",
      "\u001b[1;31mAttributeError\u001b[0m: 'NMA_project' object has no attribute 'std_session'"
     ]
    }
   ],
   "source": [
    "# link to parent folder with all datasets\n",
    "#main_folder = \"/content/gdrive/My Drive/3 Projekte/Neuromatch Summer School/Projekt/steinmetz_dataset\"\n",
    "#main_folder = \"C:/Users/User/Google Drive/3 Projekte/Neuromatch Summer School/Projekt/steinmetz_dataset\"\n",
    "#main_folder = \"Z:/3 Projekte/Neuromatch Summer School/Projekt/steinmetz_dataset\"\n",
    "main_folder = \"E:/3 Projekte/Neuromatch Summer School/Projekt/steinmetz_dataset\"\n",
    "\n",
    "# create session object\n",
    "nma_obj = NMA_project(main_folder, init_default=False) \n",
    "\n",
    "# default session is initialized, extract interesting dataframes in dedicated variables\n",
    "session = nma_obj.std_session\n",
    "\n",
    "#channels_df = session['channels_df']\n",
    "spikes_df = session['spikes_df']\n",
    "clusters_df = session['clusters_df']\n",
    "trials_df = session['trials_df']\n",
    "spikes_ar = session['spikes_ar']"
   ]
  },
  {
   "cell_type": "code",
   "execution_count": 3,
   "metadata": {},
   "outputs": [],
   "source": [
    "session_2 = nma_obj.load_session(nma_obj.subfolders[0], update=True)"
   ]
  },
  {
   "cell_type": "code",
   "execution_count": 3,
   "metadata": {
    "scrolled": true
   },
   "outputs": [
    {
     "data": {
      "application/vnd.jupyter.widget-view+json": {
       "model_id": "f7ac402b15074311a6f3ccb966b48fb9",
       "version_major": 2,
       "version_minor": 0
      },
      "text/plain": [
       "QgridWidget(grid_options={'fullWidthRows': True, 'syncColumnCellResize': True, 'forceFitColumns': True, 'defau…"
      ]
     },
     "metadata": {},
     "output_type": "display_data"
    }
   ],
   "source": [
    "qgrid.show_grid(clusters_df)"
   ]
  },
  {
   "cell_type": "code",
   "execution_count": 6,
   "metadata": {},
   "outputs": [
    {
     "data": {
      "application/vnd.jupyter.widget-view+json": {
       "model_id": "40b73adf71b2422cb1e84296777268d8",
       "version_major": 2,
       "version_minor": 0
      },
      "text/plain": [
       "QgridWidget(grid_options={'fullWidthRows': True, 'syncColumnCellResize': True, 'forceFitColumns': True, 'defau…"
      ]
     },
     "metadata": {},
     "output_type": "display_data"
    }
   ],
   "source": [
    "qgrid.show_grid(trials_df)"
   ]
  },
  {
   "cell_type": "code",
   "execution_count": 11,
   "metadata": {},
   "outputs": [
    {
     "data": {
      "text/plain": [
       "array([[[0, 0, 0, ..., 0, 0, 0],\n",
       "        [0, 0, 0, ..., 0, 0, 0],\n",
       "        [0, 0, 0, ..., 0, 0, 0],\n",
       "        ...,\n",
       "        [0, 0, 0, ..., 0, 0, 0],\n",
       "        [0, 0, 0, ..., 0, 0, 0],\n",
       "        [0, 0, 0, ..., 0, 0, 0]],\n",
       "\n",
       "       [[0, 0, 0, ..., 0, 0, 0],\n",
       "        [0, 0, 0, ..., 0, 0, 0],\n",
       "        [0, 0, 0, ..., 0, 0, 0],\n",
       "        ...,\n",
       "        [0, 0, 0, ..., 0, 0, 0],\n",
       "        [0, 0, 0, ..., 0, 0, 0],\n",
       "        [0, 0, 0, ..., 0, 0, 0]],\n",
       "\n",
       "       [[0, 0, 0, ..., 0, 0, 0],\n",
       "        [0, 0, 0, ..., 0, 0, 0],\n",
       "        [0, 0, 0, ..., 0, 0, 0],\n",
       "        ...,\n",
       "        [0, 0, 0, ..., 0, 0, 0],\n",
       "        [0, 0, 0, ..., 0, 0, 0],\n",
       "        [0, 0, 0, ..., 0, 0, 0]],\n",
       "\n",
       "       ...,\n",
       "\n",
       "       [[0, 0, 0, ..., 0, 0, 0],\n",
       "        [0, 0, 0, ..., 0, 0, 0],\n",
       "        [0, 0, 0, ..., 0, 0, 0],\n",
       "        ...,\n",
       "        [0, 0, 0, ..., 0, 0, 0],\n",
       "        [0, 0, 0, ..., 0, 0, 0],\n",
       "        [0, 0, 0, ..., 0, 0, 0]],\n",
       "\n",
       "       [[0, 0, 0, ..., 0, 0, 0],\n",
       "        [0, 0, 0, ..., 0, 0, 0],\n",
       "        [0, 0, 0, ..., 0, 0, 0],\n",
       "        ...,\n",
       "        [0, 0, 0, ..., 0, 0, 0],\n",
       "        [0, 0, 0, ..., 0, 0, 0],\n",
       "        [0, 0, 0, ..., 0, 0, 0]],\n",
       "\n",
       "       [[0, 0, 0, ..., 0, 0, 0],\n",
       "        [0, 0, 0, ..., 0, 0, 0],\n",
       "        [0, 0, 0, ..., 0, 0, 0],\n",
       "        ...,\n",
       "        [0, 0, 0, ..., 0, 0, 0],\n",
       "        [0, 0, 0, ..., 0, 0, 0],\n",
       "        [0, 0, 0, ..., 0, 0, 0]]], dtype=int8)"
      ]
     },
     "execution_count": 11,
     "metadata": {},
     "output_type": "execute_result"
    }
   ],
   "source": [
    "spikes_ar"
   ]
  },
  {
   "cell_type": "code",
   "execution_count": 7,
   "metadata": {},
   "outputs": [],
   "source": [
    "import os, csv\n",
    "from os import path\n",
    "\n",
    "folder = nma_obj.subfolders[0]\n",
    "files = ['trials_df.csv', 'spikes_df.csv', 'cluster_df.csv', 'spikes_ar.npy']\n",
    "files_exist = [ path.exists( os.path.join(folder, fi) ) for fi in files]\n",
    "fast = True"
   ]
  },
  {
   "cell_type": "code",
   "execution_count": 15,
   "metadata": {},
   "outputs": [
    {
     "name": "stdout",
     "output_type": "stream",
     "text": [
      "False\n"
     ]
    },
    {
     "ename": "NameError",
     "evalue": "name 'numpy' is not defined",
     "output_type": "error",
     "traceback": [
      "\u001b[1;31m---------------------------------------------------------------------------\u001b[0m",
      "\u001b[1;31mNameError\u001b[0m                                 Traceback (most recent call last)",
      "\u001b[1;32m<ipython-input-15-3a3abbe96be6>\u001b[0m in \u001b[0;36m<module>\u001b[1;34m\u001b[0m\n\u001b[0;32m      6\u001b[0m     \u001b[0mspikes_df\u001b[0m\u001b[1;33m.\u001b[0m\u001b[0mto_pickle\u001b[0m\u001b[1;33m(\u001b[0m\u001b[0mos\u001b[0m\u001b[1;33m.\u001b[0m\u001b[0mpath\u001b[0m\u001b[1;33m.\u001b[0m\u001b[0mjoin\u001b[0m\u001b[1;33m(\u001b[0m\u001b[0mfolder\u001b[0m\u001b[1;33m,\u001b[0m \u001b[1;34m'spikes_df.df'\u001b[0m\u001b[1;33m)\u001b[0m\u001b[1;33m,\u001b[0m \u001b[0mcompression\u001b[0m\u001b[1;33m=\u001b[0m\u001b[1;34m'gzip'\u001b[0m \u001b[1;33m)\u001b[0m\u001b[1;33m\u001b[0m\u001b[1;33m\u001b[0m\u001b[0m\n\u001b[0;32m      7\u001b[0m     \u001b[0mclusters_df\u001b[0m\u001b[1;33m.\u001b[0m\u001b[0mto_pickle\u001b[0m\u001b[1;33m(\u001b[0m\u001b[0mos\u001b[0m\u001b[1;33m.\u001b[0m\u001b[0mpath\u001b[0m\u001b[1;33m.\u001b[0m\u001b[0mjoin\u001b[0m\u001b[1;33m(\u001b[0m\u001b[0mfolder\u001b[0m\u001b[1;33m,\u001b[0m \u001b[1;34m'clusters_df.df'\u001b[0m\u001b[1;33m)\u001b[0m\u001b[1;33m,\u001b[0m \u001b[0mcompression\u001b[0m\u001b[1;33m=\u001b[0m\u001b[1;34m'gzip'\u001b[0m \u001b[1;33m)\u001b[0m\u001b[1;33m\u001b[0m\u001b[1;33m\u001b[0m\u001b[0m\n\u001b[1;32m----> 8\u001b[1;33m     \u001b[0mnumpy\u001b[0m\u001b[1;33m.\u001b[0m\u001b[0msave\u001b[0m\u001b[1;33m(\u001b[0m \u001b[0mos\u001b[0m\u001b[1;33m.\u001b[0m\u001b[0mpath\u001b[0m\u001b[1;33m.\u001b[0m\u001b[0mjoin\u001b[0m\u001b[1;33m(\u001b[0m\u001b[0mfolder\u001b[0m\u001b[1;33m,\u001b[0m \u001b[1;34m'spikes_ar.npy'\u001b[0m\u001b[1;33m)\u001b[0m\u001b[1;33m,\u001b[0m \u001b[0mS\u001b[0m\u001b[1;33m[\u001b[0m\u001b[1;33m:\u001b[0m\u001b[1;33m,\u001b[0m \u001b[1;33m:\u001b[0m\u001b[0mntrials\u001b[0m\u001b[1;33m,\u001b[0m \u001b[1;33m:\u001b[0m\u001b[1;33m]\u001b[0m\u001b[1;33m,\u001b[0m \u001b[0mallow_pickle\u001b[0m\u001b[1;33m=\u001b[0m\u001b[1;32mTrue\u001b[0m \u001b[1;33m)\u001b[0m\u001b[1;33m\u001b[0m\u001b[1;33m\u001b[0m\u001b[0m\n\u001b[0m",
      "\u001b[1;31mNameError\u001b[0m: name 'numpy' is not defined"
     ]
    }
   ],
   "source": [
    "print(any(files_exist))\n",
    "\n",
    "if fast or any(files_exist):\n",
    "    #trials_df.to_csv(os.path.join(folder, 'trials_df.csv') )\n",
    "    trials_df.to_pickle(os.path.join(folder, 'trials_df.df'), compression='gzip' )    \n",
    "    spikes_df.to_pickle(os.path.join(folder, 'spikes_df.df'), compression='gzip' )\n",
    "    clusters_df.to_pickle(os.path.join(folder, 'clusters_df.df'), compression='gzip' )\n",
    "    np.save( os.path.join(folder, 'spikes_ar.npy'), S[:, :ntrials, :], allow_pickle=True )"
   ]
  },
  {
   "cell_type": "code",
   "execution_count": 20,
   "metadata": {},
   "outputs": [
    {
     "ename": "TypeError",
     "evalue": "_save_dispatcher() got an unexpected keyword argument 'compression'",
     "output_type": "error",
     "traceback": [
      "\u001b[1;31m---------------------------------------------------------------------------\u001b[0m",
      "\u001b[1;31mTypeError\u001b[0m                                 Traceback (most recent call last)",
      "\u001b[1;32m<ipython-input-20-27da1187ea16>\u001b[0m in \u001b[0;36m<module>\u001b[1;34m\u001b[0m\n\u001b[1;32m----> 1\u001b[1;33m \u001b[0mnp\u001b[0m\u001b[1;33m.\u001b[0m\u001b[0msave\u001b[0m\u001b[1;33m(\u001b[0m \u001b[0mos\u001b[0m\u001b[1;33m.\u001b[0m\u001b[0mpath\u001b[0m\u001b[1;33m.\u001b[0m\u001b[0mjoin\u001b[0m\u001b[1;33m(\u001b[0m\u001b[0mfolder\u001b[0m\u001b[1;33m,\u001b[0m \u001b[1;34m'spikes_ar.npy'\u001b[0m\u001b[1;33m)\u001b[0m\u001b[1;33m,\u001b[0m \u001b[0msession\u001b[0m\u001b[1;33m[\u001b[0m\u001b[1;34m'spk'\u001b[0m\u001b[1;33m]\u001b[0m\u001b[1;33m,\u001b[0m \u001b[0mallow_pickle\u001b[0m\u001b[1;33m=\u001b[0m\u001b[1;32mTrue\u001b[0m\u001b[1;33m,\u001b[0m \u001b[0mcompression\u001b[0m\u001b[1;33m=\u001b[0m\u001b[1;34m'gzip'\u001b[0m \u001b[1;33m)\u001b[0m\u001b[1;33m\u001b[0m\u001b[1;33m\u001b[0m\u001b[0m\n\u001b[0m",
      "\u001b[1;32m<__array_function__ internals>\u001b[0m in \u001b[0;36msave\u001b[1;34m(*args, **kwargs)\u001b[0m\n",
      "\u001b[1;31mTypeError\u001b[0m: _save_dispatcher() got an unexpected keyword argument 'compression'"
     ]
    }
   ],
   "source": [
    "np.save( os.path.join(folder, 'spikes_ar.npy'), session['spk'], allow_pickle=True, compression='gzip' )"
   ]
  },
  {
   "cell_type": "code",
   "execution_count": 18,
   "metadata": {},
   "outputs": [],
   "source": [
    "test = pd.read_pickle(os.path.join(folder, 'trials_df.df'), compression='gzip' )\n"
   ]
  },
  {
   "cell_type": "markdown",
   "metadata": {
    "cell_style": "split"
   },
   "source": [
    "#### explore dictionary for session\n",
    "- each ession is a dictionary\n",
    "- each element kontains eather a numpy array or a dataframe\n",
    "- the most important dataframes we are going to work with are:\n",
    "    - clusters_df: all the spikes and clusters\n",
    "    - trials_df: all the behaviour data for all trials"
   ]
  },
  {
   "cell_type": "code",
   "execution_count": 7,
   "metadata": {
    "cell_style": "split",
    "scrolled": false
   },
   "outputs": [
    {
     "name": "stdout",
     "output_type": "stream",
     "text": [
      "folder\n",
      "clusters\n",
      "brain_area\n",
      "spk\n",
      "wheel\n",
      "pupil\n",
      "response\n",
      "contrast_right\n",
      "contrast_left\n",
      "response_time\n",
      "feedback_time\n",
      "feedback_type\n",
      "gocue\n",
      "mouse_name\n",
      "date_exp\n",
      "trough_to_peak\n",
      "waveform_w\n",
      "waveform_u\n",
      "bin_size\n",
      "stim_onset\n",
      "spks_passive\n",
      "wheel_passive\n",
      "pupil_passive\n",
      "contrast_right_passive\n",
      "contrast_left_passive\n",
      "spikes_df\n",
      "clusters_df\n",
      "trials_df\n"
     ]
    }
   ],
   "source": [
    "for key, value in nma_obj.std_session.items():\n",
    "    print(key)"
   ]
  },
  {
   "cell_type": "code",
   "execution_count": 3,
   "metadata": {},
   "outputs": [
    {
     "data": {
      "application/vnd.jupyter.widget-view+json": {
       "model_id": "fbff554e920d4d7590a802d8e44182a0",
       "version_major": 2,
       "version_minor": 0
      },
      "text/plain": [
       "QgridWidget(grid_options={'fullWidthRows': True, 'syncColumnCellResize': True, 'forceFitColumns': True, 'defau…"
      ]
     },
     "metadata": {},
     "output_type": "display_data"
    }
   ],
   "source": [
    "qgrid.show_grid(nma_obj.std_session['spikes_df'])"
   ]
  },
  {
   "cell_type": "markdown",
   "metadata": {
    "colab_type": "text",
    "id": "y5OA26EeL6Tn"
   },
   "source": [
    "## Load Data\n"
   ]
  },
  {
   "cell_type": "markdown",
   "metadata": {
    "colab_type": "text",
    "heading_collapsed": true,
    "id": "eJEq3YPBOQgG"
   },
   "source": [
    "### via google drive directly"
   ]
  },
  {
   "cell_type": "code",
   "execution_count": 3,
   "metadata": {
    "colab": {},
    "colab_type": "code",
    "executionInfo": {
     "elapsed": 1008,
     "status": "ok",
     "timestamp": 1595269079932,
     "user": {
      "displayName": "Max Hoheiser",
      "photoUrl": "https://lh3.googleusercontent.com/a-/AOh14GgcOj0xb1EjxBJ1OyxAUJAdknWQprdHmaELrwjcpo8=s64",
      "userId": "14108002061243669705"
     },
     "user_tz": -120
    },
    "hidden": true,
    "id": "_HA5zTtlOUs7"
   },
   "outputs": [],
   "source": [
    "def load_session(folder):\n",
    "    \"\"\"\n",
    "    load all files from given folder to dict\n",
    "    return dict with key as filenames\n",
    "    \"\"\"\n",
    "    # load session files ===========================================\n",
    "    from os import listdir\n",
    "    from os.path import isfile, join\n",
    "    files = [f for f in listdir(folder) if isfile(join(folder, f))]\n",
    "    names = ['_'.join(f.split('.')[:-1]) for f in files]\n",
    "    session = dict()\n",
    "    for (file_, name_) in zip(files, names):\n",
    "        if file_.split('.')[-1] == 'npy':\n",
    "        session[name_] = np.load(folder+'/'+file_)\n",
    "        if file_.split('.')[-1] == 'tsv':\n",
    "        session[name_] = pd.read_table(folder+'/'+file_)\n",
    "\n",
    "    # pars session info two dataframe ===============================\n",
    "    # create spike_df tataframe, with each spike time and the cluster it belongs to\n",
    "    spikes_df = pd.DataFrame( { 'cluster':session['spikes_clusters'][:,0], 'spike_times': session['spikes_times'][:,0] }, ) \n",
    "\n",
    "    # create cluster dataframe information and spikes for each cluster\n",
    "    clusters = np.unique(session['spikes_clusters'])\n",
    "    # create number of spikes, phy2 manual cluster, \n",
    "    # parse phy annotation\n",
    "    clusters_df = pd.DataFrame({'lable':session['clusters__phy_annotation'][:,0], 'probe':session['clusters_probes'][:,0], 'peak channel':session['clusters_peakChannel'][:,0]}, index=clusters )\n",
    "    # pars labels in strings 1 = good 3 = mua\n",
    "    #clusters_df['lable'] = clusters_df['lable'].apply( lambda lable: 'good' if lable==3 else ('mua' if lable==1 else 'bad') )\n",
    "\n",
    "    # create spikes colum with spiketimes\n",
    "    spk = pd.DataFrame( {'spikes':np.zeros(len(clusters), dtype=object)}, index=clusters )\n",
    "    for group, frame in spikes_df.groupby('cluster'):\n",
    "        spk['spikes'][group] = frame['spike_times'].values\n",
    "\n",
    "    #merge spike column with clusters_df\n",
    "    clusters_df = pd.merge(clusters_df, spk, how='right', left_index=True, right_index=True)\n",
    "    # set index name\n",
    "    clusters_df.index.name='cluster'\n",
    "    # number of spikes per cluster\n",
    "    clusters_df['total spikes'] = clusters_df['spikes'].apply(lambda row: len(row) )\n",
    "\n",
    "# def load_session(folder, sessions):\n",
    "#   \"\"\"\n",
    "#   load all files in each given session and add to session dict\n",
    "#   returs a dict of sessions, with each session a dict of files\n",
    "#   \"\"\"\n",
    "#   sessions_data = dict()\n",
    "#   for session in sessions:\n",
    "#     current_session = dict()\n",
    "#     sessions[session] = "
   ]
  },
  {
   "cell_type": "code",
   "execution_count": 7,
   "metadata": {
    "colab": {},
    "colab_type": "code",
    "collapsed": true,
    "executionInfo": {
     "elapsed": 1951,
     "status": "ok",
     "timestamp": 1595269085237,
     "user": {
      "displayName": "Max Hoheiser",
      "photoUrl": "https://lh3.googleusercontent.com/a-/AOh14GgcOj0xb1EjxBJ1OyxAUJAdknWQprdHmaELrwjcpo8=s64",
      "userId": "14108002061243669705"
     },
     "user_tz": -120
    },
    "hidden": true,
    "id": "YEoWrAK7R0iK"
   },
   "outputs": [
    {
     "ename": "KeyboardInterrupt",
     "evalue": "",
     "output_type": "error",
     "traceback": [
      "\u001b[1;31m---------------------------------------------------------------------------\u001b[0m",
      "\u001b[1;31mKeyboardInterrupt\u001b[0m                         Traceback (most recent call last)",
      "\u001b[1;32m<ipython-input-7-422f87af1196>\u001b[0m in \u001b[0;36m<module>\u001b[1;34m\u001b[0m\n\u001b[0;32m      8\u001b[0m \u001b[1;33m\u001b[0m\u001b[0m\n\u001b[0;32m      9\u001b[0m \u001b[1;31m# load first session\u001b[0m\u001b[1;33m\u001b[0m\u001b[1;33m\u001b[0m\u001b[1;33m\u001b[0m\u001b[0m\n\u001b[1;32m---> 10\u001b[1;33m \u001b[0msession\u001b[0m \u001b[1;33m=\u001b[0m \u001b[0mload_session\u001b[0m\u001b[1;33m(\u001b[0m\u001b[0msubfolders\u001b[0m\u001b[1;33m[\u001b[0m\u001b[1;36m0\u001b[0m\u001b[1;33m]\u001b[0m\u001b[1;33m)\u001b[0m\u001b[1;33m\u001b[0m\u001b[1;33m\u001b[0m\u001b[0m\n\u001b[0m",
      "\u001b[1;32m<ipython-input-3-436436695961>\u001b[0m in \u001b[0;36mload_session\u001b[1;34m(folder)\u001b[0m\n\u001b[0;32m     11\u001b[0m   \u001b[1;32mfor\u001b[0m \u001b[1;33m(\u001b[0m\u001b[0mfile_\u001b[0m\u001b[1;33m,\u001b[0m \u001b[0mname_\u001b[0m\u001b[1;33m)\u001b[0m \u001b[1;32min\u001b[0m \u001b[0mzip\u001b[0m\u001b[1;33m(\u001b[0m\u001b[0mfiles\u001b[0m\u001b[1;33m,\u001b[0m \u001b[0mnames\u001b[0m\u001b[1;33m)\u001b[0m\u001b[1;33m:\u001b[0m\u001b[1;33m\u001b[0m\u001b[1;33m\u001b[0m\u001b[0m\n\u001b[0;32m     12\u001b[0m     \u001b[1;32mif\u001b[0m \u001b[0mfile_\u001b[0m\u001b[1;33m.\u001b[0m\u001b[0msplit\u001b[0m\u001b[1;33m(\u001b[0m\u001b[1;34m'.'\u001b[0m\u001b[1;33m)\u001b[0m\u001b[1;33m[\u001b[0m\u001b[1;33m-\u001b[0m\u001b[1;36m1\u001b[0m\u001b[1;33m]\u001b[0m \u001b[1;33m==\u001b[0m \u001b[1;34m'npy'\u001b[0m\u001b[1;33m:\u001b[0m\u001b[1;33m\u001b[0m\u001b[1;33m\u001b[0m\u001b[0m\n\u001b[1;32m---> 13\u001b[1;33m       \u001b[0msession\u001b[0m\u001b[1;33m[\u001b[0m\u001b[0mname_\u001b[0m\u001b[1;33m]\u001b[0m \u001b[1;33m=\u001b[0m \u001b[0mnp\u001b[0m\u001b[1;33m.\u001b[0m\u001b[0mload\u001b[0m\u001b[1;33m(\u001b[0m\u001b[0mfolder\u001b[0m\u001b[1;33m+\u001b[0m\u001b[1;34m'/'\u001b[0m\u001b[1;33m+\u001b[0m\u001b[0mfile_\u001b[0m\u001b[1;33m)\u001b[0m\u001b[1;33m\u001b[0m\u001b[1;33m\u001b[0m\u001b[0m\n\u001b[0m\u001b[0;32m     14\u001b[0m     \u001b[1;32mif\u001b[0m \u001b[0mfile_\u001b[0m\u001b[1;33m.\u001b[0m\u001b[0msplit\u001b[0m\u001b[1;33m(\u001b[0m\u001b[1;34m'.'\u001b[0m\u001b[1;33m)\u001b[0m\u001b[1;33m[\u001b[0m\u001b[1;33m-\u001b[0m\u001b[1;36m1\u001b[0m\u001b[1;33m]\u001b[0m \u001b[1;33m==\u001b[0m \u001b[1;34m'tsv'\u001b[0m\u001b[1;33m:\u001b[0m\u001b[1;33m\u001b[0m\u001b[1;33m\u001b[0m\u001b[0m\n\u001b[0;32m     15\u001b[0m       \u001b[0msession\u001b[0m\u001b[1;33m[\u001b[0m\u001b[0mname_\u001b[0m\u001b[1;33m]\u001b[0m \u001b[1;33m=\u001b[0m \u001b[0mpd\u001b[0m\u001b[1;33m.\u001b[0m\u001b[0mread_table\u001b[0m\u001b[1;33m(\u001b[0m\u001b[0mfolder\u001b[0m\u001b[1;33m+\u001b[0m\u001b[1;34m'/'\u001b[0m\u001b[1;33m+\u001b[0m\u001b[0mfile_\u001b[0m\u001b[1;33m)\u001b[0m\u001b[1;33m\u001b[0m\u001b[1;33m\u001b[0m\u001b[0m\n",
      "\u001b[1;32mC:\\ProgramData\\Anaconda3\\lib\\site-packages\\numpy\\lib\\npyio.py\u001b[0m in \u001b[0;36mload\u001b[1;34m(file, mmap_mode, allow_pickle, fix_imports, encoding)\u001b[0m\n\u001b[0;32m    426\u001b[0m         \u001b[0mown_fid\u001b[0m \u001b[1;33m=\u001b[0m \u001b[1;32mFalse\u001b[0m\u001b[1;33m\u001b[0m\u001b[1;33m\u001b[0m\u001b[0m\n\u001b[0;32m    427\u001b[0m     \u001b[1;32melse\u001b[0m\u001b[1;33m:\u001b[0m\u001b[1;33m\u001b[0m\u001b[1;33m\u001b[0m\u001b[0m\n\u001b[1;32m--> 428\u001b[1;33m         \u001b[0mfid\u001b[0m \u001b[1;33m=\u001b[0m \u001b[0mopen\u001b[0m\u001b[1;33m(\u001b[0m\u001b[0mos_fspath\u001b[0m\u001b[1;33m(\u001b[0m\u001b[0mfile\u001b[0m\u001b[1;33m)\u001b[0m\u001b[1;33m,\u001b[0m \u001b[1;34m\"rb\"\u001b[0m\u001b[1;33m)\u001b[0m\u001b[1;33m\u001b[0m\u001b[1;33m\u001b[0m\u001b[0m\n\u001b[0m\u001b[0;32m    429\u001b[0m         \u001b[0mown_fid\u001b[0m \u001b[1;33m=\u001b[0m \u001b[1;32mTrue\u001b[0m\u001b[1;33m\u001b[0m\u001b[1;33m\u001b[0m\u001b[0m\n\u001b[0;32m    430\u001b[0m \u001b[1;33m\u001b[0m\u001b[0m\n",
      "\u001b[1;31mKeyboardInterrupt\u001b[0m: "
     ]
    }
   ],
   "source": [
    "# example google colab load session\n",
    "#folder = \"/content/gdrive/My Drive/3 Projekte/Neuromatch Summer School/Projekt/steinmetz_dataset\"\n",
    "#folder = \"C:/Users/User/Google Drive/3 Projekte/Neuromatch Summer School/Projekt/steinmetz_dataset\"\n",
    "folder = \"Z:/3 Projekte/Neuromatch Summer School/Projekt/steinmetz_dataset\"\n",
    "\n",
    "subfolders = [ f.path for f in os.scandir(folder) if f.is_dir() ]\n",
    "sessions = [folder.split('/')[-1] for folder in subfolders]\n",
    "\n",
    "# load first session\n",
    "session = load_session(subfolders[0])"
   ]
  },
  {
   "cell_type": "code",
   "execution_count": 10,
   "metadata": {
    "hidden": true
   },
   "outputs": [],
   "source": [
    "folder = \"Z:/3 Projekte/Neuromatch Summer School/Projekt/steinmetz_dataset/Cori_2016-12-14\"\n",
    "session = load_session(folder)"
   ]
  },
  {
   "cell_type": "code",
   "execution_count": 11,
   "metadata": {
    "colab": {
     "base_uri": "https://localhost:8080/",
     "height": 995
    },
    "colab_type": "code",
    "executionInfo": {
     "elapsed": 1018,
     "status": "ok",
     "timestamp": 1595269197591,
     "user": {
      "displayName": "Max Hoheiser",
      "photoUrl": "https://lh3.googleusercontent.com/a-/AOh14GgcOj0xb1EjxBJ1OyxAUJAdknWQprdHmaELrwjcpo8=s64",
      "userId": "14108002061243669705"
     },
     "user_tz": -120
    },
    "hidden": true,
    "id": "N405jvVdarLc",
    "outputId": "26c24f45-564b-4d2e-f89e-83e6b6ce6eb6"
   },
   "outputs": [
    {
     "name": "stdout",
     "output_type": "stream",
     "text": [
      "Cori_2016-12-14_M2_g0_t0_imec_lf_timestamps\n",
      "Cori_2016-12-14_V1_g0_t0_imec_lf_timestamps\n",
      "channels_brainLocation\n",
      "channels_probe\n",
      "channels_rawRow\n",
      "channels_site\n",
      "channels_sitePositions\n",
      "clusters__phy_annotation\n",
      "clusters_depths\n",
      "clusters_originalIDs\n",
      "clusters_peakChannel\n",
      "clusters_probes\n",
      "clusters_templateWaveformChans\n",
      "clusters_templateWaveforms\n",
      "clusters_waveformDuration\n",
      "eye_area\n",
      "eye_timestamps\n",
      "eye_xyPos\n",
      "face_motionEnergy\n",
      "face_timestamps\n",
      "lickPiezo_raw\n",
      "lickPiezo_timestamps\n",
      "licks_times\n",
      "passiveBeeps_times\n",
      "passiveValveClick_times\n",
      "passiveVisual_contrastLeft\n",
      "passiveVisual_contrastRight\n",
      "passiveVisual_times\n",
      "passiveWhiteNoise_times\n",
      "probes_description\n",
      "probes_insertion\n",
      "probes_rawFilename\n",
      "probes_sitePositions\n",
      "sparseNoise_positions\n",
      "sparseNoise_times\n",
      "spikes_amps\n",
      "spikes_clusters\n",
      "spikes_depths\n",
      "spikes_times\n",
      "spontaneous_intervals\n",
      "trials_feedbackType\n",
      "trials_feedback_times\n",
      "trials_goCue_times\n",
      "trials_included\n",
      "trials_intervals\n",
      "trials_repNum\n",
      "trials_response_choice\n",
      "trials_response_times\n",
      "trials_visualStim_contrastLeft\n",
      "trials_visualStim_contrastRight\n",
      "trials_visualStim_times\n",
      "wheel_position\n",
      "wheel_timestamps\n",
      "wheelMoves_intervals\n",
      "wheelMoves_type\n"
     ]
    }
   ],
   "source": [
    "for key in session.keys():\n",
    "  print(key)"
   ]
  },
  {
   "cell_type": "markdown",
   "metadata": {
    "heading_collapsed": true
   },
   "source": [
    "### cleanup channel infos"
   ]
  },
  {
   "cell_type": "code",
   "execution_count": 76,
   "metadata": {
    "hidden": true
   },
   "outputs": [],
   "source": [
    "# load channel brain location infos\n",
    "brain = pd.DataFrame(session['channels_brainLocation'])\n",
    "# load channel probes\n",
    "site = pd.DataFrame(session['channels_sitePositions'], columns=['channel 0', 'channel 1'])\n",
    "# merge with channles_df\n",
    "channels_df = pd.merge(brain, site, how='inner', left_index=True, right_index=True)\n",
    "# load probe, row and site\n",
    "meta = pd.DataFrame({'probe':session['channels_probe'][:,0],\n",
    "                            'raw row':session['channels_rawRow'][:,0],\n",
    "                            'channels_site':session['channels_site'][:,0] })\n",
    "# merge metha with channel_df\n",
    "channels_df = pd.merge(channels_df, meta, how='inner', left_index=True, right_index=True)"
   ]
  },
  {
   "cell_type": "code",
   "execution_count": 77,
   "metadata": {
    "hidden": true,
    "scrolled": true
   },
   "outputs": [
    {
     "data": {
      "application/vnd.jupyter.widget-view+json": {
       "model_id": "",
       "version_major": 2,
       "version_minor": 0
      },
      "text/plain": [
       "QgridWidget(grid_options={'fullWidthRows': True, 'syncColumnCellResize': True, 'forceFitColumns': True, 'defau…"
      ]
     },
     "metadata": {},
     "output_type": "display_data"
    }
   ],
   "source": [
    "qgrid.show_grid(channels_df)"
   ]
  },
  {
   "cell_type": "markdown",
   "metadata": {
    "heading_collapsed": true
   },
   "source": [
    "### cleaning up spikes"
   ]
  },
  {
   "cell_type": "code",
   "execution_count": 12,
   "metadata": {
    "hidden": true,
    "scrolled": true
   },
   "outputs": [
    {
     "data": {
      "application/vnd.jupyter.widget-view+json": {
       "model_id": "568fe066822c483f88b355186d6111df",
       "version_major": 2,
       "version_minor": 0
      },
      "text/plain": [
       "QgridWidget(grid_options={'fullWidthRows': True, 'syncColumnCellResize': True, 'forceFitColumns': True, 'defau…"
      ]
     },
     "metadata": {},
     "output_type": "display_data"
    }
   ],
   "source": [
    "# create spike_df tataframe, with each spike time and the cluster it belongs to\n",
    "spikes_df = pd.DataFrame( { 'cluster':session['spikes_clusters'][:,0], 'spike_times': session['spikes_times'][:,0] }, ) \n",
    "qgrid.show_grid(spikes_df)"
   ]
  },
  {
   "cell_type": "code",
   "execution_count": 55,
   "metadata": {
    "colab": {
     "base_uri": "https://localhost:8080/",
     "height": 141
    },
    "colab_type": "code",
    "executionInfo": {
     "elapsed": 942,
     "status": "ok",
     "timestamp": 1595269247514,
     "user": {
      "displayName": "Max Hoheiser",
      "photoUrl": "https://lh3.googleusercontent.com/a-/AOh14GgcOj0xb1EjxBJ1OyxAUJAdknWQprdHmaELrwjcpo8=s64",
      "userId": "14108002061243669705"
     },
     "user_tz": -120
    },
    "hidden": true,
    "id": "qVP2hfQSdFj_",
    "outputId": "6e2e250b-8bcd-44af-bf49-498d767e1ce4",
    "scrolled": true
   },
   "outputs": [],
   "source": [
    "# create cluster dataframe information and spikes for each cluster\n",
    "clusters = np.unique(session['spikes_clusters'])\n",
    "# create number of spikes, phy2 manual cluster, \n",
    "# parse phy annotation\n",
    "clusters_df = pd.DataFrame({'lable':session['clusters__phy_annotation'][:,0], 'probe':session['clusters_probes'][:,0], 'peak channel':session['clusters_peakChannel'][:,0]}, index=clusters )\n",
    "# pars labels in strings 1 = good 3 = mua\n",
    "#clusters_df['lable'] = clusters_df['lable'].apply( lambda lable: 'good' if lable==3 else ('mua' if lable==1 else 'bad') )\n",
    "\n",
    "\n",
    "\n",
    "# create spikes colum with spiketimes\n",
    "spk = pd.DataFrame( {'spikes':np.zeros(len(clusters), dtype=object)}, index=clusters )\n",
    "for group, frame in spikes_df.groupby('cluster'):\n",
    "    spk['spikes'][group] = frame['spike_times'].values\n",
    "\n",
    "#merge spike column with clusters_df\n",
    "clusters_df = pd.merge(clusters_df, spk, how='right', left_index=True, right_index=True)\n",
    "# set index name\n",
    "clusters_df.index.name='cluster'\n",
    "# number of spikes per cluster\n",
    "clusters_df['total spikes'] = clusters_df['spikes'].apply(lambda row: len(row) )"
   ]
  },
  {
   "cell_type": "code",
   "execution_count": 56,
   "metadata": {
    "hidden": true
   },
   "outputs": [
    {
     "data": {
      "application/vnd.jupyter.widget-view+json": {
       "model_id": "7ee843503a4145a8bdb9b14382d614a5",
       "version_major": 2,
       "version_minor": 0
      },
      "text/plain": [
       "QgridWidget(grid_options={'fullWidthRows': True, 'syncColumnCellResize': True, 'forceFitColumns': True, 'defau…"
      ]
     },
     "metadata": {},
     "output_type": "display_data"
    }
   ],
   "source": [
    "qgrid.show_grid(clusters_df)"
   ]
  },
  {
   "cell_type": "markdown",
   "metadata": {
    "heading_collapsed": true
   },
   "source": [
    "### cleanup trial info"
   ]
  },
  {
   "cell_type": "code",
   "execution_count": 11,
   "metadata": {
    "hidden": true
   },
   "outputs": [
    {
     "name": "stdout",
     "output_type": "stream",
     "text": [
      "(214, 1)\n",
      "(214, 1)\n",
      "(214, 1)\n",
      "(214, 1)\n",
      "(214, 2)\n",
      "(214, 1)\n",
      "(214, 1)\n",
      "(214, 1)\n",
      "(214, 1)\n",
      "(214, 1)\n",
      "(214, 1)\n",
      "(214, 1)\n"
     ]
    }
   ],
   "source": [
    "print(session['trials_feedbackType'].shape)\n",
    "print(session['trials_feedback_times'].shape)\n",
    "print(session['trials_goCue_times'].shape)\n",
    "print(session['trials_included'].shape)\n",
    "print(session['trials_intervals'].shape)\n",
    "print(session['trials_repNum'].shape)\n",
    "print(session['trials_response_choice'].shape)\n",
    "print(session['trials_response_times'].shape)\n",
    "print(session['trials_visualStim_contrastLeft'].shape)\n",
    "print(session['trials_visualStim_contrastRight'].shape)\n",
    "print(session['trials_visualStim_times'].shape)"
   ]
  },
  {
   "cell_type": "code",
   "execution_count": 20,
   "metadata": {
    "hidden": true
   },
   "outputs": [],
   "source": [
    "# create trials dataframe\n",
    "trials_df = pd.DataFrame({'included':session['trials_included'][:,0],\n",
    "                          'repetition number':session['trials_repNum'][:,0],\n",
    "                          # times of events\n",
    "                          'go cue':session['trials_goCue_times'][:,0],\n",
    "                          'stim time':session['trials_visualStim_times'][:,0],\n",
    "                          'response time':session['trials_response_times'][:,0],\n",
    "                          'feedback time':session['trials_feedback_times'][:,0],\n",
    "                          \n",
    "                          #'intervals':session['trials_intervals'][:,0], # same as go cue\n",
    "                          \n",
    "                          \n",
    "                          'go cue':session['trials_intervals'][:,0],\n",
    "                          \n",
    "                          'stim contrast left':session['trials_visualStim_contrastLeft'][:,0],\n",
    "                          'stim contrast right':session['trials_visualStim_contrastRight'][:,0],\n",
    "                          \n",
    "                          'response choice':session['trials_response_choice'][:,0],\n",
    "                          'response time':session['trials_response_times'][:,0],\n",
    "                          'feedback type':session['trials_feedbackType'][:,0],\n",
    "                          \n",
    "                         })"
   ]
  },
  {
   "cell_type": "code",
   "execution_count": 21,
   "metadata": {
    "hidden": true
   },
   "outputs": [
    {
     "data": {
      "application/vnd.jupyter.widget-view+json": {
       "model_id": "3f28aedce26a4e739f11dc2f3959466d",
       "version_major": 2,
       "version_minor": 0
      },
      "text/plain": [
       "QgridWidget(grid_options={'fullWidthRows': True, 'syncColumnCellResize': True, 'forceFitColumns': True, 'defau…"
      ]
     },
     "metadata": {},
     "output_type": "display_data"
    }
   ],
   "source": [
    "qgrid.show_grid(trials_df)"
   ]
  },
  {
   "cell_type": "code",
   "execution_count": 25,
   "metadata": {
    "hidden": true
   },
   "outputs": [
    {
     "name": "stdout",
     "output_type": "stream",
     "text": [
      "(6570000, 1)\n",
      "(2, 2)\n",
      "(507, 2)\n",
      "(507, 1)\n"
     ]
    }
   ],
   "source": [
    "# add wheelmovement\n",
    "print(session['wheel_position'].shape)\n",
    "print(session['wheel_timestamps'].shape)\n",
    "print(session['wheelMoves_intervals'].shape)\n",
    "print(session['wheelMoves_type'].shape)"
   ]
  },
  {
   "cell_type": "code",
   "execution_count": 30,
   "metadata": {
    "hidden": true
   },
   "outputs": [],
   "source": [
    "wheel_df = pd.merge( pd.DataFrame(session['wheelMoves_intervals']), pd.DataFrame(session['wheelMoves_type']), how='left', left_index=True, right_index=True)"
   ]
  },
  {
   "cell_type": "code",
   "execution_count": 31,
   "metadata": {
    "hidden": true
   },
   "outputs": [
    {
     "data": {
      "application/vnd.jupyter.widget-view+json": {
       "model_id": "82f281d993614160ace14301658d24f6",
       "version_major": 2,
       "version_minor": 0
      },
      "text/plain": [
       "QgridWidget(grid_options={'fullWidthRows': True, 'syncColumnCellResize': True, 'forceFitColumns': True, 'defau…"
      ]
     },
     "metadata": {},
     "output_type": "display_data"
    }
   ],
   "source": [
    "qgrid.show_grid(pd.DataFrame(wheel_df))"
   ]
  }
 ],
 "metadata": {
  "colab": {
   "authorship_tag": "ABX9TyP3Rua9vwNc6w9+RtEjpB15",
   "name": "Project.ipynb",
   "provenance": []
  },
  "kernelspec": {
   "display_name": "Python 3",
   "language": "python",
   "name": "python3"
  },
  "toc": {
   "base_numbering": 1,
   "nav_menu": {},
   "number_sections": true,
   "sideBar": true,
   "skip_h1_title": false,
   "title_cell": "Table of Contents",
   "title_sidebar": "Contents",
   "toc_cell": true,
   "toc_position": {},
   "toc_section_display": true,
   "toc_window_display": false
  },
  "varInspector": {
   "cols": {
    "lenName": 16,
    "lenType": 16,
    "lenVar": 40
   },
   "kernels_config": {
    "python": {
     "delete_cmd_postfix": "",
     "delete_cmd_prefix": "del ",
     "library": "var_list.py",
     "varRefreshCmd": "print(var_dic_list())"
    },
    "r": {
     "delete_cmd_postfix": ") ",
     "delete_cmd_prefix": "rm(",
     "library": "var_list.r",
     "varRefreshCmd": "cat(var_dic_list()) "
    }
   },
   "types_to_exclude": [
    "module",
    "function",
    "builtin_function_or_method",
    "instance",
    "_Feature"
   ],
   "window_display": false
  }
 },
 "nbformat": 4,
 "nbformat_minor": 1
}
