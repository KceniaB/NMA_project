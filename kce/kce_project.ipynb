{
 "cells": [
  {
   "cell_type": "code",
   "execution_count": 56,
   "metadata": {},
   "outputs": [],
   "source": [
    "import numpy as np\n",
    "import matplotlib.pyplot as plt\n",
    "import os\n",
    "import pandas as pd\n",
    "import matplotlib.pyplot as plt\n",
    "import qgrid\n",
    "#from nma_class import loader\n",
    "from nma_class_Copy1 import loader\n",
    "\n",
    "%matplotlib inline"
   ]
  },
  {
   "cell_type": "code",
   "execution_count": 57,
   "metadata": {},
   "outputs": [],
   "source": [
    "# link to parent folder with all datasets\n",
    "#main_folder = \"/content/gdrive/My Drive/3 Projekte/Neuromatch Summer School/Projekt/steinmetz_dataset\"\n",
    "#main_folder = \"C:/Users/User/Google Drive/3 Projekte/Neuromatch Summer School/Projekt/steinmetz_dataset\"\n",
    "#main_folder = \"Z:/3 Projekte/Neuromatch Summer School/Projekt/steinmetz_dataset\"\n",
    "#main_folder = \"E:/3 Projekte/Neuromatch Summer School/Projekt/steinmetz_dataset\"\n",
    "main_folder = '/Volumes/GoogleDrive/My Drive/NMA_Dataset/Dataset_1'\n",
    "\n",
    "\n",
    "# initialize loader object\n",
    "loader = loader(main_folder)"
   ]
  },
  {
   "cell_type": "code",
   "execution_count": 10,
   "metadata": {},
   "outputs": [],
   "source": [
    "# get available sessions\n",
    "all_session_folders, all_session_names = loader.get_available_session()"
   ]
  },
  {
   "cell_type": "markdown",
   "metadata": {},
   "source": [
    "# Neuromatch Academy Project - Steinmetz Dataset - Mouse Mind Reading"
   ]
  },
  {
   "cell_type": "code",
   "execution_count": 113,
   "metadata": {},
   "outputs": [],
   "source": [
    "# load default session = \n",
    "session = loader.load_session(all_session_folders[0])\n",
    "#channels_df = session['channels_df']\n",
    "spikes_df = session['spikes_df']\n",
    "clusters_df = session['clusters_df']\n",
    "trials_df = session['trials_df']"
   ]
  },
  {
   "cell_type": "code",
   "execution_count": null,
   "metadata": {},
   "outputs": [],
   "source": []
  },
  {
   "cell_type": "code",
   "execution_count": 5,
   "metadata": {},
   "outputs": [],
   "source": [
    "## alternatively you can also initizalize the loader object with the default session = first folder in main folder:\n",
    "\n",
    "## initialize with default session\n",
    "#loader = loader(main_folder, init_default=True)\n",
    "#session = loader.default_session"
   ]
  },
  {
   "cell_type": "code",
   "execution_count": null,
   "metadata": {},
   "outputs": [],
   "source": []
  },
  {
   "cell_type": "code",
   "execution_count": 93,
   "metadata": {},
   "outputs": [],
   "source": [
    "from nma_class_Copy1 import loader\n",
    "#to load older sessions \n",
    "loader = loader(main_folder)\n",
    "all_session_folders, all_session_names = loader.get_available_session()\n",
    "# load default session \n",
    "# put here any integer instead of 0 or directly the folder of the session\n",
    "session_folder = all_session_folders[2]\n",
    "session_name =  all_session_names[2]\n",
    "session = loader.load_session(session_folder, fast=True)\n",
    "\n",
    "spikes_df = session['spikes_df']\n",
    "clusters_df = session['clusters_df']\n",
    "trials_df = session['trials_df']"
   ]
  },
  {
   "cell_type": "code",
   "execution_count": 94,
   "metadata": {},
   "outputs": [
    {
     "data": {
      "text/plain": [
       "'Cori_2016-12-18'"
      ]
     },
     "execution_count": 94,
     "metadata": {},
     "output_type": "execute_result"
    }
   ],
   "source": [
    "session_name"
   ]
  },
  {
   "cell_type": "markdown",
   "metadata": {},
   "source": [
    " "
   ]
  },
  {
   "cell_type": "markdown",
   "metadata": {},
   "source": [
    " "
   ]
  },
  {
   "cell_type": "markdown",
   "metadata": {},
   "source": [
    " "
   ]
  },
  {
   "cell_type": "markdown",
   "metadata": {},
   "source": [
    " "
   ]
  },
  {
   "cell_type": "markdown",
   "metadata": {},
   "source": [
    " "
   ]
  },
  {
   "cell_type": "markdown",
   "metadata": {},
   "source": [
    "# <font color='blue'>DFs: </font> \n",
    "\n",
    "<font color='green'>\n",
    "1. clusters_df\n",
    "\n",
    "2. spikes_df\n",
    "    * (wheel mov vars)\n",
    "\n",
    "    \n",
    "\n",
    "3. trials_df \n",
    "    * all correct\n",
    "    * only diff contrast\n",
    "    * contrast=0 \n",
    "    * print % \n",
    "    * plotting \n",
    "    \n",
    "    \n",
    "4. wheel_df\n",
    "    * plots about wheel mov\n",
    "    \n",
    "</font>\n",
    "    \n",
    "\n"
   ]
  },
  {
   "cell_type": "markdown",
   "metadata": {},
   "source": [
    "# <font color='orange'>ToDo: </font> \n",
    "\n",
    "<font color='red'>\n",
    " * history of rew or repeated stim appearance\n",
    "    \n",
    "</font>"
   ]
  },
  {
   "cell_type": "markdown",
   "metadata": {},
   "source": [
    "# <font color='red'>Spikes: </font> "
   ]
  },
  {
   "cell_type": "code",
   "execution_count": 59,
   "metadata": {},
   "outputs": [
    {
     "data": {
      "text/html": [
       "<div>\n",
       "<style scoped>\n",
       "    .dataframe tbody tr th:only-of-type {\n",
       "        vertical-align: middle;\n",
       "    }\n",
       "\n",
       "    .dataframe tbody tr th {\n",
       "        vertical-align: top;\n",
       "    }\n",
       "\n",
       "    .dataframe thead th {\n",
       "        text-align: right;\n",
       "    }\n",
       "</style>\n",
       "<table border=\"1\" class=\"dataframe\">\n",
       "  <thead>\n",
       "    <tr style=\"text-align: right;\">\n",
       "      <th></th>\n",
       "      <th>cluster</th>\n",
       "      <th>spike_times</th>\n",
       "    </tr>\n",
       "  </thead>\n",
       "  <tbody>\n",
       "    <tr>\n",
       "      <th>0</th>\n",
       "      <td>527</td>\n",
       "      <td>0.003367</td>\n",
       "    </tr>\n",
       "    <tr>\n",
       "      <th>1</th>\n",
       "      <td>487</td>\n",
       "      <td>0.004733</td>\n",
       "    </tr>\n",
       "    <tr>\n",
       "      <th>2</th>\n",
       "      <td>243</td>\n",
       "      <td>0.006767</td>\n",
       "    </tr>\n",
       "    <tr>\n",
       "      <th>3</th>\n",
       "      <td>510</td>\n",
       "      <td>0.006933</td>\n",
       "    </tr>\n",
       "    <tr>\n",
       "      <th>4</th>\n",
       "      <td>435</td>\n",
       "      <td>0.007433</td>\n",
       "    </tr>\n",
       "  </tbody>\n",
       "</table>\n",
       "</div>"
      ],
      "text/plain": [
       "   cluster  spike_times\n",
       "0      527     0.003367\n",
       "1      487     0.004733\n",
       "2      243     0.006767\n",
       "3      510     0.006933\n",
       "4      435     0.007433"
      ]
     },
     "execution_count": 59,
     "metadata": {},
     "output_type": "execute_result"
    }
   ],
   "source": [
    "spikes_df.head()"
   ]
  },
  {
   "cell_type": "code",
   "execution_count": 60,
   "metadata": {},
   "outputs": [
    {
     "data": {
      "text/html": [
       "<div>\n",
       "<style scoped>\n",
       "    .dataframe tbody tr th:only-of-type {\n",
       "        vertical-align: middle;\n",
       "    }\n",
       "\n",
       "    .dataframe tbody tr th {\n",
       "        vertical-align: top;\n",
       "    }\n",
       "\n",
       "    .dataframe thead th {\n",
       "        text-align: right;\n",
       "    }\n",
       "</style>\n",
       "<table border=\"1\" class=\"dataframe\">\n",
       "  <thead>\n",
       "    <tr style=\"text-align: right;\">\n",
       "      <th></th>\n",
       "      <th>cluster</th>\n",
       "      <th>spike_times</th>\n",
       "    </tr>\n",
       "  </thead>\n",
       "  <tbody>\n",
       "    <tr>\n",
       "      <th>3604</th>\n",
       "      <td>730</td>\n",
       "      <td>2.498018</td>\n",
       "    </tr>\n",
       "    <tr>\n",
       "      <th>3646</th>\n",
       "      <td>730</td>\n",
       "      <td>2.508318</td>\n",
       "    </tr>\n",
       "    <tr>\n",
       "      <th>3883</th>\n",
       "      <td>730</td>\n",
       "      <td>2.566518</td>\n",
       "    </tr>\n",
       "    <tr>\n",
       "      <th>4608</th>\n",
       "      <td>730</td>\n",
       "      <td>2.750619</td>\n",
       "    </tr>\n",
       "    <tr>\n",
       "      <th>4729</th>\n",
       "      <td>873</td>\n",
       "      <td>2.786953</td>\n",
       "    </tr>\n",
       "  </tbody>\n",
       "</table>\n",
       "</div>"
      ],
      "text/plain": [
       "      cluster  spike_times\n",
       "3604      730     2.498018\n",
       "3646      730     2.508318\n",
       "3883      730     2.566518\n",
       "4608      730     2.750619\n",
       "4729      873     2.786953"
      ]
     },
     "execution_count": 60,
     "metadata": {},
     "output_type": "execute_result"
    }
   ],
   "source": [
    "# Filter to visual areas, clusters = 220, 730, 867, 873, 884\n",
    "spikes_VISp_df = spikes_df.loc[(spikes_df['cluster']==220) | (spikes_df['cluster']==730) \n",
    "                               | (spikes_df['cluster']==867) | (spikes_df['cluster']==873)\n",
    "                               | (spikes_df['cluster']==884)]\n",
    "spikes_VISp_df.head()"
   ]
  },
  {
   "cell_type": "markdown",
   "metadata": {},
   "source": [
    "## <font color='blue'>Plot spike trains: </font> \n",
    "\n",
    "\n",
    "1) Plotting functions from Max: \n",
    "https://github.com/KceniaB/NMA_project/blob/master/README.md "
   ]
  },
  {
   "cell_type": "code",
   "execution_count": 61,
   "metadata": {},
   "outputs": [],
   "source": [
    "# 1) Plotting functions from Max: \n",
    "# https://github.com/KceniaB/NMA_project/blob/master/README.md \n",
    "from nma_class_Copy1 import eda\n",
    "\n",
    "data = [spikes_df, clusters_df, trials_df]\n",
    "params = dict()\n",
    "params['sampling_rate'] = 20000\n",
    "\n",
    "session_eda = eda(data, all_session_names[0], all_session_folders[0], params)"
   ]
  },
  {
   "cell_type": "code",
   "execution_count": 62,
   "metadata": {},
   "outputs": [
    {
     "data": {
      "image/png": "[encoded data removed]",
      "text/plain": [
       "<Figure size 432x288 with 1 Axes>"
      ]
     },
     "metadata": {
      "needs_background": "light"
     },
     "output_type": "display_data"
    },
    {
     "data": {
      "text/plain": [
       "'\\nThis means that Cluster 4 had the following spike times(xx) per trial(yy)\\n'"
      ]
     },
     "execution_count": 62,
     "metadata": {},
     "output_type": "execute_result"
    }
   ],
   "source": [
    "# 1) Plotting functions from Max: \n",
    "# https://github.com/KceniaB/NMA_project/blob/master/README.md \n",
    "cluster = 4\n",
    "spikes = clusters_df.loc[cluster, 'spikes']\n",
    "trials_select_df = trials_df.loc[trials_df['included']==True, ['start time','end time']]\n",
    "fig, ax = session_eda.plt_spike_train(cluster, spikes, trials_select_df)\n",
    "plt.show()\n",
    "\n",
    "'''\n",
    "This means that Cluster 4 had the following spike times(xx) per trial(yy)\n",
    "'''"
   ]
  },
  {
   "cell_type": "code",
   "execution_count": 17,
   "metadata": {},
   "outputs": [
    {
     "ename": "IndexError",
     "evalue": "single positional indexer is out-of-bounds",
     "output_type": "error",
     "traceback": [
      "\u001b[0;31m---------------------------------------------------------------------------\u001b[0m",
      "\u001b[0;31mIndexError\u001b[0m                                Traceback (most recent call last)",
      "\u001b[0;32m<ipython-input-17-71fe3cda1ff0>\u001b[0m in \u001b[0;36m<module>\u001b[0;34m\u001b[0m\n\u001b[1;32m      6\u001b[0m     \u001b[0mspikes\u001b[0m \u001b[0;34m=\u001b[0m \u001b[0mclusters_df\u001b[0m\u001b[0;34m.\u001b[0m\u001b[0mloc\u001b[0m\u001b[0;34m[\u001b[0m\u001b[0mcluster\u001b[0m\u001b[0;34m[\u001b[0m\u001b[0mi\u001b[0m\u001b[0;34m]\u001b[0m\u001b[0;34m,\u001b[0m \u001b[0;34m'spikes'\u001b[0m\u001b[0;34m]\u001b[0m\u001b[0;34m\u001b[0m\u001b[0;34m\u001b[0m\u001b[0m\n\u001b[1;32m      7\u001b[0m     \u001b[0mtrials_select_df\u001b[0m \u001b[0;34m=\u001b[0m \u001b[0mtrials_df\u001b[0m\u001b[0;34m.\u001b[0m\u001b[0mloc\u001b[0m\u001b[0;34m[\u001b[0m\u001b[0mtrials_df\u001b[0m\u001b[0;34m[\u001b[0m\u001b[0;34m'included'\u001b[0m\u001b[0;34m]\u001b[0m\u001b[0;34m==\u001b[0m\u001b[0;32mTrue\u001b[0m\u001b[0;34m,\u001b[0m \u001b[0;34m[\u001b[0m\u001b[0;34m'start time'\u001b[0m\u001b[0;34m,\u001b[0m\u001b[0;34m'end time'\u001b[0m\u001b[0;34m]\u001b[0m\u001b[0;34m]\u001b[0m\u001b[0;34m\u001b[0m\u001b[0;34m\u001b[0m\u001b[0m\n\u001b[0;32m----> 8\u001b[0;31m     \u001b[0mfig\u001b[0m\u001b[0;34m,\u001b[0m \u001b[0max\u001b[0m \u001b[0;34m=\u001b[0m \u001b[0msession_eda\u001b[0m\u001b[0;34m.\u001b[0m\u001b[0mplt_spike_train\u001b[0m\u001b[0;34m(\u001b[0m\u001b[0mcluster\u001b[0m\u001b[0;34m[\u001b[0m\u001b[0mi\u001b[0m\u001b[0;34m]\u001b[0m\u001b[0;34m,\u001b[0m \u001b[0mspikes\u001b[0m\u001b[0;34m,\u001b[0m \u001b[0mtrials_select_df\u001b[0m\u001b[0;34m)\u001b[0m\u001b[0;34m\u001b[0m\u001b[0;34m\u001b[0m\u001b[0m\n\u001b[0m\u001b[1;32m      9\u001b[0m \u001b[0mplt\u001b[0m\u001b[0;34m.\u001b[0m\u001b[0mshow\u001b[0m\u001b[0;34m(\u001b[0m\u001b[0;34m)\u001b[0m\u001b[0;34m\u001b[0m\u001b[0;34m\u001b[0m\u001b[0m\n",
      "\u001b[0;32m~/Documents/GitHub/NMA_project/kce/nma_class_Copy1.py\u001b[0m in \u001b[0;36mplt_spike_train\u001b[0;34m(self, cluster, spikes, trials_df, params)\u001b[0m\n\u001b[1;32m    104\u001b[0m         \u001b[0;31m# get spikes for each trial\u001b[0m\u001b[0;34m\u001b[0m\u001b[0;34m\u001b[0m\u001b[0;34m\u001b[0m\u001b[0m\n\u001b[1;32m    105\u001b[0m         \u001b[0;32mfor\u001b[0m \u001b[0mrow\u001b[0m \u001b[0;32min\u001b[0m \u001b[0mtrials_df\u001b[0m\u001b[0;34m.\u001b[0m\u001b[0mindex\u001b[0m\u001b[0;34m:\u001b[0m\u001b[0;34m\u001b[0m\u001b[0;34m\u001b[0m\u001b[0m\n\u001b[0;32m--> 106\u001b[0;31m             \u001b[0mstart\u001b[0m \u001b[0;34m=\u001b[0m \u001b[0mtrials_df\u001b[0m\u001b[0;34m.\u001b[0m\u001b[0miloc\u001b[0m\u001b[0;34m[\u001b[0m\u001b[0mrow\u001b[0m\u001b[0;34m,\u001b[0m \u001b[0;36m0\u001b[0m\u001b[0;34m]\u001b[0m\u001b[0;34m\u001b[0m\u001b[0;34m\u001b[0m\u001b[0m\n\u001b[0m\u001b[1;32m    107\u001b[0m             \u001b[0mstop\u001b[0m \u001b[0;34m=\u001b[0m \u001b[0mtrials_df\u001b[0m\u001b[0;34m.\u001b[0m\u001b[0miloc\u001b[0m\u001b[0;34m[\u001b[0m\u001b[0mrow\u001b[0m\u001b[0;34m,\u001b[0m \u001b[0;36m1\u001b[0m\u001b[0;34m]\u001b[0m\u001b[0;34m\u001b[0m\u001b[0;34m\u001b[0m\u001b[0m\n\u001b[1;32m    108\u001b[0m             \u001b[0mspk\u001b[0m \u001b[0;34m=\u001b[0m \u001b[0mself\u001b[0m\u001b[0;34m.\u001b[0m\u001b[0mget_spikes_for_trial\u001b[0m\u001b[0;34m(\u001b[0m\u001b[0mspikes\u001b[0m\u001b[0;34m,\u001b[0m \u001b[0mstart\u001b[0m\u001b[0;34m,\u001b[0m \u001b[0mstop\u001b[0m\u001b[0;34m)\u001b[0m\u001b[0;34m\u001b[0m\u001b[0;34m\u001b[0m\u001b[0m\n",
      "\u001b[0;32m/opt/anaconda3/lib/python3.7/site-packages/pandas/core/indexing.py\u001b[0m in \u001b[0;36m__getitem__\u001b[0;34m(self, key)\u001b[0m\n\u001b[1;32m   1759\u001b[0m                 \u001b[0;32mexcept\u001b[0m \u001b[0;34m(\u001b[0m\u001b[0mKeyError\u001b[0m\u001b[0;34m,\u001b[0m \u001b[0mIndexError\u001b[0m\u001b[0;34m,\u001b[0m \u001b[0mAttributeError\u001b[0m\u001b[0;34m)\u001b[0m\u001b[0;34m:\u001b[0m\u001b[0;34m\u001b[0m\u001b[0;34m\u001b[0m\u001b[0m\n\u001b[1;32m   1760\u001b[0m                     \u001b[0;32mpass\u001b[0m\u001b[0;34m\u001b[0m\u001b[0;34m\u001b[0m\u001b[0m\n\u001b[0;32m-> 1761\u001b[0;31m             \u001b[0;32mreturn\u001b[0m \u001b[0mself\u001b[0m\u001b[0;34m.\u001b[0m\u001b[0m_getitem_tuple\u001b[0m\u001b[0;34m(\u001b[0m\u001b[0mkey\u001b[0m\u001b[0;34m)\u001b[0m\u001b[0;34m\u001b[0m\u001b[0;34m\u001b[0m\u001b[0m\n\u001b[0m\u001b[1;32m   1762\u001b[0m         \u001b[0;32melse\u001b[0m\u001b[0;34m:\u001b[0m\u001b[0;34m\u001b[0m\u001b[0;34m\u001b[0m\u001b[0m\n\u001b[1;32m   1763\u001b[0m             \u001b[0;31m# we by definition only have the 0th axis\u001b[0m\u001b[0;34m\u001b[0m\u001b[0;34m\u001b[0m\u001b[0;34m\u001b[0m\u001b[0m\n",
      "\u001b[0;32m/opt/anaconda3/lib/python3.7/site-packages/pandas/core/indexing.py\u001b[0m in \u001b[0;36m_getitem_tuple\u001b[0;34m(self, tup)\u001b[0m\n\u001b[1;32m   2064\u001b[0m     \u001b[0;32mdef\u001b[0m \u001b[0m_getitem_tuple\u001b[0m\u001b[0;34m(\u001b[0m\u001b[0mself\u001b[0m\u001b[0;34m,\u001b[0m \u001b[0mtup\u001b[0m\u001b[0;34m:\u001b[0m \u001b[0mTuple\u001b[0m\u001b[0;34m)\u001b[0m\u001b[0;34m:\u001b[0m\u001b[0;34m\u001b[0m\u001b[0;34m\u001b[0m\u001b[0m\n\u001b[1;32m   2065\u001b[0m \u001b[0;34m\u001b[0m\u001b[0m\n\u001b[0;32m-> 2066\u001b[0;31m         \u001b[0mself\u001b[0m\u001b[0;34m.\u001b[0m\u001b[0m_has_valid_tuple\u001b[0m\u001b[0;34m(\u001b[0m\u001b[0mtup\u001b[0m\u001b[0;34m)\u001b[0m\u001b[0;34m\u001b[0m\u001b[0;34m\u001b[0m\u001b[0m\n\u001b[0m\u001b[1;32m   2067\u001b[0m         \u001b[0;32mtry\u001b[0m\u001b[0;34m:\u001b[0m\u001b[0;34m\u001b[0m\u001b[0;34m\u001b[0m\u001b[0m\n\u001b[1;32m   2068\u001b[0m             \u001b[0;32mreturn\u001b[0m \u001b[0mself\u001b[0m\u001b[0;34m.\u001b[0m\u001b[0m_getitem_lowerdim\u001b[0m\u001b[0;34m(\u001b[0m\u001b[0mtup\u001b[0m\u001b[0;34m)\u001b[0m\u001b[0;34m\u001b[0m\u001b[0;34m\u001b[0m\u001b[0m\n",
      "\u001b[0;32m/opt/anaconda3/lib/python3.7/site-packages/pandas/core/indexing.py\u001b[0m in \u001b[0;36m_has_valid_tuple\u001b[0;34m(self, key)\u001b[0m\n\u001b[1;32m    700\u001b[0m                 \u001b[0;32mraise\u001b[0m \u001b[0mIndexingError\u001b[0m\u001b[0;34m(\u001b[0m\u001b[0;34m\"Too many indexers\"\u001b[0m\u001b[0;34m)\u001b[0m\u001b[0;34m\u001b[0m\u001b[0;34m\u001b[0m\u001b[0m\n\u001b[1;32m    701\u001b[0m             \u001b[0;32mtry\u001b[0m\u001b[0;34m:\u001b[0m\u001b[0;34m\u001b[0m\u001b[0;34m\u001b[0m\u001b[0m\n\u001b[0;32m--> 702\u001b[0;31m                 \u001b[0mself\u001b[0m\u001b[0;34m.\u001b[0m\u001b[0m_validate_key\u001b[0m\u001b[0;34m(\u001b[0m\u001b[0mk\u001b[0m\u001b[0;34m,\u001b[0m \u001b[0mi\u001b[0m\u001b[0;34m)\u001b[0m\u001b[0;34m\u001b[0m\u001b[0;34m\u001b[0m\u001b[0m\n\u001b[0m\u001b[1;32m    703\u001b[0m             \u001b[0;32mexcept\u001b[0m \u001b[0mValueError\u001b[0m\u001b[0;34m:\u001b[0m\u001b[0;34m\u001b[0m\u001b[0;34m\u001b[0m\u001b[0m\n\u001b[1;32m    704\u001b[0m                 raise ValueError(\n",
      "\u001b[0;32m/opt/anaconda3/lib/python3.7/site-packages/pandas/core/indexing.py\u001b[0m in \u001b[0;36m_validate_key\u001b[0;34m(self, key, axis)\u001b[0m\n\u001b[1;32m   1991\u001b[0m             \u001b[0;32mreturn\u001b[0m\u001b[0;34m\u001b[0m\u001b[0;34m\u001b[0m\u001b[0m\n\u001b[1;32m   1992\u001b[0m         \u001b[0;32melif\u001b[0m \u001b[0mis_integer\u001b[0m\u001b[0;34m(\u001b[0m\u001b[0mkey\u001b[0m\u001b[0;34m)\u001b[0m\u001b[0;34m:\u001b[0m\u001b[0;34m\u001b[0m\u001b[0;34m\u001b[0m\u001b[0m\n\u001b[0;32m-> 1993\u001b[0;31m             \u001b[0mself\u001b[0m\u001b[0;34m.\u001b[0m\u001b[0m_validate_integer\u001b[0m\u001b[0;34m(\u001b[0m\u001b[0mkey\u001b[0m\u001b[0;34m,\u001b[0m \u001b[0maxis\u001b[0m\u001b[0;34m)\u001b[0m\u001b[0;34m\u001b[0m\u001b[0;34m\u001b[0m\u001b[0m\n\u001b[0m\u001b[1;32m   1994\u001b[0m         \u001b[0;32melif\u001b[0m \u001b[0misinstance\u001b[0m\u001b[0;34m(\u001b[0m\u001b[0mkey\u001b[0m\u001b[0;34m,\u001b[0m \u001b[0mtuple\u001b[0m\u001b[0;34m)\u001b[0m\u001b[0;34m:\u001b[0m\u001b[0;34m\u001b[0m\u001b[0;34m\u001b[0m\u001b[0m\n\u001b[1;32m   1995\u001b[0m             \u001b[0;31m# a tuple should already have been caught by this point\u001b[0m\u001b[0;34m\u001b[0m\u001b[0;34m\u001b[0m\u001b[0;34m\u001b[0m\u001b[0m\n",
      "\u001b[0;32m/opt/anaconda3/lib/python3.7/site-packages/pandas/core/indexing.py\u001b[0m in \u001b[0;36m_validate_integer\u001b[0;34m(self, key, axis)\u001b[0m\n\u001b[1;32m   2060\u001b[0m         \u001b[0mlen_axis\u001b[0m \u001b[0;34m=\u001b[0m \u001b[0mlen\u001b[0m\u001b[0;34m(\u001b[0m\u001b[0mself\u001b[0m\u001b[0;34m.\u001b[0m\u001b[0mobj\u001b[0m\u001b[0;34m.\u001b[0m\u001b[0m_get_axis\u001b[0m\u001b[0;34m(\u001b[0m\u001b[0maxis\u001b[0m\u001b[0;34m)\u001b[0m\u001b[0;34m)\u001b[0m\u001b[0;34m\u001b[0m\u001b[0;34m\u001b[0m\u001b[0m\n\u001b[1;32m   2061\u001b[0m         \u001b[0;32mif\u001b[0m \u001b[0mkey\u001b[0m \u001b[0;34m>=\u001b[0m \u001b[0mlen_axis\u001b[0m \u001b[0;32mor\u001b[0m \u001b[0mkey\u001b[0m \u001b[0;34m<\u001b[0m \u001b[0;34m-\u001b[0m\u001b[0mlen_axis\u001b[0m\u001b[0;34m:\u001b[0m\u001b[0;34m\u001b[0m\u001b[0;34m\u001b[0m\u001b[0m\n\u001b[0;32m-> 2062\u001b[0;31m             \u001b[0;32mraise\u001b[0m \u001b[0mIndexError\u001b[0m\u001b[0;34m(\u001b[0m\u001b[0;34m\"single positional indexer is out-of-bounds\"\u001b[0m\u001b[0;34m)\u001b[0m\u001b[0;34m\u001b[0m\u001b[0;34m\u001b[0m\u001b[0m\n\u001b[0m\u001b[1;32m   2063\u001b[0m \u001b[0;34m\u001b[0m\u001b[0m\n\u001b[1;32m   2064\u001b[0m     \u001b[0;32mdef\u001b[0m \u001b[0m_getitem_tuple\u001b[0m\u001b[0;34m(\u001b[0m\u001b[0mself\u001b[0m\u001b[0;34m,\u001b[0m \u001b[0mtup\u001b[0m\u001b[0;34m:\u001b[0m \u001b[0mTuple\u001b[0m\u001b[0;34m)\u001b[0m\u001b[0;34m:\u001b[0m\u001b[0;34m\u001b[0m\u001b[0;34m\u001b[0m\u001b[0m\n",
      "\u001b[0;31mIndexError\u001b[0m: single positional indexer is out-of-bounds"
     ]
    },
    {
     "data": {
      "image/png": "[encoded data removed]",
      "text/plain": [
       "<Figure size 432x288 with 1 Axes>"
      ]
     },
     "metadata": {
      "needs_background": "light"
     },
     "output_type": "display_data"
    }
   ],
   "source": [
    "# 1) Plot for many clusters\n",
    "\n",
    "cluster = [220, 730, 867, 873, 884]\n",
    "\n",
    "for i in range(len(cluster)): \n",
    "    spikes = clusters_df.loc[cluster[i], 'spikes']\n",
    "    trials_select_df = trials_df.loc[trials_df['included']==True, ['start time','end time']]\n",
    "    fig, ax = session_eda.plt_spike_train(cluster[i], spikes, trials_select_df)\n",
    "plt.show()"
   ]
  },
  {
   "cell_type": "markdown",
   "metadata": {},
   "source": [
    "## <font color='blue'>Plot spike trains around event with histogram: </font> \n",
    "\n",
    "\n",
    "2) Plotting functions from Max: \n",
    "https://github.com/KceniaB/NMA_project/blob/master/README.md "
   ]
  },
  {
   "cell_type": "code",
   "execution_count": 21,
   "metadata": {},
   "outputs": [
    {
     "data": {
      "image/png": "[encoded data removed]",
      "text/plain": [
       "<Figure size 432x360 with 3 Axes>"
      ]
     },
     "metadata": {
      "needs_background": "light"
     },
     "output_type": "display_data"
    }
   ],
   "source": [
    "# 2) Plotting functions from Max: \n",
    "# https://github.com/KceniaB/NMA_project/blob/master/README.md \n",
    "title = None\n",
    "cluster = 8\n",
    "event = 'stim time'\n",
    "window = 1\n",
    "trials_select_df =  session['trials_df'].loc[session['trials_df']['included']==True, 'stim time']\n",
    "spikes = clusters_df.loc[8, 'spikes']\n",
    "\n",
    "fig, (ax1, ax2, ax3) = session_eda.plt_spike_train_hist_bar(cluster, event, window, trials_select_df, spikes)"
   ]
  },
  {
   "cell_type": "code",
   "execution_count": 19,
   "metadata": {},
   "outputs": [
    {
     "data": {
      "image/png": "[encoded data removed]",
      "text/plain": [
       "<Figure size 432x360 with 3 Axes>"
      ]
     },
     "metadata": {
      "needs_background": "light"
     },
     "output_type": "display_data"
    },
    {
     "data": {
      "image/png": "[encoded data removed]",
      "text/plain": [
       "<Figure size 432x360 with 3 Axes>"
      ]
     },
     "metadata": {
      "needs_background": "light"
     },
     "output_type": "display_data"
    },
    {
     "data": {
      "image/png": "[encoded data removed]",
      "text/plain": [
       "<Figure size 432x360 with 3 Axes>"
      ]
     },
     "metadata": {
      "needs_background": "light"
     },
     "output_type": "display_data"
    },
    {
     "data": {
      "image/png": "[encoded data removed]",
      "text/plain": [
       "<Figure size 432x360 with 3 Axes>"
      ]
     },
     "metadata": {
      "needs_background": "light"
     },
     "output_type": "display_data"
    },
    {
     "data": {
      "image/png": "[encoded data removed]",
      "text/plain": [
       "<Figure size 432x360 with 3 Axes>"
      ]
     },
     "metadata": {
      "needs_background": "light"
     },
     "output_type": "display_data"
    }
   ],
   "source": [
    "# 2) Plotting functions from Max: \n",
    "# https://github.com/KceniaB/NMA_project/blob/master/README.md \n",
    "title = None\n",
    "cluster = [220, 730, 867, 873, 884]\n",
    "event = 'stim time' #select the event to be time = 0 and plot the spikes around it\n",
    "window = 1 #from -1 to 1 seconds if window = 1\n",
    "\n",
    "for i in range(len(cluster)): \n",
    "    trials_select_df =  session['trials_df'].loc[session['trials_df']['included']==True, 'stim time']\n",
    "    spikes = clusters_df.loc[cluster[i], 'spikes']\n",
    "    fig, (ax1, ax2, ax3) = session_eda.plt_spike_train_hist_bar(cluster, event, window, trials_select_df, spikes)\n",
    "plt.show()"
   ]
  },
  {
   "cell_type": "markdown",
   "metadata": {},
   "source": [
    "# <font color='red'>Clusters: </font> "
   ]
  },
  {
   "cell_type": "code",
   "execution_count": 63,
   "metadata": {
    "cell_style": "split",
    "scrolled": true
   },
   "outputs": [
    {
     "data": {
      "text/html": [
       "<div>\n",
       "<style scoped>\n",
       "    .dataframe tbody tr th:only-of-type {\n",
       "        vertical-align: middle;\n",
       "    }\n",
       "\n",
       "    .dataframe tbody tr th {\n",
       "        vertical-align: top;\n",
       "    }\n",
       "\n",
       "    .dataframe thead th {\n",
       "        text-align: right;\n",
       "    }\n",
       "</style>\n",
       "<table border=\"1\" class=\"dataframe\">\n",
       "  <thead>\n",
       "    <tr style=\"text-align: right;\">\n",
       "      <th></th>\n",
       "      <th>label</th>\n",
       "      <th>spikes</th>\n",
       "      <th>total spikes</th>\n",
       "      <th>recording area</th>\n",
       "    </tr>\n",
       "    <tr>\n",
       "      <th>cluster</th>\n",
       "      <th></th>\n",
       "      <th></th>\n",
       "      <th></th>\n",
       "      <th></th>\n",
       "    </tr>\n",
       "  </thead>\n",
       "  <tbody>\n",
       "    <tr>\n",
       "      <th>0</th>\n",
       "      <td>bad</td>\n",
       "      <td>[0.8149, 14.822466666666667, 24.9646, 25.1436,...</td>\n",
       "      <td>826</td>\n",
       "      <td>ACA</td>\n",
       "    </tr>\n",
       "    <tr>\n",
       "      <th>1</th>\n",
       "      <td>bad</td>\n",
       "      <td>[0.0281, 0.7068666666666666, 1.3172, 1.4209666...</td>\n",
       "      <td>2818</td>\n",
       "      <td>MOs</td>\n",
       "    </tr>\n",
       "    <tr>\n",
       "      <th>2</th>\n",
       "      <td>bad</td>\n",
       "      <td>[77.22096666666667, 87.62533333333333, 87.7326...</td>\n",
       "      <td>3953</td>\n",
       "      <td>ACA</td>\n",
       "    </tr>\n",
       "    <tr>\n",
       "      <th>3</th>\n",
       "      <td>bad</td>\n",
       "      <td>[16.713966666666668, 22.983266666666665, 89.84...</td>\n",
       "      <td>646</td>\n",
       "      <td>LS</td>\n",
       "    </tr>\n",
       "    <tr>\n",
       "      <th>4</th>\n",
       "      <td>mua</td>\n",
       "      <td>[0.8383666666666667, 1.4296666666666666, 5.238...</td>\n",
       "      <td>5124</td>\n",
       "      <td>LS</td>\n",
       "    </tr>\n",
       "  </tbody>\n",
       "</table>\n",
       "</div>"
      ],
      "text/plain": [
       "        label                                             spikes  \\\n",
       "cluster                                                            \n",
       "0         bad  [0.8149, 14.822466666666667, 24.9646, 25.1436,...   \n",
       "1         bad  [0.0281, 0.7068666666666666, 1.3172, 1.4209666...   \n",
       "2         bad  [77.22096666666667, 87.62533333333333, 87.7326...   \n",
       "3         bad  [16.713966666666668, 22.983266666666665, 89.84...   \n",
       "4         mua  [0.8383666666666667, 1.4296666666666666, 5.238...   \n",
       "\n",
       "         total spikes recording area  \n",
       "cluster                               \n",
       "0                 826            ACA  \n",
       "1                2818            MOs  \n",
       "2                3953            ACA  \n",
       "3                 646             LS  \n",
       "4                5124             LS  "
      ]
     },
     "execution_count": 63,
     "metadata": {},
     "output_type": "execute_result"
    }
   ],
   "source": [
    "clusters_df.head()"
   ]
  },
  {
   "cell_type": "code",
   "execution_count": 36,
   "metadata": {},
   "outputs": [
    {
     "data": {
      "text/html": [
       "<div>\n",
       "<style scoped>\n",
       "    .dataframe tbody tr th:only-of-type {\n",
       "        vertical-align: middle;\n",
       "    }\n",
       "\n",
       "    .dataframe tbody tr th {\n",
       "        vertical-align: top;\n",
       "    }\n",
       "\n",
       "    .dataframe thead th {\n",
       "        text-align: right;\n",
       "    }\n",
       "</style>\n",
       "<table border=\"1\" class=\"dataframe\">\n",
       "  <thead>\n",
       "    <tr style=\"text-align: right;\">\n",
       "      <th></th>\n",
       "      <th>label</th>\n",
       "      <th>spikes</th>\n",
       "      <th>total spikes</th>\n",
       "      <th>recording area</th>\n",
       "    </tr>\n",
       "    <tr>\n",
       "      <th>cluster</th>\n",
       "      <th></th>\n",
       "      <th></th>\n",
       "      <th></th>\n",
       "      <th></th>\n",
       "    </tr>\n",
       "  </thead>\n",
       "  <tbody>\n",
       "    <tr>\n",
       "      <th>2</th>\n",
       "      <td>mua</td>\n",
       "      <td>[1.6146666666666667, 6.5079666666666665, 7.872...</td>\n",
       "      <td>21676</td>\n",
       "      <td>MG</td>\n",
       "    </tr>\n",
       "    <tr>\n",
       "      <th>4</th>\n",
       "      <td>mua</td>\n",
       "      <td>[6.7199333333333335, 6.859366666666666, 8.5038...</td>\n",
       "      <td>23023</td>\n",
       "      <td>VISam</td>\n",
       "    </tr>\n",
       "    <tr>\n",
       "      <th>8</th>\n",
       "      <td>mua</td>\n",
       "      <td>[12.627733333333333, 43.1315, 54.4820666666666...</td>\n",
       "      <td>2042</td>\n",
       "      <td>VISam</td>\n",
       "    </tr>\n",
       "    <tr>\n",
       "      <th>9</th>\n",
       "      <td>mua</td>\n",
       "      <td>[0.22993333333333332, 0.2415, 1.17753333333333...</td>\n",
       "      <td>14014</td>\n",
       "      <td>CA1</td>\n",
       "    </tr>\n",
       "    <tr>\n",
       "      <th>10</th>\n",
       "      <td>mua</td>\n",
       "      <td>[0.03546666666666667, 0.2841, 0.65236666666666...</td>\n",
       "      <td>12188</td>\n",
       "      <td>MG</td>\n",
       "    </tr>\n",
       "    <tr>\n",
       "      <th>...</th>\n",
       "      <td>...</td>\n",
       "      <td>...</td>\n",
       "      <td>...</td>\n",
       "      <td>...</td>\n",
       "    </tr>\n",
       "    <tr>\n",
       "      <th>1030</th>\n",
       "      <td>good</td>\n",
       "      <td>[0.5702768366297541, 2.214717008096825, 4.9816...</td>\n",
       "      <td>141812</td>\n",
       "      <td>NB</td>\n",
       "    </tr>\n",
       "    <tr>\n",
       "      <th>1031</th>\n",
       "      <td>mua</td>\n",
       "      <td>[-1.732899407416163, -1.7239327034629341, -0.8...</td>\n",
       "      <td>11444</td>\n",
       "      <td>NB</td>\n",
       "    </tr>\n",
       "    <tr>\n",
       "      <th>1065</th>\n",
       "      <td>good</td>\n",
       "      <td>[248.38784067850537, 1216.4776996541455, 1216....</td>\n",
       "      <td>267</td>\n",
       "      <td>VISp</td>\n",
       "    </tr>\n",
       "    <tr>\n",
       "      <th>1068</th>\n",
       "      <td>good</td>\n",
       "      <td>[-1.7424994473363487, 0.05884137657625521, 1.2...</td>\n",
       "      <td>71389</td>\n",
       "      <td>VISp</td>\n",
       "    </tr>\n",
       "    <tr>\n",
       "      <th>1075</th>\n",
       "      <td>mua</td>\n",
       "      <td>[-2.1642678678575584, -2.156201167646847, -2.1...</td>\n",
       "      <td>43315</td>\n",
       "      <td>VISp</td>\n",
       "    </tr>\n",
       "  </tbody>\n",
       "</table>\n",
       "<p>534 rows × 4 columns</p>\n",
       "</div>"
      ],
      "text/plain": [
       "        label                                             spikes  \\\n",
       "cluster                                                            \n",
       "2         mua  [1.6146666666666667, 6.5079666666666665, 7.872...   \n",
       "4         mua  [6.7199333333333335, 6.859366666666666, 8.5038...   \n",
       "8         mua  [12.627733333333333, 43.1315, 54.4820666666666...   \n",
       "9         mua  [0.22993333333333332, 0.2415, 1.17753333333333...   \n",
       "10        mua  [0.03546666666666667, 0.2841, 0.65236666666666...   \n",
       "...       ...                                                ...   \n",
       "1030     good  [0.5702768366297541, 2.214717008096825, 4.9816...   \n",
       "1031      mua  [-1.732899407416163, -1.7239327034629341, -0.8...   \n",
       "1065     good  [248.38784067850537, 1216.4776996541455, 1216....   \n",
       "1068     good  [-1.7424994473363487, 0.05884137657625521, 1.2...   \n",
       "1075      mua  [-2.1642678678575584, -2.156201167646847, -2.1...   \n",
       "\n",
       "         total spikes recording area  \n",
       "cluster                               \n",
       "2               21676             MG  \n",
       "4               23023          VISam  \n",
       "8                2042          VISam  \n",
       "9               14014            CA1  \n",
       "10              12188             MG  \n",
       "...               ...            ...  \n",
       "1030           141812             NB  \n",
       "1031            11444             NB  \n",
       "1065              267           VISp  \n",
       "1068            71389           VISp  \n",
       "1075            43315           VISp  \n",
       "\n",
       "[534 rows x 4 columns]"
      ]
     },
     "execution_count": 36,
     "metadata": {},
     "output_type": "execute_result"
    }
   ],
   "source": [
    "clusters_df.drop(clusters_df[clusters_df['label']=='bad'].index, axis=0, inplace=True)\n",
    "clusters_df"
   ]
  },
  {
   "cell_type": "code",
   "execution_count": 48,
   "metadata": {},
   "outputs": [],
   "source": [
    "# Filter to visual area\n",
    "cluster_VISp_df = clusters_df.loc[(clusters_df['recording area']=='VISp')]\n",
    "# cluster_VISp_df = cluster_VISp_df.loc[(cluster_VISp_df['label']=='good')] #already did it above"
   ]
  },
  {
   "cell_type": "code",
   "execution_count": 49,
   "metadata": {},
   "outputs": [
    {
     "data": {
      "text/html": [
       "<div>\n",
       "<style scoped>\n",
       "    .dataframe tbody tr th:only-of-type {\n",
       "        vertical-align: middle;\n",
       "    }\n",
       "\n",
       "    .dataframe tbody tr th {\n",
       "        vertical-align: top;\n",
       "    }\n",
       "\n",
       "    .dataframe thead th {\n",
       "        text-align: right;\n",
       "    }\n",
       "</style>\n",
       "<table border=\"1\" class=\"dataframe\">\n",
       "  <thead>\n",
       "    <tr style=\"text-align: right;\">\n",
       "      <th></th>\n",
       "      <th>label</th>\n",
       "      <th>spikes</th>\n",
       "      <th>total spikes</th>\n",
       "      <th>recording area</th>\n",
       "    </tr>\n",
       "    <tr>\n",
       "      <th>cluster</th>\n",
       "      <th></th>\n",
       "      <th></th>\n",
       "      <th></th>\n",
       "      <th></th>\n",
       "    </tr>\n",
       "  </thead>\n",
       "  <tbody>\n",
       "    <tr>\n",
       "      <th>620</th>\n",
       "      <td>good</td>\n",
       "      <td>[-2.127667715661851, -1.1526969947399457, -0.5...</td>\n",
       "      <td>21552</td>\n",
       "      <td>VISp</td>\n",
       "    </tr>\n",
       "    <tr>\n",
       "      <th>780</th>\n",
       "      <td>good</td>\n",
       "      <td>[94.18929946925668, 94.20333286094557, 94.9929...</td>\n",
       "      <td>1609</td>\n",
       "      <td>VISp</td>\n",
       "    </tr>\n",
       "    <tr>\n",
       "      <th>1002</th>\n",
       "      <td>good</td>\n",
       "      <td>[-2.092067567624496, -2.0697008079493413, -2.0...</td>\n",
       "      <td>27676</td>\n",
       "      <td>VISp</td>\n",
       "    </tr>\n",
       "    <tr>\n",
       "      <th>1065</th>\n",
       "      <td>good</td>\n",
       "      <td>[248.38784067850537, 1216.4776996541455, 1216....</td>\n",
       "      <td>267</td>\n",
       "      <td>VISp</td>\n",
       "    </tr>\n",
       "    <tr>\n",
       "      <th>1068</th>\n",
       "      <td>good</td>\n",
       "      <td>[-1.7424994473363487, 0.05884137657625521, 1.2...</td>\n",
       "      <td>71389</td>\n",
       "      <td>VISp</td>\n",
       "    </tr>\n",
       "  </tbody>\n",
       "</table>\n",
       "</div>"
      ],
      "text/plain": [
       "        label                                             spikes  \\\n",
       "cluster                                                            \n",
       "620      good  [-2.127667715661851, -1.1526969947399457, -0.5...   \n",
       "780      good  [94.18929946925668, 94.20333286094557, 94.9929...   \n",
       "1002     good  [-2.092067567624496, -2.0697008079493413, -2.0...   \n",
       "1065     good  [248.38784067850537, 1216.4776996541455, 1216....   \n",
       "1068     good  [-1.7424994473363487, 0.05884137657625521, 1.2...   \n",
       "\n",
       "         total spikes recording area  \n",
       "cluster                               \n",
       "620             21552           VISp  \n",
       "780              1609           VISp  \n",
       "1002            27676           VISp  \n",
       "1065              267           VISp  \n",
       "1068            71389           VISp  "
      ]
     },
     "execution_count": 49,
     "metadata": {},
     "output_type": "execute_result"
    }
   ],
   "source": [
    "cluster_VISp_df"
   ]
  },
  {
   "cell_type": "code",
   "execution_count": 50,
   "metadata": {},
   "outputs": [
    {
     "data": {
      "text/html": [
       "<div>\n",
       "<style scoped>\n",
       "    .dataframe tbody tr th:only-of-type {\n",
       "        vertical-align: middle;\n",
       "    }\n",
       "\n",
       "    .dataframe tbody tr th {\n",
       "        vertical-align: top;\n",
       "    }\n",
       "\n",
       "    .dataframe thead th {\n",
       "        text-align: right;\n",
       "    }\n",
       "</style>\n",
       "<table border=\"1\" class=\"dataframe\">\n",
       "  <thead>\n",
       "    <tr style=\"text-align: right;\">\n",
       "      <th></th>\n",
       "      <th>label</th>\n",
       "      <th>spikes</th>\n",
       "      <th>total spikes</th>\n",
       "      <th>recording area</th>\n",
       "    </tr>\n",
       "    <tr>\n",
       "      <th>cluster</th>\n",
       "      <th></th>\n",
       "      <th></th>\n",
       "      <th></th>\n",
       "      <th></th>\n",
       "    </tr>\n",
       "  </thead>\n",
       "  <tbody>\n",
       "    <tr>\n",
       "      <th>620</th>\n",
       "      <td>good</td>\n",
       "      <td>[-2.127667715661851, -1.1526969947399457, -0.5...</td>\n",
       "      <td>21552</td>\n",
       "      <td>VISp</td>\n",
       "    </tr>\n",
       "    <tr>\n",
       "      <th>780</th>\n",
       "      <td>good</td>\n",
       "      <td>[94.18929946925668, 94.20333286094557, 94.9929...</td>\n",
       "      <td>1609</td>\n",
       "      <td>VISp</td>\n",
       "    </tr>\n",
       "    <tr>\n",
       "      <th>1002</th>\n",
       "      <td>good</td>\n",
       "      <td>[-2.092067567624496, -2.0697008079493413, -2.0...</td>\n",
       "      <td>27676</td>\n",
       "      <td>VISp</td>\n",
       "    </tr>\n",
       "    <tr>\n",
       "      <th>1065</th>\n",
       "      <td>good</td>\n",
       "      <td>[248.38784067850537, 1216.4776996541455, 1216....</td>\n",
       "      <td>267</td>\n",
       "      <td>VISp</td>\n",
       "    </tr>\n",
       "    <tr>\n",
       "      <th>1068</th>\n",
       "      <td>good</td>\n",
       "      <td>[-1.7424994473363487, 0.05884137657625521, 1.2...</td>\n",
       "      <td>71389</td>\n",
       "      <td>VISp</td>\n",
       "    </tr>\n",
       "  </tbody>\n",
       "</table>\n",
       "</div>"
      ],
      "text/plain": [
       "        label                                             spikes  \\\n",
       "cluster                                                            \n",
       "620      good  [-2.127667715661851, -1.1526969947399457, -0.5...   \n",
       "780      good  [94.18929946925668, 94.20333286094557, 94.9929...   \n",
       "1002     good  [-2.092067567624496, -2.0697008079493413, -2.0...   \n",
       "1065     good  [248.38784067850537, 1216.4776996541455, 1216....   \n",
       "1068     good  [-1.7424994473363487, 0.05884137657625521, 1.2...   \n",
       "\n",
       "         total spikes recording area  \n",
       "cluster                               \n",
       "620             21552           VISp  \n",
       "780              1609           VISp  \n",
       "1002            27676           VISp  \n",
       "1065              267           VISp  \n",
       "1068            71389           VISp  "
      ]
     },
     "execution_count": 50,
     "metadata": {},
     "output_type": "execute_result"
    }
   ],
   "source": [
    "cluster_VISp_df"
   ]
  },
  {
   "cell_type": "markdown",
   "metadata": {},
   "source": [
    "# <font color='red'>Trials: </font> "
   ]
  },
  {
   "cell_type": "code",
   "execution_count": 95,
   "metadata": {},
   "outputs": [
    {
     "data": {
      "text/html": [
       "<div>\n",
       "<style scoped>\n",
       "    .dataframe tbody tr th:only-of-type {\n",
       "        vertical-align: middle;\n",
       "    }\n",
       "\n",
       "    .dataframe tbody tr th {\n",
       "        vertical-align: top;\n",
       "    }\n",
       "\n",
       "    .dataframe thead th {\n",
       "        text-align: right;\n",
       "    }\n",
       "</style>\n",
       "<table border=\"1\" class=\"dataframe\">\n",
       "  <thead>\n",
       "    <tr style=\"text-align: right;\">\n",
       "      <th></th>\n",
       "      <th>included</th>\n",
       "      <th>repetition number</th>\n",
       "      <th>start time</th>\n",
       "      <th>stim time</th>\n",
       "      <th>response time</th>\n",
       "      <th>feedback time</th>\n",
       "      <th>end time</th>\n",
       "      <th>stim contrast left</th>\n",
       "      <th>stim contrast right</th>\n",
       "      <th>response choice</th>\n",
       "      <th>feedback type</th>\n",
       "      <th>wheel movement</th>\n",
       "    </tr>\n",
       "  </thead>\n",
       "  <tbody>\n",
       "    <tr>\n",
       "      <th>0</th>\n",
       "      <td>True</td>\n",
       "      <td>1</td>\n",
       "      <td>70.401829</td>\n",
       "      <td>79.803048</td>\n",
       "      <td>80.616765</td>\n",
       "      <td>80.650661</td>\n",
       "      <td>81.607062</td>\n",
       "      <td>0</td>\n",
       "      <td>0</td>\n",
       "      <td>1</td>\n",
       "      <td>1</td>\n",
       "      <td>[0.0, 0.0, 1.0, 0.0, 0.0, 0.0, 0.0, 0.0, 0.0, ...</td>\n",
       "    </tr>\n",
       "    <tr>\n",
       "      <th>1</th>\n",
       "      <td>True</td>\n",
       "      <td>1</td>\n",
       "      <td>82.604741</td>\n",
       "      <td>83.036699</td>\n",
       "      <td>83.753473</td>\n",
       "      <td>83.789511</td>\n",
       "      <td>84.758061</td>\n",
       "      <td>1</td>\n",
       "      <td>0</td>\n",
       "      <td>1</td>\n",
       "      <td>1</td>\n",
       "      <td>[0.0, 0.0, 0.0, 0.0, 0.0, 0.0, 0.0, 0.0, 0.0, ...</td>\n",
       "    </tr>\n",
       "    <tr>\n",
       "      <th>2</th>\n",
       "      <td>True</td>\n",
       "      <td>1</td>\n",
       "      <td>85.754980</td>\n",
       "      <td>93.968873</td>\n",
       "      <td>95.585840</td>\n",
       "      <td>95.621299</td>\n",
       "      <td>96.589698</td>\n",
       "      <td>0</td>\n",
       "      <td>1</td>\n",
       "      <td>-1</td>\n",
       "      <td>1</td>\n",
       "      <td>[0.0, 0.0, 0.0, 0.0, 0.0, 0.0, 0.0, 0.0, 0.0, ...</td>\n",
       "    </tr>\n",
       "    <tr>\n",
       "      <th>3</th>\n",
       "      <td>True</td>\n",
       "      <td>1</td>\n",
       "      <td>97.585567</td>\n",
       "      <td>100.818982</td>\n",
       "      <td>101.569299</td>\n",
       "      <td>101.605395</td>\n",
       "      <td>102.572946</td>\n",
       "      <td>0</td>\n",
       "      <td>0</td>\n",
       "      <td>-1</td>\n",
       "      <td>1</td>\n",
       "      <td>[0.0, 0.0, 0.0, 0.0, 0.0, 0.0, 0.0, 0.0, 0.0, ...</td>\n",
       "    </tr>\n",
       "    <tr>\n",
       "      <th>4</th>\n",
       "      <td>True</td>\n",
       "      <td>1</td>\n",
       "      <td>103.570288</td>\n",
       "      <td>105.451456</td>\n",
       "      <td>106.235691</td>\n",
       "      <td>106.270669</td>\n",
       "      <td>107.239237</td>\n",
       "      <td>0</td>\n",
       "      <td>1</td>\n",
       "      <td>-1</td>\n",
       "      <td>1</td>\n",
       "      <td>[0.0, 0.0, 0.0, 0.0, 0.0, 0.0, 1.0, 0.0, 0.0, ...</td>\n",
       "    </tr>\n",
       "  </tbody>\n",
       "</table>\n",
       "</div>"
      ],
      "text/plain": [
       "   included  repetition number  start time   stim time  response time  \\\n",
       "0      True                  1   70.401829   79.803048      80.616765   \n",
       "1      True                  1   82.604741   83.036699      83.753473   \n",
       "2      True                  1   85.754980   93.968873      95.585840   \n",
       "3      True                  1   97.585567  100.818982     101.569299   \n",
       "4      True                  1  103.570288  105.451456     106.235691   \n",
       "\n",
       "   feedback time    end time  stim contrast left  stim contrast right  \\\n",
       "0      80.650661   81.607062                   0                    0   \n",
       "1      83.789511   84.758061                   1                    0   \n",
       "2      95.621299   96.589698                   0                    1   \n",
       "3     101.605395  102.572946                   0                    0   \n",
       "4     106.270669  107.239237                   0                    1   \n",
       "\n",
       "   response choice  feedback type  \\\n",
       "0                1              1   \n",
       "1                1              1   \n",
       "2               -1              1   \n",
       "3               -1              1   \n",
       "4               -1              1   \n",
       "\n",
       "                                      wheel movement  \n",
       "0  [0.0, 0.0, 1.0, 0.0, 0.0, 0.0, 0.0, 0.0, 0.0, ...  \n",
       "1  [0.0, 0.0, 0.0, 0.0, 0.0, 0.0, 0.0, 0.0, 0.0, ...  \n",
       "2  [0.0, 0.0, 0.0, 0.0, 0.0, 0.0, 0.0, 0.0, 0.0, ...  \n",
       "3  [0.0, 0.0, 0.0, 0.0, 0.0, 0.0, 0.0, 0.0, 0.0, ...  \n",
       "4  [0.0, 0.0, 0.0, 0.0, 0.0, 0.0, 1.0, 0.0, 0.0, ...  "
      ]
     },
     "execution_count": 95,
     "metadata": {},
     "output_type": "execute_result"
    }
   ],
   "source": [
    " trials_df.head()"
   ]
  },
  {
   "cell_type": "code",
   "execution_count": 96,
   "metadata": {},
   "outputs": [
    {
     "data": {
      "text/plain": [
       "2.0"
      ]
     },
     "execution_count": 96,
     "metadata": {},
     "output_type": "execute_result"
    }
   ],
   "source": [
    "max(trials_df['wheel movement'][8])"
   ]
  },
  {
   "cell_type": "code",
   "execution_count": 97,
   "metadata": {},
   "outputs": [
    {
     "data": {
      "text/html": [
       "<div>\n",
       "<style scoped>\n",
       "    .dataframe tbody tr th:only-of-type {\n",
       "        vertical-align: middle;\n",
       "    }\n",
       "\n",
       "    .dataframe tbody tr th {\n",
       "        vertical-align: top;\n",
       "    }\n",
       "\n",
       "    .dataframe thead th {\n",
       "        text-align: right;\n",
       "    }\n",
       "</style>\n",
       "<table border=\"1\" class=\"dataframe\">\n",
       "  <thead>\n",
       "    <tr style=\"text-align: right;\">\n",
       "      <th></th>\n",
       "      <th>included</th>\n",
       "      <th>repetition number</th>\n",
       "      <th>start time</th>\n",
       "      <th>stim time</th>\n",
       "      <th>response time</th>\n",
       "      <th>feedback time</th>\n",
       "      <th>end time</th>\n",
       "      <th>stim contrast left</th>\n",
       "      <th>stim contrast right</th>\n",
       "      <th>response choice</th>\n",
       "      <th>feedback type</th>\n",
       "      <th>wheel movement</th>\n",
       "    </tr>\n",
       "  </thead>\n",
       "  <tbody>\n",
       "    <tr>\n",
       "      <th>0</th>\n",
       "      <td>True</td>\n",
       "      <td>1</td>\n",
       "      <td>70.401829</td>\n",
       "      <td>79.803048</td>\n",
       "      <td>80.616765</td>\n",
       "      <td>80.650661</td>\n",
       "      <td>81.607062</td>\n",
       "      <td>0</td>\n",
       "      <td>0</td>\n",
       "      <td>1</td>\n",
       "      <td>1</td>\n",
       "      <td>[0.0, 0.0, 1.0, 0.0, 0.0, 0.0, 0.0, 0.0, 0.0, ...</td>\n",
       "    </tr>\n",
       "    <tr>\n",
       "      <th>1</th>\n",
       "      <td>True</td>\n",
       "      <td>1</td>\n",
       "      <td>82.604741</td>\n",
       "      <td>83.036699</td>\n",
       "      <td>83.753473</td>\n",
       "      <td>83.789511</td>\n",
       "      <td>84.758061</td>\n",
       "      <td>1</td>\n",
       "      <td>0</td>\n",
       "      <td>1</td>\n",
       "      <td>1</td>\n",
       "      <td>[0.0, 0.0, 0.0, 0.0, 0.0, 0.0, 0.0, 0.0, 0.0, ...</td>\n",
       "    </tr>\n",
       "    <tr>\n",
       "      <th>2</th>\n",
       "      <td>True</td>\n",
       "      <td>1</td>\n",
       "      <td>85.754980</td>\n",
       "      <td>93.968873</td>\n",
       "      <td>95.585840</td>\n",
       "      <td>95.621299</td>\n",
       "      <td>96.589698</td>\n",
       "      <td>0</td>\n",
       "      <td>1</td>\n",
       "      <td>-1</td>\n",
       "      <td>1</td>\n",
       "      <td>[0.0, 0.0, 0.0, 0.0, 0.0, 0.0, 0.0, 0.0, 0.0, ...</td>\n",
       "    </tr>\n",
       "    <tr>\n",
       "      <th>3</th>\n",
       "      <td>True</td>\n",
       "      <td>1</td>\n",
       "      <td>97.585567</td>\n",
       "      <td>100.818982</td>\n",
       "      <td>101.569299</td>\n",
       "      <td>101.605395</td>\n",
       "      <td>102.572946</td>\n",
       "      <td>0</td>\n",
       "      <td>0</td>\n",
       "      <td>-1</td>\n",
       "      <td>1</td>\n",
       "      <td>[0.0, 0.0, 0.0, 0.0, 0.0, 0.0, 0.0, 0.0, 0.0, ...</td>\n",
       "    </tr>\n",
       "    <tr>\n",
       "      <th>4</th>\n",
       "      <td>True</td>\n",
       "      <td>1</td>\n",
       "      <td>103.570288</td>\n",
       "      <td>105.451456</td>\n",
       "      <td>106.235691</td>\n",
       "      <td>106.270669</td>\n",
       "      <td>107.239237</td>\n",
       "      <td>0</td>\n",
       "      <td>1</td>\n",
       "      <td>-1</td>\n",
       "      <td>1</td>\n",
       "      <td>[0.0, 0.0, 0.0, 0.0, 0.0, 0.0, 1.0, 0.0, 0.0, ...</td>\n",
       "    </tr>\n",
       "  </tbody>\n",
       "</table>\n",
       "</div>"
      ],
      "text/plain": [
       "   included  repetition number  start time   stim time  response time  \\\n",
       "0      True                  1   70.401829   79.803048      80.616765   \n",
       "1      True                  1   82.604741   83.036699      83.753473   \n",
       "2      True                  1   85.754980   93.968873      95.585840   \n",
       "3      True                  1   97.585567  100.818982     101.569299   \n",
       "4      True                  1  103.570288  105.451456     106.235691   \n",
       "\n",
       "   feedback time    end time  stim contrast left  stim contrast right  \\\n",
       "0      80.650661   81.607062                   0                    0   \n",
       "1      83.789511   84.758061                   1                    0   \n",
       "2      95.621299   96.589698                   0                    1   \n",
       "3     101.605395  102.572946                   0                    0   \n",
       "4     106.270669  107.239237                   0                    1   \n",
       "\n",
       "   response choice  feedback type  \\\n",
       "0                1              1   \n",
       "1                1              1   \n",
       "2               -1              1   \n",
       "3               -1              1   \n",
       "4               -1              1   \n",
       "\n",
       "                                      wheel movement  \n",
       "0  [0.0, 0.0, 1.0, 0.0, 0.0, 0.0, 0.0, 0.0, 0.0, ...  \n",
       "1  [0.0, 0.0, 0.0, 0.0, 0.0, 0.0, 0.0, 0.0, 0.0, ...  \n",
       "2  [0.0, 0.0, 0.0, 0.0, 0.0, 0.0, 0.0, 0.0, 0.0, ...  \n",
       "3  [0.0, 0.0, 0.0, 0.0, 0.0, 0.0, 0.0, 0.0, 0.0, ...  \n",
       "4  [0.0, 0.0, 0.0, 0.0, 0.0, 0.0, 1.0, 0.0, 0.0, ...  "
      ]
     },
     "execution_count": 97,
     "metadata": {},
     "output_type": "execute_result"
    }
   ],
   "source": [
    "# 1. All correct \n",
    "# create new variable with true where all the trials are correct = 1\n",
    "#all_correct = (trials_df['feedback type']==1)\n",
    "#print(all_correct.head())\n",
    "\n",
    "# https://stackoverflow.com/questions/17071871/how-to-select-rows-from-a-dataframe-based-on-column-values\n",
    "\n",
    "# Create data frame only with the correct\n",
    "correct_df = trials_df.loc[(trials_df['feedback type']==1)]\n",
    "correct_df.head()\n"
   ]
  },
  {
   "cell_type": "code",
   "execution_count": 98,
   "metadata": {},
   "outputs": [
    {
     "data": {
      "text/html": [
       "<div>\n",
       "<style scoped>\n",
       "    .dataframe tbody tr th:only-of-type {\n",
       "        vertical-align: middle;\n",
       "    }\n",
       "\n",
       "    .dataframe tbody tr th {\n",
       "        vertical-align: top;\n",
       "    }\n",
       "\n",
       "    .dataframe thead th {\n",
       "        text-align: right;\n",
       "    }\n",
       "</style>\n",
       "<table border=\"1\" class=\"dataframe\">\n",
       "  <thead>\n",
       "    <tr style=\"text-align: right;\">\n",
       "      <th></th>\n",
       "      <th>included</th>\n",
       "      <th>repetition number</th>\n",
       "      <th>start time</th>\n",
       "      <th>stim time</th>\n",
       "      <th>response time</th>\n",
       "      <th>feedback time</th>\n",
       "      <th>end time</th>\n",
       "      <th>stim contrast left</th>\n",
       "      <th>stim contrast right</th>\n",
       "      <th>response choice</th>\n",
       "      <th>feedback type</th>\n",
       "      <th>wheel movement</th>\n",
       "    </tr>\n",
       "  </thead>\n",
       "  <tbody>\n",
       "    <tr>\n",
       "      <th>1</th>\n",
       "      <td>True</td>\n",
       "      <td>1</td>\n",
       "      <td>82.604741</td>\n",
       "      <td>83.036699</td>\n",
       "      <td>83.753473</td>\n",
       "      <td>83.789511</td>\n",
       "      <td>84.758061</td>\n",
       "      <td>1</td>\n",
       "      <td>0</td>\n",
       "      <td>1</td>\n",
       "      <td>1</td>\n",
       "      <td>[0.0, 0.0, 0.0, 0.0, 0.0, 0.0, 0.0, 0.0, 0.0, ...</td>\n",
       "    </tr>\n",
       "    <tr>\n",
       "      <th>2</th>\n",
       "      <td>True</td>\n",
       "      <td>1</td>\n",
       "      <td>85.754980</td>\n",
       "      <td>93.968873</td>\n",
       "      <td>95.585840</td>\n",
       "      <td>95.621299</td>\n",
       "      <td>96.589698</td>\n",
       "      <td>0</td>\n",
       "      <td>1</td>\n",
       "      <td>-1</td>\n",
       "      <td>1</td>\n",
       "      <td>[0.0, 0.0, 0.0, 0.0, 0.0, 0.0, 0.0, 0.0, 0.0, ...</td>\n",
       "    </tr>\n",
       "    <tr>\n",
       "      <th>4</th>\n",
       "      <td>True</td>\n",
       "      <td>1</td>\n",
       "      <td>103.570288</td>\n",
       "      <td>105.451456</td>\n",
       "      <td>106.235691</td>\n",
       "      <td>106.270669</td>\n",
       "      <td>107.239237</td>\n",
       "      <td>0</td>\n",
       "      <td>1</td>\n",
       "      <td>-1</td>\n",
       "      <td>1</td>\n",
       "      <td>[0.0, 0.0, 0.0, 0.0, 0.0, 0.0, 1.0, 0.0, 0.0, ...</td>\n",
       "    </tr>\n",
       "    <tr>\n",
       "      <th>8</th>\n",
       "      <td>True</td>\n",
       "      <td>1</td>\n",
       "      <td>139.100593</td>\n",
       "      <td>139.583200</td>\n",
       "      <td>140.467238</td>\n",
       "      <td>140.503614</td>\n",
       "      <td>141.471826</td>\n",
       "      <td>0</td>\n",
       "      <td>1</td>\n",
       "      <td>-1</td>\n",
       "      <td>1</td>\n",
       "      <td>[0.0, 0.0, 0.0, 0.0, 0.0, 0.0, 0.0, 0.0, 0.0, ...</td>\n",
       "    </tr>\n",
       "    <tr>\n",
       "      <th>11</th>\n",
       "      <td>True</td>\n",
       "      <td>1</td>\n",
       "      <td>157.867205</td>\n",
       "      <td>159.248713</td>\n",
       "      <td>159.866064</td>\n",
       "      <td>159.901523</td>\n",
       "      <td>160.868776</td>\n",
       "      <td>0</td>\n",
       "      <td>1</td>\n",
       "      <td>-1</td>\n",
       "      <td>1</td>\n",
       "      <td>[0.0, 0.0, 0.0, 0.0, 0.0, 0.0, 0.0, 0.0, 0.0, ...</td>\n",
       "    </tr>\n",
       "  </tbody>\n",
       "</table>\n",
       "</div>"
      ],
      "text/plain": [
       "    included  repetition number  start time   stim time  response time  \\\n",
       "1       True                  1   82.604741   83.036699      83.753473   \n",
       "2       True                  1   85.754980   93.968873      95.585840   \n",
       "4       True                  1  103.570288  105.451456     106.235691   \n",
       "8       True                  1  139.100593  139.583200     140.467238   \n",
       "11      True                  1  157.867205  159.248713     159.866064   \n",
       "\n",
       "    feedback time    end time  stim contrast left  stim contrast right  \\\n",
       "1       83.789511   84.758061                   1                    0   \n",
       "2       95.621299   96.589698                   0                    1   \n",
       "4      106.270669  107.239237                   0                    1   \n",
       "8      140.503614  141.471826                   0                    1   \n",
       "11     159.901523  160.868776                   0                    1   \n",
       "\n",
       "    response choice  feedback type  \\\n",
       "1                 1              1   \n",
       "2                -1              1   \n",
       "4                -1              1   \n",
       "8                -1              1   \n",
       "11               -1              1   \n",
       "\n",
       "                                       wheel movement  \n",
       "1   [0.0, 0.0, 0.0, 0.0, 0.0, 0.0, 0.0, 0.0, 0.0, ...  \n",
       "2   [0.0, 0.0, 0.0, 0.0, 0.0, 0.0, 0.0, 0.0, 0.0, ...  \n",
       "4   [0.0, 0.0, 0.0, 0.0, 0.0, 0.0, 1.0, 0.0, 0.0, ...  \n",
       "8   [0.0, 0.0, 0.0, 0.0, 0.0, 0.0, 0.0, 0.0, 0.0, ...  \n",
       "11  [0.0, 0.0, 0.0, 0.0, 0.0, 0.0, 0.0, 0.0, 0.0, ...  "
      ]
     },
     "execution_count": 98,
     "metadata": {},
     "output_type": "execute_result"
    }
   ],
   "source": [
    "# 2. Create one df only for dif contrast trials and another for 0 and 0 \n",
    "\n",
    "#2.1 diff contract trials\n",
    "diff_contrasts_df = correct_df.loc[(correct_df['stim contrast left']!=(correct_df['stim contrast right']))]\n",
    "diff_contrasts_df.head()"
   ]
  },
  {
   "cell_type": "code",
   "execution_count": 99,
   "metadata": {},
   "outputs": [
    {
     "data": {
      "text/html": [
       "<div>\n",
       "<style scoped>\n",
       "    .dataframe tbody tr th:only-of-type {\n",
       "        vertical-align: middle;\n",
       "    }\n",
       "\n",
       "    .dataframe tbody tr th {\n",
       "        vertical-align: top;\n",
       "    }\n",
       "\n",
       "    .dataframe thead th {\n",
       "        text-align: right;\n",
       "    }\n",
       "</style>\n",
       "<table border=\"1\" class=\"dataframe\">\n",
       "  <thead>\n",
       "    <tr style=\"text-align: right;\">\n",
       "      <th></th>\n",
       "      <th>included</th>\n",
       "      <th>repetition number</th>\n",
       "      <th>start time</th>\n",
       "      <th>stim time</th>\n",
       "      <th>response time</th>\n",
       "      <th>feedback time</th>\n",
       "      <th>end time</th>\n",
       "      <th>stim contrast left</th>\n",
       "      <th>stim contrast right</th>\n",
       "      <th>response choice</th>\n",
       "      <th>feedback type</th>\n",
       "      <th>wheel movement</th>\n",
       "    </tr>\n",
       "  </thead>\n",
       "  <tbody>\n",
       "    <tr>\n",
       "      <th>0</th>\n",
       "      <td>True</td>\n",
       "      <td>1</td>\n",
       "      <td>70.401829</td>\n",
       "      <td>79.803048</td>\n",
       "      <td>80.616765</td>\n",
       "      <td>80.650661</td>\n",
       "      <td>81.607062</td>\n",
       "      <td>0</td>\n",
       "      <td>0</td>\n",
       "      <td>1</td>\n",
       "      <td>1</td>\n",
       "      <td>[0.0, 0.0, 1.0, 0.0, 0.0, 0.0, 0.0, 0.0, 0.0, ...</td>\n",
       "    </tr>\n",
       "    <tr>\n",
       "      <th>3</th>\n",
       "      <td>True</td>\n",
       "      <td>1</td>\n",
       "      <td>97.585567</td>\n",
       "      <td>100.818982</td>\n",
       "      <td>101.569299</td>\n",
       "      <td>101.605395</td>\n",
       "      <td>102.572946</td>\n",
       "      <td>0</td>\n",
       "      <td>0</td>\n",
       "      <td>-1</td>\n",
       "      <td>1</td>\n",
       "      <td>[0.0, 0.0, 0.0, 0.0, 0.0, 0.0, 0.0, 0.0, 0.0, ...</td>\n",
       "    </tr>\n",
       "    <tr>\n",
       "      <th>5</th>\n",
       "      <td>True</td>\n",
       "      <td>1</td>\n",
       "      <td>108.236482</td>\n",
       "      <td>108.634707</td>\n",
       "      <td>110.726554</td>\n",
       "      <td>110.757140</td>\n",
       "      <td>111.729384</td>\n",
       "      <td>0</td>\n",
       "      <td>0</td>\n",
       "      <td>0</td>\n",
       "      <td>1</td>\n",
       "      <td>[0.0, 0.0, 0.0, 0.0, 0.0, 0.0, 0.0, 0.0, 0.0, ...</td>\n",
       "    </tr>\n",
       "    <tr>\n",
       "      <th>6</th>\n",
       "      <td>True</td>\n",
       "      <td>1</td>\n",
       "      <td>112.725465</td>\n",
       "      <td>120.484095</td>\n",
       "      <td>122.334910</td>\n",
       "      <td>122.371725</td>\n",
       "      <td>123.338149</td>\n",
       "      <td>0</td>\n",
       "      <td>0</td>\n",
       "      <td>-1</td>\n",
       "      <td>1</td>\n",
       "      <td>[0.0, 0.0, 0.0, 0.0, 0.0, 0.0, 0.0, 0.0, 0.0, ...</td>\n",
       "    </tr>\n",
       "    <tr>\n",
       "      <th>7</th>\n",
       "      <td>True</td>\n",
       "      <td>1</td>\n",
       "      <td>124.335681</td>\n",
       "      <td>136.166745</td>\n",
       "      <td>137.100640</td>\n",
       "      <td>137.137160</td>\n",
       "      <td>138.104437</td>\n",
       "      <td>0</td>\n",
       "      <td>0</td>\n",
       "      <td>-1</td>\n",
       "      <td>1</td>\n",
       "      <td>[0.0, 0.0, 0.0, 0.0, 0.0, 0.0, 0.0, 0.0, 1.0, ...</td>\n",
       "    </tr>\n",
       "  </tbody>\n",
       "</table>\n",
       "</div>"
      ],
      "text/plain": [
       "   included  repetition number  start time   stim time  response time  \\\n",
       "0      True                  1   70.401829   79.803048      80.616765   \n",
       "3      True                  1   97.585567  100.818982     101.569299   \n",
       "5      True                  1  108.236482  108.634707     110.726554   \n",
       "6      True                  1  112.725465  120.484095     122.334910   \n",
       "7      True                  1  124.335681  136.166745     137.100640   \n",
       "\n",
       "   feedback time    end time  stim contrast left  stim contrast right  \\\n",
       "0      80.650661   81.607062                   0                    0   \n",
       "3     101.605395  102.572946                   0                    0   \n",
       "5     110.757140  111.729384                   0                    0   \n",
       "6     122.371725  123.338149                   0                    0   \n",
       "7     137.137160  138.104437                   0                    0   \n",
       "\n",
       "   response choice  feedback type  \\\n",
       "0                1              1   \n",
       "3               -1              1   \n",
       "5                0              1   \n",
       "6               -1              1   \n",
       "7               -1              1   \n",
       "\n",
       "                                      wheel movement  \n",
       "0  [0.0, 0.0, 1.0, 0.0, 0.0, 0.0, 0.0, 0.0, 0.0, ...  \n",
       "3  [0.0, 0.0, 0.0, 0.0, 0.0, 0.0, 0.0, 0.0, 0.0, ...  \n",
       "5  [0.0, 0.0, 0.0, 0.0, 0.0, 0.0, 0.0, 0.0, 0.0, ...  \n",
       "6  [0.0, 0.0, 0.0, 0.0, 0.0, 0.0, 0.0, 0.0, 0.0, ...  \n",
       "7  [0.0, 0.0, 0.0, 0.0, 0.0, 0.0, 0.0, 0.0, 1.0, ...  "
      ]
     },
     "execution_count": 99,
     "metadata": {},
     "output_type": "execute_result"
    }
   ],
   "source": [
    "# 2. Create one df only for dif contrast trials and another for 0 and 0 \n",
    "\n",
    "#2.2 same contrast 0\n",
    "no_contrasts_df = correct_df.loc[(correct_df['stim contrast left']==0) & (correct_df['stim contrast right']==0)]\n",
    "no_contrasts_df.head()"
   ]
  },
  {
   "cell_type": "code",
   "execution_count": 100,
   "metadata": {},
   "outputs": [
    {
     "name": "stdout",
     "output_type": "stream",
     "text": [
      "Correct trials:  151 / 228 -> 66.23 %\n",
      "Dif contrast trials:  55 / 151 -> 36.42 %\n",
      "0 Contrast trials:  93 / 151 -> 61.59 %\n"
     ]
    },
    {
     "data": {
      "text/html": [
       "<div>\n",
       "<style scoped>\n",
       "    .dataframe tbody tr th:only-of-type {\n",
       "        vertical-align: middle;\n",
       "    }\n",
       "\n",
       "    .dataframe tbody tr th {\n",
       "        vertical-align: top;\n",
       "    }\n",
       "\n",
       "    .dataframe thead th {\n",
       "        text-align: right;\n",
       "    }\n",
       "</style>\n",
       "<table border=\"1\" class=\"dataframe\">\n",
       "  <thead>\n",
       "    <tr style=\"text-align: right;\">\n",
       "      <th></th>\n",
       "      <th>session name</th>\n",
       "      <th>all trials</th>\n",
       "      <th>correct trials</th>\n",
       "      <th>diff contrast t</th>\n",
       "      <th>no contras</th>\n",
       "      <th>%Correct</th>\n",
       "      <th>%Contrast</th>\n",
       "      <th>% 0contrast</th>\n",
       "    </tr>\n",
       "  </thead>\n",
       "  <tbody>\n",
       "    <tr>\n",
       "      <th>0</th>\n",
       "      <td>Cori_2016-12-18</td>\n",
       "      <td>228</td>\n",
       "      <td>151</td>\n",
       "      <td>55</td>\n",
       "      <td>93</td>\n",
       "      <td>66.23</td>\n",
       "      <td>36.42</td>\n",
       "      <td>61.59</td>\n",
       "    </tr>\n",
       "  </tbody>\n",
       "</table>\n",
       "</div>"
      ],
      "text/plain": [
       "      session name  all trials  correct trials  diff contrast t  no contras  \\\n",
       "0  Cori_2016-12-18         228             151               55          93   \n",
       "\n",
       "   %Correct  %Contrast  % 0contrast  \n",
       "0     66.23      36.42        61.59  "
      ]
     },
     "execution_count": 100,
     "metadata": {},
     "output_type": "execute_result"
    }
   ],
   "source": [
    "all_t = len(trials_df)\n",
    "crrct = len(correct_df)\n",
    "cont = len(diff_contrasts_df)\n",
    "nocont = len(no_contrasts_df)\n",
    "\n",
    "df1 = ''\n",
    "df1 = {'session name': [session_name],\n",
    "      'all trials': [all_t], \n",
    "      'correct trials': [crrct], \n",
    "      'diff contrast t': [cont], \n",
    "      'no contras': [nocont], \n",
    "      '%Correct': [round(crrct/all_t*100,2)], '%Contrast':[round(cont/crrct*100,2)], '% 0contrast':[round(nocont/crrct*100,2)]}\n",
    "\n",
    "df2 = pd.DataFrame(data=df1)\n",
    "\n",
    "\n",
    "print('Correct trials: ', crrct,'/',all_t, '->', round(crrct/all_t*100,2), '%')\n",
    "print('Dif contrast trials: ', cont,'/',crrct, '->', round(cont/crrct*100,2), '%')\n",
    "print('0 Contrast trials: ', nocont,'/',crrct, '->', round(nocont/crrct*100,2), '%')\n",
    "df2"
   ]
  },
  {
   "cell_type": "code",
   "execution_count": 101,
   "metadata": {},
   "outputs": [],
   "source": [
    "#add the different values per session \n",
    "# to initialize\n",
    "#df3 = df2\n",
    "#df4 = df2"
   ]
  },
  {
   "cell_type": "code",
   "execution_count": 102,
   "metadata": {},
   "outputs": [
    {
     "data": {
      "text/html": [
       "<div>\n",
       "<style scoped>\n",
       "    .dataframe tbody tr th:only-of-type {\n",
       "        vertical-align: middle;\n",
       "    }\n",
       "\n",
       "    .dataframe tbody tr th {\n",
       "        vertical-align: top;\n",
       "    }\n",
       "\n",
       "    .dataframe thead th {\n",
       "        text-align: right;\n",
       "    }\n",
       "</style>\n",
       "<table border=\"1\" class=\"dataframe\">\n",
       "  <thead>\n",
       "    <tr style=\"text-align: right;\">\n",
       "      <th></th>\n",
       "      <th>session name</th>\n",
       "      <th>all trials</th>\n",
       "      <th>correct trials</th>\n",
       "      <th>diff contrast t</th>\n",
       "      <th>no contras</th>\n",
       "      <th>%Correct</th>\n",
       "      <th>%Contrast</th>\n",
       "      <th>% 0contrast</th>\n",
       "    </tr>\n",
       "  </thead>\n",
       "  <tbody>\n",
       "    <tr>\n",
       "      <th>0</th>\n",
       "      <td>Cori_2016-12-14</td>\n",
       "      <td>214</td>\n",
       "      <td>141</td>\n",
       "      <td>57</td>\n",
       "      <td>84</td>\n",
       "      <td>65.89</td>\n",
       "      <td>40.43</td>\n",
       "      <td>59.57</td>\n",
       "    </tr>\n",
       "    <tr>\n",
       "      <th>0</th>\n",
       "      <td>Cori_2016-12-17</td>\n",
       "      <td>251</td>\n",
       "      <td>159</td>\n",
       "      <td>57</td>\n",
       "      <td>98</td>\n",
       "      <td>63.35</td>\n",
       "      <td>35.85</td>\n",
       "      <td>61.64</td>\n",
       "    </tr>\n",
       "    <tr>\n",
       "      <th>0</th>\n",
       "      <td>Cori_2016-12-18</td>\n",
       "      <td>228</td>\n",
       "      <td>151</td>\n",
       "      <td>55</td>\n",
       "      <td>93</td>\n",
       "      <td>66.23</td>\n",
       "      <td>36.42</td>\n",
       "      <td>61.59</td>\n",
       "    </tr>\n",
       "  </tbody>\n",
       "</table>\n",
       "</div>"
      ],
      "text/plain": [
       "      session name  all trials  correct trials  diff contrast t  no contras  \\\n",
       "0  Cori_2016-12-14         214             141               57          84   \n",
       "0  Cori_2016-12-17         251             159               57          98   \n",
       "0  Cori_2016-12-18         228             151               55          93   \n",
       "\n",
       "   %Correct  %Contrast  % 0contrast  \n",
       "0     65.89      40.43        59.57  \n",
       "0     63.35      35.85        61.64  \n",
       "0     66.23      36.42        61.59  "
      ]
     },
     "execution_count": 102,
     "metadata": {},
     "output_type": "execute_result"
    }
   ],
   "source": [
    "#to keep adding\n",
    "df4 = df4.append(df2) \n",
    "\n",
    "df4 "
   ]
  },
  {
   "cell_type": "code",
   "execution_count": null,
   "metadata": {},
   "outputs": [],
   "source": []
  },
  {
   "cell_type": "code",
   "execution_count": null,
   "metadata": {},
   "outputs": [],
   "source": []
  },
  {
   "cell_type": "code",
   "execution_count": null,
   "metadata": {},
   "outputs": [],
   "source": []
  },
  {
   "cell_type": "code",
   "execution_count": null,
   "metadata": {},
   "outputs": [],
   "source": []
  },
  {
   "cell_type": "code",
   "execution_count": null,
   "metadata": {},
   "outputs": [],
   "source": []
  },
  {
   "cell_type": "code",
   "execution_count": 19,
   "metadata": {},
   "outputs": [],
   "source": [
    "test = []\n",
    "\n",
    "test = trials_df['stim time'] - trials_df['start time']"
   ]
  },
  {
   "cell_type": "code",
   "execution_count": 21,
   "metadata": {},
   "outputs": [
    {
     "name": "stdout",
     "output_type": "stream",
     "text": [
      "8.298038045912165\n",
      "0.32721510941570386\n"
     ]
    }
   ],
   "source": [
    "test\n",
    "print(max(test))\n",
    "print(min (test))"
   ]
  },
  {
   "cell_type": "code",
   "execution_count": 68,
   "metadata": {},
   "outputs": [
    {
     "data": {
      "text/html": [
       "<div>\n",
       "<style scoped>\n",
       "    .dataframe tbody tr th:only-of-type {\n",
       "        vertical-align: middle;\n",
       "    }\n",
       "\n",
       "    .dataframe tbody tr th {\n",
       "        vertical-align: top;\n",
       "    }\n",
       "\n",
       "    .dataframe thead th {\n",
       "        text-align: right;\n",
       "    }\n",
       "</style>\n",
       "<table border=\"1\" class=\"dataframe\">\n",
       "  <thead>\n",
       "    <tr style=\"text-align: right;\">\n",
       "      <th></th>\n",
       "      <th>included</th>\n",
       "      <th>repetition number</th>\n",
       "      <th>start time</th>\n",
       "      <th>stim time</th>\n",
       "      <th>response time</th>\n",
       "      <th>feedback time</th>\n",
       "      <th>end time</th>\n",
       "      <th>stim contrast left</th>\n",
       "      <th>stim contrast right</th>\n",
       "      <th>response choice</th>\n",
       "      <th>feedback type</th>\n",
       "      <th>wheel movement</th>\n",
       "      <th>trial_number</th>\n",
       "    </tr>\n",
       "  </thead>\n",
       "  <tbody>\n",
       "    <tr>\n",
       "      <th>0</th>\n",
       "      <td>True</td>\n",
       "      <td>1</td>\n",
       "      <td>62.900284</td>\n",
       "      <td>65.269408</td>\n",
       "      <td>66.419612</td>\n",
       "      <td>66.456227</td>\n",
       "      <td>67.423484</td>\n",
       "      <td>1</td>\n",
       "      <td>0</td>\n",
       "      <td>1</td>\n",
       "      <td>1</td>\n",
       "      <td>[0.0, 0.0, 0.0, 0.0, -1.0, 0.0, 0.0, 0.0, 0.0,...</td>\n",
       "      <td>1</td>\n",
       "    </tr>\n",
       "    <tr>\n",
       "      <th>1</th>\n",
       "      <td>True</td>\n",
       "      <td>1</td>\n",
       "      <td>68.420838</td>\n",
       "      <td>71.202703</td>\n",
       "      <td>72.602206</td>\n",
       "      <td>72.640326</td>\n",
       "      <td>73.604476</td>\n",
       "      <td>0</td>\n",
       "      <td>0</td>\n",
       "      <td>-1</td>\n",
       "      <td>1</td>\n",
       "      <td>[0.0, 0.0, 0.0, 0.0, 0.0, 0.0, 0.0, 0.0, 0.0, ...</td>\n",
       "      <td>2</td>\n",
       "    </tr>\n",
       "    <tr>\n",
       "      <th>2</th>\n",
       "      <td>True</td>\n",
       "      <td>1</td>\n",
       "      <td>74.602902</td>\n",
       "      <td>76.052380</td>\n",
       "      <td>77.001671</td>\n",
       "      <td>77.038396</td>\n",
       "      <td>78.006757</td>\n",
       "      <td>1</td>\n",
       "      <td>0</td>\n",
       "      <td>1</td>\n",
       "      <td>1</td>\n",
       "      <td>[0.0, 0.0, 0.0, 0.0, 0.0, 0.0, 0.0, 0.0, 0.0, ...</td>\n",
       "      <td>3</td>\n",
       "    </tr>\n",
       "    <tr>\n",
       "      <th>3</th>\n",
       "      <td>True</td>\n",
       "      <td>1</td>\n",
       "      <td>79.003653</td>\n",
       "      <td>81.235263</td>\n",
       "      <td>83.502065</td>\n",
       "      <td>83.531699</td>\n",
       "      <td>84.506778</td>\n",
       "      <td>0</td>\n",
       "      <td>0</td>\n",
       "      <td>0</td>\n",
       "      <td>1</td>\n",
       "      <td>[0.0, 0.0, 0.0, 0.0, 0.0, 0.0, 0.0, 0.0, 0.0, ...</td>\n",
       "      <td>4</td>\n",
       "    </tr>\n",
       "    <tr>\n",
       "      <th>4</th>\n",
       "      <td>True</td>\n",
       "      <td>1</td>\n",
       "      <td>85.501795</td>\n",
       "      <td>86.800952</td>\n",
       "      <td>87.617727</td>\n",
       "      <td>87.628565</td>\n",
       "      <td>88.621336</td>\n",
       "      <td>0</td>\n",
       "      <td>1</td>\n",
       "      <td>1</td>\n",
       "      <td>-1</td>\n",
       "      <td>[0.0, 0.0, 0.0, 0.0, 0.0, 0.0, 0.0, 0.0, 0.0, ...</td>\n",
       "      <td>5</td>\n",
       "    </tr>\n",
       "  </tbody>\n",
       "</table>\n",
       "</div>"
      ],
      "text/plain": [
       "   included  repetition number  start time  stim time  response time  \\\n",
       "0      True                  1   62.900284  65.269408      66.419612   \n",
       "1      True                  1   68.420838  71.202703      72.602206   \n",
       "2      True                  1   74.602902  76.052380      77.001671   \n",
       "3      True                  1   79.003653  81.235263      83.502065   \n",
       "4      True                  1   85.501795  86.800952      87.617727   \n",
       "\n",
       "   feedback time   end time  stim contrast left  stim contrast right  \\\n",
       "0      66.456227  67.423484                   1                    0   \n",
       "1      72.640326  73.604476                   0                    0   \n",
       "2      77.038396  78.006757                   1                    0   \n",
       "3      83.531699  84.506778                   0                    0   \n",
       "4      87.628565  88.621336                   0                    1   \n",
       "\n",
       "   response choice  feedback type  \\\n",
       "0                1              1   \n",
       "1               -1              1   \n",
       "2                1              1   \n",
       "3                0              1   \n",
       "4                1             -1   \n",
       "\n",
       "                                      wheel movement  trial_number  \n",
       "0  [0.0, 0.0, 0.0, 0.0, -1.0, 0.0, 0.0, 0.0, 0.0,...             1  \n",
       "1  [0.0, 0.0, 0.0, 0.0, 0.0, 0.0, 0.0, 0.0, 0.0, ...             2  \n",
       "2  [0.0, 0.0, 0.0, 0.0, 0.0, 0.0, 0.0, 0.0, 0.0, ...             3  \n",
       "3  [0.0, 0.0, 0.0, 0.0, 0.0, 0.0, 0.0, 0.0, 0.0, ...             4  \n",
       "4  [0.0, 0.0, 0.0, 0.0, 0.0, 0.0, 0.0, 0.0, 0.0, ...             5  "
      ]
     },
     "execution_count": 68,
     "metadata": {},
     "output_type": "execute_result"
    }
   ],
   "source": [
    "#add new column to existing df\n",
    "\n",
    "# creating a new column TRIAL_NUMBER, from the index\n",
    "trials_df['trial_number'] = trials_df.index+1\n",
    "trials_df.head()"
   ]
  },
  {
   "cell_type": "code",
   "execution_count": 73,
   "metadata": {},
   "outputs": [
    {
     "name": "stderr",
     "output_type": "stream",
     "text": [
      "/opt/anaconda3/lib/python3.7/site-packages/ipykernel_launcher.py:9: SettingWithCopyWarning: \n",
      "A value is trying to be set on a copy of a slice from a DataFrame\n",
      "\n",
      "See the caveats in the documentation: https://pandas.pydata.org/pandas-docs/stable/user_guide/indexing.html#returning-a-view-versus-a-copy\n",
      "  if __name__ == '__main__':\n",
      "/opt/anaconda3/lib/python3.7/site-packages/ipykernel_launcher.py:11: SettingWithCopyWarning: \n",
      "A value is trying to be set on a copy of a slice from a DataFrame\n",
      "\n",
      "See the caveats in the documentation: https://pandas.pydata.org/pandas-docs/stable/user_guide/indexing.html#returning-a-view-versus-a-copy\n",
      "  # This is added back by InteractiveShellApp.init_path()\n",
      "/opt/anaconda3/lib/python3.7/site-packages/ipykernel_launcher.py:13: SettingWithCopyWarning: \n",
      "A value is trying to be set on a copy of a slice from a DataFrame\n",
      "\n",
      "See the caveats in the documentation: https://pandas.pydata.org/pandas-docs/stable/user_guide/indexing.html#returning-a-view-versus-a-copy\n",
      "  del sys.path[0]\n",
      "/opt/anaconda3/lib/python3.7/site-packages/ipykernel_launcher.py:14: SettingWithCopyWarning: \n",
      "A value is trying to be set on a copy of a slice from a DataFrame\n",
      "\n",
      "See the caveats in the documentation: https://pandas.pydata.org/pandas-docs/stable/user_guide/indexing.html#returning-a-view-versus-a-copy\n",
      "  \n",
      "/opt/anaconda3/lib/python3.7/site-packages/ipykernel_launcher.py:15: SettingWithCopyWarning: \n",
      "A value is trying to be set on a copy of a slice from a DataFrame\n",
      "\n",
      "See the caveats in the documentation: https://pandas.pydata.org/pandas-docs/stable/user_guide/indexing.html#returning-a-view-versus-a-copy\n",
      "  from ipykernel import kernelapp as app\n"
     ]
    }
   ],
   "source": [
    "df_aligned = trials_df\n",
    "df_aligned['startA'] = \"\"\n",
    "df_aligned['stimA'] = \"\"\n",
    "df_aligned['responseA'] = \"\"\n",
    "df_aligned['feedbackA'] = \"\"\n",
    "df_aligned['endA'] = \"\"\n",
    "\n",
    "for i in range(0,len(df_aligned)):\n",
    "    df_aligned['startA'][i] = df_aligned['start time'][i]-trials_df['start time'][i]\n",
    "    #print(df_aligned['go cueA'][i])\n",
    "    df_aligned['stimA'][i] = df_aligned['stim time'][i]-trials_df['start time'][i]\n",
    "    #print(df_aligned['stim timeA'][i])\n",
    "    df_aligned['responseA'][i] = df_aligned['response time'][i]-trials_df['start time'][i]\n",
    "    df_aligned['feedbackA'][i] = df_aligned['feedback time'][i]-trials_df['start time'][i]\n",
    "    df_aligned['endA'][i] = df_aligned['end time'][i]-trials_df['start time'][i]\n",
    "\n",
    "\n",
    "    \n",
    "    \n",
    "    \n",
    "    \n",
    "    \n",
    "    \n",
    "#to test \n",
    "#df = pd.DataFrame(data) \n",
    "#df['C'] = \"\"\n",
    "#for i in range(0,len(A)): \n",
    "#    df['C'][i] = B[i]-A[i]\n",
    "#df"
   ]
  },
  {
   "cell_type": "code",
   "execution_count": 74,
   "metadata": {},
   "outputs": [
    {
     "data": {
      "text/plain": [
       "0.32721510941570386"
      ]
     },
     "execution_count": 74,
     "metadata": {},
     "output_type": "execute_result"
    }
   ],
   "source": [
    "min(df_aligned['stimA'])"
   ]
  },
  {
   "cell_type": "code",
   "execution_count": 75,
   "metadata": {},
   "outputs": [
    {
     "data": {
      "image/png": "[encoded data removed]",
      "text/plain": [
       "<Figure size 432x288 with 1 Axes>"
      ]
     },
     "metadata": {
      "needs_background": "light"
     },
     "output_type": "display_data"
    }
   ],
   "source": [
    "#scatter plot divided by colors according to visual stim, auditory cue, response (end of rotation), rew/norew, end of the trial\n",
    "df = df_aligned\n",
    "\n",
    "ax = plt.gca()\n",
    "    \n",
    "for i in range (1,len(df)):\n",
    "    #df.plot.scatter(x='go cue', y='trial_number', s=0.2, c=np.where((df['response choice']==1), 'r', 'g'), marker='.', grid=False, ax=ax)\n",
    "    df.plot.scatter(x='startA', y='trial_number', s=0.2, c='b', grid=False, ax=ax)\n",
    "    df.plot.scatter(x='stimA', y='trial_number', s=0.2, c='c',grid=False, ax=ax)\n",
    "    df.plot.scatter(x='responseA', y='trial_number', s=0.2, c='y', grid=False, ax=ax)\n",
    "    df.plot.scatter(x='feedbackA', y='trial_number', s=0.2, c='r', grid=False, ax=ax)\n",
    "    df.plot.scatter(x='endA', y='trial_number', s=0.2, c='g', grid=False, ax=ax)\n",
    "\n",
    "\n",
    "\n",
    "#plt.savefig(...)\n",
    "#fig=plt.figure(figsize=(50, 50))\n",
    "plt.show()"
   ]
  },
  {
   "cell_type": "code",
   "execution_count": null,
   "metadata": {},
   "outputs": [],
   "source": []
  },
  {
   "cell_type": "code",
   "execution_count": null,
   "metadata": {},
   "outputs": [],
   "source": []
  },
  {
   "cell_type": "code",
   "execution_count": null,
   "metadata": {},
   "outputs": [],
   "source": []
  },
  {
   "cell_type": "code",
   "execution_count": null,
   "metadata": {},
   "outputs": [],
   "source": []
  },
  {
   "cell_type": "code",
   "execution_count": null,
   "metadata": {},
   "outputs": [],
   "source": []
  },
  {
   "cell_type": "code",
   "execution_count": 21,
   "metadata": {},
   "outputs": [
    {
     "data": {
      "text/plain": [
       "267759"
      ]
     },
     "execution_count": 21,
     "metadata": {},
     "output_type": "execute_result"
    }
   ],
   "source": [
    "\n",
    "#how to pick a new variable from dataset \"session\"\n",
    "eye_area = session['eye_area']\n",
    "eye_area\n",
    "len(eye_area)"
   ]
  },
  {
   "cell_type": "code",
   "execution_count": 22,
   "metadata": {},
   "outputs": [
    {
     "data": {
      "text/plain": [
       "array([[    0.],\n",
       "       [    0.],\n",
       "       [    0.],\n",
       "       ...,\n",
       "       [17242.],\n",
       "       [17242.],\n",
       "       [17242.]])"
      ]
     },
     "execution_count": 22,
     "metadata": {},
     "output_type": "execute_result"
    }
   ],
   "source": [
    "wheel_position = session['wheel_position']\n",
    "wheel_position"
   ]
  },
  {
   "cell_type": "code",
   "execution_count": 24,
   "metadata": {},
   "outputs": [
    {
     "data": {
      "text/plain": [
       "[<matplotlib.lines.Line2D at 0x10e90cb10>]"
      ]
     },
     "execution_count": 24,
     "metadata": {},
     "output_type": "execute_result"
    },
    {
     "data": {
      "image/png": "[encoded data removed]",
      "text/plain": [
       "<Figure size 432x288 with 1 Axes>"
      ]
     },
     "metadata": {
      "needs_background": "light"
     },
     "output_type": "display_data"
    }
   ],
   "source": [
    "plt.plot(wheel_position)"
   ]
  },
  {
   "cell_type": "code",
   "execution_count": 61,
   "metadata": {},
   "outputs": [
    {
     "data": {
      "text/plain": [
       "[<matplotlib.lines.Line2D at 0x1a2bcec350>]"
      ]
     },
     "execution_count": 61,
     "metadata": {},
     "output_type": "execute_result"
    },
    {
     "data": {
      "image/png": "[encoded data removed]",
      "text/plain": [
       "<Figure size 432x288 with 1 Axes>"
      ]
     },
     "metadata": {
      "needs_background": "light"
     },
     "output_type": "display_data"
    }
   ],
   "source": [
    "#plt.plot(trials_df['stim contrast left'])\n",
    "#plt.plot(trials_df['stim contrast right'])\n",
    "#plt.plot(trials_df['response choice'])\n",
    "\n",
    "test = np.cumsum(trials_df['wheel movement'])\n",
    "plt.plot(trials_df['wheel movement'][1])\n",
    "\n"
   ]
  },
  {
   "cell_type": "code",
   "execution_count": 240,
   "metadata": {},
   "outputs": [
    {
     "data": {
      "image/png": "[encoded data removed]",
      "text/plain": [
       "<Figure size 432x288 with 1 Axes>"
      ]
     },
     "metadata": {
      "needs_background": "light"
     },
     "output_type": "display_data"
    },
    {
     "data": {
      "image/png": "[encoded data removed]",
      "text/plain": [
       "<Figure size 432x288 with 1 Axes>"
      ]
     },
     "metadata": {
      "needs_background": "light"
     },
     "output_type": "display_data"
    }
   ],
   "source": [
    "#scatter plot divided by colors according to \n",
    "df = trials_df\n",
    "df.plot.scatter(x='feedback time', y='response choice', s=20, c=np.where(df['response choice'], 'r', 'g'), grid=False)\n",
    "df.plot.scatter(x='feedback time', y='response choice', s=20, c=np.where(df['response choice'], 'r', 'g'), grid=False)\n",
    "plt.show()"
   ]
  },
  {
   "cell_type": "code",
   "execution_count": 215,
   "metadata": {},
   "outputs": [
    {
     "name": "stdout",
     "output_type": "stream",
     "text": [
      "0      2.369125\n",
      "1      2.781865\n",
      "2      1.449478\n",
      "3      2.231610\n",
      "4      1.299156\n",
      "         ...   \n",
      "209    0.581641\n",
      "210    0.715252\n",
      "211    0.431463\n",
      "212    0.344811\n",
      "213    0.688081\n",
      "Length: 214, dtype: float64\n",
      "0.32721510941570386\n",
      "8.298038045912165\n"
     ]
    },
    {
     "data": {
      "text/plain": [
       "[<matplotlib.lines.Line2D at 0x1a2dce30d0>]"
      ]
     },
     "execution_count": 215,
     "metadata": {},
     "output_type": "execute_result"
    },
    {
     "data": {
      "image/png": "[encoded data removed]",
      "text/plain": [
       "<Figure size 432x288 with 1 Axes>"
      ]
     },
     "metadata": {
      "needs_background": "light"
     },
     "output_type": "display_data"
    }
   ],
   "source": [
    "go_cues_diff = ((trials_df['stim time'] - trials_df['go cue']))\n",
    "print(go_cues_diff)\n",
    "print(min(go_cues_diff)) #0.49\n",
    "print(max(go_cues_diff)) #1.19 \n",
    "plt.plot(go_cues_diff)"
   ]
  },
  {
   "cell_type": "code",
   "execution_count": 281,
   "metadata": {},
   "outputs": [
    {
     "data": {
      "text/plain": [
       "<matplotlib.collections.PathCollection at 0x1a77ed0550>"
      ]
     },
     "execution_count": 281,
     "metadata": {},
     "output_type": "execute_result"
    },
    {
     "data": {
      "image/png": "[encoded data removed]",
      "text/plain": [
       "<Figure size 432x288 with 1 Axes>"
      ]
     },
     "metadata": {
      "needs_background": "light"
     },
     "output_type": "display_data"
    }
   ],
   "source": [
    "plt.scatter(trial_df.trials_intervals, trial_df.trials_vStim_cLeft)"
   ]
  },
  {
   "cell_type": "code",
   "execution_count": 218,
   "metadata": {},
   "outputs": [
    {
     "name": "stdout",
     "output_type": "stream",
     "text": [
      "0    False\n",
      "1    False\n",
      "2    False\n",
      "3     True\n",
      "4    False\n",
      "dtype: bool\n"
     ]
    },
    {
     "data": {
      "text/plain": [
       "214"
      ]
     },
     "execution_count": 218,
     "metadata": {},
     "output_type": "execute_result"
    }
   ],
   "source": [
    "# create new variable with true where all the contrast left is 0\n",
    "is_0 =  trial_df['trials_vStim_cLeft'] ==0\n",
    "\n",
    "\n",
    "# create new variable with true where all the contrast is 0 in both - NoGo trials\n",
    "is_0_RL = (trial_df['trials_vStim_cLeft']==0) & (trial_df['trials_vStim_cRight']==0)\n",
    "print(is_0_RL.head())\n",
    "\n",
    "len(is_0_RL)"
   ]
  },
  {
   "cell_type": "code",
   "execution_count": 219,
   "metadata": {},
   "outputs": [],
   "source": [
    "# filter data by creating a new dataframe\n"
   ]
  },
  {
   "cell_type": "code",
   "execution_count": 220,
   "metadata": {},
   "outputs": [],
   "source": [
    "# difference between consecutive rows - trials_intervals\n",
    "# https://pythontic.com/pandas/dataframe-computations/difference\n",
    "\n",
    "trials_intervals_diff = trial_df.trials_intervals.diff()"
   ]
  },
  {
   "cell_type": "code",
   "execution_count": 221,
   "metadata": {},
   "outputs": [
    {
     "data": {
      "text/plain": [
       "[<matplotlib.lines.Line2D at 0x1a46cad2d0>]"
      ]
     },
     "execution_count": 221,
     "metadata": {},
     "output_type": "execute_result"
    },
    {
     "data": {
      "image/png": "[encoded data removed]",
      "text/plain": [
       "<Figure size 432x288 with 1 Axes>"
      ]
     },
     "metadata": {
      "needs_background": "light"
     },
     "output_type": "display_data"
    }
   ],
   "source": [
    "plt.plot(trials_intervals_diff)"
   ]
  },
  {
   "cell_type": "code",
   "execution_count": 256,
   "metadata": {},
   "outputs": [
    {
     "data": {
      "text/html": [
       "<div>\n",
       "<style scoped>\n",
       "    .dataframe tbody tr th:only-of-type {\n",
       "        vertical-align: middle;\n",
       "    }\n",
       "\n",
       "    .dataframe tbody tr th {\n",
       "        vertical-align: top;\n",
       "    }\n",
       "\n",
       "    .dataframe thead th {\n",
       "        text-align: right;\n",
       "    }\n",
       "</style>\n",
       "<table border=\"1\" class=\"dataframe\">\n",
       "  <thead>\n",
       "    <tr style=\"text-align: right;\">\n",
       "      <th></th>\n",
       "      <th>trials_resp_choice</th>\n",
       "      <th>trials_resp_times</th>\n",
       "      <th>trials_goCue_times</th>\n",
       "      <th>trials_vStim_cLeft</th>\n",
       "      <th>trials_vStim_cRight</th>\n",
       "      <th>trials_vStim_times</th>\n",
       "      <th>trials_intervals</th>\n",
       "      <th>trials_feedback_times</th>\n",
       "      <th>trials_feedbackType</th>\n",
       "      <th>trials_included</th>\n",
       "      <th>trials_repNum</th>\n",
       "    </tr>\n",
       "  </thead>\n",
       "  <tbody>\n",
       "    <tr>\n",
       "      <th>3</th>\n",
       "      <td>0.0</td>\n",
       "      <td>83.502065</td>\n",
       "      <td>81.996875</td>\n",
       "      <td>0.0</td>\n",
       "      <td>0.0</td>\n",
       "      <td>81.235263</td>\n",
       "      <td>79.003653</td>\n",
       "      <td>83.531699</td>\n",
       "      <td>1.0</td>\n",
       "      <td>True</td>\n",
       "      <td>1.0</td>\n",
       "    </tr>\n",
       "    <tr>\n",
       "      <th>5</th>\n",
       "      <td>1.0</td>\n",
       "      <td>92.167720</td>\n",
       "      <td>91.837432</td>\n",
       "      <td>0.0</td>\n",
       "      <td>0.0</td>\n",
       "      <td>90.650613</td>\n",
       "      <td>89.617592</td>\n",
       "      <td>92.197438</td>\n",
       "      <td>-1.0</td>\n",
       "      <td>True</td>\n",
       "      <td>1.0</td>\n",
       "    </tr>\n",
       "    <tr>\n",
       "      <th>6</th>\n",
       "      <td>-1.0</td>\n",
       "      <td>97.117508</td>\n",
       "      <td>96.572307</td>\n",
       "      <td>0.0</td>\n",
       "      <td>0.0</td>\n",
       "      <td>95.984298</td>\n",
       "      <td>94.167702</td>\n",
       "      <td>97.126316</td>\n",
       "      <td>-1.0</td>\n",
       "      <td>True</td>\n",
       "      <td>2.0</td>\n",
       "    </tr>\n",
       "    <tr>\n",
       "      <th>7</th>\n",
       "      <td>-1.0</td>\n",
       "      <td>100.900586</td>\n",
       "      <td>100.157164</td>\n",
       "      <td>0.0</td>\n",
       "      <td>0.0</td>\n",
       "      <td>99.550755</td>\n",
       "      <td>99.117619</td>\n",
       "      <td>100.907576</td>\n",
       "      <td>-1.0</td>\n",
       "      <td>True</td>\n",
       "      <td>3.0</td>\n",
       "    </tr>\n",
       "    <tr>\n",
       "      <th>8</th>\n",
       "      <td>0.0</td>\n",
       "      <td>107.663576</td>\n",
       "      <td>106.157660</td>\n",
       "      <td>0.0</td>\n",
       "      <td>0.0</td>\n",
       "      <td>105.566451</td>\n",
       "      <td>102.902255</td>\n",
       "      <td>107.704085</td>\n",
       "      <td>1.0</td>\n",
       "      <td>True</td>\n",
       "      <td>4.0</td>\n",
       "    </tr>\n",
       "    <tr>\n",
       "      <th>11</th>\n",
       "      <td>0.0</td>\n",
       "      <td>126.403458</td>\n",
       "      <td>124.897959</td>\n",
       "      <td>0.0</td>\n",
       "      <td>0.0</td>\n",
       "      <td>123.716340</td>\n",
       "      <td>118.833840</td>\n",
       "      <td>126.433983</td>\n",
       "      <td>1.0</td>\n",
       "      <td>True</td>\n",
       "      <td>1.0</td>\n",
       "    </tr>\n",
       "    <tr>\n",
       "      <th>16</th>\n",
       "      <td>0.0</td>\n",
       "      <td>154.949572</td>\n",
       "      <td>153.444014</td>\n",
       "      <td>0.0</td>\n",
       "      <td>0.0</td>\n",
       "      <td>152.697202</td>\n",
       "      <td>145.730701</td>\n",
       "      <td>154.979639</td>\n",
       "      <td>1.0</td>\n",
       "      <td>True</td>\n",
       "      <td>1.0</td>\n",
       "    </tr>\n",
       "    <tr>\n",
       "      <th>18</th>\n",
       "      <td>-1.0</td>\n",
       "      <td>168.863679</td>\n",
       "      <td>168.598656</td>\n",
       "      <td>0.0</td>\n",
       "      <td>0.0</td>\n",
       "      <td>167.830244</td>\n",
       "      <td>165.596946</td>\n",
       "      <td>168.872260</td>\n",
       "      <td>-1.0</td>\n",
       "      <td>True</td>\n",
       "      <td>1.0</td>\n",
       "    </tr>\n",
       "    <tr>\n",
       "      <th>19</th>\n",
       "      <td>-1.0</td>\n",
       "      <td>172.913387</td>\n",
       "      <td>172.534318</td>\n",
       "      <td>0.0</td>\n",
       "      <td>0.0</td>\n",
       "      <td>171.412701</td>\n",
       "      <td>170.863626</td>\n",
       "      <td>172.915924</td>\n",
       "      <td>-1.0</td>\n",
       "      <td>True</td>\n",
       "      <td>2.0</td>\n",
       "    </tr>\n",
       "    <tr>\n",
       "      <th>20</th>\n",
       "      <td>0.0</td>\n",
       "      <td>178.034969</td>\n",
       "      <td>176.529182</td>\n",
       "      <td>0.0</td>\n",
       "      <td>0.0</td>\n",
       "      <td>175.479965</td>\n",
       "      <td>174.913822</td>\n",
       "      <td>178.065607</td>\n",
       "      <td>1.0</td>\n",
       "      <td>True</td>\n",
       "      <td>3.0</td>\n",
       "    </tr>\n",
       "    <tr>\n",
       "      <th>21</th>\n",
       "      <td>1.0</td>\n",
       "      <td>185.679438</td>\n",
       "      <td>185.329722</td>\n",
       "      <td>0.0</td>\n",
       "      <td>0.0</td>\n",
       "      <td>184.562910</td>\n",
       "      <td>180.036542</td>\n",
       "      <td>185.686928</td>\n",
       "      <td>-1.0</td>\n",
       "      <td>True</td>\n",
       "      <td>1.0</td>\n",
       "    </tr>\n",
       "    <tr>\n",
       "      <th>22</th>\n",
       "      <td>1.0</td>\n",
       "      <td>190.028990</td>\n",
       "      <td>189.154583</td>\n",
       "      <td>0.0</td>\n",
       "      <td>0.0</td>\n",
       "      <td>188.144967</td>\n",
       "      <td>187.680560</td>\n",
       "      <td>190.041398</td>\n",
       "      <td>-1.0</td>\n",
       "      <td>True</td>\n",
       "      <td>2.0</td>\n",
       "    </tr>\n",
       "    <tr>\n",
       "      <th>23</th>\n",
       "      <td>0.0</td>\n",
       "      <td>195.113488</td>\n",
       "      <td>193.605054</td>\n",
       "      <td>0.0</td>\n",
       "      <td>0.0</td>\n",
       "      <td>192.662239</td>\n",
       "      <td>192.030325</td>\n",
       "      <td>195.143479</td>\n",
       "      <td>1.0</td>\n",
       "      <td>True</td>\n",
       "      <td>3.0</td>\n",
       "    </tr>\n",
       "    <tr>\n",
       "      <th>25</th>\n",
       "      <td>1.0</td>\n",
       "      <td>204.578471</td>\n",
       "      <td>204.270424</td>\n",
       "      <td>0.0</td>\n",
       "      <td>0.0</td>\n",
       "      <td>203.378410</td>\n",
       "      <td>202.196466</td>\n",
       "      <td>204.581629</td>\n",
       "      <td>-1.0</td>\n",
       "      <td>True</td>\n",
       "      <td>1.0</td>\n",
       "    </tr>\n",
       "    <tr>\n",
       "      <th>26</th>\n",
       "      <td>0.0</td>\n",
       "      <td>209.210497</td>\n",
       "      <td>207.704879</td>\n",
       "      <td>0.0</td>\n",
       "      <td>0.0</td>\n",
       "      <td>207.177271</td>\n",
       "      <td>206.578210</td>\n",
       "      <td>209.241304</td>\n",
       "      <td>1.0</td>\n",
       "      <td>True</td>\n",
       "      <td>2.0</td>\n",
       "    </tr>\n",
       "    <tr>\n",
       "      <th>31</th>\n",
       "      <td>0.0</td>\n",
       "      <td>238.262332</td>\n",
       "      <td>236.755342</td>\n",
       "      <td>0.0</td>\n",
       "      <td>0.0</td>\n",
       "      <td>236.193333</td>\n",
       "      <td>234.894362</td>\n",
       "      <td>238.293767</td>\n",
       "      <td>1.0</td>\n",
       "      <td>True</td>\n",
       "      <td>1.0</td>\n",
       "    </tr>\n",
       "    <tr>\n",
       "      <th>34</th>\n",
       "      <td>-1.0</td>\n",
       "      <td>254.825532</td>\n",
       "      <td>254.385623</td>\n",
       "      <td>0.0</td>\n",
       "      <td>0.0</td>\n",
       "      <td>253.508810</td>\n",
       "      <td>250.644148</td>\n",
       "      <td>254.832431</td>\n",
       "      <td>-1.0</td>\n",
       "      <td>True</td>\n",
       "      <td>1.0</td>\n",
       "    </tr>\n",
       "    <tr>\n",
       "      <th>35</th>\n",
       "      <td>0.0</td>\n",
       "      <td>259.419067</td>\n",
       "      <td>257.911280</td>\n",
       "      <td>0.0</td>\n",
       "      <td>0.0</td>\n",
       "      <td>257.424472</td>\n",
       "      <td>256.825834</td>\n",
       "      <td>259.449704</td>\n",
       "      <td>1.0</td>\n",
       "      <td>True</td>\n",
       "      <td>2.0</td>\n",
       "    </tr>\n",
       "    <tr>\n",
       "      <th>36</th>\n",
       "      <td>0.0</td>\n",
       "      <td>271.637890</td>\n",
       "      <td>270.121474</td>\n",
       "      <td>0.0</td>\n",
       "      <td>0.0</td>\n",
       "      <td>269.591466</td>\n",
       "      <td>261.417498</td>\n",
       "      <td>271.668299</td>\n",
       "      <td>1.0</td>\n",
       "      <td>True</td>\n",
       "      <td>1.0</td>\n",
       "    </tr>\n",
       "    <tr>\n",
       "      <th>43</th>\n",
       "      <td>-1.0</td>\n",
       "      <td>309.506241</td>\n",
       "      <td>308.652489</td>\n",
       "      <td>0.0</td>\n",
       "      <td>0.0</td>\n",
       "      <td>307.889277</td>\n",
       "      <td>306.673289</td>\n",
       "      <td>309.511302</td>\n",
       "      <td>-1.0</td>\n",
       "      <td>True</td>\n",
       "      <td>1.0</td>\n",
       "    </tr>\n",
       "    <tr>\n",
       "      <th>44</th>\n",
       "      <td>0.0</td>\n",
       "      <td>315.679506</td>\n",
       "      <td>314.171777</td>\n",
       "      <td>0.0</td>\n",
       "      <td>0.0</td>\n",
       "      <td>313.654569</td>\n",
       "      <td>311.506832</td>\n",
       "      <td>315.710601</td>\n",
       "      <td>1.0</td>\n",
       "      <td>True</td>\n",
       "      <td>2.0</td>\n",
       "    </tr>\n",
       "    <tr>\n",
       "      <th>51</th>\n",
       "      <td>-1.0</td>\n",
       "      <td>352.987156</td>\n",
       "      <td>352.588389</td>\n",
       "      <td>0.0</td>\n",
       "      <td>0.0</td>\n",
       "      <td>351.869178</td>\n",
       "      <td>350.458309</td>\n",
       "      <td>353.001196</td>\n",
       "      <td>-1.0</td>\n",
       "      <td>True</td>\n",
       "      <td>1.0</td>\n",
       "    </tr>\n",
       "    <tr>\n",
       "      <th>52</th>\n",
       "      <td>0.0</td>\n",
       "      <td>358.263038</td>\n",
       "      <td>356.757656</td>\n",
       "      <td>0.0</td>\n",
       "      <td>0.0</td>\n",
       "      <td>356.118846</td>\n",
       "      <td>354.986401</td>\n",
       "      <td>358.298080</td>\n",
       "      <td>1.0</td>\n",
       "      <td>True</td>\n",
       "      <td>2.0</td>\n",
       "    </tr>\n",
       "    <tr>\n",
       "      <th>62</th>\n",
       "      <td>0.0</td>\n",
       "      <td>408.488064</td>\n",
       "      <td>406.984056</td>\n",
       "      <td>0.0</td>\n",
       "      <td>0.0</td>\n",
       "      <td>405.999641</td>\n",
       "      <td>404.768087</td>\n",
       "      <td>408.519281</td>\n",
       "      <td>1.0</td>\n",
       "      <td>True</td>\n",
       "      <td>1.0</td>\n",
       "    </tr>\n",
       "    <tr>\n",
       "      <th>67</th>\n",
       "      <td>0.0</td>\n",
       "      <td>431.148265</td>\n",
       "      <td>429.644818</td>\n",
       "      <td>0.0</td>\n",
       "      <td>0.0</td>\n",
       "      <td>428.714803</td>\n",
       "      <td>428.266387</td>\n",
       "      <td>431.184442</td>\n",
       "      <td>1.0</td>\n",
       "      <td>True</td>\n",
       "      <td>1.0</td>\n",
       "    </tr>\n",
       "    <tr>\n",
       "      <th>79</th>\n",
       "      <td>0.0</td>\n",
       "      <td>482.960856</td>\n",
       "      <td>481.450444</td>\n",
       "      <td>0.0</td>\n",
       "      <td>0.0</td>\n",
       "      <td>480.946036</td>\n",
       "      <td>480.146429</td>\n",
       "      <td>482.992468</td>\n",
       "      <td>1.0</td>\n",
       "      <td>True</td>\n",
       "      <td>1.0</td>\n",
       "    </tr>\n",
       "    <tr>\n",
       "      <th>86</th>\n",
       "      <td>0.0</td>\n",
       "      <td>520.476071</td>\n",
       "      <td>518.971442</td>\n",
       "      <td>0.0</td>\n",
       "      <td>0.0</td>\n",
       "      <td>518.110628</td>\n",
       "      <td>517.713179</td>\n",
       "      <td>520.509066</td>\n",
       "      <td>1.0</td>\n",
       "      <td>True</td>\n",
       "      <td>1.0</td>\n",
       "    </tr>\n",
       "    <tr>\n",
       "      <th>105</th>\n",
       "      <td>0.0</td>\n",
       "      <td>611.822466</td>\n",
       "      <td>610.303698</td>\n",
       "      <td>0.0</td>\n",
       "      <td>0.0</td>\n",
       "      <td>609.154880</td>\n",
       "      <td>607.471836</td>\n",
       "      <td>611.859723</td>\n",
       "      <td>1.0</td>\n",
       "      <td>True</td>\n",
       "      <td>1.0</td>\n",
       "    </tr>\n",
       "    <tr>\n",
       "      <th>109</th>\n",
       "      <td>0.0</td>\n",
       "      <td>632.492025</td>\n",
       "      <td>630.983228</td>\n",
       "      <td>0.0</td>\n",
       "      <td>0.0</td>\n",
       "      <td>630.203615</td>\n",
       "      <td>628.856560</td>\n",
       "      <td>632.524852</td>\n",
       "      <td>1.0</td>\n",
       "      <td>True</td>\n",
       "      <td>1.0</td>\n",
       "    </tr>\n",
       "    <tr>\n",
       "      <th>115</th>\n",
       "      <td>0.0</td>\n",
       "      <td>664.569515</td>\n",
       "      <td>663.063739</td>\n",
       "      <td>0.0</td>\n",
       "      <td>0.0</td>\n",
       "      <td>662.218526</td>\n",
       "      <td>660.821476</td>\n",
       "      <td>664.601364</td>\n",
       "      <td>1.0</td>\n",
       "      <td>True</td>\n",
       "      <td>1.0</td>\n",
       "    </tr>\n",
       "    <tr>\n",
       "      <th>118</th>\n",
       "      <td>0.0</td>\n",
       "      <td>682.828800</td>\n",
       "      <td>681.319630</td>\n",
       "      <td>0.0</td>\n",
       "      <td>0.0</td>\n",
       "      <td>680.267614</td>\n",
       "      <td>674.335390</td>\n",
       "      <td>682.861655</td>\n",
       "      <td>1.0</td>\n",
       "      <td>True</td>\n",
       "      <td>1.0</td>\n",
       "    </tr>\n",
       "    <tr>\n",
       "      <th>129</th>\n",
       "      <td>0.0</td>\n",
       "      <td>728.301690</td>\n",
       "      <td>726.795955</td>\n",
       "      <td>0.0</td>\n",
       "      <td>0.0</td>\n",
       "      <td>725.915541</td>\n",
       "      <td>725.282635</td>\n",
       "      <td>728.335980</td>\n",
       "      <td>1.0</td>\n",
       "      <td>True</td>\n",
       "      <td>1.0</td>\n",
       "    </tr>\n",
       "    <tr>\n",
       "      <th>131</th>\n",
       "      <td>0.0</td>\n",
       "      <td>737.938189</td>\n",
       "      <td>736.431309</td>\n",
       "      <td>0.0</td>\n",
       "      <td>0.0</td>\n",
       "      <td>735.248490</td>\n",
       "      <td>734.266038</td>\n",
       "      <td>737.971334</td>\n",
       "      <td>1.0</td>\n",
       "      <td>True</td>\n",
       "      <td>1.0</td>\n",
       "    </tr>\n",
       "    <tr>\n",
       "      <th>136</th>\n",
       "      <td>0.0</td>\n",
       "      <td>762.891450</td>\n",
       "      <td>761.386907</td>\n",
       "      <td>0.0</td>\n",
       "      <td>0.0</td>\n",
       "      <td>760.563694</td>\n",
       "      <td>759.641528</td>\n",
       "      <td>762.924531</td>\n",
       "      <td>1.0</td>\n",
       "      <td>True</td>\n",
       "      <td>1.0</td>\n",
       "    </tr>\n",
       "    <tr>\n",
       "      <th>138</th>\n",
       "      <td>0.0</td>\n",
       "      <td>771.432401</td>\n",
       "      <td>769.931843</td>\n",
       "      <td>0.0</td>\n",
       "      <td>0.0</td>\n",
       "      <td>769.362634</td>\n",
       "      <td>768.380787</td>\n",
       "      <td>771.465868</td>\n",
       "      <td>1.0</td>\n",
       "      <td>True</td>\n",
       "      <td>1.0</td>\n",
       "    </tr>\n",
       "    <tr>\n",
       "      <th>145</th>\n",
       "      <td>0.0</td>\n",
       "      <td>799.934773</td>\n",
       "      <td>798.426697</td>\n",
       "      <td>0.0</td>\n",
       "      <td>0.0</td>\n",
       "      <td>797.644285</td>\n",
       "      <td>796.778991</td>\n",
       "      <td>799.967522</td>\n",
       "      <td>1.0</td>\n",
       "      <td>True</td>\n",
       "      <td>1.0</td>\n",
       "    </tr>\n",
       "    <tr>\n",
       "      <th>148</th>\n",
       "      <td>0.0</td>\n",
       "      <td>818.165314</td>\n",
       "      <td>816.662588</td>\n",
       "      <td>0.0</td>\n",
       "      <td>0.0</td>\n",
       "      <td>815.593371</td>\n",
       "      <td>811.680066</td>\n",
       "      <td>818.198213</td>\n",
       "      <td>1.0</td>\n",
       "      <td>True</td>\n",
       "      <td>1.0</td>\n",
       "    </tr>\n",
       "    <tr>\n",
       "      <th>151</th>\n",
       "      <td>0.0</td>\n",
       "      <td>830.675104</td>\n",
       "      <td>829.168388</td>\n",
       "      <td>0.0</td>\n",
       "      <td>0.0</td>\n",
       "      <td>828.609979</td>\n",
       "      <td>827.729139</td>\n",
       "      <td>830.713212</td>\n",
       "      <td>1.0</td>\n",
       "      <td>True</td>\n",
       "      <td>1.0</td>\n",
       "    </tr>\n",
       "    <tr>\n",
       "      <th>153</th>\n",
       "      <td>-1.0</td>\n",
       "      <td>838.028336</td>\n",
       "      <td>837.607722</td>\n",
       "      <td>0.0</td>\n",
       "      <td>0.0</td>\n",
       "      <td>836.676107</td>\n",
       "      <td>836.110630</td>\n",
       "      <td>838.045729</td>\n",
       "      <td>-1.0</td>\n",
       "      <td>True</td>\n",
       "      <td>1.0</td>\n",
       "    </tr>\n",
       "    <tr>\n",
       "      <th>154</th>\n",
       "      <td>0.0</td>\n",
       "      <td>842.777502</td>\n",
       "      <td>841.272581</td>\n",
       "      <td>0.0</td>\n",
       "      <td>0.0</td>\n",
       "      <td>840.558569</td>\n",
       "      <td>840.027477</td>\n",
       "      <td>842.811805</td>\n",
       "      <td>1.0</td>\n",
       "      <td>True</td>\n",
       "      <td>2.0</td>\n",
       "    </tr>\n",
       "    <tr>\n",
       "      <th>158</th>\n",
       "      <td>0.0</td>\n",
       "      <td>865.449426</td>\n",
       "      <td>863.943342</td>\n",
       "      <td>0.0</td>\n",
       "      <td>0.0</td>\n",
       "      <td>863.224531</td>\n",
       "      <td>861.776123</td>\n",
       "      <td>865.483767</td>\n",
       "      <td>1.0</td>\n",
       "      <td>True</td>\n",
       "      <td>1.0</td>\n",
       "    </tr>\n",
       "    <tr>\n",
       "      <th>182</th>\n",
       "      <td>0.0</td>\n",
       "      <td>976.869298</td>\n",
       "      <td>975.365519</td>\n",
       "      <td>0.0</td>\n",
       "      <td>0.0</td>\n",
       "      <td>974.401903</td>\n",
       "      <td>972.637865</td>\n",
       "      <td>976.903543</td>\n",
       "      <td>1.0</td>\n",
       "      <td>True</td>\n",
       "      <td>1.0</td>\n",
       "    </tr>\n",
       "    <tr>\n",
       "      <th>184</th>\n",
       "      <td>0.0</td>\n",
       "      <td>986.383950</td>\n",
       "      <td>984.880470</td>\n",
       "      <td>0.0</td>\n",
       "      <td>0.0</td>\n",
       "      <td>984.351262</td>\n",
       "      <td>983.994225</td>\n",
       "      <td>986.418095</td>\n",
       "      <td>1.0</td>\n",
       "      <td>True</td>\n",
       "      <td>1.0</td>\n",
       "    </tr>\n",
       "    <tr>\n",
       "      <th>186</th>\n",
       "      <td>0.0</td>\n",
       "      <td>995.871107</td>\n",
       "      <td>994.365821</td>\n",
       "      <td>0.0</td>\n",
       "      <td>0.0</td>\n",
       "      <td>993.466607</td>\n",
       "      <td>992.985374</td>\n",
       "      <td>995.907446</td>\n",
       "      <td>1.0</td>\n",
       "      <td>True</td>\n",
       "      <td>1.0</td>\n",
       "    </tr>\n",
       "    <tr>\n",
       "      <th>188</th>\n",
       "      <td>0.0</td>\n",
       "      <td>1006.045295</td>\n",
       "      <td>1004.541184</td>\n",
       "      <td>0.0</td>\n",
       "      <td>0.0</td>\n",
       "      <td>1003.549568</td>\n",
       "      <td>1001.817525</td>\n",
       "      <td>1006.080008</td>\n",
       "      <td>1.0</td>\n",
       "      <td>True</td>\n",
       "      <td>1.0</td>\n",
       "    </tr>\n",
       "    <tr>\n",
       "      <th>199</th>\n",
       "      <td>0.0</td>\n",
       "      <td>1059.211103</td>\n",
       "      <td>1057.707231</td>\n",
       "      <td>0.0</td>\n",
       "      <td>0.0</td>\n",
       "      <td>1056.563213</td>\n",
       "      <td>1055.999115</td>\n",
       "      <td>1059.248856</td>\n",
       "      <td>1.0</td>\n",
       "      <td>True</td>\n",
       "      <td>1.0</td>\n",
       "    </tr>\n",
       "  </tbody>\n",
       "</table>\n",
       "</div>"
      ],
      "text/plain": [
       "     trials_resp_choice  trials_resp_times  trials_goCue_times  \\\n",
       "3                   0.0          83.502065           81.996875   \n",
       "5                   1.0          92.167720           91.837432   \n",
       "6                  -1.0          97.117508           96.572307   \n",
       "7                  -1.0         100.900586          100.157164   \n",
       "8                   0.0         107.663576          106.157660   \n",
       "11                  0.0         126.403458          124.897959   \n",
       "16                  0.0         154.949572          153.444014   \n",
       "18                 -1.0         168.863679          168.598656   \n",
       "19                 -1.0         172.913387          172.534318   \n",
       "20                  0.0         178.034969          176.529182   \n",
       "21                  1.0         185.679438          185.329722   \n",
       "22                  1.0         190.028990          189.154583   \n",
       "23                  0.0         195.113488          193.605054   \n",
       "25                  1.0         204.578471          204.270424   \n",
       "26                  0.0         209.210497          207.704879   \n",
       "31                  0.0         238.262332          236.755342   \n",
       "34                 -1.0         254.825532          254.385623   \n",
       "35                  0.0         259.419067          257.911280   \n",
       "36                  0.0         271.637890          270.121474   \n",
       "43                 -1.0         309.506241          308.652489   \n",
       "44                  0.0         315.679506          314.171777   \n",
       "51                 -1.0         352.987156          352.588389   \n",
       "52                  0.0         358.263038          356.757656   \n",
       "62                  0.0         408.488064          406.984056   \n",
       "67                  0.0         431.148265          429.644818   \n",
       "79                  0.0         482.960856          481.450444   \n",
       "86                  0.0         520.476071          518.971442   \n",
       "105                 0.0         611.822466          610.303698   \n",
       "109                 0.0         632.492025          630.983228   \n",
       "115                 0.0         664.569515          663.063739   \n",
       "118                 0.0         682.828800          681.319630   \n",
       "129                 0.0         728.301690          726.795955   \n",
       "131                 0.0         737.938189          736.431309   \n",
       "136                 0.0         762.891450          761.386907   \n",
       "138                 0.0         771.432401          769.931843   \n",
       "145                 0.0         799.934773          798.426697   \n",
       "148                 0.0         818.165314          816.662588   \n",
       "151                 0.0         830.675104          829.168388   \n",
       "153                -1.0         838.028336          837.607722   \n",
       "154                 0.0         842.777502          841.272581   \n",
       "158                 0.0         865.449426          863.943342   \n",
       "182                 0.0         976.869298          975.365519   \n",
       "184                 0.0         986.383950          984.880470   \n",
       "186                 0.0         995.871107          994.365821   \n",
       "188                 0.0        1006.045295         1004.541184   \n",
       "199                 0.0        1059.211103         1057.707231   \n",
       "\n",
       "     trials_vStim_cLeft  trials_vStim_cRight  trials_vStim_times  \\\n",
       "3                   0.0                  0.0           81.235263   \n",
       "5                   0.0                  0.0           90.650613   \n",
       "6                   0.0                  0.0           95.984298   \n",
       "7                   0.0                  0.0           99.550755   \n",
       "8                   0.0                  0.0          105.566451   \n",
       "11                  0.0                  0.0          123.716340   \n",
       "16                  0.0                  0.0          152.697202   \n",
       "18                  0.0                  0.0          167.830244   \n",
       "19                  0.0                  0.0          171.412701   \n",
       "20                  0.0                  0.0          175.479965   \n",
       "21                  0.0                  0.0          184.562910   \n",
       "22                  0.0                  0.0          188.144967   \n",
       "23                  0.0                  0.0          192.662239   \n",
       "25                  0.0                  0.0          203.378410   \n",
       "26                  0.0                  0.0          207.177271   \n",
       "31                  0.0                  0.0          236.193333   \n",
       "34                  0.0                  0.0          253.508810   \n",
       "35                  0.0                  0.0          257.424472   \n",
       "36                  0.0                  0.0          269.591466   \n",
       "43                  0.0                  0.0          307.889277   \n",
       "44                  0.0                  0.0          313.654569   \n",
       "51                  0.0                  0.0          351.869178   \n",
       "52                  0.0                  0.0          356.118846   \n",
       "62                  0.0                  0.0          405.999641   \n",
       "67                  0.0                  0.0          428.714803   \n",
       "79                  0.0                  0.0          480.946036   \n",
       "86                  0.0                  0.0          518.110628   \n",
       "105                 0.0                  0.0          609.154880   \n",
       "109                 0.0                  0.0          630.203615   \n",
       "115                 0.0                  0.0          662.218526   \n",
       "118                 0.0                  0.0          680.267614   \n",
       "129                 0.0                  0.0          725.915541   \n",
       "131                 0.0                  0.0          735.248490   \n",
       "136                 0.0                  0.0          760.563694   \n",
       "138                 0.0                  0.0          769.362634   \n",
       "145                 0.0                  0.0          797.644285   \n",
       "148                 0.0                  0.0          815.593371   \n",
       "151                 0.0                  0.0          828.609979   \n",
       "153                 0.0                  0.0          836.676107   \n",
       "154                 0.0                  0.0          840.558569   \n",
       "158                 0.0                  0.0          863.224531   \n",
       "182                 0.0                  0.0          974.401903   \n",
       "184                 0.0                  0.0          984.351262   \n",
       "186                 0.0                  0.0          993.466607   \n",
       "188                 0.0                  0.0         1003.549568   \n",
       "199                 0.0                  0.0         1056.563213   \n",
       "\n",
       "     trials_intervals  trials_feedback_times  trials_feedbackType  \\\n",
       "3           79.003653              83.531699                  1.0   \n",
       "5           89.617592              92.197438                 -1.0   \n",
       "6           94.167702              97.126316                 -1.0   \n",
       "7           99.117619             100.907576                 -1.0   \n",
       "8          102.902255             107.704085                  1.0   \n",
       "11         118.833840             126.433983                  1.0   \n",
       "16         145.730701             154.979639                  1.0   \n",
       "18         165.596946             168.872260                 -1.0   \n",
       "19         170.863626             172.915924                 -1.0   \n",
       "20         174.913822             178.065607                  1.0   \n",
       "21         180.036542             185.686928                 -1.0   \n",
       "22         187.680560             190.041398                 -1.0   \n",
       "23         192.030325             195.143479                  1.0   \n",
       "25         202.196466             204.581629                 -1.0   \n",
       "26         206.578210             209.241304                  1.0   \n",
       "31         234.894362             238.293767                  1.0   \n",
       "34         250.644148             254.832431                 -1.0   \n",
       "35         256.825834             259.449704                  1.0   \n",
       "36         261.417498             271.668299                  1.0   \n",
       "43         306.673289             309.511302                 -1.0   \n",
       "44         311.506832             315.710601                  1.0   \n",
       "51         350.458309             353.001196                 -1.0   \n",
       "52         354.986401             358.298080                  1.0   \n",
       "62         404.768087             408.519281                  1.0   \n",
       "67         428.266387             431.184442                  1.0   \n",
       "79         480.146429             482.992468                  1.0   \n",
       "86         517.713179             520.509066                  1.0   \n",
       "105        607.471836             611.859723                  1.0   \n",
       "109        628.856560             632.524852                  1.0   \n",
       "115        660.821476             664.601364                  1.0   \n",
       "118        674.335390             682.861655                  1.0   \n",
       "129        725.282635             728.335980                  1.0   \n",
       "131        734.266038             737.971334                  1.0   \n",
       "136        759.641528             762.924531                  1.0   \n",
       "138        768.380787             771.465868                  1.0   \n",
       "145        796.778991             799.967522                  1.0   \n",
       "148        811.680066             818.198213                  1.0   \n",
       "151        827.729139             830.713212                  1.0   \n",
       "153        836.110630             838.045729                 -1.0   \n",
       "154        840.027477             842.811805                  1.0   \n",
       "158        861.776123             865.483767                  1.0   \n",
       "182        972.637865             976.903543                  1.0   \n",
       "184        983.994225             986.418095                  1.0   \n",
       "186        992.985374             995.907446                  1.0   \n",
       "188       1001.817525            1006.080008                  1.0   \n",
       "199       1055.999115            1059.248856                  1.0   \n",
       "\n",
       "     trials_included  trials_repNum  \n",
       "3               True            1.0  \n",
       "5               True            1.0  \n",
       "6               True            2.0  \n",
       "7               True            3.0  \n",
       "8               True            4.0  \n",
       "11              True            1.0  \n",
       "16              True            1.0  \n",
       "18              True            1.0  \n",
       "19              True            2.0  \n",
       "20              True            3.0  \n",
       "21              True            1.0  \n",
       "22              True            2.0  \n",
       "23              True            3.0  \n",
       "25              True            1.0  \n",
       "26              True            2.0  \n",
       "31              True            1.0  \n",
       "34              True            1.0  \n",
       "35              True            2.0  \n",
       "36              True            1.0  \n",
       "43              True            1.0  \n",
       "44              True            2.0  \n",
       "51              True            1.0  \n",
       "52              True            2.0  \n",
       "62              True            1.0  \n",
       "67              True            1.0  \n",
       "79              True            1.0  \n",
       "86              True            1.0  \n",
       "105             True            1.0  \n",
       "109             True            1.0  \n",
       "115             True            1.0  \n",
       "118             True            1.0  \n",
       "129             True            1.0  \n",
       "131             True            1.0  \n",
       "136             True            1.0  \n",
       "138             True            1.0  \n",
       "145             True            1.0  \n",
       "148             True            1.0  \n",
       "151             True            1.0  \n",
       "153             True            1.0  \n",
       "154             True            2.0  \n",
       "158             True            1.0  \n",
       "182             True            1.0  \n",
       "184             True            1.0  \n",
       "186             True            1.0  \n",
       "188             True            1.0  \n",
       "199             True            1.0  "
      ]
     },
     "execution_count": 256,
     "metadata": {},
     "output_type": "execute_result"
    }
   ],
   "source": [
    "# https://stackoverflow.com/questions/17071871/how-to-select-rows-from-a-dataframe-based-on-column-values\n",
    "\n",
    "# Create data frame only with the NoGo\n",
    "trial2_df = trial_df.loc[(trial_df['trials_vStim_cLeft'] == 0) & (trial_df['trials_vStim_cRight']==0)]\n",
    "trial2_df.head()"
   ]
  },
  {
   "cell_type": "code",
   "execution_count": null,
   "metadata": {},
   "outputs": [],
   "source": [
    "#plt.plot(trial_df.trials_feedbackType)\n",
    "trial_df.trials_feedbackType\n",
    "\n",
    "df4 = trial_df['trials_feedbackType']({'a': trial_df['trials_feedbackType'] == 1, 'b': trial_df['trials_feedbackType'] == -1})\n",
    "plt.figure();\n",
    "ax = df4.plot.area()\n"
   ]
  },
  {
   "cell_type": "code",
   "execution_count": 278,
   "metadata": {},
   "outputs": [
    {
     "data": {
      "image/png": "[encoded data removed]",
      "text/plain": [
       "<Figure size 648x216 with 2 Axes>"
      ]
     },
     "metadata": {
      "needs_background": "light"
     },
     "output_type": "display_data"
    }
   ],
   "source": [
    "#https://matplotlib.org/3.3.0/tutorials/introductory/pyplot.html\n",
    "\n",
    "plt.figure(figsize=(9, 3))\n",
    "\n",
    "plt.subplot(131)\n",
    "plt.scatter(trial2_df['trials_vStim_times'],trial2_df['trials_feedbackType'])\n",
    "\n",
    "plt.subplot(132)\n",
    "plt.bar(trial2_df['trials_feedbackType'], trial2_df['trials_vStim_times'],)\n",
    "\n",
    "plt.suptitle('NoGo Trials and corresponding decisions')\n",
    "plt.show()\n",
    "\n",
    "#plt.scatter(trial2_df['trials_vStim_times'],trial2_df['trials_feedbackType'])\n",
    "\n",
    "#plotting, within 0 contrast (NoGo trials), how many times they did false positives, i.e., turned the wheel \n"
   ]
  },
  {
   "cell_type": "markdown",
   "metadata": {},
   "source": [
    "# Wheel"
   ]
  },
  {
   "cell_type": "code",
   "execution_count": null,
   "metadata": {},
   "outputs": [],
   "source": [
    "# add wheelmovement\n",
    "print(session['wheel_position'].shape)\n",
    "print(session['wheel_timestamps'].shape)\n",
    "print(session['wheelMoves_intervals'].shape)\n",
    "print(session['wheelMoves_type'].shape)\n",
    "\n",
    "'''\n",
    "0 for 'flinches' or otherwise unclassified movements, \n",
    "1 for left/clockwise turns, \n",
    "2 for right/counter-clockwise turns \n",
    "(where again \"left\" means \"would be the correct direction for a stimulus presented on the left). \n",
    "A detected movement is counted as 'left' or 'right' only if it was sufficient amplitude that it would have registered \n",
    "a correct response (and possibly did), within a minimum amount of time from the start of the movement. \n",
    "Movements failing those criteria are flinch/unclassified type.\n",
    "'''"
   ]
  },
  {
   "cell_type": "code",
   "execution_count": null,
   "metadata": {},
   "outputs": [],
   "source": [
    "session['wheel_position'][1]"
   ]
  },
  {
   "cell_type": "code",
   "execution_count": null,
   "metadata": {},
   "outputs": [],
   "source": [
    "wheel_df = pd.merge( pd.DataFrame(session['wheelMoves_intervals']), pd.DataFrame(session['wheelMoves_type']), how='left', left_index=True, right_index=True)"
   ]
  },
  {
   "cell_type": "code",
   "execution_count": null,
   "metadata": {},
   "outputs": [],
   "source": [
    "wheel_df"
   ]
  },
  {
   "cell_type": "code",
   "execution_count": null,
   "metadata": {
    "scrolled": false
   },
   "outputs": [],
   "source": [
    "## Duration of the wheel movement - wheel_mov_dur\n",
    "\n",
    "#duration of the wheel movement\n",
    "wheel_mov_dur = wheel_df[1]-wheel_df['0_x'] \n",
    "wheel_mov_dur\n",
    "wheelMoves_type1 = session['wheelMoves_type']\n",
    "\n",
    "\n",
    "#create empty array of given length; bar plot\n",
    "##create var wheel_Moves_type2 where 0 is L and 1 is R\n",
    "wheelMoves_type2 = [0] * (len(wheelMoves_type1))\n",
    "for i in range(len(wheelMoves_type1)):\n",
    "    if wheelMoves_type1[i] == 0: \n",
    "        wheelMoves_type2[i] = 'unclassified'\n",
    "        #print('0')\n",
    "    elif wheelMoves_type1[i] == 1:\n",
    "        wheelMoves_type2[i] = 'left'\n",
    "        #print('1')\n",
    "    else:\n",
    "        wheelMoves_type2[i] = 'right'\n",
    "        #print('2')    \n",
    "\n",
    "        \n",
    "colors = {'unclassified':'red', 'left':'blue', 'right':'green'}\n",
    "\n",
    "#plot the figure \n",
    "plt.figure(figsize=(9, 3))\n",
    "\n",
    "plt.subplot(131)\n",
    "#plt.plot(wheel_mov_time2)\n",
    "\n",
    "plt.subplot(132)\n",
    "plt.bar(wheelMoves_type2,wheel_mov_dur)\n",
    "\n",
    "plt.subplot(133)\n",
    "\n",
    "#plt.plot(wheel_mov_time2)\n",
    "\n",
    "plt.suptitle('Title')\n",
    "plt.show()\n",
    "\n",
    "\n",
    "#for i in range(len(test1)):\n",
    "#    if test1[i] == 0: \n",
    "#        print('0')\n",
    "#    else: \n",
    "#        print('1')"
   ]
  },
  {
   "cell_type": "code",
   "execution_count": 18,
   "metadata": {},
   "outputs": [
    {
     "data": {
      "text/plain": [
       "2500"
      ]
     },
     "execution_count": 18,
     "metadata": {},
     "output_type": "execute_result"
    }
   ],
   "source": [
    "len(trials_df['wheel movement'][1])"
   ]
  },
  {
   "cell_type": "code",
   "execution_count": 22,
   "metadata": {
    "scrolled": true
   },
   "outputs": [
    {
     "data": {
      "image/png": "[encoded data removed]",
      "text/plain": [
       "<Figure size 432x288 with 1 Axes>"
      ]
     },
     "metadata": {
      "needs_background": "light"
     },
     "output_type": "display_data"
    }
   ],
   "source": [
    "\n",
    "for i in range(len(trials_df['wheel movement'][1])): \n",
    "\n",
    "    plt.plot(trials_df['wheel movement'][1][i], 'ro',markersize=1)"
   ]
  },
  {
   "cell_type": "code",
   "execution_count": null,
   "metadata": {},
   "outputs": [],
   "source": []
  },
  {
   "cell_type": "code",
   "execution_count": null,
   "metadata": {},
   "outputs": [],
   "source": []
  },
  {
   "cell_type": "code",
   "execution_count": null,
   "metadata": {},
   "outputs": [],
   "source": []
  },
  {
   "cell_type": "code",
   "execution_count": null,
   "metadata": {},
   "outputs": [],
   "source": []
  },
  {
   "cell_type": "markdown",
   "metadata": {},
   "source": [
    "# Old stuff or useful code/links"
   ]
  },
  {
   "cell_type": "code",
   "execution_count": 30,
   "metadata": {},
   "outputs": [],
   "source": [
    "\n",
    "\n",
    "\n",
    "\n",
    "\n",
    "\n",
    "\n",
    "##To adjust the size of one figure:\n",
    "\n",
    "#import matplotlib.pyplot as plt\n",
    "\n",
    "#fig=plt.figure(figsize=(15, 15))\n",
    "#To change the default settings, and therefore all your plots:\n",
    "\n",
    "#import matplotlib.pyplot as plt\n",
    "\n",
    "#plt.rcParams['figure.figsize'] = [15, 15]"
   ]
  },
  {
   "cell_type": "markdown",
   "metadata": {},
   "source": [
    "Useful links: \n",
    "\n",
    "data: \n",
    "https://www.w3resource.com/pandas/dataframe/dataframe-plot-area.php\n",
    "https://stackoverflow.com/questions/17071871/how-to-select-rows-from-a-dataframe-based-on-column-values\n",
    "https://www.delftstack.com/howto/python-pandas/how-to-create-an-empty-column-in-pandas-dataframe/\n",
    "\n",
    "loop issues: \n",
    "https://www.datacamp.com/community/tutorials/for-loops-in-python?utm_source=adwords_ppc&utm_campaignid=898687156&utm_adgroupid=48947256715&utm_device=c&utm_keyword=&utm_matchtype=b&utm_network=g&utm_adpostion=&utm_creative=332602034349&utm_targetid=dsa-429603003980&utm_loc_interest_ms=&utm_loc_physical_ms=1011752&gclid=EAIaIQobChMIkfT0pKXj6gIVhIbVCh0ctg9-EAAYASAAEgKCSvD_BwE\n",
    "\n",
    "\n",
    "plot: \n",
    "https://matplotlib.org/3.3.0/tutorials/introductory/pyplot.html\n",
    "https://pandas.pydata.org/pandas-docs/stable/user_guide/visualization.html\n"
   ]
  },
  {
   "cell_type": "code",
   "execution_count": null,
   "metadata": {},
   "outputs": [],
   "source": [
    "## JUST TO CHECK THE WHAT THE DIFF VARS MEAN\n",
    "# pars trials info =================================\n",
    "# create spike_df tataframe, with each spike time and the cluster it belongs to\n",
    "trial_df = pd.DataFrame( \n",
    "    { 'trials_resp_choice':session['trials_response_choice'][:,0], #-1 for Right choice (i.e. correct when stimuli are on the right); +1 for left choice; 0 for Nogo choice. Note that in a small percentage of cases (~4%, see manuscript Methods) the initial wheel turn was in the opposite direction. \n",
    "    'trials_resp_times': session['trials_response_times'][:,0], \n",
    "     \n",
    "    'trials_goCue_times': session['trials_goCue_times'][:,0] ,#auditory cue\n",
    "     \n",
    "    'trials_vStim_cLeft': session['trials_visualStim_contrastLeft'][:,0], #A value of 0.5 means 50% contrast. 0 is a blank screen: no change to any pixel values on that side (completely undetectable).\n",
    "    'trials_vStim_cRight': session['trials_visualStim_contrastRight'][:,0], \n",
    "    'trials_vStim_times': session['trials_visualStim_times'][:,0], \n",
    "\n",
    "    'trials_intervals': session['trials_intervals'][:,0], \n",
    "                                                \n",
    "    'trials_feedback_times': session['trials_feedback_times'][:,0],\n",
    "    'trials_feedbackType': session['trials_feedbackType'][:,0], # -1 negative - noise; 1 positive - water\n",
    "    \n",
    "    'trials_included': session['trials_included'][:,0], #Importantly, while this variable gives inclusion criteria according to the definition of disengagement (see manuscript Methods), it does not give inclusion criteria based on the time of response, as used for most analyses in the paper.\n",
    "    'trials_repNum': session['trials_repNum'][:,0], #Trials are repeated if they are \"easy\" trials (high contrast stimuli with large difference between the two sides, or the blank screen condition) and this keeps track of how many times the current trial's condition has been repeated.\n",
    "    },\n",
    "                       )\n",
    "#????? \n",
    "# add spikes to session dictionary\n",
    "session['trial_df']=trial_df"
   ]
  },
  {
   "cell_type": "markdown",
   "metadata": {
    "toc": true
   },
   "source": [
    "<h1>Table of Contents<span class=\"tocSkip\"></span></h1>\n",
    "<div class=\"toc\"><ul class=\"toc-item\"><li><span><a href=\"#Neuromatch-Academy-Project---Steinmetz-Dataset---Mouse-Mind-Reading\" data-toc-modified-id=\"Neuromatch-Academy-Project---Steinmetz-Dataset---Mouse-Mind-Reading-1\"><span class=\"toc-item-num\">1&nbsp;&nbsp;</span>Neuromatch Academy Project - Steinmetz Dataset - Mouse Mind Reading</a></span><ul class=\"toc-item\"><li><ul class=\"toc-item\"><li><ul class=\"toc-item\"><li><span><a href=\"#explore-dictionary-for-session\" data-toc-modified-id=\"explore-dictionary-for-session-1.0.0.1\"><span class=\"toc-item-num\">1.0.0.1&nbsp;&nbsp;</span>explore dictionary for session</a></span></li></ul></li></ul></li><li><span><a href=\"#Load-Data\" data-toc-modified-id=\"Load-Data-1.1\"><span class=\"toc-item-num\">1.1&nbsp;&nbsp;</span>Load Data</a></span><ul class=\"toc-item\"><li><span><a href=\"#via-oneibl-by-client\" data-toc-modified-id=\"via-oneibl-by-client-1.1.1\"><span class=\"toc-item-num\">1.1.1&nbsp;&nbsp;</span>via oneibl by client</a></span></li><li><span><a href=\"#via-google-drive-directly\" data-toc-modified-id=\"via-google-drive-directly-1.1.2\"><span class=\"toc-item-num\">1.1.2&nbsp;&nbsp;</span>via google drive directly</a></span></li><li><span><a href=\"#cleanup-channel-infos\" data-toc-modified-id=\"cleanup-channel-infos-1.1.3\"><span class=\"toc-item-num\">1.1.3&nbsp;&nbsp;</span>cleanup channel infos</a></span></li><li><span><a href=\"#cleaning-up-spikes\" data-toc-modified-id=\"cleaning-up-spikes-1.1.4\"><span class=\"toc-item-num\">1.1.4&nbsp;&nbsp;</span>cleaning up spikes</a></span></li><li><span><a href=\"#cleanup-trial-info\" data-toc-modified-id=\"cleanup-trial-info-1.1.5\"><span class=\"toc-item-num\">1.1.5&nbsp;&nbsp;</span>cleanup trial info</a></span></li></ul></li></ul></li></ul></div>"
   ]
  },
  {
   "cell_type": "code",
   "execution_count": null,
   "metadata": {
    "colab": {
     "base_uri": "https://localhost:8080/",
     "height": 35
    },
    "colab_type": "code",
    "executionInfo": {
     "elapsed": 1269,
     "status": "ok",
     "timestamp": 1595266937803,
     "user": {
      "displayName": "Max Hoheiser",
      "photoUrl": "https://lh3.googleusercontent.com/a-/AOh14GgcOj0xb1EjxBJ1OyxAUJAdknWQprdHmaELrwjcpo8=s64",
      "userId": "14108002061243669705"
     },
     "user_tz": -120
    },
    "id": "JA0mhl-7Lu_s",
    "outputId": "39b3cb5a-35dc-48e2-822b-89978d2df42a",
    "scrolled": true
   },
   "outputs": [],
   "source": [
    "import numpy as np\n",
    "import matplotlib.pyplot as plt\n",
    "import os\n",
    "import pandas as pd\n",
    "import matplotlib.pyplot as plt\n",
    "\n",
    "from nma_class_k import NMA_project\n",
    "#from nma_class_Copy1 import NMA_project\n",
    "\n",
    "%matplotlib inline"
   ]
  },
  {
   "cell_type": "code",
   "execution_count": null,
   "metadata": {},
   "outputs": [],
   "source": [
    "# only if you are on jupyter notebook not if on colab\n",
    "#import qgrid "
   ]
  },
  {
   "cell_type": "code",
   "execution_count": null,
   "metadata": {
    "colab": {
     "base_uri": "https://localhost:8080/",
     "height": 35
    },
    "colab_type": "code",
    "executionInfo": {
     "elapsed": 1487,
     "status": "ok",
     "timestamp": 1595266942323,
     "user": {
      "displayName": "Max Hoheiser",
      "photoUrl": "https://lh3.googleusercontent.com/a-/AOh14GgcOj0xb1EjxBJ1OyxAUJAdknWQprdHmaELrwjcpo8=s64",
      "userId": "14108002061243669705"
     },
     "user_tz": -120
    },
    "id": "Nw8xyyd5UaC5",
    "outputId": "ca4e4160-777a-42a6-f72b-2b61f97454e3",
    "scrolled": false
   },
   "outputs": [],
   "source": [
    "# link to parent folder with all datasets\n",
    "#main_folder = \"/content/gdrive/My Drive/3 Projekte/Neuromatch Summer School/Projekt/steinmetz_dataset\"\n",
    "#main_folder = \"C:/Users/User/Google Drive/3 Projekte/Neuromatch Summer School/Projekt/steinmetz_dataset\"\n",
    "#main_folder = \"Z:/3 Projekte/Neuromatch Summer School/Projekt/steinmetz_dataset\"\n",
    "main_folder = '/Volumes/GoogleDrive/My Drive/NMA_Dataset/Dataset_1'\n",
    "\n",
    "# create session object\n",
    "nma_obj = NMA_project(main_folder) \n",
    "\n",
    "# default session is initialized, extract interesting dataframes in dedicated variables\n",
    "#session = nma_obj.std_session\n",
    "#channels_df = session['channels_df']\n",
    "#spikes_df = session['spikes_df']\n",
    "#clusters_df = session['clusters_df']\n",
    "#trials_df = session['trials_df']\n",
    "\n",
    "\n",
    "\n",
    "\n",
    "\n",
    "channels_df = session['channels_df']\n",
    "spikes_df = session['spikes_df']\n",
    "clusters_df = session['clusters_df']\n",
    "trials_df = session['trials_df']\n",
    "spikes_ar = session['spikes_ar']"
   ]
  },
  {
   "cell_type": "markdown",
   "metadata": {
    "cell_style": "split"
   },
   "source": [
    "#### explore dictionary for session\n",
    "- each ession is a dictionary\n",
    "- each element kontains eather a numpy array or a dataframe\n",
    "- the most important dataframes we are going to work with are:\n",
    "    - clusters_df: all the spikes and clusters\n",
    "    - trials_df: all the behaviour data for all trials"
   ]
  },
  {
   "cell_type": "code",
   "execution_count": null,
   "metadata": {
    "scrolled": true
   },
   "outputs": [],
   "source": [
    "#how to pick a new variable from dataset \"session\"\n",
    "some_var = session['spontaneous_intervals']\n",
    "#print(len(some_var))\n",
    "#some_var"
   ]
  },
  {
   "cell_type": "code",
   "execution_count": null,
   "metadata": {
    "cell_style": "split",
    "scrolled": false
   },
   "outputs": [],
   "source": [
    "for key in nma_obj.std_session.keys():\n",
    "    print(key)"
   ]
  },
  {
   "cell_type": "code",
   "execution_count": null,
   "metadata": {},
   "outputs": [],
   "source": [
    "#test\n",
    "A = [1, 2, 3,4,5,6,7]\n",
    "for i in range(3,len(A)):\n",
    "    print(i, A[i])"
   ]
  }
 ],
 "metadata": {
  "colab": {
   "authorship_tag": "ABX9TyP3Rua9vwNc6w9+RtEjpB15",
   "name": "Project.ipynb",
   "provenance": []
  },
  "kernelspec": {
   "display_name": "Python 3",
   "language": "python",
   "name": "python3"
  },
  "language_info": {
   "codemirror_mode": {
    "name": "ipython",
    "version": 3
   },
   "file_extension": ".py",
   "mimetype": "text/x-python",
   "name": "python",
   "nbconvert_exporter": "python",
   "pygments_lexer": "ipython3",
   "version": "3.7.6"
  },
  "toc": {
   "base_numbering": 1,
   "nav_menu": {},
   "number_sections": true,
   "sideBar": true,
   "skip_h1_title": false,
   "title_cell": "Table of Contents",
   "title_sidebar": "Contents",
   "toc_cell": true,
   "toc_position": {},
   "toc_section_display": true,
   "toc_window_display": false
  },
  "varInspector": {
   "cols": {
    "lenName": 16,
    "lenType": 16,
    "lenVar": 40
   },
   "kernels_config": {
    "python": {
     "delete_cmd_postfix": "",
     "delete_cmd_prefix": "del ",
     "library": "var_list.py",
     "varRefreshCmd": "print(var_dic_list())"
    },
    "r": {
     "delete_cmd_postfix": ") ",
     "delete_cmd_prefix": "rm(",
     "library": "var_list.r",
     "varRefreshCmd": "cat(var_dic_list()) "
    }
   },
   "types_to_exclude": [
    "module",
    "function",
    "builtin_function_or_method",
    "instance",
    "_Feature"
   ],
   "window_display": false
  }
 },
 "nbformat": 4,
 "nbformat_minor": 1
}
