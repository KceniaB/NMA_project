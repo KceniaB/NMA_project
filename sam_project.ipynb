{
 "cells": [
  {
   "cell_type": "markdown",
   "metadata": {
    "toc": true
   },
   "source": [
    "<h1>Table of Contents<span class=\"tocSkip\"></span></h1>\n",
    "<div class=\"toc\"><ul class=\"toc-item\"><li><ul class=\"toc-item\"><li><ul class=\"toc-item\"><li><ul class=\"toc-item\"><li><span><a href=\"#libraries-and-widgets\" data-toc-modified-id=\"libraries-and-widgets-0.0.0.1\"><span class=\"toc-item-num\">0.0.0.1&nbsp;&nbsp;</span>libraries and widgets</a></span></li></ul></li></ul></li></ul></li><li><span><a href=\"#Neuromatch-Academy-Project---Steinmetz-Dataset---Mouse-Mind-Reading\" data-toc-modified-id=\"Neuromatch-Academy-Project---Steinmetz-Dataset---Mouse-Mind-Reading-1\"><span class=\"toc-item-num\">1&nbsp;&nbsp;</span>Neuromatch Academy Project - Steinmetz Dataset - Mouse Mind Reading</a></span><ul class=\"toc-item\"><li><ul class=\"toc-item\"><li><ul class=\"toc-item\"><li><span><a href=\"#explore-dictionary-for-session\" data-toc-modified-id=\"explore-dictionary-for-session-1.0.0.1\"><span class=\"toc-item-num\">1.0.0.1&nbsp;&nbsp;</span>explore dictionary for session</a></span></li></ul></li></ul></li><li><span><a href=\"#Load-Data\" data-toc-modified-id=\"Load-Data-1.1\"><span class=\"toc-item-num\">1.1&nbsp;&nbsp;</span>Load Data</a></span><ul class=\"toc-item\"><li><span><a href=\"#via-google-drive-directly\" data-toc-modified-id=\"via-google-drive-directly-1.1.1\"><span class=\"toc-item-num\">1.1.1&nbsp;&nbsp;</span>via google drive directly</a></span></li><li><span><a href=\"#cleanup-channel-infos\" data-toc-modified-id=\"cleanup-channel-infos-1.1.2\"><span class=\"toc-item-num\">1.1.2&nbsp;&nbsp;</span>cleanup channel infos</a></span></li><li><span><a href=\"#cleaning-up-spikes\" data-toc-modified-id=\"cleaning-up-spikes-1.1.3\"><span class=\"toc-item-num\">1.1.3&nbsp;&nbsp;</span>cleaning up spikes</a></span></li><li><span><a href=\"#cleanup-trial-info\" data-toc-modified-id=\"cleanup-trial-info-1.1.4\"><span class=\"toc-item-num\">1.1.4&nbsp;&nbsp;</span>cleanup trial info</a></span></li></ul></li></ul></li></ul></div>"
   ]
  },
  {
   "cell_type": "code",
   "execution_count": 1,
   "metadata": {
    "colab": {
     "base_uri": "https://localhost:8080/",
     "height": 35
    },
    "colab_type": "code",
    "executionInfo": {
     "elapsed": 1269,
     "status": "ok",
     "timestamp": 1595266937803,
     "user": {
      "displayName": "Max Hoheiser",
      "photoUrl": "https://lh3.googleusercontent.com/a-/AOh14GgcOj0xb1EjxBJ1OyxAUJAdknWQprdHmaELrwjcpo8=s64",
      "userId": "14108002061243669705"
     },
     "user_tz": -120
    },
    "id": "JA0mhl-7Lu_s",
    "outputId": "39b3cb5a-35dc-48e2-822b-89978d2df42a"
   },
   "outputs": [],
   "source": [
    "import numpy as np\n",
    "import matplotlib.pyplot as plt\n",
    "import os\n",
    "import pandas as pd\n",
    "import matplotlib.pyplot as plt\n",
    "import qgrid\n",
    "\n",
    "from nma_class import NMA_project\n",
    "\n",
    "%matplotlib inline"
   ]
  },
  {
   "cell_type": "markdown",
   "metadata": {
    "heading_collapsed": true
   },
   "source": [
    "#### libraries and widgets\n",
    "- qgrid\n",
    "- nbextentions"
   ]
  },
  {
   "cell_type": "code",
   "execution_count": 2,
   "metadata": {
    "hidden": true
   },
   "outputs": [],
   "source": [
    "# only if you are on jupyter notebook not if on colab\n",
    "import qgrid"
   ]
  },
  {
   "cell_type": "code",
   "execution_count": 3,
   "metadata": {
    "hidden": true
   },
   "outputs": [],
   "source": [
    "# only if you are on google coalb not if you are on jupyter notebook\n",
    "#from google.colab import drive\n",
    "#drive.mount('/content/gdrive')"
   ]
  },
  {
   "cell_type": "markdown",
   "metadata": {},
   "source": [
    "# Neuromatch Academy Project - Steinmetz Dataset - Mouse Mind Reading"
   ]
  },
  {
   "cell_type": "code",
   "execution_count": 8,
   "metadata": {
    "colab": {
     "base_uri": "https://localhost:8080/",
     "height": 35
    },
    "colab_type": "code",
    "executionInfo": {
     "elapsed": 1487,
     "status": "ok",
     "timestamp": 1595266942323,
     "user": {
      "displayName": "Max Hoheiser",
      "photoUrl": "https://lh3.googleusercontent.com/a-/AOh14GgcOj0xb1EjxBJ1OyxAUJAdknWQprdHmaELrwjcpo8=s64",
      "userId": "14108002061243669705"
     },
     "user_tz": -120
    },
    "id": "Nw8xyyd5UaC5",
    "outputId": "ca4e4160-777a-42a6-f72b-2b61f97454e3"
   },
   "outputs": [],
   "source": [
    "# link to parent folder with all datasets\n",
    "#main_folder = \"/content/gdrive/My Drive/3 Projekte/Neuromatch Summer School/Projekt/steinmetz_dataset\"\n",
    "#main_folder = \"C:/Users/User/Google Drive/3 Projekte/Neuromatch Summer School/Projekt/steinmetz_dataset\"\n",
    "#main_folder = \"Z:/3 Projekte/Neuromatch Summer School/Projekt/steinmetz_dataset\"\n",
    "main_folder = os.path.join('//Volumes','Samsung_T5','steinmetz_dataset')\n",
    "\n",
    "# create session object\n",
    "nma_obj = NMA_project(main_folder) \n",
    "\n",
    "# default session is initialized, extract interesting dataframes in dedicated variables\n",
    "session = nma_obj.std_session\n",
    "channels_df = session['channels_df']\n",
    "spikes_df = session['spikes_df']\n",
    "clusters_df = session['clusters_df']\n",
    "trials_df = session['trials_df']\n"
   ]
  },
  {
   "cell_type": "markdown",
   "metadata": {
    "cell_style": "split"
   },
   "source": [
    "#### explore dictionary for session\n",
    "- each ession is a dictionary\n",
    "- each element kontains eather a numpy array or a dataframe\n",
    "- the most important dataframes we are going to work with are:\n",
    "    - clusters_df: all the spikes and clusters\n",
    "    - trials_df: all the behaviour data for all trials"
   ]
  },
  {
   "cell_type": "code",
   "execution_count": 9,
   "metadata": {
    "cell_style": "split"
   },
   "outputs": [
    {
     "name": "stdout",
     "output_type": "stream",
     "text": [
      "face_timestamps (2, 2)\n",
      "trials_feedback_times (214, 1)\n",
      "passiveVisual_times (150, 1)\n",
      "clusters_templateWaveformChans (1085, 50)\n",
      "passiveVisual_contrastLeft (150, 1)\n",
      "passiveVisual_contrastRight (150, 1)\n",
      "passiveBeeps_times (25, 1)\n",
      "trials_included (214, 1)\n",
      "wheelMoves_intervals (507, 2)\n",
      "channels_rawRow (748, 1)\n",
      "clusters_peakChannel (1085, 1)\n",
      "channels_brainLocation (748, 4)\n",
      "licks_times (3190, 1)\n",
      "Cori_2016-12-14_M2_g0_t0_imec_lf_timestamps (2, 2)\n",
      "trials_visualStim_times (214, 1)\n",
      "probes_sitePositions (384, 2)\n",
      "clusters_waveformDuration (1085, 1)\n",
      "passiveWhiteNoise_times (25, 1)\n",
      "passiveValveClick_times (25, 1)\n",
      "channels_sitePositions (748, 2)\n",
      "eye_area (267759, 1)\n",
      "trials_visualStim_contrastRight (214, 1)\n",
      "clusters_originalIDs (1085, 1)\n",
      "lickPiezo_timestamps (2, 2)\n",
      "clusters_probes (1085, 1)\n",
      "wheel_timestamps (2, 2)\n",
      "trials_intervals (214, 2)\n",
      "clusters_depths (1085, 1)\n",
      "trials_response_times (214, 1)\n",
      "sparseNoise_positions (7962, 2)\n",
      "Cori_2016-12-14_V1_g0_t0_imec_lf_timestamps (2, 2)\n",
      "probes_description (2, 1)\n",
      "spikes_times (10017476, 1)\n",
      "channels_site (748, 1)\n",
      "eye_timestamps (267759, 2)\n",
      "spontaneous_intervals (4, 2)\n",
      "trials_visualStim_contrastLeft (214, 1)\n",
      "clusters__phy_annotation (1085, 1)\n",
      "clusters_templateWaveforms (1085, 82, 50)\n",
      "lickPiezo_raw (1314000, 1)\n",
      "probes_rawFilename (2, 1)\n",
      "face_motionEnergy (106067, 1)\n",
      "channels_probe (748, 1)\n",
      "trials_repNum (214, 1)\n",
      "wheel_position (6570000, 1)\n",
      "sparseNoise_times (7962, 1)\n",
      "trials_goCue_times (214, 1)\n",
      "wheelMoves_type (507, 1)\n",
      "probes_insertion (2, 6)\n",
      "trials_feedbackType (214, 1)\n",
      "trials_response_choice (214, 1)\n",
      "spikes_depths (10017476, 1)\n",
      "eye_xyPos (267759, 2)\n",
      "spikes_clusters (10017476, 1)\n",
      "spikes_amps (10017476, 1)\n",
      "channels_df (748, 9)\n",
      "spikes_df (10017476, 2)\n",
      "clusters_df (1085, 4)\n",
      "trials_df (214, 12)\n"
     ]
    }
   ],
   "source": [
    "for key, value in nma_obj.std_session.items():\n",
    "    print(key, value.shape)"
   ]
  },
  {
   "cell_type": "code",
   "execution_count": 10,
   "metadata": {
    "cell_style": "center",
    "scrolled": true
   },
   "outputs": [
    {
     "data": {
      "application/vnd.jupyter.widget-view+json": {
       "model_id": "48455c176fa24b30a9d9efe7d0af174b",
       "version_major": 2,
       "version_minor": 0
      },
      "text/plain": [
       "QgridWidget(grid_options={'fullWidthRows': True, 'syncColumnCellResize': True, 'forceFitColumns': True, 'defau…"
      ]
     },
     "metadata": {},
     "output_type": "display_data"
    }
   ],
   "source": [
    "qgrid.show_grid(channels_df)"
   ]
  },
  {
   "cell_type": "code",
   "execution_count": 11,
   "metadata": {
    "cell_style": "center",
    "scrolled": true
   },
   "outputs": [
    {
     "data": {
      "application/vnd.jupyter.widget-view+json": {
       "model_id": "896439c36923440c98169cf541fa54aa",
       "version_major": 2,
       "version_minor": 0
      },
      "text/plain": [
       "QgridWidget(grid_options={'fullWidthRows': True, 'syncColumnCellResize': True, 'forceFitColumns': True, 'defau…"
      ]
     },
     "metadata": {},
     "output_type": "display_data"
    }
   ],
   "source": [
    "qgrid.show_grid(clusters_df)"
   ]
  },
  {
   "cell_type": "code",
   "execution_count": 12,
   "metadata": {},
   "outputs": [
    {
     "data": {
      "application/vnd.jupyter.widget-view+json": {
       "model_id": "83b6a8eba6f8411ca2f00c3209c0994f",
       "version_major": 2,
       "version_minor": 0
      },
      "text/plain": [
       "QgridWidget(grid_options={'fullWidthRows': True, 'syncColumnCellResize': True, 'forceFitColumns': True, 'defau…"
      ]
     },
     "metadata": {},
     "output_type": "display_data"
    }
   ],
   "source": [
    "qgrid.show_grid(trials_df)"
   ]
  },
  {
   "cell_type": "markdown",
   "metadata": {
    "colab_type": "text",
    "id": "y5OA26EeL6Tn"
   },
   "source": [
    "## Load Data\n"
   ]
  },
  {
   "cell_type": "markdown",
   "metadata": {
    "colab_type": "text",
    "heading_collapsed": true,
    "id": "eJEq3YPBOQgG"
   },
   "source": [
    "### via google drive directly"
   ]
  },
  {
   "cell_type": "code",
   "execution_count": null,
   "metadata": {
    "colab": {},
    "colab_type": "code",
    "executionInfo": {
     "elapsed": 1008,
     "status": "ok",
     "timestamp": 1595269079932,
     "user": {
      "displayName": "Max Hoheiser",
      "photoUrl": "https://lh3.googleusercontent.com/a-/AOh14GgcOj0xb1EjxBJ1OyxAUJAdknWQprdHmaELrwjcpo8=s64",
      "userId": "14108002061243669705"
     },
     "user_tz": -120
    },
    "hidden": true,
    "id": "_HA5zTtlOUs7"
   },
   "outputs": [],
   "source": [
    "def load_session(folder):\n",
    "    \"\"\"\n",
    "    load all files from given folder to dict\n",
    "    return dict with key as filenames\n",
    "    \"\"\"\n",
    "    # load session files ===========================================\n",
    "    from os import listdir\n",
    "    from os.path import isfile, join\n",
    "    files = [f for f in listdir(folder) if isfile(join(folder, f))]\n",
    "    names = ['_'.join(f.split('.')[:-1]) for f in files]\n",
    "    session = dict()\n",
    "    for (file_, name_) in zip(files, names):\n",
    "        if file_.split('.')[-1] == 'npy':\n",
    "        session[name_] = np.load(folder+'/'+file_)\n",
    "        if file_.split('.')[-1] == 'tsv':\n",
    "        session[name_] = pd.read_table(folder+'/'+file_)\n",
    "\n",
    "    # pars session info two dataframe ===============================\n",
    "    # create spike_df tataframe, with each spike time and the cluster it belongs to\n",
    "    spikes_df = pd.DataFrame( { 'cluster':session['spikes_clusters'][:,0], 'spike_times': session['spikes_times'][:,0] }, ) \n",
    "\n",
    "    # create cluster dataframe information and spikes for each cluster\n",
    "    clusters = np.unique(session['spikes_clusters'])\n",
    "    # create number of spikes, phy2 manual cluster, \n",
    "    # parse phy annotation\n",
    "    clusters_df = pd.DataFrame({'lable':session['clusters__phy_annotation'][:,0], 'probe':session['clusters_probes'][:,0], 'peak channel':session['clusters_peakChannel'][:,0]}, index=clusters )\n",
    "    # pars labels in strings 1 = good 3 = mua\n",
    "    #clusters_df['lable'] = clusters_df['lable'].apply( lambda lable: 'good' if lable==3 else ('mua' if lable==1 else 'bad') )\n",
    "\n",
    "    # create spikes colum with spiketimes\n",
    "    spk = pd.DataFrame( {'spikes':np.zeros(len(clusters), dtype=object)}, index=clusters )\n",
    "    for group, frame in spikes_df.groupby('cluster'):\n",
    "        spk['spikes'][group] = frame['spike_times'].values\n",
    "\n",
    "    #merge spike column with clusters_df\n",
    "    clusters_df = pd.merge(clusters_df, spk, how='right', left_index=True, right_index=True)\n",
    "    # set index name\n",
    "    clusters_df.index.name='cluster'\n",
    "    # number of spikes per cluster\n",
    "    clusters_df['total spikes'] = clusters_df['spikes'].apply(lambda row: len(row) )\n",
    "\n",
    "# def load_session(folder, sessions):\n",
    "#   \"\"\"\n",
    "#   load all files in each given session and add to session dict\n",
    "#   returs a dict of sessions, with each session a dict of files\n",
    "#   \"\"\"\n",
    "#   sessions_data = dict()\n",
    "#   for session in sessions:\n",
    "#     current_session = dict()\n",
    "#     sessions[session] = "
   ]
  },
  {
   "cell_type": "code",
   "execution_count": null,
   "metadata": {
    "colab": {},
    "colab_type": "code",
    "executionInfo": {
     "elapsed": 1951,
     "status": "ok",
     "timestamp": 1595269085237,
     "user": {
      "displayName": "Max Hoheiser",
      "photoUrl": "https://lh3.googleusercontent.com/a-/AOh14GgcOj0xb1EjxBJ1OyxAUJAdknWQprdHmaELrwjcpo8=s64",
      "userId": "14108002061243669705"
     },
     "user_tz": -120
    },
    "hidden": true,
    "id": "YEoWrAK7R0iK"
   },
   "outputs": [],
   "source": [
    "# example google colab load session\n",
    "#folder = \"/content/gdrive/My Drive/3 Projekte/Neuromatch Summer School/Projekt/steinmetz_dataset\"\n",
    "#folder = \"C:/Users/User/Google Drive/3 Projekte/Neuromatch Summer School/Projekt/steinmetz_dataset\"\n",
    "folder = \"Z:/3 Projekte/Neuromatch Summer School/Projekt/steinmetz_dataset\"\n",
    "\n",
    "subfolders = [ f.path for f in os.scandir(folder) if f.is_dir() ]\n",
    "sessions = [folder.split('/')[-1] for folder in subfolders]\n",
    "\n",
    "# load first session\n",
    "session = load_session(subfolders[0])"
   ]
  },
  {
   "cell_type": "code",
   "execution_count": null,
   "metadata": {
    "hidden": true
   },
   "outputs": [],
   "source": [
    "folder = \"Z:/3 Projekte/Neuromatch Summer School/Projekt/steinmetz_dataset/Cori_2016-12-14\"\n",
    "session = load_session(folder)"
   ]
  },
  {
   "cell_type": "code",
   "execution_count": null,
   "metadata": {
    "colab": {
     "base_uri": "https://localhost:8080/",
     "height": 995
    },
    "colab_type": "code",
    "executionInfo": {
     "elapsed": 1018,
     "status": "ok",
     "timestamp": 1595269197591,
     "user": {
      "displayName": "Max Hoheiser",
      "photoUrl": "https://lh3.googleusercontent.com/a-/AOh14GgcOj0xb1EjxBJ1OyxAUJAdknWQprdHmaELrwjcpo8=s64",
      "userId": "14108002061243669705"
     },
     "user_tz": -120
    },
    "hidden": true,
    "id": "N405jvVdarLc",
    "outputId": "26c24f45-564b-4d2e-f89e-83e6b6ce6eb6"
   },
   "outputs": [],
   "source": [
    "for key in session.keys():\n",
    "  print(key)"
   ]
  },
  {
   "cell_type": "markdown",
   "metadata": {
    "heading_collapsed": true
   },
   "source": [
    "### cleanup channel infos"
   ]
  },
  {
   "cell_type": "code",
   "execution_count": null,
   "metadata": {
    "hidden": true
   },
   "outputs": [],
   "source": [
    "# load channel brain location infos\n",
    "brain = pd.DataFrame(session['channels_brainLocation'])\n",
    "# load channel probes\n",
    "site = pd.DataFrame(session['channels_sitePositions'], columns=['channel 0', 'channel 1'])\n",
    "# merge with channles_df\n",
    "channels_df = pd.merge(brain, site, how='inner', left_index=True, right_index=True)\n",
    "# load probe, row and site\n",
    "meta = pd.DataFrame({'probe':session['channels_probe'][:,0],\n",
    "                            'raw row':session['channels_rawRow'][:,0],\n",
    "                            'channels_site':session['channels_site'][:,0] })\n",
    "# merge metha with channel_df\n",
    "channels_df = pd.merge(channels_df, meta, how='inner', left_index=True, right_index=True)"
   ]
  },
  {
   "cell_type": "code",
   "execution_count": null,
   "metadata": {
    "hidden": true,
    "scrolled": true
   },
   "outputs": [],
   "source": [
    "qgrid.show_grid(channels_df)"
   ]
  },
  {
   "cell_type": "markdown",
   "metadata": {
    "heading_collapsed": true
   },
   "source": [
    "### cleaning up spikes"
   ]
  },
  {
   "cell_type": "code",
   "execution_count": null,
   "metadata": {
    "hidden": true,
    "scrolled": true
   },
   "outputs": [],
   "source": [
    "# create spike_df tataframe, with each spike time and the cluster it belongs to\n",
    "spikes_df = pd.DataFrame( { 'cluster':session['spikes_clusters'][:,0], 'spike_times': session['spikes_times'][:,0] }, ) \n",
    "qgrid.show_grid(spikes_df)"
   ]
  },
  {
   "cell_type": "code",
   "execution_count": null,
   "metadata": {
    "colab": {
     "base_uri": "https://localhost:8080/",
     "height": 141
    },
    "colab_type": "code",
    "executionInfo": {
     "elapsed": 942,
     "status": "ok",
     "timestamp": 1595269247514,
     "user": {
      "displayName": "Max Hoheiser",
      "photoUrl": "https://lh3.googleusercontent.com/a-/AOh14GgcOj0xb1EjxBJ1OyxAUJAdknWQprdHmaELrwjcpo8=s64",
      "userId": "14108002061243669705"
     },
     "user_tz": -120
    },
    "hidden": true,
    "id": "qVP2hfQSdFj_",
    "outputId": "6e2e250b-8bcd-44af-bf49-498d767e1ce4",
    "scrolled": true
   },
   "outputs": [],
   "source": [
    "# create cluster dataframe information and spikes for each cluster\n",
    "clusters = np.unique(session['spikes_clusters'])\n",
    "# create number of spikes, phy2 manual cluster, \n",
    "# parse phy annotation\n",
    "clusters_df = pd.DataFrame({'lable':session['clusters__phy_annotation'][:,0], 'probe':session['clusters_probes'][:,0], 'peak channel':session['clusters_peakChannel'][:,0]}, index=clusters )\n",
    "# pars labels in strings 1 = good 3 = mua\n",
    "#clusters_df['lable'] = clusters_df['lable'].apply( lambda lable: 'good' if lable==3 else ('mua' if lable==1 else 'bad') )\n",
    "\n",
    "\n",
    "\n",
    "# create spikes colum with spiketimes\n",
    "spk = pd.DataFrame( {'spikes':np.zeros(len(clusters), dtype=object)}, index=clusters )\n",
    "for group, frame in spikes_df.groupby('cluster'):\n",
    "    spk['spikes'][group] = frame['spike_times'].values\n",
    "\n",
    "#merge spike column with clusters_df\n",
    "clusters_df = pd.merge(clusters_df, spk, how='right', left_index=True, right_index=True)\n",
    "# set index name\n",
    "clusters_df.index.name='cluster'\n",
    "# number of spikes per cluster\n",
    "clusters_df['total spikes'] = clusters_df['spikes'].apply(lambda row: len(row) )"
   ]
  },
  {
   "cell_type": "code",
   "execution_count": null,
   "metadata": {
    "hidden": true
   },
   "outputs": [],
   "source": [
    "qgrid.show_grid(clusters_df)"
   ]
  },
  {
   "cell_type": "markdown",
   "metadata": {
    "heading_collapsed": true
   },
   "source": [
    "### cleanup trial info"
   ]
  },
  {
   "cell_type": "code",
   "execution_count": 14,
   "metadata": {
    "hidden": true
   },
   "outputs": [
    {
     "name": "stdout",
     "output_type": "stream",
     "text": [
      "(214, 1)\n",
      "(214, 1)\n",
      "(214, 1)\n",
      "(214, 1)\n",
      "(214, 2)\n",
      "(214, 1)\n",
      "(214, 1)\n",
      "(214, 1)\n",
      "(214, 1)\n",
      "(214, 1)\n",
      "(214, 1)\n"
     ]
    }
   ],
   "source": [
    "print(session['trials_feedbackType'].shape)\n",
    "print(session['trials_feedback_times'].shape)\n",
    "print(session['trials_goCue_times'].shape)\n",
    "print(session['trials_included'].shape)\n",
    "print(session['trials_intervals'].shape)\n",
    "print(session['trials_repNum'].shape)\n",
    "print(session['trials_response_choice'].shape)\n",
    "print(session['trials_response_times'].shape)\n",
    "print(session['trials_visualStim_contrastLeft'].shape)\n",
    "print(session['trials_visualStim_contrastRight'].shape)\n",
    "print(session['trials_visualStim_times'].shape)"
   ]
  },
  {
   "cell_type": "code",
   "execution_count": 15,
   "metadata": {
    "hidden": true
   },
   "outputs": [],
   "source": [
    "# create trials dataframe\n",
    "trials_df = pd.DataFrame({'included':session['trials_included'][:,0],\n",
    "                          'repetition number':session['trials_repNum'][:,0],\n",
    "                          # times of events\n",
    "                          'go cue':session['trials_goCue_times'][:,0],\n",
    "                          'stim time':session['trials_visualStim_times'][:,0],\n",
    "                          'response time':session['trials_response_times'][:,0],\n",
    "                          'feedback time':session['trials_feedback_times'][:,0],\n",
    "                          \n",
    "                          #'intervals':session['trials_intervals'][:,0], # same as go cue\n",
    "                          \n",
    "                          \n",
    "                          'go cue':session['trials_intervals'][:,0],\n",
    "                          \n",
    "                          'stim contrast left':session['trials_visualStim_contrastLeft'][:,0],\n",
    "                          'stim contrast right':session['trials_visualStim_contrastRight'][:,0],\n",
    "                          \n",
    "                          'response choice':session['trials_response_choice'][:,0],\n",
    "                          'response time':session['trials_response_times'][:,0],\n",
    "                          'feedback type':session['trials_feedbackType'][:,0],\n",
    "                          \n",
    "                         })"
   ]
  },
  {
   "cell_type": "code",
   "execution_count": 29,
   "metadata": {},
   "outputs": [
    {
     "data": {
      "text/html": [
       "<div>\n",
       "<style scoped>\n",
       "    .dataframe tbody tr th:only-of-type {\n",
       "        vertical-align: middle;\n",
       "    }\n",
       "\n",
       "    .dataframe tbody tr th {\n",
       "        vertical-align: top;\n",
       "    }\n",
       "\n",
       "    .dataframe thead th {\n",
       "        text-align: right;\n",
       "    }\n",
       "</style>\n",
       "<table border=\"1\" class=\"dataframe\">\n",
       "  <thead>\n",
       "    <tr style=\"text-align: right;\">\n",
       "      <th></th>\n",
       "      <th>included</th>\n",
       "      <th>repetition number</th>\n",
       "      <th>go cue</th>\n",
       "      <th>stim time</th>\n",
       "      <th>response time</th>\n",
       "      <th>feedback time</th>\n",
       "      <th>stim contrast left</th>\n",
       "      <th>stim contrast right</th>\n",
       "      <th>response choice</th>\n",
       "      <th>feedback type</th>\n",
       "    </tr>\n",
       "  </thead>\n",
       "  <tbody>\n",
       "    <tr>\n",
       "      <td>0</td>\n",
       "      <td>True</td>\n",
       "      <td>1.0</td>\n",
       "      <td>62.900284</td>\n",
       "      <td>65.269408</td>\n",
       "      <td>66.419612</td>\n",
       "      <td>66.456227</td>\n",
       "      <td>1.00</td>\n",
       "      <td>0.0</td>\n",
       "      <td>1.0</td>\n",
       "      <td>1.0</td>\n",
       "    </tr>\n",
       "    <tr>\n",
       "      <td>1</td>\n",
       "      <td>True</td>\n",
       "      <td>1.0</td>\n",
       "      <td>68.420838</td>\n",
       "      <td>71.202703</td>\n",
       "      <td>72.602206</td>\n",
       "      <td>72.640326</td>\n",
       "      <td>0.00</td>\n",
       "      <td>0.5</td>\n",
       "      <td>-1.0</td>\n",
       "      <td>1.0</td>\n",
       "    </tr>\n",
       "    <tr>\n",
       "      <td>2</td>\n",
       "      <td>True</td>\n",
       "      <td>1.0</td>\n",
       "      <td>74.602902</td>\n",
       "      <td>76.052380</td>\n",
       "      <td>77.001671</td>\n",
       "      <td>77.038396</td>\n",
       "      <td>1.00</td>\n",
       "      <td>0.5</td>\n",
       "      <td>1.0</td>\n",
       "      <td>1.0</td>\n",
       "    </tr>\n",
       "    <tr>\n",
       "      <td>3</td>\n",
       "      <td>True</td>\n",
       "      <td>1.0</td>\n",
       "      <td>79.003653</td>\n",
       "      <td>81.235263</td>\n",
       "      <td>83.502065</td>\n",
       "      <td>83.531699</td>\n",
       "      <td>0.00</td>\n",
       "      <td>0.0</td>\n",
       "      <td>0.0</td>\n",
       "      <td>1.0</td>\n",
       "    </tr>\n",
       "    <tr>\n",
       "      <td>4</td>\n",
       "      <td>True</td>\n",
       "      <td>1.0</td>\n",
       "      <td>85.501795</td>\n",
       "      <td>86.800952</td>\n",
       "      <td>87.617727</td>\n",
       "      <td>87.628565</td>\n",
       "      <td>0.50</td>\n",
       "      <td>1.0</td>\n",
       "      <td>1.0</td>\n",
       "      <td>-1.0</td>\n",
       "    </tr>\n",
       "    <tr>\n",
       "      <td>...</td>\n",
       "      <td>...</td>\n",
       "      <td>...</td>\n",
       "      <td>...</td>\n",
       "      <td>...</td>\n",
       "      <td>...</td>\n",
       "      <td>...</td>\n",
       "      <td>...</td>\n",
       "      <td>...</td>\n",
       "      <td>...</td>\n",
       "      <td>...</td>\n",
       "    </tr>\n",
       "    <tr>\n",
       "      <td>209</td>\n",
       "      <td>False</td>\n",
       "      <td>5.0</td>\n",
       "      <td>1109.529226</td>\n",
       "      <td>1110.110867</td>\n",
       "      <td>1111.564004</td>\n",
       "      <td>1111.571290</td>\n",
       "      <td>0.25</td>\n",
       "      <td>1.0</td>\n",
       "      <td>1.0</td>\n",
       "      <td>-1.0</td>\n",
       "    </tr>\n",
       "    <tr>\n",
       "      <td>210</td>\n",
       "      <td>False</td>\n",
       "      <td>6.0</td>\n",
       "      <td>1113.562081</td>\n",
       "      <td>1114.277333</td>\n",
       "      <td>1115.497692</td>\n",
       "      <td>1115.508153</td>\n",
       "      <td>0.25</td>\n",
       "      <td>1.0</td>\n",
       "      <td>1.0</td>\n",
       "      <td>-1.0</td>\n",
       "    </tr>\n",
       "    <tr>\n",
       "      <td>211</td>\n",
       "      <td>False</td>\n",
       "      <td>7.0</td>\n",
       "      <td>1117.495128</td>\n",
       "      <td>1117.926592</td>\n",
       "      <td>1120.232805</td>\n",
       "      <td>1120.237428</td>\n",
       "      <td>0.25</td>\n",
       "      <td>1.0</td>\n",
       "      <td>0.0</td>\n",
       "      <td>-1.0</td>\n",
       "    </tr>\n",
       "    <tr>\n",
       "      <td>212</td>\n",
       "      <td>False</td>\n",
       "      <td>8.0</td>\n",
       "      <td>1122.231454</td>\n",
       "      <td>1122.576266</td>\n",
       "      <td>1124.854126</td>\n",
       "      <td>1124.857902</td>\n",
       "      <td>0.25</td>\n",
       "      <td>1.0</td>\n",
       "      <td>0.0</td>\n",
       "      <td>-1.0</td>\n",
       "    </tr>\n",
       "    <tr>\n",
       "      <td>213</td>\n",
       "      <td>False</td>\n",
       "      <td>9.0</td>\n",
       "      <td>1126.854664</td>\n",
       "      <td>1127.542745</td>\n",
       "      <td>1129.013126</td>\n",
       "      <td>1129.017168</td>\n",
       "      <td>0.25</td>\n",
       "      <td>1.0</td>\n",
       "      <td>1.0</td>\n",
       "      <td>-1.0</td>\n",
       "    </tr>\n",
       "  </tbody>\n",
       "</table>\n",
       "<p>214 rows × 10 columns</p>\n",
       "</div>"
      ],
      "text/plain": [
       "     included  repetition number       go cue    stim time  response time  \\\n",
       "0        True                1.0    62.900284    65.269408      66.419612   \n",
       "1        True                1.0    68.420838    71.202703      72.602206   \n",
       "2        True                1.0    74.602902    76.052380      77.001671   \n",
       "3        True                1.0    79.003653    81.235263      83.502065   \n",
       "4        True                1.0    85.501795    86.800952      87.617727   \n",
       "..        ...                ...          ...          ...            ...   \n",
       "209     False                5.0  1109.529226  1110.110867    1111.564004   \n",
       "210     False                6.0  1113.562081  1114.277333    1115.497692   \n",
       "211     False                7.0  1117.495128  1117.926592    1120.232805   \n",
       "212     False                8.0  1122.231454  1122.576266    1124.854126   \n",
       "213     False                9.0  1126.854664  1127.542745    1129.013126   \n",
       "\n",
       "     feedback time  stim contrast left  stim contrast right  response choice  \\\n",
       "0        66.456227                1.00                  0.0              1.0   \n",
       "1        72.640326                0.00                  0.5             -1.0   \n",
       "2        77.038396                1.00                  0.5              1.0   \n",
       "3        83.531699                0.00                  0.0              0.0   \n",
       "4        87.628565                0.50                  1.0              1.0   \n",
       "..             ...                 ...                  ...              ...   \n",
       "209    1111.571290                0.25                  1.0              1.0   \n",
       "210    1115.508153                0.25                  1.0              1.0   \n",
       "211    1120.237428                0.25                  1.0              0.0   \n",
       "212    1124.857902                0.25                  1.0              0.0   \n",
       "213    1129.017168                0.25                  1.0              1.0   \n",
       "\n",
       "     feedback type  \n",
       "0              1.0  \n",
       "1              1.0  \n",
       "2              1.0  \n",
       "3              1.0  \n",
       "4             -1.0  \n",
       "..             ...  \n",
       "209           -1.0  \n",
       "210           -1.0  \n",
       "211           -1.0  \n",
       "212           -1.0  \n",
       "213           -1.0  \n",
       "\n",
       "[214 rows x 10 columns]"
      ]
     },
     "execution_count": 29,
     "metadata": {},
     "output_type": "execute_result"
    }
   ],
   "source": [
    "trials_df"
   ]
  },
  {
   "cell_type": "code",
   "execution_count": 16,
   "metadata": {
    "hidden": true
   },
   "outputs": [
    {
     "data": {
      "application/vnd.jupyter.widget-view+json": {
       "model_id": "86485fc797c34826ad5656fbce2352ff",
       "version_major": 2,
       "version_minor": 0
      },
      "text/plain": [
       "QgridWidget(grid_options={'fullWidthRows': True, 'syncColumnCellResize': True, 'forceFitColumns': True, 'defau…"
      ]
     },
     "metadata": {},
     "output_type": "display_data"
    }
   ],
   "source": [
    "qgrid.show_grid(trials_df)"
   ]
  },
  {
   "cell_type": "code",
   "execution_count": 17,
   "metadata": {
    "hidden": true
   },
   "outputs": [
    {
     "name": "stdout",
     "output_type": "stream",
     "text": [
      "(6570000, 1)\n",
      "(2, 2)\n",
      "(507, 2)\n",
      "(507, 1)\n"
     ]
    }
   ],
   "source": [
    "# add wheelmovement\n",
    "print(session['wheel_position'].shape)\n",
    "print(session['wheel_timestamps'].shape)\n",
    "print(session['wheelMoves_intervals'].shape)\n",
    "print(session['wheelMoves_type'].shape)"
   ]
  },
  {
   "cell_type": "code",
   "execution_count": 19,
   "metadata": {
    "hidden": true
   },
   "outputs": [],
   "source": [
    "wheel_df = pd.merge( pd.DataFrame(session['wheelMoves_intervals']), pd.DataFrame(session['wheelMoves_type']), how='left', left_index=True, right_index=True)"
   ]
  },
  {
   "cell_type": "code",
   "execution_count": 23,
   "metadata": {},
   "outputs": [
    {
     "data": {
      "text/plain": [
       "[<matplotlib.lines.Line2D at 0x1a389c0550>]"
      ]
     },
     "execution_count": 23,
     "metadata": {},
     "output_type": "execute_result"
    },
    {
     "data": {
      "image/png": "[encoded data removed]",
      "text/plain": [
       "<Figure size 432x288 with 1 Axes>"
      ]
     },
     "metadata": {
      "needs_background": "light"
     },
     "output_type": "display_data"
    }
   ],
   "source": [
    "plt.figure\n",
    "wheelpos = session['wheel_position']\n",
    "plt.plot(wheelpos)"
   ]
  },
  {
   "cell_type": "code",
   "execution_count": null,
   "metadata": {
    "hidden": true
   },
   "outputs": [],
   "source": [
    "qgrid.show_grid(pd.DataFrame(wheel_df))"
   ]
  }
 ],
 "metadata": {
  "colab": {
   "authorship_tag": "ABX9TyP3Rua9vwNc6w9+RtEjpB15",
   "name": "Project.ipynb",
   "provenance": []
  },
  "kernelspec": {
   "display_name": "Python 3",
   "language": "python",
   "name": "python3"
  },
  "language_info": {
   "codemirror_mode": {
    "name": "ipython",
    "version": 3
   },
   "file_extension": ".py",
   "mimetype": "text/x-python",
   "name": "python",
   "nbconvert_exporter": "python",
   "pygments_lexer": "ipython3",
   "version": "3.7.4"
  },
  "toc": {
   "base_numbering": 1,
   "nav_menu": {},
   "number_sections": true,
   "sideBar": true,
   "skip_h1_title": false,
   "title_cell": "Table of Contents",
   "title_sidebar": "Contents",
   "toc_cell": true,
   "toc_position": {},
   "toc_section_display": true,
   "toc_window_display": false
  },
  "varInspector": {
   "cols": {
    "lenName": 16,
    "lenType": 16,
    "lenVar": 40
   },
   "kernels_config": {
    "python": {
     "delete_cmd_postfix": "",
     "delete_cmd_prefix": "del ",
     "library": "var_list.py",
     "varRefreshCmd": "print(var_dic_list())"
    },
    "r": {
     "delete_cmd_postfix": ") ",
     "delete_cmd_prefix": "rm(",
     "library": "var_list.r",
     "varRefreshCmd": "cat(var_dic_list()) "
    }
   },
   "types_to_exclude": [
    "module",
    "function",
    "builtin_function_or_method",
    "instance",
    "_Feature"
   ],
   "window_display": false
  }
 },
 "nbformat": 4,
 "nbformat_minor": 4
}
