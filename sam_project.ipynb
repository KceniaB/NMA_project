{
 "cells": [
  {
   "cell_type": "markdown",
   "metadata": {
    "toc": true
   },
   "source": [
    "<h1>Table of Contents<span class=\"tocSkip\"></span></h1>\n",
    "<div class=\"toc\"><ul class=\"toc-item\"><li><ul class=\"toc-item\"><li><ul class=\"toc-item\"><li><ul class=\"toc-item\"><li><span><a href=\"#libraries-and-widgets\" data-toc-modified-id=\"libraries-and-widgets-0.0.0.1\"><span class=\"toc-item-num\">0.0.0.1&nbsp;&nbsp;</span>libraries and widgets</a></span></li></ul></li></ul></li></ul></li><li><span><a href=\"#Neuromatch-Academy-Project---Steinmetz-Dataset---Mouse-Mind-Reading\" data-toc-modified-id=\"Neuromatch-Academy-Project---Steinmetz-Dataset---Mouse-Mind-Reading-1\"><span class=\"toc-item-num\">1&nbsp;&nbsp;</span>Neuromatch Academy Project - Steinmetz Dataset - Mouse Mind Reading</a></span><ul class=\"toc-item\"><li><ul class=\"toc-item\"><li><ul class=\"toc-item\"><li><span><a href=\"#explore-dictionary-for-session\" data-toc-modified-id=\"explore-dictionary-for-session-1.0.0.1\"><span class=\"toc-item-num\">1.0.0.1&nbsp;&nbsp;</span>explore dictionary for session</a></span></li></ul></li></ul></li><li><span><a href=\"#Load-Data\" data-toc-modified-id=\"Load-Data-1.1\"><span class=\"toc-item-num\">1.1&nbsp;&nbsp;</span>Load Data</a></span><ul class=\"toc-item\"><li><span><a href=\"#via-google-drive-directly\" data-toc-modified-id=\"via-google-drive-directly-1.1.1\"><span class=\"toc-item-num\">1.1.1&nbsp;&nbsp;</span>via google drive directly</a></span></li><li><span><a href=\"#cleanup-channel-infos\" data-toc-modified-id=\"cleanup-channel-infos-1.1.2\"><span class=\"toc-item-num\">1.1.2&nbsp;&nbsp;</span>cleanup channel infos</a></span></li><li><span><a href=\"#cleaning-up-spikes\" data-toc-modified-id=\"cleaning-up-spikes-1.1.3\"><span class=\"toc-item-num\">1.1.3&nbsp;&nbsp;</span>cleaning up spikes</a></span></li><li><span><a href=\"#cleanup-trial-info\" data-toc-modified-id=\"cleanup-trial-info-1.1.4\"><span class=\"toc-item-num\">1.1.4&nbsp;&nbsp;</span>cleanup trial info</a></span></li></ul></li></ul></li></ul></div>"
   ]
  },
  {
   "cell_type": "code",
   "execution_count": 1,
   "metadata": {
    "colab": {
     "base_uri": "https://localhost:8080/",
     "height": 35
    },
    "colab_type": "code",
    "executionInfo": {
     "elapsed": 1269,
     "status": "ok",
     "timestamp": 1595266937803,
     "user": {
      "displayName": "Max Hoheiser",
      "photoUrl": "https://lh3.googleusercontent.com/a-/AOh14GgcOj0xb1EjxBJ1OyxAUJAdknWQprdHmaELrwjcpo8=s64",
      "userId": "14108002061243669705"
     },
     "user_tz": -120
    },
    "id": "JA0mhl-7Lu_s",
    "outputId": "39b3cb5a-35dc-48e2-822b-89978d2df42a"
   },
   "outputs": [],
   "source": [
    "import numpy as np\n",
    "import matplotlib.pyplot as plt\n",
    "import os\n",
    "import pandas as pd\n",
    "import qgrid\n",
    "import requests\n",
    "import hashlib\n",
    "import pickle\n",
    "\n",
    "from sklearn.linear_model import LogisticRegression\n",
    "from sklearn.model_selection import cross_val_score\n",
    "\n",
    "#from nma_class import NMA_project\n",
    "from nma_class import loader\n",
    "\n",
    "\n",
    "%matplotlib inline"
   ]
  },
  {
   "cell_type": "code",
   "execution_count": 2,
   "metadata": {},
   "outputs": [],
   "source": [
    "#Helper functions taken from the tutorial\n",
    "\n",
    "def plot_weights(models, sharey=True):\n",
    "    \"\"\"Draw a stem plot of weights for each model in models dict.\"\"\"\n",
    "    n = len(models)\n",
    "    f = plt.figure(figsize=(10, 2.5 * n))\n",
    "    axs = f.subplots(n, sharex=True, sharey=sharey)\n",
    "    axs = np.atleast_1d(axs)\n",
    "    for ax, (title, model) in zip(axs, models.items()):\n",
    "        ax.margins(x=.02)\n",
    "        stem = ax.stem(model.coef_.squeeze(), use_line_collection=True)\n",
    "        stem[0].set_marker(\".\")\n",
    "        stem[0].set_color(\".2\")\n",
    "        stem[1].set_linewidths(.5)\n",
    "        stem[1].set_color(\".2\")\n",
    "        stem[2].set_visible(False)\n",
    "        ax.axhline(0, color=\"C3\", lw=3)\n",
    "        ax.set(ylabel=\"Weight\", title=title)\n",
    "    ax.set(xlabel=\"Neuron (a.k.a. feature)\")\n",
    "    f.tight_layout()\n",
    "\n",
    "\n",
    "def plot_function(f, name, var, points=(-10, 10)):\n",
    "    \"\"\"Evaluate f() on linear space between points and plot.\n",
    "\n",
    "    Args:\n",
    "      f (callable): function that maps scalar -> scalar\n",
    "      name (string): Function name for axis labels\n",
    "      var (string): Variable name for axis labels.\n",
    "      points (tuple): Args for np.linspace to create eval grid.\n",
    "    \"\"\"\n",
    "    x = np.linspace(*points)\n",
    "    ax = plt.figure().subplots()\n",
    "    ax.plot(x, f(x))\n",
    "    ax.set(\n",
    "      xlabel=f'${var}$',\n",
    "      ylabel=f'${name}({var})$'\n",
    "    )\n",
    "\n",
    "def plot_model_selection(C_values, accuracies):\n",
    "    \"\"\"Plot the accuracy curve over log-spaced C values.\"\"\"\n",
    "    ax = plt.figure().subplots()\n",
    "    ax.set_xscale(\"log\")\n",
    "    ax.plot(C_values, accuracies, marker=\"o\")\n",
    "    best_C = C_values[np.argmax(accuracies)]\n",
    "    ax.set(\n",
    "      xticks=C_values,\n",
    "      xlabel=\"$C$\",\n",
    "      ylabel=\"Cross-validated accuracy\",\n",
    "      title=f\"Best C: {best_C:1g} ({np.max(accuracies):.2%})\",\n",
    "    )\n",
    "\n",
    "def plot_non_zero_coefs(C_values, non_zero_l1, n_voxels):\n",
    "    \"\"\"Plot the accuracy curve over log-spaced C values.\"\"\"\n",
    "    ax = plt.figure().subplots()\n",
    "    ax.set_xscale(\"log\")\n",
    "    ax.plot(C_values, non_zero_l1, marker=\"o\")\n",
    "    ax.set(\n",
    "    xticks=C_values,\n",
    "    xlabel=\"$C$\",\n",
    "    ylabel=\"Number of non-zero coefficients\",\n",
    "    )\n",
    "    ax.axhline(n_voxels, color=\".1\", linestyle=\":\")\n",
    "    ax.annotate(\"Total\\n# Neurons\", (C_values[0], n_voxels * .98), va=\"top\")\n",
    "\n",
    "def sigmoid(z):\n",
    "    return 1 / (1+np.exp(-z))"
   ]
  },
  {
   "cell_type": "code",
   "execution_count": 3,
   "metadata": {},
   "outputs": [],
   "source": [
    "import matlab.engine\n",
    "eng = matlab.engine.start_matlab()"
   ]
  },
  {
   "cell_type": "markdown",
   "metadata": {
    "heading_collapsed": true
   },
   "source": [
    "#### libraries and widgets\n",
    "- qgrid\n",
    "- nbextentions"
   ]
  },
  {
   "cell_type": "code",
   "execution_count": 4,
   "metadata": {
    "hidden": true
   },
   "outputs": [],
   "source": [
    "# only if you are on google coalb not if you are on jupyter notebook\n",
    "#from google.colab import drive\n",
    "#drive.mount('/content/gdrive')"
   ]
  },
  {
   "cell_type": "markdown",
   "metadata": {},
   "source": [
    "# Neuromatch Academy Project - Steinmetz Dataset - Mouse Mind Reading"
   ]
  },
  {
   "cell_type": "code",
   "execution_count": 359,
   "metadata": {},
   "outputs": [
    {
     "name": "stdout",
     "output_type": "stream",
     "text": [
      "0 /Cori_2016-12-14\n",
      "1 /Forssmann_2017-11-01\n",
      "2 /Forssmann_2017-11-02\n",
      "3 /Hench_2017-06-15\n",
      "4 /Muller_2017-01-07\n",
      "5 /Radnitz_2017-01-08\n",
      "6 /Radnitz_2017-01-09\n",
      "7 /Radnitz_2017-01-10\n",
      "8 /Radnitz_2017-01-11\n",
      "9 /Theiler_2017-10-11\n"
     ]
    }
   ],
   "source": [
    "igood = np.array([0, 3, 4, 7, 21, 24,25,26,27,38])\n",
    "good_session_folders = np.array(all_session_folders)[igood]\n",
    "for i,f in enumerate(good_session_folders):\n",
    "    print(i,f[38:])"
   ]
  },
  {
   "cell_type": "code",
   "execution_count": 417,
   "metadata": {
    "colab": {
     "base_uri": "https://localhost:8080/",
     "height": 35
    },
    "colab_type": "code",
    "executionInfo": {
     "elapsed": 1487,
     "status": "ok",
     "timestamp": 1595266942323,
     "user": {
      "displayName": "Max Hoheiser",
      "photoUrl": "https://lh3.googleusercontent.com/a-/AOh14GgcOj0xb1EjxBJ1OyxAUJAdknWQprdHmaELrwjcpo8=s64",
      "userId": "14108002061243669705"
     },
     "user_tz": -120
    },
    "id": "Nw8xyyd5UaC5",
    "outputId": "ca4e4160-777a-42a6-f72b-2b61f97454e3"
   },
   "outputs": [
    {
     "name": "stdout",
     "output_type": "stream",
     "text": [
      "//Volumes/Samsung_T5/steinmetz_dataset/Theiler_2017-10-11\n"
     ]
    }
   ],
   "source": [
    "#idx = 17\n",
    "idx = 38\n",
    "igood = np.array([0, 3, 4, 7, 21, 24,25,26,27,38])\n",
    "\n",
    "# link to parent folder with all datasets\n",
    "#main_folder = \"/content/gdrive/My Drive/3 Projekte/Neuromatch Summer School/Projekt/steinmetz_dataset\"\n",
    "#main_folder = \"C:/Users/User/Google Drive/3 Projekte/Neuromatch Summer School/Projekt/steinmetz_dataset\"\n",
    "#main_folder = \"Z:/3 Projekte/Neuromatch Summer School/Projekt/steinmetz_dataset\"\n",
    "main_folder = os.path.join('//Volumes','Samsung_T5','steinmetz_dataset')\n",
    "code_folder = os.path.join('/Users/sam/Code/NMA','NMA_project')\n",
    "\n",
    "# create session object\n",
    "#nma_obj = NMA_project(main_folder) \n",
    "\n",
    "# initialize loader object\n",
    "nma_obj = loader(main_folder)\n",
    "\n",
    "# get available sessions\n",
    "all_session_folders, all_session_names = nma_obj.get_available_session()\n",
    "all_session_folders.sort()\n",
    "good_session_folders = np.array(all_session_folders)[igood]\n",
    "\n",
    "# default session is initialized, extract interesting dataframes in dedicated variables\n",
    "#session = nma_obj.std_session\n",
    "\n",
    "# load default session = \n",
    "session = nma_obj.load_session(all_session_folders[idx])\n",
    "print(all_session_folders[idx])\n",
    "\n",
    "#channels_df = session['channels_df']\n",
    "spikes_df = session['spikes_df']\n",
    "clusters_df = session['clusters_df']\n",
    "trials_df = session['trials_df']\n"
   ]
  },
  {
   "cell_type": "code",
   "execution_count": 418,
   "metadata": {},
   "outputs": [
    {
     "data": {
      "text/html": [
       "<div>\n",
       "<style scoped>\n",
       "    .dataframe tbody tr th:only-of-type {\n",
       "        vertical-align: middle;\n",
       "    }\n",
       "\n",
       "    .dataframe tbody tr th {\n",
       "        vertical-align: top;\n",
       "    }\n",
       "\n",
       "    .dataframe thead th {\n",
       "        text-align: right;\n",
       "    }\n",
       "</style>\n",
       "<table border=\"1\" class=\"dataframe\">\n",
       "  <thead>\n",
       "    <tr style=\"text-align: right;\">\n",
       "      <th></th>\n",
       "      <th>label</th>\n",
       "      <th>spikes</th>\n",
       "      <th>total spikes</th>\n",
       "      <th>recording area</th>\n",
       "    </tr>\n",
       "    <tr>\n",
       "      <th>cluster</th>\n",
       "      <th></th>\n",
       "      <th></th>\n",
       "      <th></th>\n",
       "      <th></th>\n",
       "    </tr>\n",
       "  </thead>\n",
       "  <tbody>\n",
       "    <tr>\n",
       "      <td>0</td>\n",
       "      <td>mua</td>\n",
       "      <td>[1468.7524, 1603.5938, 1619.1727333333333, 163...</td>\n",
       "      <td>250</td>\n",
       "      <td>VISp</td>\n",
       "    </tr>\n",
       "    <tr>\n",
       "      <td>1</td>\n",
       "      <td>mua</td>\n",
       "      <td>[131.64823333333334, 751.7291333333334, 1398.9...</td>\n",
       "      <td>213</td>\n",
       "      <td>VISp</td>\n",
       "    </tr>\n",
       "    <tr>\n",
       "      <td>2</td>\n",
       "      <td>mua</td>\n",
       "      <td>[1502.5752, 1691.5494333333334, 1806.714233333...</td>\n",
       "      <td>131</td>\n",
       "      <td>root</td>\n",
       "    </tr>\n",
       "    <tr>\n",
       "      <td>5</td>\n",
       "      <td>mua</td>\n",
       "      <td>[46.15796666666667, 416.81243333333333, 565.27...</td>\n",
       "      <td>1486</td>\n",
       "      <td>VISp</td>\n",
       "    </tr>\n",
       "    <tr>\n",
       "      <td>6</td>\n",
       "      <td>mua</td>\n",
       "      <td>[1.0565666666666667, 1.9639, 2.661166666666666...</td>\n",
       "      <td>4535</td>\n",
       "      <td>SUB</td>\n",
       "    </tr>\n",
       "  </tbody>\n",
       "</table>\n",
       "</div>"
      ],
      "text/plain": [
       "        label                                             spikes  \\\n",
       "cluster                                                            \n",
       "0         mua  [1468.7524, 1603.5938, 1619.1727333333333, 163...   \n",
       "1         mua  [131.64823333333334, 751.7291333333334, 1398.9...   \n",
       "2         mua  [1502.5752, 1691.5494333333334, 1806.714233333...   \n",
       "5         mua  [46.15796666666667, 416.81243333333333, 565.27...   \n",
       "6         mua  [1.0565666666666667, 1.9639, 2.661166666666666...   \n",
       "\n",
       "         total spikes recording area  \n",
       "cluster                               \n",
       "0                 250           VISp  \n",
       "1                 213           VISp  \n",
       "2                 131           root  \n",
       "5                1486           VISp  \n",
       "6                4535            SUB  "
      ]
     },
     "execution_count": 418,
     "metadata": {},
     "output_type": "execute_result"
    }
   ],
   "source": [
    "clusters_df.drop(clusters_df[clusters_df['label']=='bad'].index, axis=0, inplace=True)\n",
    "clusters_df.head()"
   ]
  },
  {
   "cell_type": "code",
   "execution_count": 419,
   "metadata": {},
   "outputs": [],
   "source": [
    "# Filter to visual area\n",
    "cluster_visual_df = clusters_df.loc[(clusters_df['recording area']=='VISa')\n",
    "                                     | (clusters_df['recording area']=='VISam')\n",
    "                                     | (clusters_df['recording area']=='VISI')\n",
    "                                     | (clusters_df['recording area']=='VISp')\n",
    "                                     | (clusters_df['recording area']=='VISpm')\n",
    "                                     | (clusters_df['recording area']=='VISrl')]"
   ]
  },
  {
   "cell_type": "code",
   "execution_count": 420,
   "metadata": {},
   "outputs": [],
   "source": [
    "# Filter to frontalsomatomotor area\n",
    "cluster_frontalsomatomotor_df = clusters_df.loc[(clusters_df['recording area']=='RSP')\n",
    "                                     | (clusters_df['recording area']=='ACA')\n",
    "                                     | (clusters_df['recording area']=='MOs')\n",
    "                                     | (clusters_df['recording area']=='PL')\n",
    "                                     | (clusters_df['recording area']=='ILA')\n",
    "                                     | (clusters_df['recording area']=='ORB')\n",
    "                                     | (clusters_df['recording area']=='MOp')\n",
    "                                     | (clusters_df['recording area']=='SSp')]"
   ]
  },
  {
   "cell_type": "code",
   "execution_count": 421,
   "metadata": {},
   "outputs": [
    {
     "data": {
      "text/plain": [
       "219"
      ]
     },
     "execution_count": 421,
     "metadata": {},
     "output_type": "execute_result"
    }
   ],
   "source": [
    "len(cl_df['spikes'])"
   ]
  },
  {
   "cell_type": "code",
   "execution_count": 422,
   "metadata": {},
   "outputs": [],
   "source": [
    "pre_win = [-0.3,0]\n",
    "post_win = [0,0.3]\n",
    "cl_df = cluster_frontalsomatomotor_df\n",
    "#cl_df = cluster_visual_df\n",
    "\n",
    "perimove_rates = pd.DataFrame( {'premove spikerates':np.zeros(len(trials_df)),\n",
    "                               'postmove spikerates':np.zeros(len(trials_df))}, dtype=object) \n",
    "\n",
    "for i,inc in enumerate(trials_df['included']):\n",
    "    pre_sprs = np.empty((1,cl_df.shape[0]))[0]; pre_sprs[:] = np.nan\n",
    "    post_sprs = np.empty((1,cl_df.shape[0]))[0]; post_sprs[:] = np.nan\n",
    "    if inc and len(trials_df['wheel event types'][i])>0:\n",
    "        #we take only those movements classified as 'real' movements, not the jitter\n",
    "        ix_good_mov = trials_df['wheel event types'][i]>0\n",
    "        if np.any(ix_good_mov):\n",
    "            ix_earliest_good_mov = np.min(np.where(ix_good_mov))\n",
    "            mov_t = trials_df['wheel event onset times'][i][ix_earliest_good_mov]\n",
    "        else:\n",
    "            mov_t = trials_df['stim time'][i]+0.4\n",
    "        for icl,cluster_sp in enumerate(cl_df['spikes']):\n",
    "            pre_spike_count = np.sum((cluster_sp>(mov_t+pre_win[0]))*(cluster_sp<(mov_t+pre_win[1])))\n",
    "            pre_spike_rate = pre_spike_count/np.diff(pre_win)\n",
    "            pre_sprs[icl] = pre_spike_rate\n",
    "            post_spike_count = np.sum((cluster_sp>(mov_t+post_win[0]))*(cluster_sp<(mov_t+post_win[1])))\n",
    "            post_spike_rate = post_spike_count/np.diff(post_win)\n",
    "            post_sprs[icl] = post_spike_rate\n",
    "            \n",
    "    perimove_rates['premove spikerates'][i] = pre_sprs\n",
    "    perimove_rates['postmove spikerates'][i] = post_sprs"
   ]
  },
  {
   "cell_type": "code",
   "execution_count": 423,
   "metadata": {},
   "outputs": [],
   "source": [
    "trials_df = pd.merge(trials_df, perimove_rates, how='right', left_index=True, right_index=True)"
   ]
  },
  {
   "cell_type": "code",
   "execution_count": 424,
   "metadata": {},
   "outputs": [],
   "source": [
    "#save this particular trials_df to pickle?\n",
    "#trials_df.to_pickle('trials_df.p')\n"
   ]
  },
  {
   "cell_type": "code",
   "execution_count": 425,
   "metadata": {},
   "outputs": [],
   "source": [
    "#attempt to get wheel event onsets with the provided matlab code\n",
    "# itr=50\n",
    "# sr = 1000\n",
    "# wheelmov = trials_df['wheel movement'][itr]\n",
    "# timestamp = trials_df['stim time'][itr]-0.5\n",
    "# times = np.arange(timestamp,timestamp+len(wheelmov)/sr,1/sr)\n",
    "\n",
    "# pos = matlab.double(list(wheelmov))\n",
    "# t = matlab.double(list(times))\n",
    "# Fs = float(sr)\n",
    "\n",
    "# # pos : an array of wheel positions\n",
    "# # t : an array of wheel sample timestamps \n",
    "# # Fs : the sampling frequency used for linear interpolation\n",
    "\n",
    "# onsets = eng.findWheelMoves3(pos, t, Fs/10)\n",
    "# print(onsets)\n",
    "\n",
    "# plt.figure\n",
    "# plt.plot(times,wheelmov)"
   ]
  },
  {
   "cell_type": "code",
   "execution_count": 426,
   "metadata": {},
   "outputs": [],
   "source": [
    "#load external trials_df pickle\n",
    "# trials_df = pd.read_pickle('trials_df.p')"
   ]
  },
  {
   "cell_type": "code",
   "execution_count": 427,
   "metadata": {},
   "outputs": [
    {
     "name": "stdout",
     "output_type": "stream",
     "text": [
      "78\n",
      "100\n",
      "147\n",
      "10\n"
     ]
    }
   ],
   "source": [
    "#here we select the different trial types\n",
    "\n",
    "right_go_corr = (trials_df['stim contrast right'] > trials_df['stim contrast left']) & (trials_df['response choice'] == -1)\n",
    "left_go_corr = (trials_df['stim contrast right'] < trials_df['stim contrast left']) & (trials_df['response choice'] == 1)\n",
    "all_go_corr = right_go_corr | left_go_corr\n",
    "print(np.sum(all_go_corr))\n",
    "\n",
    "all_nogo_corr = (trials_df['stim contrast right'] == 0) & (trials_df['stim contrast left'] == 0) & (trials_df['response choice'] == 0)\n",
    "print(np.sum(all_nogo_corr))\n",
    "\n",
    "all_corr = all_go_corr | all_nogo_corr\n",
    "\n",
    "all_FA = (trials_df['stim contrast right'] == 0) & (trials_df['stim contrast left'] == 0) & (trials_df['response choice'] != 0)\n",
    "print(np.sum(all_FA))\n",
    "\n",
    "all_miss = (trials_df['stim contrast right'] != trials_df['stim contrast left']) & (trials_df['response choice'] == 0)\n",
    "print(np.sum(all_miss))"
   ]
  },
  {
   "cell_type": "code",
   "execution_count": 428,
   "metadata": {},
   "outputs": [],
   "source": [
    "#function to make the X (spikes) and Y (choices) for the logistic regression\n",
    "def log_reg_prep(rates_df,idxs1,idxs0):\n",
    "    spikes = np.zeros((len(np.where(idxs1 | idxs0)[0]),len(rates_df[0])))\n",
    "    choices = np.zeros(len(np.where(idxs1 | idxs0)[0]))\n",
    "    for i,itrial in enumerate(np.where(idxs1 | idxs0)[0]):\n",
    "        spikes[i,:] = rates_df[itrial]\n",
    "        if idxs1[itrial]:\n",
    "            choices[i] = 1\n",
    "        elif idxs0[itrial]:\n",
    "            choices[i] = 0 \n",
    "    spikes = np.nan_to_num(spikes)\n",
    "    return spikes, choices"
   ]
  },
  {
   "cell_type": "code",
   "execution_count": 429,
   "metadata": {},
   "outputs": [
    {
     "name": "stdout",
     "output_type": "stream",
     "text": [
      "(143, 615) (143,) (157, 615) (157,) (143, 615)\n"
     ]
    }
   ],
   "source": [
    "#make our X and Y for the logistic regression\n",
    "\n",
    "X, y = log_reg_prep(trials_df['premove spikerates'],right_go_corr,all_nogo_corr) \n",
    "X_test, y_test = log_reg_prep(trials_df['premove spikerates'],all_FA,all_miss)\n",
    "\n",
    "X2, _ = log_reg_prep(trials_df['postmove spikerates'],right_go_corr,all_nogo_corr) \n",
    "X2_test, y2_test = log_reg_prep(trials_df['postmove spikerates'],all_FA,all_miss)\n",
    "\n",
    "ixs = np.arange(X.shape[0])\n",
    "np.random.shuffle(ixs)\n",
    "Xshuff = X[ixs,:]\n",
    "\n",
    "print(X.shape,y.shape,X_test.shape,y_test.shape,Xshuff.shape)"
   ]
  },
  {
   "cell_type": "markdown",
   "metadata": {},
   "source": [
    "# fit logistic regression models"
   ]
  },
  {
   "cell_type": "code",
   "execution_count": 430,
   "metadata": {},
   "outputs": [
    {
     "data": {
      "image/png": "[encoded data removed]",
      "text/plain": [
       "<Figure size 216x288 with 1 Axes>"
      ]
     },
     "metadata": {
      "needs_background": "light"
     },
     "output_type": "display_data"
    }
   ],
   "source": [
    "#get accuracy of a l2-regularized model on a k-fold cross validated set\n",
    "\n",
    "k=10 #choose k-fold\n",
    "reg = 'l2' #choose regularization. 'none', 'l1', or 'l2'\n",
    "lam = 1 #choose lambda for regularizer\n",
    "\n",
    "#fit model\n",
    "accuracies = []\n",
    "Ys = [y,y,y]\n",
    "for i,x in enumerate(zip([Xshuff,X,X2])):\n",
    "    log_reg = LogisticRegression(penalty=reg, C=1/lam, solver='lbfgs', max_iter=2000).fit(x[0], Ys[i])\n",
    "    #get cross-validated accuracies\n",
    "    accuracies.append(cross_val_score(log_reg, x[0], Ys[i], cv=k))\n",
    "\n",
    "#plot the resulting accuracies\n",
    "f, ax = plt.subplots(figsize=(3, 4))\n",
    "ax.boxplot(accuracies, vert=True, widths=.7)\n",
    "ax.scatter(np.multiply(np.ones_like(accuracies),np.array([1,2,3])[:,np.newaxis]),accuracies)\n",
    "ax.set(ylabel=\"Accuracy\",xticks=[1,2,3],xticklabels={'Shuffle','Pre-move','Post-move'},yticks=np.arange(0.4,1.1,0.1))\n",
    "ax.spines[\"left\"].set_visible(False)\n",
    "seaborn.despine()\n",
    "\n",
    "plt.title('Example CV accuracy')\n",
    "\n",
    "plt.savefig(os.path.join(code_folder,'figs','log_reg_accuracy_example_MOTr.svg'))\n",
    "plt.savefig(os.path.join(code_folder,'figs','log_reg_accuracy_example_MOTr.png'),dpi=300)\n",
    "\n",
    "plt.show()"
   ]
  },
  {
   "cell_type": "code",
   "execution_count": 432,
   "metadata": {},
   "outputs": [
    {
     "data": {
      "image/png": "[encoded data removed]",
      "text/plain": [
       "<Figure size 288x432 with 2 Axes>"
      ]
     },
     "metadata": {
      "needs_background": "light"
     },
     "output_type": "display_data"
    }
   ],
   "source": [
    "Xtrain = X2\n",
    "Xs = X2_test\n",
    "ys = y2_test\n",
    "\n",
    "log_reg = LogisticRegression(penalty=reg, C=1/lam, solver='lbfgs', max_iter=2000).fit(Xtrain, y)\n",
    "\n",
    "\n",
    "isort = np.argsort(log_reg.predict_proba(Xs)[:,1])\n",
    "probas_sorted = log_reg.predict_proba(Xs)[isort,1]\n",
    "y_sorted = ys[isort]\n",
    "\n",
    "i_sorted = np.arange(len(y_sorted))\n",
    "\n",
    "plt.figure(figsize=(4,6))\n",
    "\n",
    "plt.subplot(2,1,1)\n",
    "plt.plot(probas_sorted[np.where(y_sorted)],i_sorted[np.where(y_sorted)],'ro',label='FAs')\n",
    "plt.plot(probas_sorted[np.where(y_sorted-1)],i_sorted[np.where(y_sorted-1)],'bo',label='misses')\n",
    "plt.xlabel('model prediction probability')\n",
    "plt.ylabel('trial (sorted)')\n",
    "plt.legend()\n",
    "\n",
    "plt.subplot(2,1,2)\n",
    "plt.hist(probas_sorted,bins=50)\n",
    "plt.xlabel('model prediction probability')\n",
    "plt.ylabel('count')\n",
    "\n",
    "\n",
    "plt.savefig(os.path.join(code_folder,'figs','log_reg_test_post_example_MOTr.svg'))\n",
    "plt.savefig(os.path.join(code_folder,'figs','log_reg_test_post_example_MOTr.png'),dpi=300)\n",
    "\n",
    "plt.show()"
   ]
  },
  {
   "cell_type": "code",
   "execution_count": 142,
   "metadata": {},
   "outputs": [
    {
     "data": {
      "image/png": "[encoded data removed]",
      "text/plain": [
       "<Figure size 432x288 with 1 Axes>"
      ]
     },
     "metadata": {
      "needs_background": "light"
     },
     "output_type": "display_data"
    }
   ],
   "source": [
    "plt.figure(figsize=(6,4))\n",
    "plt.hist(log_reg.coef_[0],bins=30)\n",
    "plt.show()\n"
   ]
  },
  {
   "cell_type": "code",
   "execution_count": 317,
   "metadata": {},
   "outputs": [
    {
     "data": {
      "image/png": "[encoded data removed]",
      "text/plain": [
       "<Figure size 432x288 with 1 Axes>"
      ]
     },
     "metadata": {
      "needs_background": "light"
     },
     "output_type": "display_data"
    }
   ],
   "source": [
    "in1 = np.argmax(log_reg.coef_[0])\n",
    "in2 = np.argmin(log_reg.coef_[0])\n",
    "\n",
    "Xs = X\n",
    "preds = log_reg.predict(Xs)\n",
    "\n",
    "plt.figure()\n",
    "plt.plot(Xs[preds==1,in1]+np.random.randn(np.sum(preds==1)),Xs[preds==1,in2]+np.random.randn(np.sum(preds==1)),'b.',alpha=.5,label='Resp')\n",
    "plt.plot(Xs[preds==0,in1]+np.random.randn(np.sum(preds==0)),Xs[preds==0,in2]+np.random.randn(np.sum(preds==0)),'r.',alpha=.5,label='No Resp')\n",
    "plt.xlabel('evoked rate neuron 1')\n",
    "plt.ylabel('evoked rate neuron 2')\n",
    "plt.show()"
   ]
  },
  {
   "cell_type": "markdown",
   "metadata": {
    "cell_style": "split"
   },
   "source": [
    "#### explore dictionary for session\n",
    "- each ession is a dictionary\n",
    "- each element kontains eather a numpy array or a dataframe\n",
    "- the most important dataframes we are going to work with are:\n",
    "    - clusters_df: all the spikes and clusters\n",
    "    - trials_df: all the behaviour data for all trials"
   ]
  },
  {
   "cell_type": "code",
   "execution_count": null,
   "metadata": {
    "cell_style": "split"
   },
   "outputs": [],
   "source": [
    "for key, value in nma_obj.std_session.items():\n",
    "    print(key, value.shape)"
   ]
  },
  {
   "cell_type": "code",
   "execution_count": null,
   "metadata": {
    "cell_style": "center",
    "scrolled": true
   },
   "outputs": [],
   "source": [
    "qgrid.show_grid(channels_df)"
   ]
  },
  {
   "cell_type": "code",
   "execution_count": null,
   "metadata": {
    "cell_style": "center",
    "scrolled": true
   },
   "outputs": [],
   "source": [
    "qgrid.show_grid(clusters_df)"
   ]
  },
  {
   "cell_type": "code",
   "execution_count": null,
   "metadata": {},
   "outputs": [],
   "source": [
    "qgrid.show_grid(trials_df)"
   ]
  },
  {
   "cell_type": "markdown",
   "metadata": {
    "heading_collapsed": true
   },
   "source": [
    "### cleanup channel infos"
   ]
  },
  {
   "cell_type": "code",
   "execution_count": null,
   "metadata": {
    "hidden": true
   },
   "outputs": [],
   "source": [
    "# load channel brain location infos\n",
    "brain = pd.DataFrame(session['channels_brainLocation'])\n",
    "# load channel probes\n",
    "site = pd.DataFrame(session['channels_sitePositions'], columns=['channel 0', 'channel 1'])\n",
    "# merge with channles_df\n",
    "channels_df = pd.merge(brain, site, how='inner', left_index=True, right_index=True)\n",
    "# load probe, row and site\n",
    "meta = pd.DataFrame({'probe':session['channels_probe'][:,0],\n",
    "                            'raw row':session['channels_rawRow'][:,0],\n",
    "                            'channels_site':session['channels_site'][:,0] })\n",
    "# merge metha with channel_df\n",
    "channels_df = pd.merge(channels_df, meta, how='inner', left_index=True, right_index=True)"
   ]
  },
  {
   "cell_type": "code",
   "execution_count": null,
   "metadata": {
    "hidden": true,
    "scrolled": true
   },
   "outputs": [],
   "source": [
    "qgrid.show_grid(channels_df)"
   ]
  },
  {
   "cell_type": "markdown",
   "metadata": {
    "heading_collapsed": true
   },
   "source": [
    "### cleaning up spikes"
   ]
  },
  {
   "cell_type": "code",
   "execution_count": null,
   "metadata": {
    "hidden": true,
    "scrolled": true
   },
   "outputs": [],
   "source": [
    "# create spike_df tataframe, with each spike time and the cluster it belongs to\n",
    "spikes_df = pd.DataFrame( { 'cluster':session['spikes_clusters'][:,0], 'spike_times': session['spikes_times'][:,0] }, ) \n",
    "qgrid.show_grid(spikes_df)"
   ]
  },
  {
   "cell_type": "code",
   "execution_count": null,
   "metadata": {
    "colab": {
     "base_uri": "https://localhost:8080/",
     "height": 141
    },
    "colab_type": "code",
    "executionInfo": {
     "elapsed": 942,
     "status": "ok",
     "timestamp": 1595269247514,
     "user": {
      "displayName": "Max Hoheiser",
      "photoUrl": "https://lh3.googleusercontent.com/a-/AOh14GgcOj0xb1EjxBJ1OyxAUJAdknWQprdHmaELrwjcpo8=s64",
      "userId": "14108002061243669705"
     },
     "user_tz": -120
    },
    "hidden": true,
    "id": "qVP2hfQSdFj_",
    "outputId": "6e2e250b-8bcd-44af-bf49-498d767e1ce4",
    "scrolled": true
   },
   "outputs": [],
   "source": [
    "# create cluster dataframe information and spikes for each cluster\n",
    "clusters = np.unique(session['spikes_clusters'])\n",
    "# create number of spikes, phy2 manual cluster, \n",
    "# parse phy annotation\n",
    "clusters_df = pd.DataFrame({'lable':session['clusters__phy_annotation'][:,0], 'probe':session['clusters_probes'][:,0], 'peak channel':session['clusters_peakChannel'][:,0]}, index=clusters )\n",
    "# pars labels in strings 1 = good 3 = mua\n",
    "#clusters_df['lable'] = clusters_df['lable'].apply( lambda lable: 'good' if lable==3 else ('mua' if lable==1 else 'bad') )\n",
    "\n",
    "# create spikes colum with spiketimes\n",
    "spk = pd.DataFrame( {'spikes':np.zeros(len(clusters), dtype=object)}, index=clusters )\n",
    "for group, frame in spikes_df.groupby('cluster'):\n",
    "    spk['spikes'][group] = frame['spike_times'].values\n",
    "\n",
    "#merge spike column with clusters_df\n",
    "clusters_df = pd.merge(clusters_df, spk, how='right', left_index=True, right_index=True)\n",
    "# set index name\n",
    "clusters_df.index.name='cluster'\n",
    "# number of spikes per cluster\n",
    "clusters_df['total spikes'] = clusters_df['spikes'].apply(lambda row: len(row) )"
   ]
  },
  {
   "cell_type": "code",
   "execution_count": null,
   "metadata": {
    "hidden": true
   },
   "outputs": [],
   "source": [
    "qgrid.show_grid(clusters_df)"
   ]
  },
  {
   "cell_type": "markdown",
   "metadata": {
    "heading_collapsed": true
   },
   "source": [
    "### cleanup trial info"
   ]
  },
  {
   "cell_type": "code",
   "execution_count": null,
   "metadata": {
    "hidden": true
   },
   "outputs": [],
   "source": [
    "print(session['trials_feedbackType'].shape)\n",
    "print(session['trials_feedback_times'].shape)\n",
    "print(session['trials_goCue_times'].shape)\n",
    "print(session['trials_included'].shape)\n",
    "print(session['trials_intervals'].shape)\n",
    "print(session['trials_repNum'].shape)\n",
    "print(session['trials_response_choice'].shape)\n",
    "print(session['trials_response_times'].shape)\n",
    "print(session['trials_visualStim_contrastLeft'].shape)\n",
    "print(session['trials_visualStim_contrastRight'].shape)\n",
    "print(session['trials_visualStim_times'].shape)"
   ]
  },
  {
   "cell_type": "code",
   "execution_count": null,
   "metadata": {
    "hidden": true
   },
   "outputs": [],
   "source": [
    "# create trials dataframe\n",
    "trials_df = pd.DataFrame({'included':session['trials_included'][:,0],\n",
    "                          'repetition number':session['trials_repNum'][:,0],\n",
    "                          # times of events\n",
    "                          'go cue':session['trials_goCue_times'][:,0],\n",
    "                          'stim time':session['trials_visualStim_times'][:,0],\n",
    "                          'response time':session['trials_response_times'][:,0],\n",
    "                          'feedback time':session['trials_feedback_times'][:,0],\n",
    "                          \n",
    "                          #'intervals':session['trials_intervals'][:,0], # same as go cue\n",
    "                          \n",
    "                          \n",
    "                          'go cue':session['trials_intervals'][:,0],\n",
    "                          \n",
    "                          'stim contrast left':session['trials_visualStim_contrastLeft'][:,0],\n",
    "                          'stim contrast right':session['trials_visualStim_contrastRight'][:,0],\n",
    "                          \n",
    "                          'response choice':session['trials_response_choice'][:,0],\n",
    "                          'response time':session['trials_response_times'][:,0],\n",
    "                          'feedback type':session['trials_feedbackType'][:,0],\n",
    "                          \n",
    "                         })"
   ]
  },
  {
   "cell_type": "code",
   "execution_count": null,
   "metadata": {},
   "outputs": [],
   "source": [
    "trials_df"
   ]
  },
  {
   "cell_type": "code",
   "execution_count": null,
   "metadata": {},
   "outputs": [],
   "source": [
    "trialT = trials_df['go cue'][0]\n",
    "print(trialT)"
   ]
  },
  {
   "cell_type": "code",
   "execution_count": null,
   "metadata": {},
   "outputs": [],
   "source": [
    "1126/binsize"
   ]
  },
  {
   "cell_type": "code",
   "execution_count": null,
   "metadata": {},
   "outputs": [],
   "source": [
    "#Compute wheel movements\n",
    "#[onsets, offsets, displacement, peakVelTimes, peakAmps] = findWheelMoves3(pos, t, Fs, varargin)\n",
    "wheelpos = session['wheel_position']\n",
    "\n",
    "trialnr = 0\n",
    "binsize = 0.01\n",
    "twin = [-0.5,1]\n",
    "\n",
    "trialT = trials_df['go cue'][trialnr]\n",
    "\n",
    "tridx = int(trialT/binsize)\n",
    "t = np.arange(trialT+twin[0],trialT+twin[1],binsize)\n",
    "pos = wheelpos[tridx+int(twin[0]/binsize):tridx+int(twin[1]/binsize)]\n",
    "Fs = 1/binsize\n",
    "\n",
    "onsets,offsets,displacement,peakVelTimes,peakAmps = eng.findWheelMoves3(pos,t,Fs)"
   ]
  },
  {
   "cell_type": "code",
   "execution_count": null,
   "metadata": {
    "hidden": true
   },
   "outputs": [],
   "source": [
    "qgrid.show_grid(trials_df)"
   ]
  },
  {
   "cell_type": "code",
   "execution_count": null,
   "metadata": {
    "hidden": true
   },
   "outputs": [],
   "source": [
    "# add wheelmovement\n",
    "print(session['wheel_position'].shape)\n",
    "print(session['wheel_timestamps'].shape)\n",
    "print(session['wheelMoves_intervals'].shape)\n",
    "print(session['wheelMoves_type'].shape)"
   ]
  },
  {
   "cell_type": "code",
   "execution_count": null,
   "metadata": {
    "hidden": true
   },
   "outputs": [],
   "source": [
    "wheel_df = pd.merge( pd.DataFrame(session['wheelMoves_intervals']), pd.DataFrame(session['wheelMoves_type']), how='left', left_index=True, right_index=True)"
   ]
  },
  {
   "cell_type": "code",
   "execution_count": null,
   "metadata": {},
   "outputs": [],
   "source": [
    "plt.figure\n",
    "wheelpos = session['wheel_position']\n",
    "plt.plot(wheelpos)"
   ]
  },
  {
   "cell_type": "code",
   "execution_count": null,
   "metadata": {
    "hidden": true
   },
   "outputs": [],
   "source": [
    "qgrid.show_grid(pd.DataFrame(wheel_df))"
   ]
  }
 ],
 "metadata": {
  "colab": {
   "authorship_tag": "ABX9TyP3Rua9vwNc6w9+RtEjpB15",
   "name": "Project.ipynb",
   "provenance": []
  },
  "kernelspec": {
   "display_name": "Python 3",
   "language": "python",
   "name": "python3"
  },
  "language_info": {
   "codemirror_mode": {
    "name": "ipython",
    "version": 3
   },
   "file_extension": ".py",
   "mimetype": "text/x-python",
   "name": "python",
   "nbconvert_exporter": "python",
   "pygments_lexer": "ipython3",
   "version": "3.7.4"
  },
  "toc": {
   "base_numbering": 1,
   "nav_menu": {},
   "number_sections": true,
   "sideBar": true,
   "skip_h1_title": false,
   "title_cell": "Table of Contents",
   "title_sidebar": "Contents",
   "toc_cell": true,
   "toc_position": {},
   "toc_section_display": true,
   "toc_window_display": false
  },
  "varInspector": {
   "cols": {
    "lenName": 16,
    "lenType": 16,
    "lenVar": 40
   },
   "kernels_config": {
    "python": {
     "delete_cmd_postfix": "",
     "delete_cmd_prefix": "del ",
     "library": "var_list.py",
     "varRefreshCmd": "print(var_dic_list())"
    },
    "r": {
     "delete_cmd_postfix": ") ",
     "delete_cmd_prefix": "rm(",
     "library": "var_list.r",
     "varRefreshCmd": "cat(var_dic_list()) "
    }
   },
   "types_to_exclude": [
    "module",
    "function",
    "builtin_function_or_method",
    "instance",
    "_Feature"
   ],
   "window_display": false
  }
 },
 "nbformat": 4,
 "nbformat_minor": 4
}
