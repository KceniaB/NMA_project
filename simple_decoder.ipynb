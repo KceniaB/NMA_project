{
 "cells": [
  {
   "cell_type": "markdown",
   "metadata": {},
   "source": [
    "## this script is based on the W1D4 tutorial 2 logistic regression decoder"
   ]
  },
  {
   "cell_type": "code",
   "execution_count": 3,
   "metadata": {},
   "outputs": [],
   "source": [
    "import numpy as np\n",
    "import matplotlib.pyplot as plt\n",
    "import os\n",
    "import requests\n",
    "import hashlib\n",
    "import pickle\n",
    "import pandas as pd\n",
    "\n",
    "from sklearn.linear_model import LogisticRegression\n",
    "from sklearn.model_selection import cross_val_score"
   ]
  },
  {
   "cell_type": "code",
   "execution_count": 2,
   "metadata": {},
   "outputs": [],
   "source": [
    "#Helper functions taken from the tutorial\n",
    "\n",
    "def plot_weights(models, sharey=True):\n",
    "    \"\"\"Draw a stem plot of weights for each model in models dict.\"\"\"\n",
    "    n = len(models)\n",
    "    f = plt.figure(figsize=(10, 2.5 * n))\n",
    "    axs = f.subplots(n, sharex=True, sharey=sharey)\n",
    "    axs = np.atleast_1d(axs)\n",
    "    for ax, (title, model) in zip(axs, models.items()):\n",
    "        ax.margins(x=.02)\n",
    "        stem = ax.stem(model.coef_.squeeze(), use_line_collection=True)\n",
    "        stem[0].set_marker(\".\")\n",
    "        stem[0].set_color(\".2\")\n",
    "        stem[1].set_linewidths(.5)\n",
    "        stem[1].set_color(\".2\")\n",
    "        stem[2].set_visible(False)\n",
    "        ax.axhline(0, color=\"C3\", lw=3)\n",
    "        ax.set(ylabel=\"Weight\", title=title)\n",
    "    ax.set(xlabel=\"Neuron (a.k.a. feature)\")\n",
    "    f.tight_layout()\n",
    "\n",
    "\n",
    "def plot_function(f, name, var, points=(-10, 10)):\n",
    "    \"\"\"Evaluate f() on linear space between points and plot.\n",
    "\n",
    "    Args:\n",
    "      f (callable): function that maps scalar -> scalar\n",
    "      name (string): Function name for axis labels\n",
    "      var (string): Variable name for axis labels.\n",
    "      points (tuple): Args for np.linspace to create eval grid.\n",
    "    \"\"\"\n",
    "    x = np.linspace(*points)\n",
    "    ax = plt.figure().subplots()\n",
    "    ax.plot(x, f(x))\n",
    "    ax.set(\n",
    "      xlabel=f'${var}$',\n",
    "      ylabel=f'${name}({var})$'\n",
    "    )\n",
    "\n",
    "def plot_model_selection(C_values, accuracies):\n",
    "    \"\"\"Plot the accuracy curve over log-spaced C values.\"\"\"\n",
    "    ax = plt.figure().subplots()\n",
    "    ax.set_xscale(\"log\")\n",
    "    ax.plot(C_values, accuracies, marker=\"o\")\n",
    "    best_C = C_values[np.argmax(accuracies)]\n",
    "    ax.set(\n",
    "      xticks=C_values,\n",
    "      xlabel=\"$C$\",\n",
    "      ylabel=\"Cross-validated accuracy\",\n",
    "      title=f\"Best C: {best_C:1g} ({np.max(accuracies):.2%})\",\n",
    "    )\n",
    "\n",
    "def plot_non_zero_coefs(C_values, non_zero_l1, n_voxels):\n",
    "    \"\"\"Plot the accuracy curve over log-spaced C values.\"\"\"\n",
    "    ax = plt.figure().subplots()\n",
    "    ax.set_xscale(\"log\")\n",
    "    ax.plot(C_values, non_zero_l1, marker=\"o\")\n",
    "    ax.set(\n",
    "    xticks=C_values,\n",
    "    xlabel=\"$C$\",\n",
    "    ylabel=\"Number of non-zero coefficients\",\n",
    "    )\n",
    "    ax.axhline(n_voxels, color=\".1\", linestyle=\":\")\n",
    "    ax.annotate(\"Total\\n# Neurons\", (C_values[0], n_voxels * .98), va=\"top\")\n",
    "\n",
    "def sigmoid(z):\n",
    "    return 1 / (1+np.exp(-z))"
   ]
  },
  {
   "cell_type": "markdown",
   "metadata": {},
   "source": [
    "# download the steinmetz dataset used in the tutorial"
   ]
  },
  {
   "cell_type": "code",
   "execution_count": 4,
   "metadata": {},
   "outputs": [],
   "source": [
    "url = \"https://osf.io/r9gh8/download\"\n",
    "fname = \"W1D4_steinmetz_data.npz\"\n",
    "expected_md5 = \"d19716354fed0981267456b80db07ea8\"\n",
    "\n",
    "if not os.path.isfile(fname):\n",
    "    try:\n",
    "        r = requests.get(url)\n",
    "    except requests.ConnectionError:\n",
    "        print(\"!!! Failed to download data !!!\")\n",
    "    else:\n",
    "        if r.status_code != requests.codes.ok:\n",
    "            print(\"!!! Failed to download data !!!\")\n",
    "        elif hashlib.md5(r.content).hexdigest() != expected_md5:\n",
    "            print(\"!!! Data download appears corrupted !!!\")\n",
    "        else:\n",
    "            with open(fname, \"wb\") as fid:\n",
    "                fid.write(r.content)\n"
   ]
  },
  {
   "cell_type": "code",
   "execution_count": 5,
   "metadata": {},
   "outputs": [],
   "source": [
    "def load_steinmetz_data(data_fname=fname):\n",
    "    with np.load(data_fname) as dobj:\n",
    "        data = dict(**dobj)\n",
    "    return data"
   ]
  },
  {
   "cell_type": "markdown",
   "metadata": {},
   "source": [
    "# Load data"
   ]
  },
  {
   "cell_type": "code",
   "execution_count": 6,
   "metadata": {},
   "outputs": [
    {
     "name": "stdout",
     "output_type": "stream",
     "text": [
      "spikes (276, 691)\n",
      "choices (276,)\n"
     ]
    }
   ],
   "source": [
    "#this is sample data provided in tutorial\n",
    "data = load_steinmetz_data()\n",
    "for key, val in data.items():\n",
    "    print(key, val.shape)"
   ]
  },
  {
   "cell_type": "code",
   "execution_count": 149,
   "metadata": {},
   "outputs": [
    {
     "data": {
      "text/html": [
       "<div>\n",
       "<style scoped>\n",
       "    .dataframe tbody tr th:only-of-type {\n",
       "        vertical-align: middle;\n",
       "    }\n",
       "\n",
       "    .dataframe tbody tr th {\n",
       "        vertical-align: top;\n",
       "    }\n",
       "\n",
       "    .dataframe thead th {\n",
       "        text-align: right;\n",
       "    }\n",
       "</style>\n",
       "<table border=\"1\" class=\"dataframe\">\n",
       "  <thead>\n",
       "    <tr style=\"text-align: right;\">\n",
       "      <th></th>\n",
       "      <th>included</th>\n",
       "      <th>repetition number</th>\n",
       "      <th>start time</th>\n",
       "      <th>stim time</th>\n",
       "      <th>response time</th>\n",
       "      <th>feedback time</th>\n",
       "      <th>end time</th>\n",
       "      <th>stim contrast left</th>\n",
       "      <th>stim contrast right</th>\n",
       "      <th>response choice</th>\n",
       "      <th>feedback type</th>\n",
       "      <th>wheel event types</th>\n",
       "      <th>wheel event onset times</th>\n",
       "      <th>wheel event offset times</th>\n",
       "      <th>wheel movement</th>\n",
       "      <th>premove spikerates</th>\n",
       "      <th>postmove spikerates</th>\n",
       "    </tr>\n",
       "  </thead>\n",
       "  <tbody>\n",
       "    <tr>\n",
       "      <td>6</td>\n",
       "      <td>True</td>\n",
       "      <td>1</td>\n",
       "      <td>80.568255</td>\n",
       "      <td>83.025043</td>\n",
       "      <td>84.046862</td>\n",
       "      <td>84.046862</td>\n",
       "      <td>85.055605</td>\n",
       "      <td>0</td>\n",
       "      <td>0</td>\n",
       "      <td>-1</td>\n",
       "      <td>-1</td>\n",
       "      <td>[0.0, 0.0, 0.0, 2.0]</td>\n",
       "      <td>[80.69151886704108, 81.25251886704109, 81.5825...</td>\n",
       "      <td>[80.97751886704108, 81.3145188670411, 81.70351...</td>\n",
       "      <td>[0.0, 0.0, 0.0, 0.0, 0.0, 0.0, 0.0, 0.0, 0.0, ...</td>\n",
       "      <td>[0.0, 0.0, 0.0, 0.0, 0.0, 0.0, 0.0, 0.0, 15.00...</td>\n",
       "      <td>[0.0, 0.0, 0.0, 0.0, 0.0, 0.0, 10.0, 0.0, 20.0...</td>\n",
       "    </tr>\n",
       "    <tr>\n",
       "      <td>7</td>\n",
       "      <td>True</td>\n",
       "      <td>2</td>\n",
       "      <td>86.052635</td>\n",
       "      <td>87.630693</td>\n",
       "      <td>90.192086</td>\n",
       "      <td>90.225191</td>\n",
       "      <td>91.195968</td>\n",
       "      <td>0</td>\n",
       "      <td>0</td>\n",
       "      <td>0</td>\n",
       "      <td>1</td>\n",
       "      <td>[0.0, 0.0, 0.0]</td>\n",
       "      <td>[87.14851886704109, 88.37751886704109, 90.2535...</td>\n",
       "      <td>[87.2175188670411, 88.56251886704109, 93.69851...</td>\n",
       "      <td>[0.0, 0.0, 0.0, 0.0, 0.0, 0.0, 0.0, 0.0, 0.0, ...</td>\n",
       "      <td>[5.0, 0.0, 0.0, 0.0, 0.0, 0.0, 10.0, 0.0, 0.0,...</td>\n",
       "      <td>[10.0, 0.0, 0.0, 0.0, 0.0, 0.0, 5.0, 0.0, 10.0...</td>\n",
       "    </tr>\n",
       "    <tr>\n",
       "      <td>8</td>\n",
       "      <td>True</td>\n",
       "      <td>1</td>\n",
       "      <td>92.193720</td>\n",
       "      <td>94.285251</td>\n",
       "      <td>95.312875</td>\n",
       "      <td>95.350478</td>\n",
       "      <td>96.318125</td>\n",
       "      <td>0</td>\n",
       "      <td>0</td>\n",
       "      <td>-1</td>\n",
       "      <td>1</td>\n",
       "      <td>[2.0]</td>\n",
       "      <td>[94.50251886704109]</td>\n",
       "      <td>[97.2605188670411]</td>\n",
       "      <td>[0.0, 0.0, 0.0, 0.0, 0.0, 0.0, 0.0, 0.0, 0.0, ...</td>\n",
       "      <td>[0.0, 0.0, 0.0, 0.0, 0.0, 0.0, 10.0, 0.0, 5.0,...</td>\n",
       "      <td>[0.0, 0.0, 0.0, 5.0, 0.0, 0.0, 5.0, 0.0, 15.0,...</td>\n",
       "    </tr>\n",
       "    <tr>\n",
       "      <td>9</td>\n",
       "      <td>True</td>\n",
       "      <td>1</td>\n",
       "      <td>97.318724</td>\n",
       "      <td>97.825311</td>\n",
       "      <td>98.962657</td>\n",
       "      <td>99.000541</td>\n",
       "      <td>99.968993</td>\n",
       "      <td>0</td>\n",
       "      <td>1</td>\n",
       "      <td>-1</td>\n",
       "      <td>1</td>\n",
       "      <td>[2.0, 0.0]</td>\n",
       "      <td>[98.20951886704108, 99.7175188670411]</td>\n",
       "      <td>[99.4275188670411, 99.90551886704108]</td>\n",
       "      <td>[0.0, 0.0, 0.0, 0.0, 0.0, 0.0, 0.0, 0.0, 0.0, ...</td>\n",
       "      <td>[0.0, 0.0, 0.0, 0.0, 0.0, 5.0, 5.0, 0.0, 10.0,...</td>\n",
       "      <td>[0.0, 0.0, 0.0, 0.0, 0.0, 0.0, 35.0, 0.0, 20.0...</td>\n",
       "    </tr>\n",
       "    <tr>\n",
       "      <td>10</td>\n",
       "      <td>True</td>\n",
       "      <td>1</td>\n",
       "      <td>100.964011</td>\n",
       "      <td>101.540425</td>\n",
       "      <td>102.228879</td>\n",
       "      <td>102.264597</td>\n",
       "      <td>103.236802</td>\n",
       "      <td>1</td>\n",
       "      <td>0</td>\n",
       "      <td>1</td>\n",
       "      <td>1</td>\n",
       "      <td>[1.0]</td>\n",
       "      <td>[101.80551886704109]</td>\n",
       "      <td>[104.3815188670411]</td>\n",
       "      <td>[0.0, 0.0, 0.0, 0.0, 0.0, 0.0, 0.0, 0.0, 0.0, ...</td>\n",
       "      <td>[0.0, 0.0, 0.0, 10.0, 0.0, 0.0, 0.0, 0.0, 35.0...</td>\n",
       "      <td>[0.0, 0.0, 0.0, 0.0, 0.0, 0.0, 10.0, 0.0, 10.0...</td>\n",
       "    </tr>\n",
       "  </tbody>\n",
       "</table>\n",
       "</div>"
      ],
      "text/plain": [
       "    included  repetition number  start time   stim time  response time  \\\n",
       "6       True                  1   80.568255   83.025043      84.046862   \n",
       "7       True                  2   86.052635   87.630693      90.192086   \n",
       "8       True                  1   92.193720   94.285251      95.312875   \n",
       "9       True                  1   97.318724   97.825311      98.962657   \n",
       "10      True                  1  100.964011  101.540425     102.228879   \n",
       "\n",
       "    feedback time    end time  stim contrast left  stim contrast right  \\\n",
       "6       84.046862   85.055605                   0                    0   \n",
       "7       90.225191   91.195968                   0                    0   \n",
       "8       95.350478   96.318125                   0                    0   \n",
       "9       99.000541   99.968993                   0                    1   \n",
       "10     102.264597  103.236802                   1                    0   \n",
       "\n",
       "    response choice  feedback type     wheel event types  \\\n",
       "6                -1             -1  [0.0, 0.0, 0.0, 2.0]   \n",
       "7                 0              1       [0.0, 0.0, 0.0]   \n",
       "8                -1              1                 [2.0]   \n",
       "9                -1              1            [2.0, 0.0]   \n",
       "10                1              1                 [1.0]   \n",
       "\n",
       "                              wheel event onset times  \\\n",
       "6   [80.69151886704108, 81.25251886704109, 81.5825...   \n",
       "7   [87.14851886704109, 88.37751886704109, 90.2535...   \n",
       "8                                 [94.50251886704109]   \n",
       "9               [98.20951886704108, 99.7175188670411]   \n",
       "10                               [101.80551886704109]   \n",
       "\n",
       "                             wheel event offset times  \\\n",
       "6   [80.97751886704108, 81.3145188670411, 81.70351...   \n",
       "7   [87.2175188670411, 88.56251886704109, 93.69851...   \n",
       "8                                  [97.2605188670411]   \n",
       "9               [99.4275188670411, 99.90551886704108]   \n",
       "10                                [104.3815188670411]   \n",
       "\n",
       "                                       wheel movement  \\\n",
       "6   [0.0, 0.0, 0.0, 0.0, 0.0, 0.0, 0.0, 0.0, 0.0, ...   \n",
       "7   [0.0, 0.0, 0.0, 0.0, 0.0, 0.0, 0.0, 0.0, 0.0, ...   \n",
       "8   [0.0, 0.0, 0.0, 0.0, 0.0, 0.0, 0.0, 0.0, 0.0, ...   \n",
       "9   [0.0, 0.0, 0.0, 0.0, 0.0, 0.0, 0.0, 0.0, 0.0, ...   \n",
       "10  [0.0, 0.0, 0.0, 0.0, 0.0, 0.0, 0.0, 0.0, 0.0, ...   \n",
       "\n",
       "                                   premove spikerates  \\\n",
       "6   [0.0, 0.0, 0.0, 0.0, 0.0, 0.0, 0.0, 0.0, 15.00...   \n",
       "7   [5.0, 0.0, 0.0, 0.0, 0.0, 0.0, 10.0, 0.0, 0.0,...   \n",
       "8   [0.0, 0.0, 0.0, 0.0, 0.0, 0.0, 10.0, 0.0, 5.0,...   \n",
       "9   [0.0, 0.0, 0.0, 0.0, 0.0, 5.0, 5.0, 0.0, 10.0,...   \n",
       "10  [0.0, 0.0, 0.0, 10.0, 0.0, 0.0, 0.0, 0.0, 35.0...   \n",
       "\n",
       "                                  postmove spikerates  \n",
       "6   [0.0, 0.0, 0.0, 0.0, 0.0, 0.0, 10.0, 0.0, 20.0...  \n",
       "7   [10.0, 0.0, 0.0, 0.0, 0.0, 0.0, 5.0, 0.0, 10.0...  \n",
       "8   [0.0, 0.0, 0.0, 5.0, 0.0, 0.0, 5.0, 0.0, 15.0,...  \n",
       "9   [0.0, 0.0, 0.0, 0.0, 0.0, 0.0, 35.0, 0.0, 20.0...  \n",
       "10  [0.0, 0.0, 0.0, 0.0, 0.0, 0.0, 10.0, 0.0, 10.0...  "
      ]
     },
     "execution_count": 149,
     "metadata": {},
     "output_type": "execute_result"
    }
   ],
   "source": [
    "trials_df = pd.read_pickle('trials_df.p')\n",
    "trials_df[6:11]"
   ]
  },
  {
   "cell_type": "code",
   "execution_count": 162,
   "metadata": {},
   "outputs": [
    {
     "name": "stdout",
     "output_type": "stream",
     "text": [
      "50\n",
      "99\n",
      "149\n",
      "62\n"
     ]
    }
   ],
   "source": [
    "#here we select the trials\n",
    "\n",
    "right_go_corr = (trials_df['stim contrast right'] > trials_df['stim contrast left']) & (trials_df['response choice'] == -1)\n",
    "left_go_corr = (trials_df['stim contrast right'] < trials_df['stim contrast left']) & (trials_df['response choice'] == 1)\n",
    "all_go_corr = right_go_corr | left_go_corr\n",
    "print(np.sum(all_go_corr))\n",
    "\n",
    "all_nogo_corr = (trials_df['stim contrast right'] == 0) & (trials_df['stim contrast left'] == 0) & (trials_df['response choice'] == 0)\n",
    "print(np.sum(all_nogo_corr))\n",
    "\n",
    "all_corr = all_go_corr | all_nogo_corr\n",
    "all_corr = all_used\n",
    "print(np.sum(all_used))\n",
    "\n",
    "all_FA = (trials_df['stim contrast right'] == 0) & (trials_df['stim contrast left'] == 0) & (trials_df['response choice'] != 0)\n",
    "print(np.sum(all_FA))"
   ]
  },
  {
   "cell_type": "code",
   "execution_count": 163,
   "metadata": {},
   "outputs": [
    {
     "data": {
      "text/plain": [
       "149"
      ]
     },
     "execution_count": 163,
     "metadata": {},
     "output_type": "execute_result"
    }
   ],
   "source": [
    "len(np.where(all_used)[0])"
   ]
  },
  {
   "cell_type": "code",
   "execution_count": 164,
   "metadata": {},
   "outputs": [
    {
     "name": "stdout",
     "output_type": "stream",
     "text": [
      "(149, 1627)\n",
      "(149,)\n"
     ]
    }
   ],
   "source": [
    "#make CORRECT CHOICE arrays with spike rates and choices per trial\n",
    "rates_df = trials_df['premove spikerates']\n",
    "spikes = np.zeros((len(np.where(all_used)[0]),len(rates_df[0])))\n",
    "choices = np.zeros(len(np.where(all_used)[0]))\n",
    "for i,itrial in enumerate(np.where(all_used)[0]):\n",
    "    spikes[i,:] = rates_df[itrial]\n",
    "    if all_go_corr[itrial]:\n",
    "        choices[i] = 1\n",
    "    else:\n",
    "        choices[i] = 0 \n",
    "spikes = np.nan_to_num(spikes)\n",
    "print(spikes.shape)\n",
    "print(choices.shape)"
   ]
  },
  {
   "cell_type": "code",
   "execution_count": 165,
   "metadata": {},
   "outputs": [],
   "source": [
    "#these values are used to train our model\n",
    "y = choices\n",
    "X = spikes"
   ]
  },
  {
   "cell_type": "code",
   "execution_count": 166,
   "metadata": {},
   "outputs": [
    {
     "name": "stdout",
     "output_type": "stream",
     "text": [
      "(62, 1627)\n",
      "(62,)\n"
     ]
    }
   ],
   "source": [
    "#make FALSE ALARM arrays with spike rates and choices per trial\n",
    "spikes = np.zeros((len(np.where(all_FA)[0]),len(rates_df[0])))\n",
    "choices = np.zeros(len(np.where(all_FA)[0]))\n",
    "for i,itrial in enumerate(np.where(all_FA)[0]):\n",
    "    spikes[i,:] = rates_df[itrial]\n",
    "    if all_FA[itrial]:\n",
    "        choices[i] = 1\n",
    "spikes = np.nan_to_num(spikes)\n",
    "print(spikes.shape)\n",
    "print(choices.shape)"
   ]
  },
  {
   "cell_type": "code",
   "execution_count": 167,
   "metadata": {},
   "outputs": [],
   "source": [
    "#these values are used to test what the decoder says\n",
    "y_test = choices\n",
    "X_test = spikes"
   ]
  },
  {
   "cell_type": "code",
   "execution_count": 168,
   "metadata": {},
   "outputs": [
    {
     "data": {
      "text/plain": [
       "[<matplotlib.lines.Line2D at 0x1a4682bf90>]"
      ]
     },
     "execution_count": 168,
     "metadata": {},
     "output_type": "execute_result"
    },
    {
     "data": {
      "image/png": "[encoded data removed]",
      "text/plain": [
       "<Figure size 432x288 with 1 Axes>"
      ]
     },
     "metadata": {
      "needs_background": "light"
     },
     "output_type": "display_data"
    }
   ],
   "source": [
    "plt.figure\n",
    "plt.plot(X[0,:])"
   ]
  },
  {
   "cell_type": "markdown",
   "metadata": {},
   "source": [
    "# fit logistic regression models"
   ]
  },
  {
   "cell_type": "code",
   "execution_count": 169,
   "metadata": {},
   "outputs": [
    {
     "data": {
      "text/plain": [
       "LogisticRegression(C=1.0, class_weight=None, dual=False, fit_intercept=True,\n",
       "                   intercept_scaling=1, l1_ratio=None, max_iter=100,\n",
       "                   multi_class='warn', n_jobs=None, penalty='none',\n",
       "                   random_state=None, solver='newton-cg', tol=0.0001, verbose=0,\n",
       "                   warm_start=False)"
      ]
     },
     "execution_count": 169,
     "metadata": {},
     "output_type": "execute_result"
    }
   ],
   "source": [
    "# First define the model\n",
    "log_reg = LogisticRegression(penalty='none',solver='newton-cg')\n",
    "\n",
    "#Then fit it to data\n",
    "log_reg.fit(X, y)"
   ]
  },
  {
   "cell_type": "code",
   "execution_count": 170,
   "metadata": {},
   "outputs": [
    {
     "name": "stdout",
     "output_type": "stream",
     "text": [
      "Accuracy on the training data: 100.00%\n"
     ]
    }
   ],
   "source": [
    "#get accuracy of the model on the training set (should be high!)\n",
    "y_pred = log_reg.predict(X)\n",
    "train_accuracy = np.mean(y_pred == y)\n",
    "print(f\"Accuracy on the training data: {train_accuracy:.2%}\")"
   ]
  },
  {
   "cell_type": "code",
   "execution_count": 173,
   "metadata": {},
   "outputs": [
    {
     "data": {
      "image/png": "[encoded data removed]",
      "text/plain": [
       "<Figure size 576x216 with 1 Axes>"
      ]
     },
     "metadata": {
      "needs_background": "light"
     },
     "output_type": "display_data"
    }
   ],
   "source": [
    "#get accuracy of a l2-regularized model on a k-fold cross validated set\n",
    "\n",
    "k=8 #choose k-fold\n",
    "reg = 'l2' #choose regularization. 'none', 'l1', or 'l2'\n",
    "lam = 1 #choose lambda for regularizer\n",
    "\n",
    "#fit model\n",
    "#log_reg = LogisticRegression(penalty='none').fit(X, y)\n",
    "log_reg = LogisticRegression(penalty=reg, C=1/lam, solver='lbfgs', max_iter=2000).fit(X, y)\n",
    "\n",
    "#get cross-validated accuracies\n",
    "accuracies = cross_val_score(log_reg, X, y, cv=k)\n",
    "\n",
    "#plot the resulting accuracies\n",
    "f, ax = plt.subplots(figsize=(8, 3))\n",
    "ax.boxplot(accuracies, vert=False, widths=.7)\n",
    "ax.scatter(accuracies, np.ones_like(accuracies))\n",
    "ax.set(\n",
    "  xlabel=\"Accuracy\",\n",
    "  yticks=[],\n",
    "  title=f\"Average test accuracy: {accuracies.mean():.2%}\"\n",
    ")\n",
    "ax.spines[\"left\"].set_visible(False)"
   ]
  },
  {
   "cell_type": "code",
   "execution_count": 174,
   "metadata": {},
   "outputs": [
    {
     "name": "stdout",
     "output_type": "stream",
     "text": [
      "Percentage of FA trials on which the model predicts POSITIVE RESPONSE: 54.84%\n"
     ]
    },
    {
     "data": {
      "image/png": "[encoded data removed]",
      "text/plain": [
       "<Figure size 432x288 with 1 Axes>"
      ]
     },
     "metadata": {
      "needs_background": "light"
     },
     "output_type": "display_data"
    }
   ],
   "source": [
    "y_test_pred = log_reg.predict(X_test)\n",
    "y_test_proba = log_reg.predict_proba(X_test)\n",
    "y_test_acc = log_reg.score(X_test,y_test)\n",
    "\n",
    "print(f\"Percentage of FA trials on which the model predicts POSITIVE RESPONSE: {y_test_acc:.2%}\")\n",
    "\n",
    "plt.figure(figsize=(6,4))\n",
    "plt.hist(y_test_proba[:,],bins=50)\n",
    "plt.show()"
   ]
  },
  {
   "cell_type": "code",
   "execution_count": 120,
   "metadata": {},
   "outputs": [
    {
     "data": {
      "image/png": "[encoded data removed]",
      "text/plain": [
       "<Figure size 432x288 with 1 Axes>"
      ]
     },
     "metadata": {
      "needs_background": "light"
     },
     "output_type": "display_data"
    }
   ],
   "source": [
    "plt.figure(figsize=(6,4))\n",
    "plt.hist(log_reg.coef_[0],bins=30)\n",
    "plt.show()\n"
   ]
  },
  {
   "cell_type": "code",
   "execution_count": null,
   "metadata": {},
   "outputs": [],
   "source": [
    "all_FA"
   ]
  },
  {
   "cell_type": "code",
   "execution_count": 90,
   "metadata": {},
   "outputs": [
    {
     "name": "stderr",
     "output_type": "stream",
     "text": [
      "/opt/anaconda3/lib/python3.7/site-packages/sklearn/model_selection/_split.py:657: Warning: The least populated class in y has only 50 members, which is too few. The minimum number of members in any class cannot be less than n_splits=64.\n",
      "  % (min_groups, self.n_splits)), Warning)\n",
      "/opt/anaconda3/lib/python3.7/site-packages/sklearn/model_selection/_split.py:657: Warning: The least populated class in y has only 50 members, which is too few. The minimum number of members in any class cannot be less than n_splits=64.\n",
      "  % (min_groups, self.n_splits)), Warning)\n",
      "/opt/anaconda3/lib/python3.7/site-packages/sklearn/model_selection/_split.py:657: Warning: The least populated class in y has only 50 members, which is too few. The minimum number of members in any class cannot be less than n_splits=64.\n",
      "  % (min_groups, self.n_splits)), Warning)\n",
      "/opt/anaconda3/lib/python3.7/site-packages/sklearn/model_selection/_split.py:657: Warning: The least populated class in y has only 50 members, which is too few. The minimum number of members in any class cannot be less than n_splits=64.\n",
      "  % (min_groups, self.n_splits)), Warning)\n",
      "/opt/anaconda3/lib/python3.7/site-packages/sklearn/model_selection/_split.py:657: Warning: The least populated class in y has only 50 members, which is too few. The minimum number of members in any class cannot be less than n_splits=64.\n",
      "  % (min_groups, self.n_splits)), Warning)\n",
      "/opt/anaconda3/lib/python3.7/site-packages/sklearn/model_selection/_split.py:657: Warning: The least populated class in y has only 50 members, which is too few. The minimum number of members in any class cannot be less than n_splits=64.\n",
      "  % (min_groups, self.n_splits)), Warning)\n",
      "/opt/anaconda3/lib/python3.7/site-packages/sklearn/model_selection/_split.py:657: Warning: The least populated class in y has only 50 members, which is too few. The minimum number of members in any class cannot be less than n_splits=64.\n",
      "  % (min_groups, self.n_splits)), Warning)\n",
      "/opt/anaconda3/lib/python3.7/site-packages/sklearn/model_selection/_split.py:657: Warning: The least populated class in y has only 50 members, which is too few. The minimum number of members in any class cannot be less than n_splits=64.\n",
      "  % (min_groups, self.n_splits)), Warning)\n",
      "/opt/anaconda3/lib/python3.7/site-packages/sklearn/model_selection/_split.py:657: Warning: The least populated class in y has only 50 members, which is too few. The minimum number of members in any class cannot be less than n_splits=64.\n",
      "  % (min_groups, self.n_splits)), Warning)\n"
     ]
    }
   ],
   "source": [
    "def model_selection(X, y, C_values, CV_values):\n",
    "    \"\"\"Compute CV accuracy for each C value.\n",
    "\n",
    "    Args:\n",
    "    X (2D array): Data matrix\n",
    "    y (1D array): Label vector\n",
    "    C_values (1D array): Array of hyperparameter values\n",
    "\n",
    "    Returns:\n",
    "    accuracies (1D array): CV accuracy with each value of C\n",
    "\n",
    "    \"\"\"\n",
    "    accuracies_all = []\n",
    "\n",
    "    for CV in CV_values:\n",
    "\n",
    "        accuracies = []\n",
    "\n",
    "        for C in C_values:\n",
    "\n",
    "            # Initialize and fit the model\n",
    "            model = LogisticRegression(penalty='l2',C=C, solver='lbfgs',max_iter=2000)\n",
    "            model.fit(X,y)\n",
    "\n",
    "            # Get the accuracy for each test split\n",
    "            accs = cross_val_score(model,X,y,cv=int(CV))\n",
    "\n",
    "            # Store the average test accuracy for this value of C\n",
    "            accuracies.append(np.mean(accs))\n",
    "\n",
    "        accuracies_all.append(accuracies)\n",
    "\n",
    "    return accuracies_all\n",
    "\n",
    "\n",
    "\n",
    "# Use log-spaced values for C and CV\n",
    "\n",
    "C_values = np.logspace(-4, 4, 9)\n",
    "\n",
    "#CV_values = np.linspace(2,20,10)\n",
    "CV_values = np.logspace(1,5,5,base=2)\n",
    "#CV_values = np.logspace(np.arange(2,50,2)\n",
    "\n",
    "accuracies_all = model_selection(X, y, C_values, CV_values)"
   ]
  },
  {
   "cell_type": "code",
   "execution_count": 91,
   "metadata": {},
   "outputs": [
    {
     "data": {
      "image/png": "[encoded data removed]",
      "text/plain": [
       "<Figure size 432x288 with 1 Axes>"
      ]
     },
     "metadata": {
      "needs_background": "light"
     },
     "output_type": "display_data"
    }
   ],
   "source": [
    "#plot results\n",
    "ax = plt.figure().subplots()\n",
    "ax.set_xscale(\"log\")\n",
    "cmap = plt.cm.get_cmap('coolwarm')\n",
    "for i,accuracies in enumerate(accuracies_all):\n",
    "    c = cmap(i/(len(accuracies_all)-1))\n",
    "    ax.plot(C_values, accuracies, marker=\"o\",color=c)\n",
    "    best_C = C_values[np.argmax(accuracies)]\n",
    "    plt.text(1,0.8-0.02*i,f\"{CV_values[i]:1g}-fold CV: Cmax={best_C:1g}\",color=c)\n",
    "ax.set(\n",
    "  xticks=C_values,\n",
    "  xlabel=\"$C$\",\n",
    "  ylabel=\"Cross-validated accuracy\",\n",
    ")\n",
    "plt.show()"
   ]
  },
  {
   "cell_type": "code",
   "execution_count": null,
   "metadata": {},
   "outputs": [],
   "source": []
  }
 ],
 "metadata": {
  "kernelspec": {
   "display_name": "Python 3",
   "language": "python",
   "name": "python3"
  },
  "language_info": {
   "codemirror_mode": {
    "name": "ipython",
    "version": 3
   },
   "file_extension": ".py",
   "mimetype": "text/x-python",
   "name": "python",
   "nbconvert_exporter": "python",
   "pygments_lexer": "ipython3",
   "version": "3.7.4"
  }
 },
 "nbformat": 4,
 "nbformat_minor": 4
}
