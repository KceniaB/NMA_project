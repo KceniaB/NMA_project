{
 "cells": [
  {
   "cell_type": "markdown",
   "metadata": {},
   "source": [
    "# Download Data with ONE light"
   ]
  },
  {
   "cell_type": "code",
   "execution_count": 1,
   "metadata": {},
   "outputs": [],
   "source": [
    "# We import the libraries.\n",
    "import numpy as np\n",
    "import matplotlib.pyplot as plt\n",
    "%matplotlib inline"
   ]
  },
  {
   "cell_type": "code",
   "execution_count": 2,
   "metadata": {},
   "outputs": [],
   "source": [
    "from oneibl.onelight import ONE\n",
    "one = ONE()"
   ]
  },
  {
   "cell_type": "code",
   "execution_count": 3,
   "metadata": {},
   "outputs": [],
   "source": [
    "# We set the current repository to a figshare article, that was specially created with ONE light:\n",
    "one.set_figshare_url(\"https://figshare.com/articles/steinmetz/9974357\")"
   ]
  },
  {
   "cell_type": "code",
   "execution_count": 4,
   "metadata": {},
   "outputs": [],
   "source": [
    "# We search all sessions that have files with a given dataset type. We could pass multiple dataset types. Here, we get all sessions that have spikes:\n",
    "sessions = one.search(['spikes'])"
   ]
  },
  {
   "cell_type": "code",
   "execution_count": 5,
   "metadata": {},
   "outputs": [
    {
     "data": {
      "text/plain": [
       "['nicklab/Subjects/Cori/2016-12-14/001',\n",
       " 'nicklab/Subjects/Cori/2016-12-17/001',\n",
       " 'nicklab/Subjects/Cori/2016-12-18/001',\n",
       " 'nicklab/Subjects/Forssmann/2017-11-01/001',\n",
       " 'nicklab/Subjects/Forssmann/2017-11-02/001',\n",
       " 'nicklab/Subjects/Forssmann/2017-11-04/001',\n",
       " 'nicklab/Subjects/Forssmann/2017-11-05/001',\n",
       " 'nicklab/Subjects/Hench/2017-06-15/001',\n",
       " 'nicklab/Subjects/Hench/2017-06-16/001',\n",
       " 'nicklab/Subjects/Hench/2017-06-17/001',\n",
       " 'nicklab/Subjects/Hench/2017-06-18/001',\n",
       " 'nicklab/Subjects/Lederberg/2017-12-05/001',\n",
       " 'nicklab/Subjects/Lederberg/2017-12-06/001',\n",
       " 'nicklab/Subjects/Lederberg/2017-12-07/001',\n",
       " 'nicklab/Subjects/Lederberg/2017-12-08/001',\n",
       " 'nicklab/Subjects/Lederberg/2017-12-09/001',\n",
       " 'nicklab/Subjects/Lederberg/2017-12-10/001',\n",
       " 'nicklab/Subjects/Lederberg/2017-12-11/001',\n",
       " 'nicklab/Subjects/Moniz/2017-05-15/001',\n",
       " 'nicklab/Subjects/Moniz/2017-05-16/001',\n",
       " 'nicklab/Subjects/Moniz/2017-05-18/001',\n",
       " 'nicklab/Subjects/Muller/2017-01-07/001',\n",
       " 'nicklab/Subjects/Muller/2017-01-08/001',\n",
       " 'nicklab/Subjects/Muller/2017-01-09/001',\n",
       " 'nicklab/Subjects/Radnitz/2017-01-08/001',\n",
       " 'nicklab/Subjects/Radnitz/2017-01-09/001',\n",
       " 'nicklab/Subjects/Radnitz/2017-01-10/001',\n",
       " 'nicklab/Subjects/Radnitz/2017-01-11/001',\n",
       " 'nicklab/Subjects/Radnitz/2017-01-12/001',\n",
       " 'nicklab/Subjects/Richards/2017-10-29/001',\n",
       " 'nicklab/Subjects/Richards/2017-10-30/001',\n",
       " 'nicklab/Subjects/Richards/2017-10-31/001',\n",
       " 'nicklab/Subjects/Richards/2017-11-01/001',\n",
       " 'nicklab/Subjects/Richards/2017-11-02/001',\n",
       " 'nicklab/Subjects/Tatum/2017-12-06/001',\n",
       " 'nicklab/Subjects/Tatum/2017-12-07/001',\n",
       " 'nicklab/Subjects/Tatum/2017-12-08/001',\n",
       " 'nicklab/Subjects/Tatum/2017-12-09/001',\n",
       " 'nicklab/Subjects/Theiler/2017-10-11/001']"
      ]
     },
     "execution_count": 5,
     "metadata": {},
     "output_type": "execute_result"
    }
   ],
   "source": [
    "# Within a repository, every session is uniquely identified by its full name, which has the following structure: labname/Subjects/subjectname/date/session.\n",
    "\n",
    "sessions"
   ]
  },
  {
   "cell_type": "code",
   "execution_count": 6,
   "metadata": {},
   "outputs": [],
   "source": [
    "# We take the first session.\n",
    "\n",
    "session = sessions[0]"
   ]
  },
  {
   "cell_type": "code",
   "execution_count": 7,
   "metadata": {},
   "outputs": [
    {
     "data": {
      "text/plain": [
       "['Cori_2016-12-14_M2_g0_t0.imec',\n",
       " 'Cori_2016-12-14_V1_g0_t0.imec',\n",
       " 'channels.brainLocation',\n",
       " 'channels.probe',\n",
       " 'channels.rawRow',\n",
       " 'channels.site',\n",
       " 'channels.sitePositions',\n",
       " 'clusters._phy_annotation',\n",
       " 'clusters.depths',\n",
       " 'clusters.originalIDs',\n",
       " 'clusters.peakChannel',\n",
       " 'clusters.probes',\n",
       " 'clusters.templateWaveformChans',\n",
       " 'clusters.templateWaveforms',\n",
       " 'clusters.waveformDuration',\n",
       " 'eye.area',\n",
       " 'eye.timestamps',\n",
       " 'eye.xyPos',\n",
       " 'face.motionEnergy',\n",
       " 'face.timestamps',\n",
       " 'lickPiezo.raw',\n",
       " 'lickPiezo.timestamps',\n",
       " 'licks.times',\n",
       " 'passiveBeeps.times',\n",
       " 'passiveValveClick.times',\n",
       " 'passiveVisual.contrastLeft',\n",
       " 'passiveVisual.contrastRight',\n",
       " 'passiveVisual.times',\n",
       " 'passiveWhiteNoise.times',\n",
       " 'probes.description',\n",
       " 'probes.insertion',\n",
       " 'probes.rawFilename',\n",
       " 'probes.sitePositions',\n",
       " 'sparseNoise.positions',\n",
       " 'sparseNoise.times',\n",
       " 'spikes.amps',\n",
       " 'spikes.clusters',\n",
       " 'spikes.depths',\n",
       " 'spikes.times',\n",
       " 'spontaneous.intervals',\n",
       " 'trials.feedbackType',\n",
       " 'trials.feedback_times',\n",
       " 'trials.goCue_times',\n",
       " 'trials.included',\n",
       " 'trials.intervals',\n",
       " 'trials.repNum',\n",
       " 'trials.response_choice',\n",
       " 'trials.response_times',\n",
       " 'trials.visualStim_contrastLeft',\n",
       " 'trials.visualStim_contrastRight',\n",
       " 'trials.visualStim_times',\n",
       " 'wheel.position',\n",
       " 'wheel.timestamps',\n",
       " 'wheelMoves.intervals',\n",
       " 'wheelMoves.type']"
      ]
     },
     "execution_count": 7,
     "metadata": {},
     "output_type": "execute_result"
    }
   ],
   "source": [
    "# What are the dataset types contained in this session?\n",
    "one.list(session)"
   ]
  },
  {
   "cell_type": "code",
   "execution_count": 8,
   "metadata": {},
   "outputs": [
    {
     "name": "stderr",
     "output_type": "stream",
     "text": [
      "\u001b[0m17:54:13.052 [I] onelight:346         Downloading https://ndownloader.figshare.com/files/17984294 to /Users/kcenia/.one/data/figshare_00/nicklab/Subjects/Cori/2016-12-14/001/alf/spikes.times.npy.\u001b[0m\n"
     ]
    },
    {
     "data": {
      "text/plain": [
       "array([[3.36666667e-03],\n",
       "       [4.73333333e-03],\n",
       "       [6.76666667e-03],\n",
       "       ...,\n",
       "       [2.70264303e+03],\n",
       "       [2.70264313e+03],\n",
       "       [2.70264316e+03]])"
      ]
     },
     "execution_count": 8,
     "metadata": {},
     "output_type": "execute_result"
    }
   ],
   "source": [
    "# We can load either single files, or full objects. First, let's load the spike times:\n",
    "\n",
    "one.load_dataset(session, 'spikes.times')"
   ]
  },
  {
   "cell_type": "code",
   "execution_count": 9,
   "metadata": {},
   "outputs": [
    {
     "name": "stderr",
     "output_type": "stream",
     "text": [
      "\u001b[0m17:59:10.882 [I] onelight:346         Downloading https://ndownloader.figshare.com/files/17984285 to /Users/kcenia/.one/data/figshare_00/nicklab/Subjects/Cori/2016-12-14/001/alf/spikes.amps.npy.\u001b[0m\n",
      "\u001b[0m17:59:23.681 [I] onelight:346         Downloading https://ndownloader.figshare.com/files/17984288 to /Users/kcenia/.one/data/figshare_00/nicklab/Subjects/Cori/2016-12-14/001/alf/spikes.clusters.npy.\u001b[0m\n",
      "\u001b[0m17:59:30.164 [I] onelight:346         Downloading https://ndownloader.figshare.com/files/17984291 to /Users/kcenia/.one/data/figshare_00/nicklab/Subjects/Cori/2016-12-14/001/alf/spikes.depths.npy.\u001b[0m\n"
     ]
    }
   ],
   "source": [
    "# Now, we load all spikes.* files:\n",
    "spikes = one.load_object(session, 'spikes')"
   ]
  },
  {
   "cell_type": "code",
   "execution_count": 10,
   "metadata": {},
   "outputs": [
    {
     "data": {
      "image/png": "[encoded data removed]",
      "text/plain": [
       "<Figure size 432x288 with 1 Axes>"
      ]
     },
     "metadata": {
      "needs_background": "light"
     },
     "output_type": "display_data"
    }
   ],
   "source": [
    "# The spikes object is an instance of a dictionary, that also allows for the more convenient syntax \n",
    "# interface spikes.times in addition to spikes['times']. \n",
    "# Here, we display a raster plot of the first 100,000 spikes: \n",
    "\n",
    "plt.plot(spikes.times[:100000], spikes.clusters[:100000], ',');"
   ]
  },
  {
   "cell_type": "code",
   "execution_count": 14,
   "metadata": {},
   "outputs": [
    {
     "name": "stderr",
     "output_type": "stream",
     "text": [
      "\u001b[0m18:04:49.891 [I] onelight:346         Downloading https://ndownloader.figshare.com/files/17984225 to /Users/kcenia/.one/data/figshare_00/nicklab/Subjects/Cori/2016-12-14/001/alf/eye.area.npy.\u001b[0m\n"
     ]
    }
   ],
   "source": [
    "spk_times = one.load_dataset(session, 'spikes.times')\n",
    "eye = one.load_dataset(session, 'eye.area')"
   ]
  },
  {
   "cell_type": "code",
   "execution_count": 35,
   "metadata": {},
   "outputs": [],
   "source": [
    "resp_times = one.load_dataset(session, 'trials.response_times')"
   ]
  },
  {
   "cell_type": "code",
   "execution_count": 36,
   "metadata": {},
   "outputs": [
    {
     "name": "stdout",
     "output_type": "stream",
     "text": [
      "10017476 214 214\n",
      "[[3.36666667e-03]\n",
      " [4.73333333e-03]\n",
      " [6.76666667e-03]\n",
      " ...\n",
      " [2.70264303e+03]\n",
      " [2.70264313e+03]\n",
      " [2.70264316e+03]]\n",
      "[[  66.41961196]\n",
      " [  72.60220579]\n",
      " [  77.00167129]\n",
      " [  83.50206455]\n",
      " [  87.61772745]\n",
      " [  92.16771994]\n",
      " [  97.11750846]\n",
      " [ 100.90058594]\n",
      " [ 107.66357589]\n",
      " [ 112.31660606]\n",
      " [ 116.8327424 ]\n",
      " [ 126.4034579 ]\n",
      " [ 130.84899994]\n",
      " [ 134.61567822]\n",
      " [ 138.11511853]\n",
      " [ 143.73140402]\n",
      " [ 154.94957207]\n",
      " [ 163.59740554]\n",
      " [ 168.86367883]\n",
      " [ 172.91338661]\n",
      " [ 178.0349687 ]\n",
      " [ 185.67943803]\n",
      " [ 190.02898959]\n",
      " [ 195.11348821]\n",
      " [ 200.19538288]\n",
      " [ 204.57847061]\n",
      " [ 209.21049653]\n",
      " [ 212.86128824]\n",
      " [ 216.71097409]\n",
      " [ 223.07757796]\n",
      " [ 232.89326264]\n",
      " [ 238.26233211]\n",
      " [ 244.97634876]\n",
      " [ 248.64312701]\n",
      " [ 254.82553187]\n",
      " [ 259.41906669]\n",
      " [ 271.63789018]\n",
      " [ 275.37470879]\n",
      " [ 279.94122878]\n",
      " [ 284.52426629]\n",
      " [ 295.4069757 ]\n",
      " [ 300.39006493]\n",
      " [ 304.67258459]\n",
      " [ 309.50624052]\n",
      " [ 315.6795062 ]\n",
      " [ 318.80572126]\n",
      " [ 323.87181806]\n",
      " [ 331.77139886]\n",
      " [ 335.82123464]\n",
      " [ 340.68806207]\n",
      " [ 348.45754809]\n",
      " [ 352.98715576]\n",
      " [ 358.26303824]\n",
      " [ 365.85334297]\n",
      " [ 369.66971512]\n",
      " [ 375.31902088]\n",
      " [ 380.00210725]\n",
      " [ 384.60181686]\n",
      " [ 388.50186584]\n",
      " [ 394.33512518]\n",
      " [ 398.55144189]\n",
      " [ 402.7678733 ]\n",
      " [ 408.48806375]\n",
      " [ 412.26715562]\n",
      " [ 416.31755348]\n",
      " [ 420.96636016]\n",
      " [ 426.26672054]\n",
      " [ 431.14826484]\n",
      " [ 435.13278547]\n",
      " [ 441.34779372]\n",
      " [ 444.59899166]\n",
      " [ 449.58185932]\n",
      " [ 453.24840453]\n",
      " [ 458.08165232]\n",
      " [ 462.58145254]\n",
      " [ 465.91461961]\n",
      " [ 469.74755156]\n",
      " [ 474.66409612]\n",
      " [ 478.14744363]\n",
      " [ 482.96085571]\n",
      " [ 488.37547889]\n",
      " [ 493.66320834]\n",
      " [ 499.42940711]\n",
      " [ 502.81263332]\n",
      " [ 510.22895228]\n",
      " [ 515.71348389]\n",
      " [ 520.47607068]\n",
      " [ 524.16166915]\n",
      " [ 528.39428634]\n",
      " [ 533.02752125]\n",
      " [ 539.04404199]\n",
      " [ 543.47716411]\n",
      " [ 549.69313654]\n",
      " [ 554.86060258]\n",
      " [ 559.47597844]\n",
      " [ 563.39247009]\n",
      " [ 567.59255393]\n",
      " [ 572.74364673]\n",
      " [ 576.22543115]\n",
      " [ 580.90581274]\n",
      " [ 585.02500573]\n",
      " [ 589.55824251]\n",
      " [ 594.65788273]\n",
      " [ 599.9639485 ]\n",
      " [ 605.47354968]\n",
      " [ 611.82246566]\n",
      " [ 615.98990686]\n",
      " [ 621.4744421 ]\n",
      " [ 626.85587294]\n",
      " [ 632.49202492]\n",
      " [ 638.14535766]\n",
      " [ 642.70228083]\n",
      " [ 649.50361728]\n",
      " [ 655.29651693]\n",
      " [ 658.82060751]\n",
      " [ 664.56951505]\n",
      " [ 668.10406549]\n",
      " [ 672.33717051]\n",
      " [ 682.82880045]\n",
      " [ 686.18612362]\n",
      " [ 692.03005656]\n",
      " [ 695.53586909]\n",
      " [ 699.81880594]\n",
      " [ 704.50211086]\n",
      " [ 708.1184481 ]\n",
      " [ 711.75154196]\n",
      " [ 716.0013393 ]\n",
      " [ 720.13458866]\n",
      " [ 723.28441012]\n",
      " [ 728.30168968]\n",
      " [ 732.26763189]\n",
      " [ 737.93818944]\n",
      " [ 742.11674528]\n",
      " [ 745.33343894]\n",
      " [ 751.79940611]\n",
      " [ 757.64116919]\n",
      " [ 762.8914499 ]\n",
      " [ 766.38194212]\n",
      " [ 771.43240104]\n",
      " [ 775.81501483]\n",
      " [ 779.46480856]\n",
      " [ 783.4315133 ]\n",
      " [ 786.99783246]\n",
      " [ 790.91434131]\n",
      " [ 794.78060809]\n",
      " [ 799.93477304]\n",
      " [ 806.01015521]\n",
      " [ 809.67993256]\n",
      " [ 818.16531449]\n",
      " [ 822.66254276]\n",
      " [ 825.72920752]\n",
      " [ 830.6751037 ]\n",
      " [ 834.11209212]\n",
      " [ 838.02833562]\n",
      " [ 842.77750178]\n",
      " [ 846.59425038]\n",
      " [ 856.14419165]\n",
      " [ 859.77741773]\n",
      " [ 865.44942608]\n",
      " [ 869.96039587]\n",
      " [ 875.62522479]\n",
      " [ 879.14303553]\n",
      " [ 884.47630359]\n",
      " [ 889.60809469]\n",
      " [ 893.47568849]\n",
      " [ 896.6585912 ]\n",
      " [ 899.94177671]\n",
      " [ 903.50853932]\n",
      " [ 908.08898104]\n",
      " [ 912.93916416]\n",
      " [ 918.16507444]\n",
      " [ 922.82801175]\n",
      " [ 926.69060324]\n",
      " [ 931.62318112]\n",
      " [ 936.2268688 ]\n",
      " [ 940.22268246]\n",
      " [ 947.25576186]\n",
      " [ 951.45597671]\n",
      " [ 955.42206534]\n",
      " [ 962.5082543 ]\n",
      " [ 966.96952689]\n",
      " [ 970.63798054]\n",
      " [ 976.86929773]\n",
      " [ 981.99398548]\n",
      " [ 986.38394955]\n",
      " [ 990.98673494]\n",
      " [ 995.87110657]\n",
      " [ 999.81961779]\n",
      " [1006.0452951 ]\n",
      " [1009.98604066]\n",
      " [1013.93539229]\n",
      " [1018.70696701]\n",
      " [1023.65053878]\n",
      " [1028.86795498]\n",
      " [1033.79572163]\n",
      " [1039.06710169]\n",
      " [1043.81453359]\n",
      " [1047.36778079]\n",
      " [1053.99965533]\n",
      " [1059.21110261]\n",
      " [1063.94993147]\n",
      " [1069.89655675]\n",
      " [1074.75931917]\n",
      " [1079.34242824]\n",
      " [1084.15811402]\n",
      " [1093.78204443]\n",
      " [1098.1982273 ]\n",
      " [1103.6917375 ]\n",
      " [1107.53080893]\n",
      " [1111.56400401]\n",
      " [1115.4976921 ]\n",
      " [1120.23280521]\n",
      " [1124.85412644]\n",
      " [1129.0131264 ]]\n"
     ]
    }
   ],
   "source": [
    "print(len(spk_times), len(eye), len(resp_times))\n",
    "print(spk_times)\n",
    "print(eye)"
   ]
  },
  {
   "cell_type": "code",
   "execution_count": 38,
   "metadata": {},
   "outputs": [
    {
     "data": {
      "text/plain": [
       "[<matplotlib.lines.Line2D at 0x1a39c2aed0>]"
      ]
     },
     "execution_count": 38,
     "metadata": {},
     "output_type": "execute_result"
    },
    {
     "data": {
      "image/png": "[encoded data removed]",
      "text/plain": [
       "<Figure size 432x288 with 1 Axes>"
      ]
     },
     "metadata": {
      "needs_background": "light"
     },
     "output_type": "display_data"
    }
   ],
   "source": [
    "plt.plot(resp_times)"
   ]
  },
  {
   "cell_type": "code",
   "execution_count": null,
   "metadata": {},
   "outputs": [],
   "source": []
  }
 ],
 "metadata": {
  "kernelspec": {
   "display_name": "Python 3",
   "language": "python",
   "name": "python3"
  },
  "language_info": {
   "codemirror_mode": {
    "name": "ipython",
    "version": 3
   },
   "file_extension": ".py",
   "mimetype": "text/x-python",
   "name": "python",
   "nbconvert_exporter": "python",
   "pygments_lexer": "ipython3",
   "version": "3.7.4"
  }
 },
 "nbformat": 4,
 "nbformat_minor": 4
}
