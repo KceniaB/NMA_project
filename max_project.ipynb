{
 "cells": [
  {
   "cell_type": "markdown",
   "metadata": {
    "toc": true
   },
   "source": [
    "<h1>Table of Contents<span class=\"tocSkip\"></span></h1>\n",
    "<div class=\"toc\"><ul class=\"toc-item\"><li><ul class=\"toc-item\"><li><ul class=\"toc-item\"><li><ul class=\"toc-item\"><li><span><a href=\"#libraries-and-widgets\" data-toc-modified-id=\"libraries-and-widgets-0.0.0.1\"><span class=\"toc-item-num\">0.0.0.1&nbsp;&nbsp;</span>libraries and widgets</a></span></li></ul></li></ul></li></ul></li><li><span><a href=\"#Neuromatch-Academy-Project---Steinmetz-Dataset---Mouse-Mind-Reading\" data-toc-modified-id=\"Neuromatch-Academy-Project---Steinmetz-Dataset---Mouse-Mind-Reading-1\"><span class=\"toc-item-num\">1&nbsp;&nbsp;</span>Neuromatch Academy Project - Steinmetz Dataset - Mouse Mind Reading</a></span><ul class=\"toc-item\"><li><ul class=\"toc-item\"><li><ul class=\"toc-item\"><li><span><a href=\"#explore-dictionary-for-session\" data-toc-modified-id=\"explore-dictionary-for-session-1.0.0.1\"><span class=\"toc-item-num\">1.0.0.1&nbsp;&nbsp;</span>explore dictionary for session</a></span></li></ul></li></ul></li><li><span><a href=\"#Load-Data\" data-toc-modified-id=\"Load-Data-1.1\"><span class=\"toc-item-num\">1.1&nbsp;&nbsp;</span>Load Data</a></span><ul class=\"toc-item\"><li><span><a href=\"#via-google-drive-directly\" data-toc-modified-id=\"via-google-drive-directly-1.1.1\"><span class=\"toc-item-num\">1.1.1&nbsp;&nbsp;</span>via google drive directly</a></span></li><li><span><a href=\"#cleanup-channel-infos\" data-toc-modified-id=\"cleanup-channel-infos-1.1.2\"><span class=\"toc-item-num\">1.1.2&nbsp;&nbsp;</span>cleanup channel infos</a></span></li><li><span><a href=\"#cleaning-up-spikes\" data-toc-modified-id=\"cleaning-up-spikes-1.1.3\"><span class=\"toc-item-num\">1.1.3&nbsp;&nbsp;</span>cleaning up spikes</a></span></li><li><span><a href=\"#cleanup-trial-info\" data-toc-modified-id=\"cleanup-trial-info-1.1.4\"><span class=\"toc-item-num\">1.1.4&nbsp;&nbsp;</span>cleanup trial info</a></span></li></ul></li></ul></li></ul></div>"
   ]
  },
  {
   "cell_type": "code",
   "execution_count": 1,
   "metadata": {
    "colab": {
     "base_uri": "https://localhost:8080/",
     "height": 35
    },
    "colab_type": "code",
    "executionInfo": {
     "elapsed": 1269,
     "status": "ok",
     "timestamp": 1595266937803,
     "user": {
      "displayName": "Max Hoheiser",
      "photoUrl": "https://lh3.googleusercontent.com/a-/AOh14GgcOj0xb1EjxBJ1OyxAUJAdknWQprdHmaELrwjcpo8=s64",
      "userId": "14108002061243669705"
     },
     "user_tz": -120
    },
    "id": "JA0mhl-7Lu_s",
    "outputId": "39b3cb5a-35dc-48e2-822b-89978d2df42a"
   },
   "outputs": [],
   "source": [
    "import numpy as np\n",
    "import matplotlib.pyplot as plt\n",
    "import os\n",
    "import pandas as pd\n",
    "import matplotlib.pyplot as plt\n",
    "import qgrid\n",
    "\n",
    "from nma_class import NMA_project\n",
    "\n",
    "%matplotlib inline"
   ]
  },
  {
   "cell_type": "markdown",
   "metadata": {
    "heading_collapsed": true
   },
   "source": [
    "#### libraries and widgets\n",
    "- qgrid\n",
    "- nbextentions"
   ]
  },
  {
   "cell_type": "code",
   "execution_count": 2,
   "metadata": {
    "hidden": true
   },
   "outputs": [],
   "source": [
    "# only if you are on jupyter notebook not if on colab\n",
    "import qgrid"
   ]
  },
  {
   "cell_type": "code",
   "execution_count": null,
   "metadata": {
    "hidden": true
   },
   "outputs": [],
   "source": [
    "# only if you are on google coalb not if you are on jupyter notebook\n",
    "from google.colab import drive\n",
    "drive.mount('/content/gdrive')"
   ]
  },
  {
   "cell_type": "markdown",
   "metadata": {},
   "source": [
    "# Neuromatch Academy Project - Steinmetz Dataset - Mouse Mind Reading"
   ]
  },
  {
   "cell_type": "code",
   "execution_count": 2,
   "metadata": {
    "colab": {
     "base_uri": "https://localhost:8080/",
     "height": 35
    },
    "colab_type": "code",
    "executionInfo": {
     "elapsed": 1487,
     "status": "ok",
     "timestamp": 1595266942323,
     "user": {
      "displayName": "Max Hoheiser",
      "photoUrl": "https://lh3.googleusercontent.com/a-/AOh14GgcOj0xb1EjxBJ1OyxAUJAdknWQprdHmaELrwjcpo8=s64",
      "userId": "14108002061243669705"
     },
     "user_tz": -120
    },
    "id": "Nw8xyyd5UaC5",
    "outputId": "ca4e4160-777a-42a6-f72b-2b61f97454e3"
   },
   "outputs": [],
   "source": [
    "# link to parent folder with all datasets\n",
    "#main_folder = \"/content/gdrive/My Drive/3 Projekte/Neuromatch Summer School/Projekt/steinmetz_dataset\"\n",
    "#main_folder = \"C:/Users/User/Google Drive/3 Projekte/Neuromatch Summer School/Projekt/steinmetz_dataset\"\n",
    "#main_folder = \"Z:/3 Projekte/Neuromatch Summer School/Projekt/steinmetz_dataset\"\n",
    "main_folder = \"E:/3 Projekte/Neuromatch Summer School/Projekt/steinmetz_dataset\"\n",
    "\n",
    "# create session object\n",
    "nma_obj = NMA_project(main_folder) \n",
    "\n",
    "# default session is initialized, extract interesting dataframes in dedicated variables\n",
    "session = nma_obj.std_session\n",
    "\n"
   ]
  },
  {
   "cell_type": "code",
   "execution_count": 5,
   "metadata": {},
   "outputs": [],
   "source": [
    "#channels_df = session['channels_df']\n",
    "spikes_df = session['spikes_df']\n",
    "clusters_df = session['clusters_df']\n",
    "#trials_df = session['trials_df']"
   ]
  },
  {
   "cell_type": "code",
   "execution_count": 5,
   "metadata": {
    "scrolled": true
   },
   "outputs": [
    {
     "data": {
      "application/vnd.jupyter.widget-view+json": {
       "model_id": "311b418b0efa4920aac5aad924093f78",
       "version_major": 2,
       "version_minor": 0
      },
      "text/plain": [
       "QgridWidget(grid_options={'fullWidthRows': True, 'syncColumnCellResize': True, 'forceFitColumns': True, 'defau…"
      ]
     },
     "metadata": {},
     "output_type": "display_data"
    }
   ],
   "source": [
    "qgrid.show_grid(clusters_df)"
   ]
  },
  {
   "cell_type": "code",
   "execution_count": 3,
   "metadata": {},
   "outputs": [],
   "source": [
    "folder = \"E:/3 Projekte/Neuromatch Summer School/Projekt/steinmetz_dataset/Cori_2016-12-14\"\n",
    "\n",
    "# good cells and brain regions\n",
    "good_cells, brain_region, br, phy_label = nma_obj.get_good_cells(folder)\n",
    "# get all spikes\n",
    "spk_spikes, spk_clusters = nma_obj.get_all_spikes(folder)\n",
    "# event types\n",
    "response, vis_right, vis_left, feedback_type, included_tr, rep_nrs = nma_obj.get_event_types(folder)\n",
    "# event timing\n",
    "response_times, visual_times, gocue_times, feedback_times, interval_times, rsp, feedback, gocue, interval = nma_obj.get_event_times(folder)   \n",
    "# get passive trials\n",
    "vis_times_p, vis_right_p, vis_left_p, gocue_p = nma_obj.get_passive(folder)\n",
    "visual_times = np.vstack((visual_times, vis_times_p))\n",
    "vis_right = np.hstack((vis_right, vis_right_p))\n",
    "vis_left  = np.hstack((vis_left, vis_left_p))\n",
    "# get spikes and clusters of spikes\n",
    "spikes, sclust    = nma_obj.get_spikes(folder)\n",
    "# wheel traces\n",
    "wheel, wheel_times = nma_obj.get_wheel(folder)\n",
    "# load the pupil\n",
    "pup, xy, pup_times = nma_obj.get_pup(folder)\n",
    "# load the LFP\n",
    "#L, ba_lfp = nma_obj.get_LFP(folder, br, visual_times-T0, dT, dt, T0)\n",
    "# trials loader\n",
    "S  = nma_obj.psth(spikes, sclust,   visual_times-nma_obj.T0, nma_obj.dT, nma_obj.dt)\n",
    "# wheel trials\n",
    "W = nma_obj.wpsth(wheel, wheel_times,   visual_times-nma_obj.T0, nma_obj.dT, nma_obj.dt)\n",
    "# pupil loader\n",
    "P = nma_obj.ppsth(pup, pup_times,   visual_times-nma_obj.T0, nma_obj.dT, nma_obj.dt)\n",
    "# add spike waveform information\n",
    "twav, w, u = nma_obj.get_waves(folder)\n",
    "good_cells = good_cells * (np.mean(S, axis=(1,2))>0)\n",
    "S  = S[good_cells].astype('int8') \n",
    "\n",
    "\n",
    "session_test = dict()\n",
    "# _p mens for passif trials\n",
    "# number of active trials\n",
    "ntrials = len(response)\n",
    "session_test['clusters'] = good_cells\n",
    "session_test['brain_area'] = brain_region[good_cells]\n",
    "session_test['spk']=S[:, :ntrials, :]\n",
    "session_test['spks_binned'] = S[:, :ntrials, :]\n",
    "session_test['wheel'] = W[np.newaxis, :ntrials, :]\n",
    "session_test['pupil'] = P[:, :ntrials, :]\n",
    "session_test['response'] = response\n",
    "session_test['contrast_right'] = vis_right[:ntrials]\n",
    "session_test['contrast_left'] = vis_left[:ntrials]\n",
    "session_test['response_time'] = rsp\n",
    "session_test['feedback_time'] = feedback\n",
    "session_test['feedback_type'] = feedback_type  \n",
    "session_test['gocue'] = gocue\n",
    "#session_test['mouse_name'] = folder.split('\\\\')[1].split('_')[0]\n",
    "#session_test['date_exp'] = folder.split('\\\\')[1].split('_')[1]\n",
    "session_test['trough_to_peak'] = twav[good_cells].flatten()\n",
    "session_test['waveform_w'] = w[good_cells].astype('float32')\n",
    "session_test['waveform_u'] = u[good_cells].astype('float32')\n",
    "session_test['bin_size'] = nma_obj.dt\n",
    "session_test['stim_onset'] = nma_obj.T0\n",
    "session_test['spks_passive'] = S[:, ntrials:, :]\n",
    "session_test['wheel_passive'] = W[np.newaxis, ntrials:, :]\n",
    "session_test['pupil_passive'] = P[:, ntrials:, :]\n",
    "#session_test['lfp_passive'] = L[:, ntrials:, :]\n",
    "session_test['contrast_right_passive'] = vis_right[ntrials:]\n",
    "session_test['contrast_left_passive'] = vis_left[ntrials:]"
   ]
  },
  {
   "cell_type": "code",
   "execution_count": 6,
   "metadata": {},
   "outputs": [],
   "source": [
    "clusters = np.unique(spk_clusters)\n",
    "clusters_df = pd.DataFrame({'label':phy_label}, index=clusters )\n",
    "clusters_df['label'] = clusters_df['label'].apply( lambda label: 'good' if label==2 else ('mua' if label==1 else 'bad') )\n",
    "# drop rows with bad cells\n",
    "#clusters_df.drop( clusters_df[(clusters_df['label']=='bad')].index,axis=0,inplace=True)\n",
    "# create spikes colum with spiketimes\n",
    "\n",
    "spk = pd.DataFrame( {'spikes':np.zeros(len(clusters), dtype=object)}, index=clusters )\n",
    "# only select good clusters\n",
    "for group, frame in spikes_df.groupby('cluster'):\n",
    "    spk['spikes'][group] = frame['spike_times'].values\n",
    "#merge spike column with clusters_df\n",
    "clusters_df = pd.merge(clusters_df, spk, how='right', left_index=True, right_index=True)\n",
    "# set index name\n",
    "clusters_df.index.name='cluster'\n",
    "# number of spikes per cluster\n",
    "clusters_df['total spikes'] = clusters_df['spikes'].apply(lambda row: len(row) )\n",
    "# add recording position\n",
    "clusters_df['recording area'] = brain_region"
   ]
  },
  {
   "cell_type": "code",
   "execution_count": 11,
   "metadata": {},
   "outputs": [],
   "source": [
    "response_times, visual_times, gocue_times, feedback_times, interval_times, rsp, feedback, gocue, interval = nma_obj.get_event_times(folder)   "
   ]
  },
  {
   "cell_type": "code",
   "execution_count": 19,
   "metadata": {},
   "outputs": [
    {
     "data": {
      "text/plain": [
       "array([[  62.90028371,   67.42348445],\n",
       "       [  68.42083772,   73.60447565],\n",
       "       [  74.60290237,   78.00675701],\n",
       "       [  79.00365324,   84.50677806],\n",
       "       [  85.50179514,   88.62133641],\n",
       "       [  89.61759177,   93.17147139],\n",
       "       [  94.16770229,   98.11970104],\n",
       "       [  99.1176188 ,  101.90397514],\n",
       "       [ 102.90225485,  108.66371181],\n",
       "       [ 109.66196556,  113.31976071],\n",
       "       [ 114.31820856,  117.83466087],\n",
       "       [ 118.83384016,  127.4047829 ],\n",
       "       [ 128.40256754,  131.8530433 ],\n",
       "       [ 132.84838428,  135.6201119 ],\n",
       "       [ 136.61738457,  139.12007717],\n",
       "       [ 140.11648769,  144.73529553],\n",
       "       [ 145.73070082,  155.9513227 ],\n",
       "       [ 156.94839312,  164.60097163],\n",
       "       [ 165.59694565,  169.86748672],\n",
       "       [ 170.86362616,  173.91689143],\n",
       "       [ 174.91382177,  179.03884663],\n",
       "       [ 180.03654192,  186.68360938],\n",
       "       [ 187.68056025,  191.03249953],\n",
       "       [ 192.03032523,  196.11566569],\n",
       "       [ 197.1117191 ,  201.19931665],\n",
       "       [ 202.19646615,  205.58243065],\n",
       "       [ 206.57821025,  210.21275944],\n",
       "       [ 211.21005595,  213.8669931 ],\n",
       "       [ 214.86171253,  217.71455347],\n",
       "       [ 218.71235743,  224.08107493],\n",
       "       [ 225.07680714,  233.89817297],\n",
       "       [ 234.89436161,  239.26331569],\n",
       "       [ 240.2625134 ,  245.98104084],\n",
       "       [ 246.97629941,  249.64607668],\n",
       "       [ 250.6441481 ,  255.82846253],\n",
       "       [ 256.82583421,  260.42159495],\n",
       "       [ 261.41749832,  272.63028852],\n",
       "       [ 273.62670931,  276.37920073],\n",
       "       [ 277.37485506,  280.94429648],\n",
       "       [ 281.94260547,  285.52782937],\n",
       "       [ 286.52463021,  296.41062179],\n",
       "       [ 297.40829957,  301.39439416],\n",
       "       [ 302.39081132,  305.67725494],\n",
       "       [ 306.67328902,  310.50905404],\n",
       "       [ 311.50683204,  316.681025  ],\n",
       "       [ 317.67792304,  319.81020052],\n",
       "       [ 320.8057812 ,  324.87425033],\n",
       "       [ 325.87091019,  332.77563179],\n",
       "       [ 333.77202722,  336.82604686],\n",
       "       [ 337.82140294,  341.69118019],\n",
       "       [ 342.68881299,  349.46222749],\n",
       "       [ 350.45830896,  353.99148861],\n",
       "       [ 354.98640124,  359.26824863],\n",
       "       [ 360.2647636 ,  366.85548362],\n",
       "       [ 367.85452949,  370.67319186],\n",
       "       [ 371.67095598,  376.32437678],\n",
       "       [ 377.3197069 ,  381.00660945],\n",
       "       [ 382.00128874,  385.60643558],\n",
       "       [ 386.60223572,  389.50406596],\n",
       "       [ 390.50107087,  395.33975809],\n",
       "       [ 396.33483585,  399.55428379],\n",
       "       [ 400.55189878,  403.77210352],\n",
       "       [ 404.76808689,  409.49359835],\n",
       "       [ 410.48890251,  413.26967663],\n",
       "       [ 414.26752919,  417.32164725],\n",
       "       [ 418.31726324,  421.96884163],\n",
       "       [ 422.96680468,  427.2692482 ],\n",
       "       [ 428.26638714,  432.15051146],\n",
       "       [ 433.14720543,  436.13516189],\n",
       "       [ 437.13186794,  442.35183436],\n",
       "       [ 443.34801274,  445.60252334],\n",
       "       [ 446.5985049 ,  450.5849234 ],\n",
       "       [ 451.58310048,  454.25238268],\n",
       "       [ 455.24763341,  459.08466267],\n",
       "       [ 460.08043261,  463.58684043],\n",
       "       [ 464.58149768,  466.91912242],\n",
       "       [ 467.91589367,  470.75046863],\n",
       "       [ 471.74639344,  475.66862941],\n",
       "       [ 476.66388105,  479.15246565],\n",
       "       [ 480.1464286 ,  483.96110363],\n",
       "       [ 484.95845357,  489.37725488],\n",
       "       [ 490.3731655 ,  494.66547035],\n",
       "       [ 495.66408303,  500.43231663],\n",
       "       [ 501.42961949,  503.81515162],\n",
       "       [ 504.81138554,  511.23167071],\n",
       "       [ 512.22959543,  516.71479651],\n",
       "       [ 517.71317886,  521.4804627 ],\n",
       "       [ 522.47586134,  525.16554345],\n",
       "       [ 526.16171912,  529.39822494],\n",
       "       [ 530.39427231,  534.03078789],\n",
       "       [ 535.02626321,  540.04618083],\n",
       "       [ 541.04422871,  544.48161982],\n",
       "       [ 545.47670663,  550.69670324],\n",
       "       [ 551.69241885,  555.8608185 ],\n",
       "       [ 556.85834172,  560.47922335],\n",
       "       [ 561.47601302,  564.39518279],\n",
       "       [ 565.3930912 ,  568.59505019],\n",
       "       [ 569.5910568 ,  573.7477251 ],\n",
       "       [ 574.74432308,  577.22832558],\n",
       "       [ 578.22546482,  581.90387329],\n",
       "       [ 582.89957079,  586.02911429],\n",
       "       [ 587.02494914,  590.56264087],\n",
       "       [ 591.55634873,  595.66044269],\n",
       "       [ 596.65848845,  600.96794385],\n",
       "       [ 601.96373403,  606.47608941],\n",
       "       [ 607.47183611,  612.81524405],\n",
       "       [ 613.8116594 ,  616.99271798],\n",
       "       [ 617.98827963,  622.47596392],\n",
       "       [ 623.47218969,  627.8602408 ],\n",
       "       [ 628.85656046,  633.49619597],\n",
       "       [ 634.49041067,  639.15054692],\n",
       "       [ 640.14449084,  643.69967575],\n",
       "       [ 644.69450718,  650.50581046],\n",
       "       [ 651.50325942,  656.30247023],\n",
       "       [ 657.29483506,  659.82518729],\n",
       "       [ 660.82147646,  665.57270803],\n",
       "       [ 666.57012258,  669.10699132],\n",
       "       [ 670.10369979,  673.34093101],\n",
       "       [ 674.33539023,  683.83138003],\n",
       "       [ 684.8267506 ,  687.19017332],\n",
       "       [ 688.18507176,  693.03476433],\n",
       "       [ 694.02984783,  696.53941284],\n",
       "       [ 697.5341202 ,  700.82305064],\n",
       "       [ 701.81915959,  705.50486673],\n",
       "       [ 706.5021723 ,  709.12081305],\n",
       "       [ 710.11738054,  712.75618786],\n",
       "       [ 713.7509414 ,  717.00572709],\n",
       "       [ 718.00027597,  721.13870869],\n",
       "       [ 722.13423111,  724.28730334],\n",
       "       [ 725.28263467,  729.30568202],\n",
       "       [ 730.30248226,  733.2716831 ],\n",
       "       [ 734.26603847,  738.94299563],\n",
       "       [ 739.93725531,  743.11936621],\n",
       "       [ 744.114821  ,  746.33597927],\n",
       "       [ 747.33218694,  752.80429833],\n",
       "       [ 753.79827666,  758.64667934],\n",
       "       [ 759.64152827,  763.896001  ],\n",
       "       [ 764.89239311,  767.38475716],\n",
       "       [ 768.38078671,  772.4364936 ],\n",
       "       [ 773.43336267,  776.8182534 ],\n",
       "       [ 777.81372661,  780.46753273],\n",
       "       [ 781.46530651,  784.43490823],\n",
       "       [ 785.43132691,  788.00177499],\n",
       "       [ 788.99791594,  791.91734411],\n",
       "       [ 792.91289551,  795.78472359],\n",
       "       [ 796.77899082,  800.93997891],\n",
       "       [ 801.93470377,  807.01604873],\n",
       "       [ 808.01017891,  810.68429771],\n",
       "       [ 811.68006584,  819.17129828],\n",
       "       [ 820.16645603,  823.66753399],\n",
       "       [ 824.66144803,  826.73392979],\n",
       "       [ 827.72913916,  831.67311716],\n",
       "       [ 832.66941237,  835.11583601],\n",
       "       [ 836.11062971,  839.03121768],\n",
       "       [ 840.02747666,  843.78248034],\n",
       "       [ 844.77802177,  847.59684384],\n",
       "       [ 848.59457626,  857.14834458],\n",
       "       [ 858.14495585,  860.78397658],\n",
       "       [ 861.77612316,  866.45396903],\n",
       "       [ 867.44932149,  870.96457929],\n",
       "       [ 871.96113743,  876.63190561],\n",
       "       [ 877.62706547,  880.14697413],\n",
       "       [ 881.14126913,  885.47978999],\n",
       "       [ 886.47603961,  890.61259266],\n",
       "       [ 891.60706788,  894.47974242],\n",
       "       [ 895.47725084,  897.66280723],\n",
       "       [ 898.65705755,  900.94415102],\n",
       "       [ 901.93985969,  904.51198769],\n",
       "       [ 905.50606443,  909.0928632 ],\n",
       "       [ 910.08884506,  913.93295111],\n",
       "       [ 914.92899183,  919.17274418],\n",
       "       [ 920.16550839,  923.83494704],\n",
       "       [ 924.82866335,  927.69527841],\n",
       "       [ 928.68889843,  932.62963885],\n",
       "       [ 933.62490135,  937.23133508],\n",
       "       [ 938.22651366,  941.22639195],\n",
       "       [ 942.22189383,  948.25933038],\n",
       "       [ 949.25482713,  952.45926448],\n",
       "       [ 953.45372008,  956.42602568],\n",
       "       [ 957.42114177,  963.51249387],\n",
       "       [ 964.50537339,  967.95869248],\n",
       "       [ 968.95307805,  971.64106967],\n",
       "       [ 972.63786478,  977.87395449],\n",
       "       [ 978.8705905 ,  983.0017805 ],\n",
       "       [ 983.99422472,  987.39091322],\n",
       "       [ 988.38366384,  991.99050148],\n",
       "       [ 992.98537396,  996.87570115],\n",
       "       [ 997.86910834, 1000.82469566],\n",
       "       [1001.81752507, 1007.05195659],\n",
       "       [1008.04662954, 1010.99063191],\n",
       "       [1011.98483756, 1014.94013478],\n",
       "       [1015.93381094, 1019.71287443],\n",
       "       [1020.70845842, 1024.65505003],\n",
       "       [1025.6492593 , 1029.87283392],\n",
       "       [1030.86639205, 1034.80107511],\n",
       "       [1035.79403523, 1040.07458427],\n",
       "       [1041.06711694, 1044.81955471],\n",
       "       [1045.81350558, 1048.37196029],\n",
       "       [1049.36684515, 1055.00623894],\n",
       "       [1055.99911544, 1060.21644643],\n",
       "       [1061.21035504, 1064.95458823],\n",
       "       [1065.94886451, 1070.90447675],\n",
       "       [1071.89547772, 1075.76454255],\n",
       "       [1076.76100982, 1080.34702613],\n",
       "       [1081.34242327, 1085.16261742],\n",
       "       [1086.15757805, 1094.78703536],\n",
       "       [1095.77895825, 1099.20345762],\n",
       "       [1100.19561084, 1104.6996095 ],\n",
       "       [1105.69083506, 1108.53494647],\n",
       "       [1109.52922577, 1112.56922647],\n",
       "       [1113.56208124, 1116.50030186],\n",
       "       [1117.49512816, 1121.2389988 ],\n",
       "       [1122.23145449, 1125.86100407],\n",
       "       [1126.85466424, 1130.01715436]])"
      ]
     },
     "execution_count": 19,
     "metadata": {},
     "output_type": "execute_result"
    }
   ],
   "source": [
    "interval_times"
   ]
  },
  {
   "cell_type": "code",
   "execution_count": 23,
   "metadata": {},
   "outputs": [
    {
     "data": {
      "text/html": [
       "<div>\n",
       "<style scoped>\n",
       "    .dataframe tbody tr th:only-of-type {\n",
       "        vertical-align: middle;\n",
       "    }\n",
       "\n",
       "    .dataframe tbody tr th {\n",
       "        vertical-align: top;\n",
       "    }\n",
       "\n",
       "    .dataframe thead th {\n",
       "        text-align: right;\n",
       "    }\n",
       "</style>\n",
       "<table border=\"1\" class=\"dataframe\">\n",
       "  <thead>\n",
       "    <tr style=\"text-align: right;\">\n",
       "      <th></th>\n",
       "      <th>included</th>\n",
       "      <th>repetition number</th>\n",
       "      <th>start time</th>\n",
       "      <th>stim time</th>\n",
       "      <th>response time</th>\n",
       "      <th>feedback time</th>\n",
       "      <th>end time</th>\n",
       "      <th>stim contrast left</th>\n",
       "      <th>stim contrast right</th>\n",
       "      <th>response choice</th>\n",
       "      <th>feedback type</th>\n",
       "    </tr>\n",
       "  </thead>\n",
       "  <tbody>\n",
       "    <tr>\n",
       "      <th>0</th>\n",
       "      <td>True</td>\n",
       "      <td>1</td>\n",
       "      <td>62.900284</td>\n",
       "      <td>65.269408</td>\n",
       "      <td>66.419612</td>\n",
       "      <td>66.456227</td>\n",
       "      <td>67.423484</td>\n",
       "      <td>1</td>\n",
       "      <td>0</td>\n",
       "      <td>1</td>\n",
       "      <td>1</td>\n",
       "    </tr>\n",
       "    <tr>\n",
       "      <th>1</th>\n",
       "      <td>True</td>\n",
       "      <td>1</td>\n",
       "      <td>68.420838</td>\n",
       "      <td>71.202703</td>\n",
       "      <td>72.602206</td>\n",
       "      <td>72.640326</td>\n",
       "      <td>73.604476</td>\n",
       "      <td>0</td>\n",
       "      <td>0</td>\n",
       "      <td>-1</td>\n",
       "      <td>1</td>\n",
       "    </tr>\n",
       "    <tr>\n",
       "      <th>2</th>\n",
       "      <td>True</td>\n",
       "      <td>1</td>\n",
       "      <td>74.602902</td>\n",
       "      <td>76.052380</td>\n",
       "      <td>77.001671</td>\n",
       "      <td>77.038396</td>\n",
       "      <td>78.006757</td>\n",
       "      <td>1</td>\n",
       "      <td>0</td>\n",
       "      <td>1</td>\n",
       "      <td>1</td>\n",
       "    </tr>\n",
       "    <tr>\n",
       "      <th>3</th>\n",
       "      <td>True</td>\n",
       "      <td>1</td>\n",
       "      <td>79.003653</td>\n",
       "      <td>81.235263</td>\n",
       "      <td>83.502065</td>\n",
       "      <td>83.531699</td>\n",
       "      <td>84.506778</td>\n",
       "      <td>0</td>\n",
       "      <td>0</td>\n",
       "      <td>0</td>\n",
       "      <td>1</td>\n",
       "    </tr>\n",
       "    <tr>\n",
       "      <th>4</th>\n",
       "      <td>True</td>\n",
       "      <td>1</td>\n",
       "      <td>85.501795</td>\n",
       "      <td>86.800952</td>\n",
       "      <td>87.617727</td>\n",
       "      <td>87.628565</td>\n",
       "      <td>88.621336</td>\n",
       "      <td>0</td>\n",
       "      <td>1</td>\n",
       "      <td>1</td>\n",
       "      <td>-1</td>\n",
       "    </tr>\n",
       "    <tr>\n",
       "      <th>...</th>\n",
       "      <td>...</td>\n",
       "      <td>...</td>\n",
       "      <td>...</td>\n",
       "      <td>...</td>\n",
       "      <td>...</td>\n",
       "      <td>...</td>\n",
       "      <td>...</td>\n",
       "      <td>...</td>\n",
       "      <td>...</td>\n",
       "      <td>...</td>\n",
       "      <td>...</td>\n",
       "    </tr>\n",
       "    <tr>\n",
       "      <th>209</th>\n",
       "      <td>False</td>\n",
       "      <td>5</td>\n",
       "      <td>1109.529226</td>\n",
       "      <td>1110.110867</td>\n",
       "      <td>1111.564004</td>\n",
       "      <td>1111.571290</td>\n",
       "      <td>1112.569226</td>\n",
       "      <td>0</td>\n",
       "      <td>1</td>\n",
       "      <td>1</td>\n",
       "      <td>-1</td>\n",
       "    </tr>\n",
       "    <tr>\n",
       "      <th>210</th>\n",
       "      <td>False</td>\n",
       "      <td>6</td>\n",
       "      <td>1113.562081</td>\n",
       "      <td>1114.277333</td>\n",
       "      <td>1115.497692</td>\n",
       "      <td>1115.508153</td>\n",
       "      <td>1116.500302</td>\n",
       "      <td>0</td>\n",
       "      <td>1</td>\n",
       "      <td>1</td>\n",
       "      <td>-1</td>\n",
       "    </tr>\n",
       "    <tr>\n",
       "      <th>211</th>\n",
       "      <td>False</td>\n",
       "      <td>7</td>\n",
       "      <td>1117.495128</td>\n",
       "      <td>1117.926592</td>\n",
       "      <td>1120.232805</td>\n",
       "      <td>1120.237428</td>\n",
       "      <td>1121.238999</td>\n",
       "      <td>0</td>\n",
       "      <td>1</td>\n",
       "      <td>0</td>\n",
       "      <td>-1</td>\n",
       "    </tr>\n",
       "    <tr>\n",
       "      <th>212</th>\n",
       "      <td>False</td>\n",
       "      <td>8</td>\n",
       "      <td>1122.231454</td>\n",
       "      <td>1122.576266</td>\n",
       "      <td>1124.854126</td>\n",
       "      <td>1124.857902</td>\n",
       "      <td>1125.861004</td>\n",
       "      <td>0</td>\n",
       "      <td>1</td>\n",
       "      <td>0</td>\n",
       "      <td>-1</td>\n",
       "    </tr>\n",
       "    <tr>\n",
       "      <th>213</th>\n",
       "      <td>False</td>\n",
       "      <td>9</td>\n",
       "      <td>1126.854664</td>\n",
       "      <td>1127.542745</td>\n",
       "      <td>1129.013126</td>\n",
       "      <td>1129.017168</td>\n",
       "      <td>1130.017154</td>\n",
       "      <td>0</td>\n",
       "      <td>1</td>\n",
       "      <td>1</td>\n",
       "      <td>-1</td>\n",
       "    </tr>\n",
       "  </tbody>\n",
       "</table>\n",
       "<p>214 rows × 11 columns</p>\n",
       "</div>"
      ],
      "text/plain": [
       "     included  repetition number   start time    stim time  response time  \\\n",
       "0        True                  1    62.900284    65.269408      66.419612   \n",
       "1        True                  1    68.420838    71.202703      72.602206   \n",
       "2        True                  1    74.602902    76.052380      77.001671   \n",
       "3        True                  1    79.003653    81.235263      83.502065   \n",
       "4        True                  1    85.501795    86.800952      87.617727   \n",
       "..        ...                ...          ...          ...            ...   \n",
       "209     False                  5  1109.529226  1110.110867    1111.564004   \n",
       "210     False                  6  1113.562081  1114.277333    1115.497692   \n",
       "211     False                  7  1117.495128  1117.926592    1120.232805   \n",
       "212     False                  8  1122.231454  1122.576266    1124.854126   \n",
       "213     False                  9  1126.854664  1127.542745    1129.013126   \n",
       "\n",
       "     feedback time     end time  stim contrast left  stim contrast right  \\\n",
       "0        66.456227    67.423484                   1                    0   \n",
       "1        72.640326    73.604476                   0                    0   \n",
       "2        77.038396    78.006757                   1                    0   \n",
       "3        83.531699    84.506778                   0                    0   \n",
       "4        87.628565    88.621336                   0                    1   \n",
       "..             ...          ...                 ...                  ...   \n",
       "209    1111.571290  1112.569226                   0                    1   \n",
       "210    1115.508153  1116.500302                   0                    1   \n",
       "211    1120.237428  1121.238999                   0                    1   \n",
       "212    1124.857902  1125.861004                   0                    1   \n",
       "213    1129.017168  1130.017154                   0                    1   \n",
       "\n",
       "     response choice  feedback type  \n",
       "0                  1              1  \n",
       "1                 -1              1  \n",
       "2                  1              1  \n",
       "3                  0              1  \n",
       "4                  1             -1  \n",
       "..               ...            ...  \n",
       "209                1             -1  \n",
       "210                1             -1  \n",
       "211                0             -1  \n",
       "212                0             -1  \n",
       "213                1             -1  \n",
       "\n",
       "[214 rows x 11 columns]"
      ]
     },
     "execution_count": 23,
     "metadata": {},
     "output_type": "execute_result"
    }
   ],
   "source": [
    "trials_df = pd.DataFrame({'included':included_tr,\n",
    "            'repetition number':rep_nrs,\n",
    "            'start time':interval_times[:,0],\n",
    "            'stim time':visual_times[:ntrials, :].flatten(),\n",
    "            #'go cue':gocue_times,\n",
    "            'response time':response_times.flatten(),\n",
    "            'feedback time':feedback_times.flatten(),\n",
    "            'end time':interval_times[:,1],\n",
    "            'stim contrast left':vis_left[:ntrials].flatten(),\n",
    "            'stim contrast right':vis_right[:ntrials].flatten(),\n",
    "            'response choice':response,\n",
    "            'feedback type':feedback_type,\n",
    "            })\n",
    "trials_df = trials_df.astype(dtype= {\"repetition number\":\"int8\", \n",
    "                                     'stim contrast left':'int8', \n",
    "                                     'stim contrast right':'int8',\n",
    "                                     'response choice': 'int8',\n",
    "                                     'feedback type':'int8'\n",
    "                                    })"
   ]
  },
  {
   "cell_type": "code",
   "execution_count": 11,
   "metadata": {},
   "outputs": [
    {
     "data": {
      "text/plain": [
       "(214,)"
      ]
     },
     "execution_count": 11,
     "metadata": {},
     "output_type": "execute_result"
    }
   ],
   "source": [
    "feedback_type.shape"
   ]
  },
  {
   "cell_type": "code",
   "execution_count": 24,
   "metadata": {},
   "outputs": [],
   "source": [
    "# add wheelmovement to trials dv ===============\n",
    "#wheel = W[np.newaxis, :, :]\n",
    "whl = pd.DataFrame( {'wheel movement':np.zeros(ntrials)}, dtype=object) \n",
    "for row in range(W.shape[0]):\n",
    "    whl['wheel movement'][row] = W[row,:]\n",
    "\n",
    "#merge trials with wheel\n",
    "trials_df = pd.merge(trials_df, whl, how='right', left_index=True, right_index=True)\n",
    "\n",
    "# add trials df to session\n",
    "#session['trials_df'] = trials_df"
   ]
  },
  {
   "cell_type": "code",
   "execution_count": 25,
   "metadata": {},
   "outputs": [
    {
     "data": {
      "text/html": [
       "<div>\n",
       "<style scoped>\n",
       "    .dataframe tbody tr th:only-of-type {\n",
       "        vertical-align: middle;\n",
       "    }\n",
       "\n",
       "    .dataframe tbody tr th {\n",
       "        vertical-align: top;\n",
       "    }\n",
       "\n",
       "    .dataframe thead th {\n",
       "        text-align: right;\n",
       "    }\n",
       "</style>\n",
       "<table border=\"1\" class=\"dataframe\">\n",
       "  <thead>\n",
       "    <tr style=\"text-align: right;\">\n",
       "      <th></th>\n",
       "      <th>included</th>\n",
       "      <th>repetition number</th>\n",
       "      <th>start time</th>\n",
       "      <th>stim time</th>\n",
       "      <th>response time</th>\n",
       "      <th>feedback time</th>\n",
       "      <th>end time</th>\n",
       "      <th>stim contrast left</th>\n",
       "      <th>stim contrast right</th>\n",
       "      <th>response choice</th>\n",
       "      <th>feedback type</th>\n",
       "      <th>wheel movement</th>\n",
       "    </tr>\n",
       "  </thead>\n",
       "  <tbody>\n",
       "    <tr>\n",
       "      <th>0</th>\n",
       "      <td>True</td>\n",
       "      <td>1</td>\n",
       "      <td>62.900284</td>\n",
       "      <td>65.269408</td>\n",
       "      <td>66.419612</td>\n",
       "      <td>66.456227</td>\n",
       "      <td>67.423484</td>\n",
       "      <td>1</td>\n",
       "      <td>0</td>\n",
       "      <td>1</td>\n",
       "      <td>1</td>\n",
       "      <td>[0.0, 0.0, 0.0, 0.0, -1.0, 0.0, 0.0, 0.0, 0.0,...</td>\n",
       "    </tr>\n",
       "    <tr>\n",
       "      <th>1</th>\n",
       "      <td>True</td>\n",
       "      <td>1</td>\n",
       "      <td>68.420838</td>\n",
       "      <td>71.202703</td>\n",
       "      <td>72.602206</td>\n",
       "      <td>72.640326</td>\n",
       "      <td>73.604476</td>\n",
       "      <td>0</td>\n",
       "      <td>0</td>\n",
       "      <td>-1</td>\n",
       "      <td>1</td>\n",
       "      <td>[0.0, 0.0, 0.0, 0.0, 0.0, 0.0, 0.0, 0.0, 0.0, ...</td>\n",
       "    </tr>\n",
       "    <tr>\n",
       "      <th>2</th>\n",
       "      <td>True</td>\n",
       "      <td>1</td>\n",
       "      <td>74.602902</td>\n",
       "      <td>76.052380</td>\n",
       "      <td>77.001671</td>\n",
       "      <td>77.038396</td>\n",
       "      <td>78.006757</td>\n",
       "      <td>1</td>\n",
       "      <td>0</td>\n",
       "      <td>1</td>\n",
       "      <td>1</td>\n",
       "      <td>[0.0, 0.0, 0.0, 0.0, 0.0, 0.0, 0.0, 0.0, 0.0, ...</td>\n",
       "    </tr>\n",
       "    <tr>\n",
       "      <th>3</th>\n",
       "      <td>True</td>\n",
       "      <td>1</td>\n",
       "      <td>79.003653</td>\n",
       "      <td>81.235263</td>\n",
       "      <td>83.502065</td>\n",
       "      <td>83.531699</td>\n",
       "      <td>84.506778</td>\n",
       "      <td>0</td>\n",
       "      <td>0</td>\n",
       "      <td>0</td>\n",
       "      <td>1</td>\n",
       "      <td>[0.0, 0.0, 0.0, 0.0, 0.0, 0.0, 0.0, 0.0, 0.0, ...</td>\n",
       "    </tr>\n",
       "    <tr>\n",
       "      <th>4</th>\n",
       "      <td>True</td>\n",
       "      <td>1</td>\n",
       "      <td>85.501795</td>\n",
       "      <td>86.800952</td>\n",
       "      <td>87.617727</td>\n",
       "      <td>87.628565</td>\n",
       "      <td>88.621336</td>\n",
       "      <td>0</td>\n",
       "      <td>1</td>\n",
       "      <td>1</td>\n",
       "      <td>-1</td>\n",
       "      <td>[0.0, 0.0, 0.0, 0.0, 0.0, 0.0, 0.0, 0.0, 0.0, ...</td>\n",
       "    </tr>\n",
       "    <tr>\n",
       "      <th>...</th>\n",
       "      <td>...</td>\n",
       "      <td>...</td>\n",
       "      <td>...</td>\n",
       "      <td>...</td>\n",
       "      <td>...</td>\n",
       "      <td>...</td>\n",
       "      <td>...</td>\n",
       "      <td>...</td>\n",
       "      <td>...</td>\n",
       "      <td>...</td>\n",
       "      <td>...</td>\n",
       "      <td>...</td>\n",
       "    </tr>\n",
       "    <tr>\n",
       "      <th>209</th>\n",
       "      <td>False</td>\n",
       "      <td>5</td>\n",
       "      <td>1109.529226</td>\n",
       "      <td>1110.110867</td>\n",
       "      <td>1111.564004</td>\n",
       "      <td>1111.571290</td>\n",
       "      <td>1112.569226</td>\n",
       "      <td>0</td>\n",
       "      <td>1</td>\n",
       "      <td>1</td>\n",
       "      <td>-1</td>\n",
       "      <td>[0.0, 0.0, 0.0, 0.0, 0.0, 0.0, 0.0, 0.0, 0.0, ...</td>\n",
       "    </tr>\n",
       "    <tr>\n",
       "      <th>210</th>\n",
       "      <td>False</td>\n",
       "      <td>6</td>\n",
       "      <td>1113.562081</td>\n",
       "      <td>1114.277333</td>\n",
       "      <td>1115.497692</td>\n",
       "      <td>1115.508153</td>\n",
       "      <td>1116.500302</td>\n",
       "      <td>0</td>\n",
       "      <td>1</td>\n",
       "      <td>1</td>\n",
       "      <td>-1</td>\n",
       "      <td>[0.0, 0.0, 0.0, 0.0, 0.0, 0.0, 0.0, 0.0, 0.0, ...</td>\n",
       "    </tr>\n",
       "    <tr>\n",
       "      <th>211</th>\n",
       "      <td>False</td>\n",
       "      <td>7</td>\n",
       "      <td>1117.495128</td>\n",
       "      <td>1117.926592</td>\n",
       "      <td>1120.232805</td>\n",
       "      <td>1120.237428</td>\n",
       "      <td>1121.238999</td>\n",
       "      <td>0</td>\n",
       "      <td>1</td>\n",
       "      <td>0</td>\n",
       "      <td>-1</td>\n",
       "      <td>[0.0, 0.0, 0.0, 0.0, 0.0, 0.0, 0.0, 0.0, 0.0, ...</td>\n",
       "    </tr>\n",
       "    <tr>\n",
       "      <th>212</th>\n",
       "      <td>False</td>\n",
       "      <td>8</td>\n",
       "      <td>1122.231454</td>\n",
       "      <td>1122.576266</td>\n",
       "      <td>1124.854126</td>\n",
       "      <td>1124.857902</td>\n",
       "      <td>1125.861004</td>\n",
       "      <td>0</td>\n",
       "      <td>1</td>\n",
       "      <td>0</td>\n",
       "      <td>-1</td>\n",
       "      <td>[0.0, 0.0, 0.0, 0.0, 0.0, 0.0, 0.0, 0.0, 0.0, ...</td>\n",
       "    </tr>\n",
       "    <tr>\n",
       "      <th>213</th>\n",
       "      <td>False</td>\n",
       "      <td>9</td>\n",
       "      <td>1126.854664</td>\n",
       "      <td>1127.542745</td>\n",
       "      <td>1129.013126</td>\n",
       "      <td>1129.017168</td>\n",
       "      <td>1130.017154</td>\n",
       "      <td>0</td>\n",
       "      <td>1</td>\n",
       "      <td>1</td>\n",
       "      <td>-1</td>\n",
       "      <td>[0.0, 0.0, 0.0, 0.0, 0.0, 0.0, 0.0, 0.0, 0.0, ...</td>\n",
       "    </tr>\n",
       "  </tbody>\n",
       "</table>\n",
       "<p>214 rows × 12 columns</p>\n",
       "</div>"
      ],
      "text/plain": [
       "     included  repetition number   start time    stim time  response time  \\\n",
       "0        True                  1    62.900284    65.269408      66.419612   \n",
       "1        True                  1    68.420838    71.202703      72.602206   \n",
       "2        True                  1    74.602902    76.052380      77.001671   \n",
       "3        True                  1    79.003653    81.235263      83.502065   \n",
       "4        True                  1    85.501795    86.800952      87.617727   \n",
       "..        ...                ...          ...          ...            ...   \n",
       "209     False                  5  1109.529226  1110.110867    1111.564004   \n",
       "210     False                  6  1113.562081  1114.277333    1115.497692   \n",
       "211     False                  7  1117.495128  1117.926592    1120.232805   \n",
       "212     False                  8  1122.231454  1122.576266    1124.854126   \n",
       "213     False                  9  1126.854664  1127.542745    1129.013126   \n",
       "\n",
       "     feedback time     end time  stim contrast left  stim contrast right  \\\n",
       "0        66.456227    67.423484                   1                    0   \n",
       "1        72.640326    73.604476                   0                    0   \n",
       "2        77.038396    78.006757                   1                    0   \n",
       "3        83.531699    84.506778                   0                    0   \n",
       "4        87.628565    88.621336                   0                    1   \n",
       "..             ...          ...                 ...                  ...   \n",
       "209    1111.571290  1112.569226                   0                    1   \n",
       "210    1115.508153  1116.500302                   0                    1   \n",
       "211    1120.237428  1121.238999                   0                    1   \n",
       "212    1124.857902  1125.861004                   0                    1   \n",
       "213    1129.017168  1130.017154                   0                    1   \n",
       "\n",
       "     response choice  feedback type  \\\n",
       "0                  1              1   \n",
       "1                 -1              1   \n",
       "2                  1              1   \n",
       "3                  0              1   \n",
       "4                  1             -1   \n",
       "..               ...            ...   \n",
       "209                1             -1   \n",
       "210                1             -1   \n",
       "211                0             -1   \n",
       "212                0             -1   \n",
       "213                1             -1   \n",
       "\n",
       "                                        wheel movement  \n",
       "0    [0.0, 0.0, 0.0, 0.0, -1.0, 0.0, 0.0, 0.0, 0.0,...  \n",
       "1    [0.0, 0.0, 0.0, 0.0, 0.0, 0.0, 0.0, 0.0, 0.0, ...  \n",
       "2    [0.0, 0.0, 0.0, 0.0, 0.0, 0.0, 0.0, 0.0, 0.0, ...  \n",
       "3    [0.0, 0.0, 0.0, 0.0, 0.0, 0.0, 0.0, 0.0, 0.0, ...  \n",
       "4    [0.0, 0.0, 0.0, 0.0, 0.0, 0.0, 0.0, 0.0, 0.0, ...  \n",
       "..                                                 ...  \n",
       "209  [0.0, 0.0, 0.0, 0.0, 0.0, 0.0, 0.0, 0.0, 0.0, ...  \n",
       "210  [0.0, 0.0, 0.0, 0.0, 0.0, 0.0, 0.0, 0.0, 0.0, ...  \n",
       "211  [0.0, 0.0, 0.0, 0.0, 0.0, 0.0, 0.0, 0.0, 0.0, ...  \n",
       "212  [0.0, 0.0, 0.0, 0.0, 0.0, 0.0, 0.0, 0.0, 0.0, ...  \n",
       "213  [0.0, 0.0, 0.0, 0.0, 0.0, 0.0, 0.0, 0.0, 0.0, ...  \n",
       "\n",
       "[214 rows x 12 columns]"
      ]
     },
     "execution_count": 25,
     "metadata": {},
     "output_type": "execute_result"
    }
   ],
   "source": [
    "trials_df"
   ]
  },
  {
   "cell_type": "markdown",
   "metadata": {
    "cell_style": "split"
   },
   "source": [
    "#### explore dictionary for session\n",
    "- each ession is a dictionary\n",
    "- each element kontains eather a numpy array or a dataframe\n",
    "- the most important dataframes we are going to work with are:\n",
    "    - clusters_df: all the spikes and clusters\n",
    "    - trials_df: all the behaviour data for all trials"
   ]
  },
  {
   "cell_type": "code",
   "execution_count": 4,
   "metadata": {
    "cell_style": "split",
    "scrolled": false
   },
   "outputs": [
    {
     "name": "stdout",
     "output_type": "stream",
     "text": [
      "clusters\n",
      "brain_area\n",
      "spk\n",
      "spks_binned\n",
      "wheel\n",
      "pupil\n",
      "response\n",
      "contrast_right\n",
      "contrast_left\n",
      "response_time\n",
      "feedback_time\n",
      "feedback_type\n",
      "gocue\n",
      "mouse_name\n",
      "date_exp\n",
      "trough_to_peak\n",
      "waveform_w\n",
      "waveform_u\n",
      "bin_size\n",
      "stim_onset\n",
      "spks_passive\n",
      "wheel_passive\n",
      "pupil_passive\n",
      "contrast_right_passive\n",
      "contrast_left_passive\n",
      "spikes_df\n"
     ]
    }
   ],
   "source": [
    "for key, value in nma_obj.std_session.items():\n",
    "    print(key)"
   ]
  },
  {
   "cell_type": "code",
   "execution_count": 3,
   "metadata": {},
   "outputs": [
    {
     "data": {
      "application/vnd.jupyter.widget-view+json": {
       "model_id": "fbff554e920d4d7590a802d8e44182a0",
       "version_major": 2,
       "version_minor": 0
      },
      "text/plain": [
       "QgridWidget(grid_options={'fullWidthRows': True, 'syncColumnCellResize': True, 'forceFitColumns': True, 'defau…"
      ]
     },
     "metadata": {},
     "output_type": "display_data"
    }
   ],
   "source": [
    "qgrid.show_grid(nma_obj.std_session['spikes_df'])"
   ]
  },
  {
   "cell_type": "markdown",
   "metadata": {
    "colab_type": "text",
    "id": "y5OA26EeL6Tn"
   },
   "source": [
    "## Load Data\n"
   ]
  },
  {
   "cell_type": "markdown",
   "metadata": {
    "colab_type": "text",
    "heading_collapsed": true,
    "id": "eJEq3YPBOQgG"
   },
   "source": [
    "### via google drive directly"
   ]
  },
  {
   "cell_type": "code",
   "execution_count": 3,
   "metadata": {
    "colab": {},
    "colab_type": "code",
    "executionInfo": {
     "elapsed": 1008,
     "status": "ok",
     "timestamp": 1595269079932,
     "user": {
      "displayName": "Max Hoheiser",
      "photoUrl": "https://lh3.googleusercontent.com/a-/AOh14GgcOj0xb1EjxBJ1OyxAUJAdknWQprdHmaELrwjcpo8=s64",
      "userId": "14108002061243669705"
     },
     "user_tz": -120
    },
    "hidden": true,
    "id": "_HA5zTtlOUs7"
   },
   "outputs": [],
   "source": [
    "def load_session(folder):\n",
    "    \"\"\"\n",
    "    load all files from given folder to dict\n",
    "    return dict with key as filenames\n",
    "    \"\"\"\n",
    "    # load session files ===========================================\n",
    "    from os import listdir\n",
    "    from os.path import isfile, join\n",
    "    files = [f for f in listdir(folder) if isfile(join(folder, f))]\n",
    "    names = ['_'.join(f.split('.')[:-1]) for f in files]\n",
    "    session = dict()\n",
    "    for (file_, name_) in zip(files, names):\n",
    "        if file_.split('.')[-1] == 'npy':\n",
    "        session[name_] = np.load(folder+'/'+file_)\n",
    "        if file_.split('.')[-1] == 'tsv':\n",
    "        session[name_] = pd.read_table(folder+'/'+file_)\n",
    "\n",
    "    # pars session info two dataframe ===============================\n",
    "    # create spike_df tataframe, with each spike time and the cluster it belongs to\n",
    "    spikes_df = pd.DataFrame( { 'cluster':session['spikes_clusters'][:,0], 'spike_times': session['spikes_times'][:,0] }, ) \n",
    "\n",
    "    # create cluster dataframe information and spikes for each cluster\n",
    "    clusters = np.unique(session['spikes_clusters'])\n",
    "    # create number of spikes, phy2 manual cluster, \n",
    "    # parse phy annotation\n",
    "    clusters_df = pd.DataFrame({'lable':session['clusters__phy_annotation'][:,0], 'probe':session['clusters_probes'][:,0], 'peak channel':session['clusters_peakChannel'][:,0]}, index=clusters )\n",
    "    # pars labels in strings 1 = good 3 = mua\n",
    "    #clusters_df['lable'] = clusters_df['lable'].apply( lambda lable: 'good' if lable==3 else ('mua' if lable==1 else 'bad') )\n",
    "\n",
    "    # create spikes colum with spiketimes\n",
    "    spk = pd.DataFrame( {'spikes':np.zeros(len(clusters), dtype=object)}, index=clusters )\n",
    "    for group, frame in spikes_df.groupby('cluster'):\n",
    "        spk['spikes'][group] = frame['spike_times'].values\n",
    "\n",
    "    #merge spike column with clusters_df\n",
    "    clusters_df = pd.merge(clusters_df, spk, how='right', left_index=True, right_index=True)\n",
    "    # set index name\n",
    "    clusters_df.index.name='cluster'\n",
    "    # number of spikes per cluster\n",
    "    clusters_df['total spikes'] = clusters_df['spikes'].apply(lambda row: len(row) )\n",
    "\n",
    "# def load_session(folder, sessions):\n",
    "#   \"\"\"\n",
    "#   load all files in each given session and add to session dict\n",
    "#   returs a dict of sessions, with each session a dict of files\n",
    "#   \"\"\"\n",
    "#   sessions_data = dict()\n",
    "#   for session in sessions:\n",
    "#     current_session = dict()\n",
    "#     sessions[session] = "
   ]
  },
  {
   "cell_type": "code",
   "execution_count": 7,
   "metadata": {
    "colab": {},
    "colab_type": "code",
    "collapsed": true,
    "executionInfo": {
     "elapsed": 1951,
     "status": "ok",
     "timestamp": 1595269085237,
     "user": {
      "displayName": "Max Hoheiser",
      "photoUrl": "https://lh3.googleusercontent.com/a-/AOh14GgcOj0xb1EjxBJ1OyxAUJAdknWQprdHmaELrwjcpo8=s64",
      "userId": "14108002061243669705"
     },
     "user_tz": -120
    },
    "hidden": true,
    "id": "YEoWrAK7R0iK"
   },
   "outputs": [
    {
     "ename": "KeyboardInterrupt",
     "evalue": "",
     "output_type": "error",
     "traceback": [
      "\u001b[1;31m---------------------------------------------------------------------------\u001b[0m",
      "\u001b[1;31mKeyboardInterrupt\u001b[0m                         Traceback (most recent call last)",
      "\u001b[1;32m<ipython-input-7-422f87af1196>\u001b[0m in \u001b[0;36m<module>\u001b[1;34m\u001b[0m\n\u001b[0;32m      8\u001b[0m \u001b[1;33m\u001b[0m\u001b[0m\n\u001b[0;32m      9\u001b[0m \u001b[1;31m# load first session\u001b[0m\u001b[1;33m\u001b[0m\u001b[1;33m\u001b[0m\u001b[1;33m\u001b[0m\u001b[0m\n\u001b[1;32m---> 10\u001b[1;33m \u001b[0msession\u001b[0m \u001b[1;33m=\u001b[0m \u001b[0mload_session\u001b[0m\u001b[1;33m(\u001b[0m\u001b[0msubfolders\u001b[0m\u001b[1;33m[\u001b[0m\u001b[1;36m0\u001b[0m\u001b[1;33m]\u001b[0m\u001b[1;33m)\u001b[0m\u001b[1;33m\u001b[0m\u001b[1;33m\u001b[0m\u001b[0m\n\u001b[0m",
      "\u001b[1;32m<ipython-input-3-436436695961>\u001b[0m in \u001b[0;36mload_session\u001b[1;34m(folder)\u001b[0m\n\u001b[0;32m     11\u001b[0m   \u001b[1;32mfor\u001b[0m \u001b[1;33m(\u001b[0m\u001b[0mfile_\u001b[0m\u001b[1;33m,\u001b[0m \u001b[0mname_\u001b[0m\u001b[1;33m)\u001b[0m \u001b[1;32min\u001b[0m \u001b[0mzip\u001b[0m\u001b[1;33m(\u001b[0m\u001b[0mfiles\u001b[0m\u001b[1;33m,\u001b[0m \u001b[0mnames\u001b[0m\u001b[1;33m)\u001b[0m\u001b[1;33m:\u001b[0m\u001b[1;33m\u001b[0m\u001b[1;33m\u001b[0m\u001b[0m\n\u001b[0;32m     12\u001b[0m     \u001b[1;32mif\u001b[0m \u001b[0mfile_\u001b[0m\u001b[1;33m.\u001b[0m\u001b[0msplit\u001b[0m\u001b[1;33m(\u001b[0m\u001b[1;34m'.'\u001b[0m\u001b[1;33m)\u001b[0m\u001b[1;33m[\u001b[0m\u001b[1;33m-\u001b[0m\u001b[1;36m1\u001b[0m\u001b[1;33m]\u001b[0m \u001b[1;33m==\u001b[0m \u001b[1;34m'npy'\u001b[0m\u001b[1;33m:\u001b[0m\u001b[1;33m\u001b[0m\u001b[1;33m\u001b[0m\u001b[0m\n\u001b[1;32m---> 13\u001b[1;33m       \u001b[0msession\u001b[0m\u001b[1;33m[\u001b[0m\u001b[0mname_\u001b[0m\u001b[1;33m]\u001b[0m \u001b[1;33m=\u001b[0m \u001b[0mnp\u001b[0m\u001b[1;33m.\u001b[0m\u001b[0mload\u001b[0m\u001b[1;33m(\u001b[0m\u001b[0mfolder\u001b[0m\u001b[1;33m+\u001b[0m\u001b[1;34m'/'\u001b[0m\u001b[1;33m+\u001b[0m\u001b[0mfile_\u001b[0m\u001b[1;33m)\u001b[0m\u001b[1;33m\u001b[0m\u001b[1;33m\u001b[0m\u001b[0m\n\u001b[0m\u001b[0;32m     14\u001b[0m     \u001b[1;32mif\u001b[0m \u001b[0mfile_\u001b[0m\u001b[1;33m.\u001b[0m\u001b[0msplit\u001b[0m\u001b[1;33m(\u001b[0m\u001b[1;34m'.'\u001b[0m\u001b[1;33m)\u001b[0m\u001b[1;33m[\u001b[0m\u001b[1;33m-\u001b[0m\u001b[1;36m1\u001b[0m\u001b[1;33m]\u001b[0m \u001b[1;33m==\u001b[0m \u001b[1;34m'tsv'\u001b[0m\u001b[1;33m:\u001b[0m\u001b[1;33m\u001b[0m\u001b[1;33m\u001b[0m\u001b[0m\n\u001b[0;32m     15\u001b[0m       \u001b[0msession\u001b[0m\u001b[1;33m[\u001b[0m\u001b[0mname_\u001b[0m\u001b[1;33m]\u001b[0m \u001b[1;33m=\u001b[0m \u001b[0mpd\u001b[0m\u001b[1;33m.\u001b[0m\u001b[0mread_table\u001b[0m\u001b[1;33m(\u001b[0m\u001b[0mfolder\u001b[0m\u001b[1;33m+\u001b[0m\u001b[1;34m'/'\u001b[0m\u001b[1;33m+\u001b[0m\u001b[0mfile_\u001b[0m\u001b[1;33m)\u001b[0m\u001b[1;33m\u001b[0m\u001b[1;33m\u001b[0m\u001b[0m\n",
      "\u001b[1;32mC:\\ProgramData\\Anaconda3\\lib\\site-packages\\numpy\\lib\\npyio.py\u001b[0m in \u001b[0;36mload\u001b[1;34m(file, mmap_mode, allow_pickle, fix_imports, encoding)\u001b[0m\n\u001b[0;32m    426\u001b[0m         \u001b[0mown_fid\u001b[0m \u001b[1;33m=\u001b[0m \u001b[1;32mFalse\u001b[0m\u001b[1;33m\u001b[0m\u001b[1;33m\u001b[0m\u001b[0m\n\u001b[0;32m    427\u001b[0m     \u001b[1;32melse\u001b[0m\u001b[1;33m:\u001b[0m\u001b[1;33m\u001b[0m\u001b[1;33m\u001b[0m\u001b[0m\n\u001b[1;32m--> 428\u001b[1;33m         \u001b[0mfid\u001b[0m \u001b[1;33m=\u001b[0m \u001b[0mopen\u001b[0m\u001b[1;33m(\u001b[0m\u001b[0mos_fspath\u001b[0m\u001b[1;33m(\u001b[0m\u001b[0mfile\u001b[0m\u001b[1;33m)\u001b[0m\u001b[1;33m,\u001b[0m \u001b[1;34m\"rb\"\u001b[0m\u001b[1;33m)\u001b[0m\u001b[1;33m\u001b[0m\u001b[1;33m\u001b[0m\u001b[0m\n\u001b[0m\u001b[0;32m    429\u001b[0m         \u001b[0mown_fid\u001b[0m \u001b[1;33m=\u001b[0m \u001b[1;32mTrue\u001b[0m\u001b[1;33m\u001b[0m\u001b[1;33m\u001b[0m\u001b[0m\n\u001b[0;32m    430\u001b[0m \u001b[1;33m\u001b[0m\u001b[0m\n",
      "\u001b[1;31mKeyboardInterrupt\u001b[0m: "
     ]
    }
   ],
   "source": [
    "# example google colab load session\n",
    "#folder = \"/content/gdrive/My Drive/3 Projekte/Neuromatch Summer School/Projekt/steinmetz_dataset\"\n",
    "#folder = \"C:/Users/User/Google Drive/3 Projekte/Neuromatch Summer School/Projekt/steinmetz_dataset\"\n",
    "folder = \"Z:/3 Projekte/Neuromatch Summer School/Projekt/steinmetz_dataset\"\n",
    "\n",
    "subfolders = [ f.path for f in os.scandir(folder) if f.is_dir() ]\n",
    "sessions = [folder.split('/')[-1] for folder in subfolders]\n",
    "\n",
    "# load first session\n",
    "session = load_session(subfolders[0])"
   ]
  },
  {
   "cell_type": "code",
   "execution_count": 10,
   "metadata": {
    "hidden": true
   },
   "outputs": [],
   "source": [
    "folder = \"Z:/3 Projekte/Neuromatch Summer School/Projekt/steinmetz_dataset/Cori_2016-12-14\"\n",
    "session = load_session(folder)"
   ]
  },
  {
   "cell_type": "code",
   "execution_count": 11,
   "metadata": {
    "colab": {
     "base_uri": "https://localhost:8080/",
     "height": 995
    },
    "colab_type": "code",
    "executionInfo": {
     "elapsed": 1018,
     "status": "ok",
     "timestamp": 1595269197591,
     "user": {
      "displayName": "Max Hoheiser",
      "photoUrl": "https://lh3.googleusercontent.com/a-/AOh14GgcOj0xb1EjxBJ1OyxAUJAdknWQprdHmaELrwjcpo8=s64",
      "userId": "14108002061243669705"
     },
     "user_tz": -120
    },
    "hidden": true,
    "id": "N405jvVdarLc",
    "outputId": "26c24f45-564b-4d2e-f89e-83e6b6ce6eb6"
   },
   "outputs": [
    {
     "name": "stdout",
     "output_type": "stream",
     "text": [
      "Cori_2016-12-14_M2_g0_t0_imec_lf_timestamps\n",
      "Cori_2016-12-14_V1_g0_t0_imec_lf_timestamps\n",
      "channels_brainLocation\n",
      "channels_probe\n",
      "channels_rawRow\n",
      "channels_site\n",
      "channels_sitePositions\n",
      "clusters__phy_annotation\n",
      "clusters_depths\n",
      "clusters_originalIDs\n",
      "clusters_peakChannel\n",
      "clusters_probes\n",
      "clusters_templateWaveformChans\n",
      "clusters_templateWaveforms\n",
      "clusters_waveformDuration\n",
      "eye_area\n",
      "eye_timestamps\n",
      "eye_xyPos\n",
      "face_motionEnergy\n",
      "face_timestamps\n",
      "lickPiezo_raw\n",
      "lickPiezo_timestamps\n",
      "licks_times\n",
      "passiveBeeps_times\n",
      "passiveValveClick_times\n",
      "passiveVisual_contrastLeft\n",
      "passiveVisual_contrastRight\n",
      "passiveVisual_times\n",
      "passiveWhiteNoise_times\n",
      "probes_description\n",
      "probes_insertion\n",
      "probes_rawFilename\n",
      "probes_sitePositions\n",
      "sparseNoise_positions\n",
      "sparseNoise_times\n",
      "spikes_amps\n",
      "spikes_clusters\n",
      "spikes_depths\n",
      "spikes_times\n",
      "spontaneous_intervals\n",
      "trials_feedbackType\n",
      "trials_feedback_times\n",
      "trials_goCue_times\n",
      "trials_included\n",
      "trials_intervals\n",
      "trials_repNum\n",
      "trials_response_choice\n",
      "trials_response_times\n",
      "trials_visualStim_contrastLeft\n",
      "trials_visualStim_contrastRight\n",
      "trials_visualStim_times\n",
      "wheel_position\n",
      "wheel_timestamps\n",
      "wheelMoves_intervals\n",
      "wheelMoves_type\n"
     ]
    }
   ],
   "source": [
    "for key in session.keys():\n",
    "  print(key)"
   ]
  },
  {
   "cell_type": "markdown",
   "metadata": {
    "heading_collapsed": true
   },
   "source": [
    "### cleanup channel infos"
   ]
  },
  {
   "cell_type": "code",
   "execution_count": 76,
   "metadata": {
    "hidden": true
   },
   "outputs": [],
   "source": [
    "# load channel brain location infos\n",
    "brain = pd.DataFrame(session['channels_brainLocation'])\n",
    "# load channel probes\n",
    "site = pd.DataFrame(session['channels_sitePositions'], columns=['channel 0', 'channel 1'])\n",
    "# merge with channles_df\n",
    "channels_df = pd.merge(brain, site, how='inner', left_index=True, right_index=True)\n",
    "# load probe, row and site\n",
    "meta = pd.DataFrame({'probe':session['channels_probe'][:,0],\n",
    "                            'raw row':session['channels_rawRow'][:,0],\n",
    "                            'channels_site':session['channels_site'][:,0] })\n",
    "# merge metha with channel_df\n",
    "channels_df = pd.merge(channels_df, meta, how='inner', left_index=True, right_index=True)"
   ]
  },
  {
   "cell_type": "code",
   "execution_count": 77,
   "metadata": {
    "hidden": true,
    "scrolled": true
   },
   "outputs": [
    {
     "data": {
      "application/vnd.jupyter.widget-view+json": {
       "model_id": "",
       "version_major": 2,
       "version_minor": 0
      },
      "text/plain": [
       "QgridWidget(grid_options={'fullWidthRows': True, 'syncColumnCellResize': True, 'forceFitColumns': True, 'defau…"
      ]
     },
     "metadata": {},
     "output_type": "display_data"
    }
   ],
   "source": [
    "qgrid.show_grid(channels_df)"
   ]
  },
  {
   "cell_type": "markdown",
   "metadata": {
    "heading_collapsed": true
   },
   "source": [
    "### cleaning up spikes"
   ]
  },
  {
   "cell_type": "code",
   "execution_count": 12,
   "metadata": {
    "hidden": true,
    "scrolled": true
   },
   "outputs": [
    {
     "data": {
      "application/vnd.jupyter.widget-view+json": {
       "model_id": "568fe066822c483f88b355186d6111df",
       "version_major": 2,
       "version_minor": 0
      },
      "text/plain": [
       "QgridWidget(grid_options={'fullWidthRows': True, 'syncColumnCellResize': True, 'forceFitColumns': True, 'defau…"
      ]
     },
     "metadata": {},
     "output_type": "display_data"
    }
   ],
   "source": [
    "# create spike_df tataframe, with each spike time and the cluster it belongs to\n",
    "spikes_df = pd.DataFrame( { 'cluster':session['spikes_clusters'][:,0], 'spike_times': session['spikes_times'][:,0] }, ) \n",
    "qgrid.show_grid(spikes_df)"
   ]
  },
  {
   "cell_type": "code",
   "execution_count": 55,
   "metadata": {
    "colab": {
     "base_uri": "https://localhost:8080/",
     "height": 141
    },
    "colab_type": "code",
    "executionInfo": {
     "elapsed": 942,
     "status": "ok",
     "timestamp": 1595269247514,
     "user": {
      "displayName": "Max Hoheiser",
      "photoUrl": "https://lh3.googleusercontent.com/a-/AOh14GgcOj0xb1EjxBJ1OyxAUJAdknWQprdHmaELrwjcpo8=s64",
      "userId": "14108002061243669705"
     },
     "user_tz": -120
    },
    "hidden": true,
    "id": "qVP2hfQSdFj_",
    "outputId": "6e2e250b-8bcd-44af-bf49-498d767e1ce4",
    "scrolled": true
   },
   "outputs": [],
   "source": [
    "# create cluster dataframe information and spikes for each cluster\n",
    "clusters = np.unique(session['spikes_clusters'])\n",
    "# create number of spikes, phy2 manual cluster, \n",
    "# parse phy annotation\n",
    "clusters_df = pd.DataFrame({'lable':session['clusters__phy_annotation'][:,0], 'probe':session['clusters_probes'][:,0], 'peak channel':session['clusters_peakChannel'][:,0]}, index=clusters )\n",
    "# pars labels in strings 1 = good 3 = mua\n",
    "#clusters_df['lable'] = clusters_df['lable'].apply( lambda lable: 'good' if lable==3 else ('mua' if lable==1 else 'bad') )\n",
    "\n",
    "\n",
    "\n",
    "# create spikes colum with spiketimes\n",
    "spk = pd.DataFrame( {'spikes':np.zeros(len(clusters), dtype=object)}, index=clusters )\n",
    "for group, frame in spikes_df.groupby('cluster'):\n",
    "    spk['spikes'][group] = frame['spike_times'].values\n",
    "\n",
    "#merge spike column with clusters_df\n",
    "clusters_df = pd.merge(clusters_df, spk, how='right', left_index=True, right_index=True)\n",
    "# set index name\n",
    "clusters_df.index.name='cluster'\n",
    "# number of spikes per cluster\n",
    "clusters_df['total spikes'] = clusters_df['spikes'].apply(lambda row: len(row) )"
   ]
  },
  {
   "cell_type": "code",
   "execution_count": 56,
   "metadata": {
    "hidden": true
   },
   "outputs": [
    {
     "data": {
      "application/vnd.jupyter.widget-view+json": {
       "model_id": "7ee843503a4145a8bdb9b14382d614a5",
       "version_major": 2,
       "version_minor": 0
      },
      "text/plain": [
       "QgridWidget(grid_options={'fullWidthRows': True, 'syncColumnCellResize': True, 'forceFitColumns': True, 'defau…"
      ]
     },
     "metadata": {},
     "output_type": "display_data"
    }
   ],
   "source": [
    "qgrid.show_grid(clusters_df)"
   ]
  },
  {
   "cell_type": "markdown",
   "metadata": {
    "heading_collapsed": true
   },
   "source": [
    "### cleanup trial info"
   ]
  },
  {
   "cell_type": "code",
   "execution_count": 11,
   "metadata": {
    "hidden": true
   },
   "outputs": [
    {
     "name": "stdout",
     "output_type": "stream",
     "text": [
      "(214, 1)\n",
      "(214, 1)\n",
      "(214, 1)\n",
      "(214, 1)\n",
      "(214, 2)\n",
      "(214, 1)\n",
      "(214, 1)\n",
      "(214, 1)\n",
      "(214, 1)\n",
      "(214, 1)\n",
      "(214, 1)\n",
      "(214, 1)\n"
     ]
    }
   ],
   "source": [
    "print(session['trials_feedbackType'].shape)\n",
    "print(session['trials_feedback_times'].shape)\n",
    "print(session['trials_goCue_times'].shape)\n",
    "print(session['trials_included'].shape)\n",
    "print(session['trials_intervals'].shape)\n",
    "print(session['trials_repNum'].shape)\n",
    "print(session['trials_response_choice'].shape)\n",
    "print(session['trials_response_times'].shape)\n",
    "print(session['trials_visualStim_contrastLeft'].shape)\n",
    "print(session['trials_visualStim_contrastRight'].shape)\n",
    "print(session['trials_visualStim_times'].shape)"
   ]
  },
  {
   "cell_type": "code",
   "execution_count": 20,
   "metadata": {
    "hidden": true
   },
   "outputs": [],
   "source": [
    "# create trials dataframe\n",
    "trials_df = pd.DataFrame({'included':session['trials_included'][:,0],\n",
    "                          'repetition number':session['trials_repNum'][:,0],\n",
    "                          # times of events\n",
    "                          'go cue':session['trials_goCue_times'][:,0],\n",
    "                          'stim time':session['trials_visualStim_times'][:,0],\n",
    "                          'response time':session['trials_response_times'][:,0],\n",
    "                          'feedback time':session['trials_feedback_times'][:,0],\n",
    "                          \n",
    "                          #'intervals':session['trials_intervals'][:,0], # same as go cue\n",
    "                          \n",
    "                          \n",
    "                          'go cue':session['trials_intervals'][:,0],\n",
    "                          \n",
    "                          'stim contrast left':session['trials_visualStim_contrastLeft'][:,0],\n",
    "                          'stim contrast right':session['trials_visualStim_contrastRight'][:,0],\n",
    "                          \n",
    "                          'response choice':session['trials_response_choice'][:,0],\n",
    "                          'response time':session['trials_response_times'][:,0],\n",
    "                          'feedback type':session['trials_feedbackType'][:,0],\n",
    "                          \n",
    "                         })"
   ]
  },
  {
   "cell_type": "code",
   "execution_count": 21,
   "metadata": {
    "hidden": true
   },
   "outputs": [
    {
     "data": {
      "application/vnd.jupyter.widget-view+json": {
       "model_id": "3f28aedce26a4e739f11dc2f3959466d",
       "version_major": 2,
       "version_minor": 0
      },
      "text/plain": [
       "QgridWidget(grid_options={'fullWidthRows': True, 'syncColumnCellResize': True, 'forceFitColumns': True, 'defau…"
      ]
     },
     "metadata": {},
     "output_type": "display_data"
    }
   ],
   "source": [
    "qgrid.show_grid(trials_df)"
   ]
  },
  {
   "cell_type": "code",
   "execution_count": 25,
   "metadata": {
    "hidden": true
   },
   "outputs": [
    {
     "name": "stdout",
     "output_type": "stream",
     "text": [
      "(6570000, 1)\n",
      "(2, 2)\n",
      "(507, 2)\n",
      "(507, 1)\n"
     ]
    }
   ],
   "source": [
    "# add wheelmovement\n",
    "print(session['wheel_position'].shape)\n",
    "print(session['wheel_timestamps'].shape)\n",
    "print(session['wheelMoves_intervals'].shape)\n",
    "print(session['wheelMoves_type'].shape)"
   ]
  },
  {
   "cell_type": "code",
   "execution_count": 30,
   "metadata": {
    "hidden": true
   },
   "outputs": [],
   "source": [
    "wheel_df = pd.merge( pd.DataFrame(session['wheelMoves_intervals']), pd.DataFrame(session['wheelMoves_type']), how='left', left_index=True, right_index=True)"
   ]
  },
  {
   "cell_type": "code",
   "execution_count": 31,
   "metadata": {
    "hidden": true
   },
   "outputs": [
    {
     "data": {
      "application/vnd.jupyter.widget-view+json": {
       "model_id": "82f281d993614160ace14301658d24f6",
       "version_major": 2,
       "version_minor": 0
      },
      "text/plain": [
       "QgridWidget(grid_options={'fullWidthRows': True, 'syncColumnCellResize': True, 'forceFitColumns': True, 'defau…"
      ]
     },
     "metadata": {},
     "output_type": "display_data"
    }
   ],
   "source": [
    "qgrid.show_grid(pd.DataFrame(wheel_df))"
   ]
  }
 ],
 "metadata": {
  "colab": {
   "authorship_tag": "ABX9TyP3Rua9vwNc6w9+RtEjpB15",
   "name": "Project.ipynb",
   "provenance": []
  },
  "kernelspec": {
   "display_name": "Python 3",
   "language": "python",
   "name": "python3"
  },
  "language_info": {
   "codemirror_mode": {
    "name": "ipython",
    "version": 3
   },
   "file_extension": ".py",
   "mimetype": "text/x-python",
   "name": "python",
   "nbconvert_exporter": "python",
   "pygments_lexer": "ipython3",
   "version": "3.7.7"
  },
  "toc": {
   "base_numbering": 1,
   "nav_menu": {},
   "number_sections": true,
   "sideBar": true,
   "skip_h1_title": false,
   "title_cell": "Table of Contents",
   "title_sidebar": "Contents",
   "toc_cell": true,
   "toc_position": {},
   "toc_section_display": true,
   "toc_window_display": false
  },
  "varInspector": {
   "cols": {
    "lenName": 16,
    "lenType": 16,
    "lenVar": 40
   },
   "kernels_config": {
    "python": {
     "delete_cmd_postfix": "",
     "delete_cmd_prefix": "del ",
     "library": "var_list.py",
     "varRefreshCmd": "print(var_dic_list())"
    },
    "r": {
     "delete_cmd_postfix": ") ",
     "delete_cmd_prefix": "rm(",
     "library": "var_list.r",
     "varRefreshCmd": "cat(var_dic_list()) "
    }
   },
   "types_to_exclude": [
    "module",
    "function",
    "builtin_function_or_method",
    "instance",
    "_Feature"
   ],
   "window_display": false
  }
 },
 "nbformat": 4,
 "nbformat_minor": 1
}
